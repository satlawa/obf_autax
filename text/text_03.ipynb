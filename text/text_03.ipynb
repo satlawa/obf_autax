{
 "cells": [
  {
   "cell_type": "code",
   "execution_count": 1,
   "metadata": {},
   "outputs": [],
   "source": [
    "#\n",
    "# Forsteinrichtung\n",
    "#\n",
    "# change text: upper lower case, abbreviations, structure\n",
    "#"
   ]
  },
  {
   "cell_type": "code",
   "execution_count": 2,
   "metadata": {},
   "outputs": [],
   "source": [
    "import os\n",
    "import numpy as np\n",
    "import pandas as pd\n",
    "import math\n",
    "import re"
   ]
  },
  {
   "cell_type": "code",
   "execution_count": 3,
   "metadata": {},
   "outputs": [
    {
     "name": "stdout",
     "output_type": "stream",
     "text": [
      "/home/philipp/Code/python/obf_autax/text/roh_1353_08_20190409.XLS\n"
     ]
    },
    {
     "name": "stderr",
     "output_type": "stream",
     "text": [
      "/home/philipp/conda/envs/ml/lib/python3.7/site-packages/IPython/core/interactiveshell.py:3058: DtypeWarning: Columns (147) have mixed types. Specify dtype option on import or set low_memory=False.\n",
      "  interactivity=interactivity, compiler=compiler, result=result)\n"
     ]
    }
   ],
   "source": [
    "# roh data\n",
    "path_data = os.path.join(os.getcwd(),'roh_1353_08_20190409.XLS')\n",
    "print(path_data)\n",
    "data = pd.read_csv(path_data, sep='\\t', encoding = \"ISO-8859-1\", decimal=',', error_bad_lines=False)"
   ]
  },
  {
   "cell_type": "code",
   "execution_count": 4,
   "metadata": {},
   "outputs": [],
   "source": [
    "# dict Baumarten\n",
    "dic_ba_lh_nh = {\"AS\":\"LH\", \"AZ\":\"NH\", \"AH\":\"LH\", \"PM\":\"NH\", \"BI\":\"LH\", \"FB\":\"NH\", \"BL\":\"BL\", \"AC\":\"NH\", \"DG\":\"NH\", \n",
    "                \"EE\":\"LH\", \"EK\":\"LH\", \"EB\":\"NH\", \"EI\":\"LH\", \"EL\":\"LH\", \"ES\":\"LH\", \"EA\":\"LH\", \"FA\":\"LH\", \"FI\":\"NH\", \n",
    "                \"FE\":\"LH\", \"FZ\":\"NH\", \"GK\":\"NH\", \"GB\":\"LH\", \"WP\":\"LH\", \"GE\":\"LH\", \"AG\":\"NH\", \"AV\":\"LH\", \"HB\":\"LH\", \n",
    "                \"HT\":\"NH\", \"HP\":\"LH\", \"JL\":\"NH\", \"CJ\":\"NH\", \"KK\":\"NH\", \"KB\":\"LH\", \"KO\":\"NH\", \"LA\":\"NH\", \"LI\":\"LH\", \n",
    "                \"ME\":\"LH\", \"FO\":\"NH\", \"PO\":\"LH\", \"AB\":\"NH\", \"RO\":\"LH\", \"RK\":\"LH\", \"BU\":\"LH\", \"RE\":\"LH\", \n",
    "                \"CH\":\"NH\", \"ER\":\"LH\", \"SK\":\"NH\", \"JN\":\"LH\", \"SP\":\"LH\", \"SF\":\"NH\", \"LS\":\"LH\", \"SL\":\"LH\", \n",
    "                \"SN\":\"NH\", \"SG\":\"LH\", \"PU\":\"NH\", \"SA\":\"LH\", \"QR\":\"LH\", \"KW\":\"NH\", \"TH\":\"NH\", \"QP\":\"LH\",\n",
    "                \"TK\":\"LH\", \"TB\":\"LH\", \"UL\":\"LH\", \"NU\":\"LH\", \"WD\":\"LH\", \"KI\":\"NH\", \"TA\":\"NH\", \"WO\":\"LH\", \"LW\":\"LH\", \n",
    "                \"EZ\":\"LH\", \"ZI\":\"NH\"}"
   ]
  },
  {
   "cell_type": "code",
   "execution_count": 5,
   "metadata": {},
   "outputs": [],
   "source": [
    "# dict Baumarten\n",
    "dic_ba_small = {\"As\":\"AS\", \"Az\":\"AZ\", \"Ah\":\"AH\", \"Pm\":\"PM\", \"Bi\":\"BI\", \"Fb\":\"FB\", \"Bl\":\"BL\", \"Ac\":\"AC\", \"Dg\":\"DG\", \n",
    "                \"Ee\":\"EE\", \"Ek\":\"EK\", \"Eb\":\"EB\", \"Ei\":\"EI\", \"El\":\"EL\", \"Es\":\"ES\", \"Ea\":\"EA\", \"Fa\":\"FA\", \"Fi\":\"FI\", \n",
    "                \"Fe\":\"FE\", \"Fz\":\"FZ\", \"Gk\":\"GK\", \"Gb\":\"GB\", \"Wp\":\"WP\", \"Ge\":\"GE\", \"Ag\":\"AG\", \"Av\":\"AV\", \"Hb\":\"HB\", \n",
    "                \"Ht\":\"HT\", \"Hp\":\"HP\", \"Jl\":\"JL\", \"Cj\":\"CJ\", \"Kk\":\"KK\", \"Kb\":\"KB\", \"Ko\":\"KO\", \"La\":\"LA\", \"Li\":\"LI\", \n",
    "                \"Me\":\"ME\", \"Fo\":\"FO\", \"Po\":\"PO\", \"Ab\":\"AB\", \"Ro\":\"RO\", \"Rk\":\"RK\", \"Bu\":\"BU\", \"Re\":\"RE\", \n",
    "                \"Ch\":\"CH\", \"Er\":\"ER\", \"Sk\":\"SK\", \"Jn\":\"JN\", \"Sp\":\"SP\", \"Sf\":\"SF\", \"Ls\":\"LS\", \"Sl\":\"SL\", \n",
    "                \"Sn\":\"SN\", \"Sg\":\"SG\", \"Pu\":\"PU\", \"Sa\":\"SA\", \"Qr\":\"QR\", \"Kw\":\"KW\", \"Th\":\"TH\", \"Qp\":\"QP\", \"Ez\":\"EZ\",\n",
    "                \"Tk\":\"TK\", \"Tb\":\"TB\", \"Ul\":\"UL\", \"Nu\":\"NU\", \"Wd\":\"WD\", \"Ki\":\"KI\", \"Ta\":\"TA\", \"Lw\":\"LW\", \"Zi\":\"ZI\"}"
   ]
  },
  {
   "cell_type": "code",
   "execution_count": 6,
   "metadata": {},
   "outputs": [],
   "source": [
    "# dict Teile\n",
    "dic_teile = {'Norden Teil':'Nord-Teil', 'Nordosten Teil':'Nordost-Teil', 'Osten Teil':'Ost-Teil', \n",
    "             'Südosten Teil':'Südost-Teil', 'Süden Teil':'Süd-Teil', 'Südwesten Teil':'Südwest-Teil', \n",
    "             'Westen Teil':'West-Teil', 'Nordwesten Teil':'Nordwest-Teil'}"
   ]
  },
  {
   "cell_type": "code",
   "execution_count": 7,
   "metadata": {},
   "outputs": [],
   "source": [
    "# dict Abkürzungen\n",
    "path_data = os.path.join(os.getcwd(),'data', 'Textkuerzel_Manuale_small.xls')\n",
    "data_dic = pd.read_excel(path_data, index_col='kurz', error_bad_lines=False)\n",
    "\n",
    "dic_abk = data_dic.to_dict()\n",
    "dic_abk = dic_abk['lang']"
   ]
  },
  {
   "cell_type": "code",
   "execution_count": 8,
   "metadata": {},
   "outputs": [],
   "source": [
    "data.drop(data[data['Debitor']!=220442].index, axis=0, inplace=True)\n",
    "data.drop(data[data['WE-Typ']=='NG'].index, axis=0, inplace=True)"
   ]
  },
  {
   "cell_type": "code",
   "execution_count": 9,
   "metadata": {},
   "outputs": [],
   "source": [
    "data = data[data['Best.-Schicht']==0]"
   ]
  },
  {
   "cell_type": "code",
   "execution_count": 10,
   "metadata": {},
   "outputs": [],
   "source": [
    "data_text = data[['Zeile1', 'Zeile2', 'Zeile3', 'Zeile4', 'Zeile5', 'Zeile6']]"
   ]
  },
  {
   "cell_type": "code",
   "execution_count": 11,
   "metadata": {},
   "outputs": [
    {
     "data": {
      "text/html": [
       "<div>\n",
       "<style scoped>\n",
       "    .dataframe tbody tr th:only-of-type {\n",
       "        vertical-align: middle;\n",
       "    }\n",
       "\n",
       "    .dataframe tbody tr th {\n",
       "        vertical-align: top;\n",
       "    }\n",
       "\n",
       "    .dataframe thead th {\n",
       "        text-align: right;\n",
       "    }\n",
       "</style>\n",
       "<table border=\"1\" class=\"dataframe\">\n",
       "  <thead>\n",
       "    <tr style=\"text-align: right;\">\n",
       "      <th></th>\n",
       "      <th>Zeile1</th>\n",
       "      <th>Zeile2</th>\n",
       "      <th>Zeile3</th>\n",
       "      <th>Zeile4</th>\n",
       "      <th>Zeile5</th>\n",
       "      <th>Zeile6</th>\n",
       "    </tr>\n",
       "  </thead>\n",
       "  <tbody>\n",
       "    <tr>\n",
       "      <td>0</td>\n",
       "      <td>NaN</td>\n",
       "      <td>NaN</td>\n",
       "      <td>NaN</td>\n",
       "      <td>NaN</td>\n",
       "      <td>NaN</td>\n",
       "      <td>NaN</td>\n",
       "    </tr>\n",
       "    <tr>\n",
       "      <td>5</td>\n",
       "      <td>BE  VL LA; EIN ÄLTERE s starke TA-VORWÜCHSE; u...</td>\n",
       "      <td>schlechteSchaft-       qualität; dicht; vl HB,</td>\n",
       "      <td>NaN</td>\n",
       "      <td>NaN</td>\n",
       "      <td>NaN</td>\n",
       "      <td>NaN</td>\n",
       "    </tr>\n",
       "    <tr>\n",
       "      <td>11</td>\n",
       "      <td>ST  NO-Tl Bachböschung;</td>\n",
       "      <td>BE   W-TL älter, hpts Bu-Dickung, am Bach Es-H...</td>\n",
       "      <td>Ta-Vorwüchse;SO-Tl reich         gemischte un...</td>\n",
       "      <td>Es m vlWaldrebe, Bu-Dickg im W;</td>\n",
       "      <td>NaN</td>\n",
       "      <td>NaN</td>\n",
       "    </tr>\n",
       "    <tr>\n",
       "      <td>17</td>\n",
       "      <td>BE  EIN ES ES</td>\n",
       "      <td>NaN</td>\n",
       "      <td>NaN</td>\n",
       "      <td>NaN</td>\n",
       "      <td>NaN</td>\n",
       "      <td>NaN</td>\n",
       "    </tr>\n",
       "    <tr>\n",
       "      <td>22</td>\n",
       "      <td>BE  VL AH; EIN LA; IM S SK-ÜBERHÄLTER; DORT UN...</td>\n",
       "      <td>im O ca. 0,5 ha bereits durchforstet;</td>\n",
       "      <td>NaN</td>\n",
       "      <td>NaN</td>\n",
       "      <td>NaN</td>\n",
       "      <td>NaN</td>\n",
       "    </tr>\n",
       "    <tr>\n",
       "      <td>...</td>\n",
       "      <td>...</td>\n",
       "      <td>...</td>\n",
       "      <td>...</td>\n",
       "      <td>...</td>\n",
       "      <td>...</td>\n",
       "      <td>...</td>\n",
       "    </tr>\n",
       "    <tr>\n",
       "      <td>5430</td>\n",
       "      <td>ST  Schußschneise am AHZ-Rand;</td>\n",
       "      <td>BE  LA stark bedrängt von der BU,vl Bi eingewa...</td>\n",
       "      <td>unten beinahe       überwachsen, oben grtls f...</td>\n",
       "      <td>NaN</td>\n",
       "      <td>NaN</td>\n",
       "      <td>NaN</td>\n",
       "    </tr>\n",
       "    <tr>\n",
       "      <td>5434</td>\n",
       "      <td>BE  im N lückige Bu Hb-Nvjg und randlich Bu-Gr...</td>\n",
       "      <td>inBu;</td>\n",
       "      <td>NaN</td>\n",
       "      <td>NaN</td>\n",
       "      <td>NaN</td>\n",
       "      <td>NaN</td>\n",
       "    </tr>\n",
       "    <tr>\n",
       "      <td>5439</td>\n",
       "      <td>ST  S-Tl steil zur Ortschaft abfallend, Bannch...</td>\n",
       "      <td>BE  mäßig gelichtet; Nvjg im S-Tl verbuttend;</td>\n",
       "      <td>NaN</td>\n",
       "      <td>NaN</td>\n",
       "      <td>NaN</td>\n",
       "      <td>NaN</td>\n",
       "    </tr>\n",
       "    <tr>\n",
       "      <td>5445</td>\n",
       "      <td>BE  Dickung, tlw unregelm mit Protzen;</td>\n",
       "      <td>NaN</td>\n",
       "      <td>NaN</td>\n",
       "      <td>NaN</td>\n",
       "      <td>NaN</td>\n",
       "      <td>NaN</td>\n",
       "    </tr>\n",
       "    <tr>\n",
       "      <td>5449</td>\n",
       "      <td>BE   Fi-Kultur mit LH  bis unregelm lückige Di...</td>\n",
       "      <td>Fileidet unter         Trockenheit, gering wü...</td>\n",
       "      <td>einBi, vl Ah;</td>\n",
       "      <td>MA  Kulturpflege nach Bedarf</td>\n",
       "      <td>NaN</td>\n",
       "      <td>NaN</td>\n",
       "    </tr>\n",
       "  </tbody>\n",
       "</table>\n",
       "<p>831 rows × 6 columns</p>\n",
       "</div>"
      ],
      "text/plain": [
       "                                                 Zeile1  \\\n",
       "0                                                   NaN   \n",
       "5     BE  VL LA; EIN ÄLTERE s starke TA-VORWÜCHSE; u...   \n",
       "11                              ST  NO-Tl Bachböschung;   \n",
       "17                                        BE  EIN ES ES   \n",
       "22    BE  VL AH; EIN LA; IM S SK-ÜBERHÄLTER; DORT UN...   \n",
       "...                                                 ...   \n",
       "5430                     ST  Schußschneise am AHZ-Rand;   \n",
       "5434  BE  im N lückige Bu Hb-Nvjg und randlich Bu-Gr...   \n",
       "5439  ST  S-Tl steil zur Ortschaft abfallend, Bannch...   \n",
       "5445             BE  Dickung, tlw unregelm mit Protzen;   \n",
       "5449  BE   Fi-Kultur mit LH  bis unregelm lückige Di...   \n",
       "\n",
       "                                                 Zeile2  \\\n",
       "0                                                   NaN   \n",
       "5        schlechteSchaft-       qualität; dicht; vl HB,   \n",
       "11    BE   W-TL älter, hpts Bu-Dickung, am Bach Es-H...   \n",
       "17                                                  NaN   \n",
       "22                im O ca. 0,5 ha bereits durchforstet;   \n",
       "...                                                 ...   \n",
       "5430  BE  LA stark bedrängt von der BU,vl Bi eingewa...   \n",
       "5434                                              inBu;   \n",
       "5439      BE  mäßig gelichtet; Nvjg im S-Tl verbuttend;   \n",
       "5445                                                NaN   \n",
       "5449   Fileidet unter         Trockenheit, gering wü...   \n",
       "\n",
       "                                                 Zeile3  \\\n",
       "0                                                   NaN   \n",
       "5                                                   NaN   \n",
       "11     Ta-Vorwüchse;SO-Tl reich         gemischte un...   \n",
       "17                                                  NaN   \n",
       "22                                                  NaN   \n",
       "...                                                 ...   \n",
       "5430   unten beinahe       überwachsen, oben grtls f...   \n",
       "5434                                                NaN   \n",
       "5439                                                NaN   \n",
       "5445                                                NaN   \n",
       "5449                                      einBi, vl Ah;   \n",
       "\n",
       "                                Zeile4 Zeile5 Zeile6  \n",
       "0                                  NaN    NaN    NaN  \n",
       "5                                  NaN    NaN    NaN  \n",
       "11     Es m vlWaldrebe, Bu-Dickg im W;    NaN    NaN  \n",
       "17                                 NaN    NaN    NaN  \n",
       "22                                 NaN    NaN    NaN  \n",
       "...                                ...    ...    ...  \n",
       "5430                               NaN    NaN    NaN  \n",
       "5434                               NaN    NaN    NaN  \n",
       "5439                               NaN    NaN    NaN  \n",
       "5445                               NaN    NaN    NaN  \n",
       "5449      MA  Kulturpflege nach Bedarf    NaN    NaN  \n",
       "\n",
       "[831 rows x 6 columns]"
      ]
     },
     "execution_count": 11,
     "metadata": {},
     "output_type": "execute_result"
    }
   ],
   "source": [
    "data_text"
   ]
  },
  {
   "cell_type": "code",
   "execution_count": 12,
   "metadata": {},
   "outputs": [],
   "source": [
    "def text_merge(row_text):\n",
    "    \n",
    "    # merge into whole txt\n",
    "    whole_text = ''\n",
    "    for i in np.arange(0,5):\n",
    "        if isinstance(row_text.iloc[i], str):\n",
    "            #print(row_text.iloc[i])\n",
    "            whole_text = whole_text + row_text.iloc[i]\n",
    "            \n",
    "    return(whole_text)"
   ]
  },
  {
   "cell_type": "code",
   "execution_count": 13,
   "metadata": {},
   "outputs": [],
   "source": [
    "def text_indx(whole_text):\n",
    "    \n",
    "    # find indexes for splitting\n",
    "    indx = []\n",
    "    for i in ['ST ', 'BE ', 'MA ']:\n",
    "        # find index\n",
    "        idx = whole_text.find(i)\n",
    "        # filter not found\n",
    "        if idx > -1:\n",
    "            # add index \n",
    "            indx.append(whole_text.find(i))\n",
    "    # add index \n",
    "    indx.append(10000)\n",
    "    indx = np.sort(indx)\n",
    "    \n",
    "    return(indx)"
   ]
  },
  {
   "cell_type": "code",
   "execution_count": 14,
   "metadata": {},
   "outputs": [],
   "source": [
    "def text_cut(whole_text, indx):\n",
    "    # cut string into peaces\n",
    "    cut = []\n",
    "    for i in range(1,len(indx)):\n",
    "        if whole_text[indx[i-1]:indx[i-1]+2] != 'MA':\n",
    "            cut.append(whole_text[indx[i-1]:indx[i]])\n",
    "            \n",
    "    return(cut)"
   ]
  },
  {
   "cell_type": "code",
   "execution_count": 15,
   "metadata": {},
   "outputs": [],
   "source": [
    "def text_cutter(data_txt):\n",
    "    whole_text = text_merge(data_txt)\n",
    "    indx = text_indx(whole_text)\n",
    "    cutted_text = text_cut(whole_text, indx)\n",
    "    return(cutted_text)"
   ]
  },
  {
   "cell_type": "code",
   "execution_count": null,
   "metadata": {},
   "outputs": [],
   "source": []
  },
  {
   "cell_type": "code",
   "execution_count": 16,
   "metadata": {},
   "outputs": [],
   "source": [
    "def text_splitter(text):\n",
    "    # delete spaces at the end\n",
    "    text.rstrip()\n",
    "    # replace , with ;\n",
    "    text = text.replace(',', ';')\n",
    "    text = text.replace('BE ', 'BE; ')\n",
    "    text = text.replace('ST ', 'ST; ')\n",
    "    text = text.replace('MA ', 'MA; ')\n",
    "    \n",
    "    # split text on ;\n",
    "    splits = text.split(';')\n",
    "    \n",
    "    text_neu = ''\n",
    "    # manipulate splits\n",
    "    for split in splits:\n",
    "        words = re.findall(r\"[\\w']+\", split)\n",
    "        \n",
    "        split_neu = ''\n",
    "        # manipulate words\n",
    "        for word in words:\n",
    "            # if Baumart all upper case -> don't change characters\n",
    "            if word in dic_ba_lh_nh:\n",
    "                split_neu = split_neu + word + ' '\n",
    "            # if Baumart upper and lower case -> change to upper case\n",
    "            elif word in dic_ba_small:\n",
    "                split_neu = split_neu + dic_ba_small[word] + ' '\n",
    "            # else change word to lower case\n",
    "            else:\n",
    "                word = word.lower()\n",
    "                # if word in dictionary than replace\n",
    "                if word in dic_abk:\n",
    "                    split_neu = split_neu + dic_abk[word] + ' '\n",
    "                # if word with ung -> first letter upper case\n",
    "                elif word[-3:] == 'ung':\n",
    "                    word = word.replace(word[0], word[0].upper(), 1)\n",
    "                    split_neu = split_neu + word + ' '\n",
    "                # else add lower case word\n",
    "                else:\n",
    "                    split_neu = split_neu + word + ' '\n",
    "        # delete spaces at the end\n",
    "        split_neu = split_neu.rstrip()\n",
    "        # merge splits\n",
    "        text_neu = text_neu + split_neu + ', '\n",
    "        \n",
    "    if text_neu[:4] == 'be, ':\n",
    "        text_neu = text_neu.replace('be, ', 'BE   ', 1)\n",
    "    elif text_neu[:4] == 'st, ':\n",
    "        text_neu = text_neu.replace('st, ', 'ST   ', 1)\n",
    "    text_neu = text_neu.rstrip()\n",
    "    # # delete spaces at the end\n",
    "    if text_neu[-2:] == ' ,':\n",
    "        text_neu = text_neu[:-2]\n",
    "    # replace all patterns from dic_teile(x:y)-x with dic_teile-y\n",
    "    text_neu = multipleReplace(text_neu, dic_teile)\n",
    "    #pattern = re.compile(r'\\b(' + '|'.join(dic_teile.keys()) + r')\\b')\n",
    "    #text_neu = pattern.sub(lambda x: dic_teile[x.group()], test_neu)\n",
    "    \n",
    "    return(text_neu)"
   ]
  },
  {
   "cell_type": "code",
   "execution_count": 17,
   "metadata": {},
   "outputs": [],
   "source": [
    "def multipleReplace(text, wordDict):\n",
    "    for key in wordDict:\n",
    "        text = text.replace(key, wordDict[key])\n",
    "    return text"
   ]
  },
  {
   "cell_type": "code",
   "execution_count": 30,
   "metadata": {},
   "outputs": [
    {
     "name": "stdout",
     "output_type": "stream",
     "text": [
      "ST  IM OBEREN TL ÜBERGANG ZU 32; EIN NASSGALLEN\n",
      "BE VL ER BI TA FI KI; IM SW FAST REINE LA UND 25J\n",
      " JÜNGER;erstdurchforstet;\n"
     ]
    }
   ],
   "source": [
    "n = 34\n",
    "print(data_text.iloc[n, 0])\n",
    "print(data_text.iloc[n, 1])\n",
    "print(data_text.iloc[n, 2])"
   ]
  },
  {
   "cell_type": "code",
   "execution_count": 26,
   "metadata": {},
   "outputs": [
    {
     "name": "stdout",
     "output_type": "stream",
     "text": [
      "BE  EINZ HB EI AH ES; LA IM O-TL, ehem stk gefegt, wenig und\n",
      "BE   einzelne HB EI AH ES, LA im Ost-Teil, ehemalig stark gefegt, wenig und,\n"
     ]
    }
   ],
   "source": [
    "test = data_text.iloc[40, 0]\n",
    "print(test)\n",
    "test_neu = text_splitter(test)\n",
    "print(test_neu)"
   ]
  },
  {
   "cell_type": "code",
   "execution_count": null,
   "metadata": {},
   "outputs": [],
   "source": []
  },
  {
   "cell_type": "code",
   "execution_count": 31,
   "metadata": {},
   "outputs": [
    {
     "name": "stdout",
     "output_type": "stream",
     "text": [
      "ST   im oberen Teil übergang zu 32, einige Nassgallen,\n",
      "BE   viel ER BI TA FI KI, im Südwesten fast, reine LA und 25j jünger, erstdurchforstet,\n"
     ]
    }
   ],
   "source": [
    "###############\n",
    "### working ###\n",
    "###############\n",
    "\n",
    "temp = text_cutter(data_text.iloc[34])\n",
    "for i in temp:\n",
    "    test_neu = text_splitter(i)\n",
    "    print(test_neu)"
   ]
  },
  {
   "cell_type": "code",
   "execution_count": 32,
   "metadata": {},
   "outputs": [
    {
     "data": {
      "text/plain": [
       "['ST  IM OBEREN TL ÜBERGANG ZU 32; EIN NASSGALLEN',\n",
       " 'BE VL ER BI TA FI KI; IM SW FAST REINE LA UND 25J JÜNGER;erstdurchforstet;']"
      ]
     },
     "execution_count": 32,
     "metadata": {},
     "output_type": "execute_result"
    }
   ],
   "source": [
    "temp"
   ]
  },
  {
   "cell_type": "code",
   "execution_count": null,
   "metadata": {},
   "outputs": [],
   "source": []
  }
 ],
 "metadata": {
  "kernelspec": {
   "display_name": "MachineLearing",
   "language": "python",
   "name": "ml"
  },
  "language_info": {
   "codemirror_mode": {
    "name": "ipython",
    "version": 3
   },
   "file_extension": ".py",
   "mimetype": "text/x-python",
   "name": "python",
   "nbconvert_exporter": "python",
   "pygments_lexer": "ipython3",
   "version": "3.7.4"
  }
 },
 "nbformat": 4,
 "nbformat_minor": 2
}
