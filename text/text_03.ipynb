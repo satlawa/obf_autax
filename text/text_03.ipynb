{
 "cells": [
  {
   "cell_type": "code",
   "execution_count": 1,
   "metadata": {},
   "outputs": [],
   "source": [
    "#\n",
    "# Forsteinrichtung\n",
    "#\n",
    "# change text: upper lower case, abbreviations, structure\n",
    "#"
   ]
  },
  {
   "cell_type": "code",
   "execution_count": 2,
   "metadata": {},
   "outputs": [],
   "source": [
    "import os\n",
    "import numpy as np\n",
    "import pandas as pd\n",
    "import math\n",
    "import re"
   ]
  },
  {
   "cell_type": "code",
   "execution_count": 3,
   "metadata": {},
   "outputs": [
    {
     "data": {
      "text/plain": [
       "'/home/philipp/Code/python/obf_autax/text'"
      ]
     },
     "execution_count": 3,
     "metadata": {},
     "output_type": "execute_result"
    }
   ],
   "source": [
    "pwd"
   ]
  },
  {
   "cell_type": "code",
   "execution_count": 7,
   "metadata": {},
   "outputs": [
    {
     "name": "stdout",
     "output_type": "stream",
     "text": [
      "/home/philipp\n",
      "/home/philipp/Data/obf_autman/sources/raw/171_12_Text.XLS\n"
     ]
    }
   ],
   "source": [
    "# set home directory\n",
    "home_path = os.getcwd()[:os.getcwd().find('Code/python/obf_autax/text')-1]\n",
    "# set bz_path\n",
    "text_path = os.path.join(home_path, 'Data', 'obf_autman', 'sources', 'raw', '171_12_Text.XLS')\n",
    "\n",
    "print(home_path)\n",
    "print(text_path)"
   ]
  },
  {
   "cell_type": "code",
   "execution_count": 8,
   "metadata": {},
   "outputs": [],
   "source": [
    "# roh data\n",
    "data = pd.read_csv(text_path, sep='\\t', encoding = \"ISO-8859-1\", decimal=',', error_bad_lines=False)"
   ]
  },
  {
   "cell_type": "code",
   "execution_count": 9,
   "metadata": {},
   "outputs": [],
   "source": [
    "# dict Baumarten\n",
    "dic_ba_lh_nh = {\"AS\":\"LH\", \"AZ\":\"NH\", \"AH\":\"LH\", \"PM\":\"NH\", \"BI\":\"LH\", \"FB\":\"NH\", \"BL\":\"BL\", \"AC\":\"NH\", \"DG\":\"NH\", \n",
    "                \"EE\":\"LH\", \"EK\":\"LH\", \"EB\":\"NH\", \"EI\":\"LH\", \"EL\":\"LH\", \"ES\":\"LH\", \"EA\":\"LH\", \"FA\":\"LH\", \"FI\":\"NH\", \n",
    "                \"FE\":\"LH\", \"FZ\":\"NH\", \"GK\":\"NH\", \"GB\":\"LH\", \"WP\":\"LH\", \"GE\":\"LH\", \"AG\":\"NH\", \"AV\":\"LH\", \"HB\":\"LH\", \n",
    "                \"HT\":\"NH\", \"HP\":\"LH\", \"JL\":\"NH\", \"CJ\":\"NH\", \"KK\":\"NH\", \"KB\":\"LH\", \"KO\":\"NH\", \"LA\":\"NH\", \"LI\":\"LH\", \n",
    "                \"ME\":\"LH\", \"FO\":\"NH\", \"PO\":\"LH\", \"AB\":\"NH\", \"RO\":\"LH\", \"RK\":\"LH\", \"BU\":\"LH\", \"RE\":\"LH\", \n",
    "                \"CH\":\"NH\", \"ER\":\"LH\", \"SK\":\"NH\", \"JN\":\"LH\", \"SP\":\"LH\", \"SF\":\"NH\", \"LS\":\"LH\", \"SL\":\"LH\", \n",
    "                \"SN\":\"NH\", \"SG\":\"LH\", \"PU\":\"NH\", \"SA\":\"LH\", \"QR\":\"LH\", \"KW\":\"NH\", \"TH\":\"NH\", \"QP\":\"LH\",\n",
    "                \"TK\":\"LH\", \"TB\":\"LH\", \"UL\":\"LH\", \"NU\":\"LH\", \"WD\":\"LH\", \"KI\":\"NH\", \"TA\":\"NH\", \"WO\":\"LH\", \"LW\":\"LH\", \n",
    "                \"EZ\":\"LH\", \"ZI\":\"NH\"}"
   ]
  },
  {
   "cell_type": "code",
   "execution_count": 10,
   "metadata": {},
   "outputs": [],
   "source": [
    "# dict Baumarten\n",
    "dic_ba_small = {\"As\":\"AS\", \"Az\":\"AZ\", \"Ah\":\"AH\", \"Pm\":\"PM\", \"Bi\":\"BI\", \"Fb\":\"FB\", \"Bl\":\"BL\", \"Ac\":\"AC\", \"Dg\":\"DG\", \n",
    "                \"Ee\":\"EE\", \"Ek\":\"EK\", \"Eb\":\"EB\", \"Ei\":\"EI\", \"El\":\"EL\", \"Es\":\"ES\", \"Ea\":\"EA\", \"Fa\":\"FA\", \"Fi\":\"FI\", \n",
    "                \"Fe\":\"FE\", \"Fz\":\"FZ\", \"Gk\":\"GK\", \"Gb\":\"GB\", \"Wp\":\"WP\", \"Ge\":\"GE\", \"Ag\":\"AG\", \"Av\":\"AV\", \"Hb\":\"HB\", \n",
    "                \"Ht\":\"HT\", \"Hp\":\"HP\", \"Jl\":\"JL\", \"Cj\":\"CJ\", \"Kk\":\"KK\", \"Kb\":\"KB\", \"Ko\":\"KO\", \"La\":\"LA\", \"Li\":\"LI\", \n",
    "                \"Me\":\"ME\", \"Fo\":\"FO\", \"Po\":\"PO\", \"Ab\":\"AB\", \"Ro\":\"RO\", \"Rk\":\"RK\", \"Bu\":\"BU\", \"Re\":\"RE\", \n",
    "                \"Ch\":\"CH\", \"Er\":\"ER\", \"Sk\":\"SK\", \"Jn\":\"JN\", \"Sp\":\"SP\", \"Sf\":\"SF\", \"Ls\":\"LS\", \"Sl\":\"SL\", \n",
    "                \"Sn\":\"SN\", \"Sg\":\"SG\", \"Pu\":\"PU\", \"Sa\":\"SA\", \"Qr\":\"QR\", \"Kw\":\"KW\", \"Th\":\"TH\", \"Qp\":\"QP\", \"Ez\":\"EZ\",\n",
    "                \"Tk\":\"TK\", \"Tb\":\"TB\", \"Ul\":\"UL\", \"Nu\":\"NU\", \"Wd\":\"WD\", \"Ki\":\"KI\", \"Ta\":\"TA\", \"Lw\":\"LW\", \"Zi\":\"ZI\"}"
   ]
  },
  {
   "cell_type": "code",
   "execution_count": 11,
   "metadata": {},
   "outputs": [],
   "source": [
    "# dict Teile\n",
    "dic_teile = {'Norden Teil':'Nord-Teil', 'Nordosten Teil':'Nordost-Teil', 'Osten Teil':'Ost-Teil', \n",
    "             'Südosten Teil':'Südost-Teil', 'Süden Teil':'Süd-Teil', 'Südwesten Teil':'Südwest-Teil', \n",
    "             'Westen Teil':'West-Teil', 'Nordwesten Teil':'Nordwest-Teil'}"
   ]
  },
  {
   "cell_type": "code",
   "execution_count": 12,
   "metadata": {},
   "outputs": [],
   "source": [
    "# dict Abkürzungen\n",
    "path_data = os.path.join(os.getcwd(),'data', 'Textkuerzel_Manuale_small.xls')\n",
    "data_dic = pd.read_excel(path_data, index_col='kurz', error_bad_lines=False)\n",
    "\n",
    "dic_abk = data_dic.to_dict()\n",
    "dic_abk = dic_abk['lang']"
   ]
  },
  {
   "cell_type": "code",
   "execution_count": 13,
   "metadata": {},
   "outputs": [],
   "source": [
    "data.drop(data[data['Debitor']!=220442].index, axis=0, inplace=True)\n",
    "data = data[data['Best.-Schicht']==0]\n",
    "data_wo = data.copy()\n",
    "data.drop(data[data['WE-Typ']=='NG'].index, axis=0, inplace=True)"
   ]
  },
  {
   "cell_type": "code",
   "execution_count": 14,
   "metadata": {},
   "outputs": [],
   "source": [
    "data_text = data[['Waldort', 'Zeile1', 'Zeile2', 'Zeile3', 'Zeile4', 'Zeile5', 'Zeile6']]"
   ]
  },
  {
   "cell_type": "code",
   "execution_count": 15,
   "metadata": {},
   "outputs": [
    {
     "data": {
      "text/html": [
       "<div>\n",
       "<style scoped>\n",
       "    .dataframe tbody tr th:only-of-type {\n",
       "        vertical-align: middle;\n",
       "    }\n",
       "\n",
       "    .dataframe tbody tr th {\n",
       "        vertical-align: top;\n",
       "    }\n",
       "\n",
       "    .dataframe thead th {\n",
       "        text-align: right;\n",
       "    }\n",
       "</style>\n",
       "<table border=\"1\" class=\"dataframe\">\n",
       "  <thead>\n",
       "    <tr style=\"text-align: right;\">\n",
       "      <th></th>\n",
       "      <th>Waldort</th>\n",
       "      <th>Zeile1</th>\n",
       "      <th>Zeile2</th>\n",
       "      <th>Zeile3</th>\n",
       "      <th>Zeile4</th>\n",
       "      <th>Zeile5</th>\n",
       "      <th>Zeile6</th>\n",
       "    </tr>\n",
       "  </thead>\n",
       "  <tbody>\n",
       "    <tr>\n",
       "      <th>0</th>\n",
       "      <td>021A1</td>\n",
       "      <td>ST  STOE 81/72, breiter tls steiniger Rücken i...</td>\n",
       "      <td>unter Str</td>\n",
       "      <td>BE  mehr BU im N sowie an B1 - dort weniger SS...</td>\n",
       "      <td>Windschutz für B1</td>\n",
       "      <td>MA keinesfalls DF od dgl da labil und windexpo...</td>\n",
       "      <td>Maßnahmen auf B1 abstimmen</td>\n",
       "    </tr>\n",
       "    <tr>\n",
       "      <th>1</th>\n",
       "      <td>019C1</td>\n",
       "      <td>BE  im N etw älter mit kaum LH, im SO etw jüng...</td>\n",
       "      <td>LÄ, alte SS</td>\n",
       "      <td>NaN</td>\n",
       "      <td>NaN</td>\n",
       "      <td>NaN</td>\n",
       "      <td>NaN</td>\n",
       "    </tr>\n",
       "    <tr>\n",
       "      <th>2</th>\n",
       "      <td>018E1</td>\n",
       "      <td>BE  KI FI grtls lgs Str, nach SW hin reine BU,...</td>\n",
       "      <td>schöner Bestand dank entsprechender Pflege</td>\n",
       "      <td>NaN</td>\n",
       "      <td>NaN</td>\n",
       "      <td>NaN</td>\n",
       "      <td>NaN</td>\n",
       "    </tr>\n",
       "    <tr>\n",
       "      <th>3</th>\n",
       "      <td>018B1</td>\n",
       "      <td>ST  STOE 81/82, verkrautet</td>\n",
       "      <td>BE  DF 2000, schwach, SG 3-4</td>\n",
       "      <td>NaN</td>\n",
       "      <td>NaN</td>\n",
       "      <td>NaN</td>\n",
       "      <td>NaN</td>\n",
       "    </tr>\n",
       "    <tr>\n",
       "      <th>4</th>\n",
       "      <td>018A1</td>\n",
       "      <td>ST  etw felsig in Mitte, örtl etw steiler</td>\n",
       "      <td>BE  BU zwiständig, ein BU-Schleier, oben kl Sc...</td>\n",
       "      <td>NaN</td>\n",
       "      <td>NaN</td>\n",
       "      <td>NaN</td>\n",
       "      <td>NaN</td>\n",
       "    </tr>\n",
       "    <tr>\n",
       "      <th>...</th>\n",
       "      <td>...</td>\n",
       "      <td>...</td>\n",
       "      <td>...</td>\n",
       "      <td>...</td>\n",
       "      <td>...</td>\n",
       "      <td>...</td>\n",
       "      <td>...</td>\n",
       "    </tr>\n",
       "    <tr>\n",
       "      <th>1883</th>\n",
       "      <td>079G1</td>\n",
       "      <td>ST  Feuchtbiotope im W an Rinnsal</td>\n",
       "      <td>BE  lichter im SW, ein ER</td>\n",
       "      <td>NaN</td>\n",
       "      <td>NaN</td>\n",
       "      <td>NaN</td>\n",
       "      <td>NaN</td>\n",
       "    </tr>\n",
       "    <tr>\n",
       "      <th>1884</th>\n",
       "      <td>079G2</td>\n",
       "      <td>ST  im S Wasserversorgungsanlage Lichtenwörth ...</td>\n",
       "      <td>BE  mehr ES sowie etw älter an G1, an G3 jünge...</td>\n",
       "      <td>anNG jünger mit grtls HP, diffuse Bestandesgr...</td>\n",
       "      <td>NaN</td>\n",
       "      <td>NaN</td>\n",
       "      <td>NaN</td>\n",
       "    </tr>\n",
       "    <tr>\n",
       "      <th>1885</th>\n",
       "      <td>079G3</td>\n",
       "      <td>BE  aus RM 2003, besch......eidene Qualität</td>\n",
       "      <td>NaN</td>\n",
       "      <td>NaN</td>\n",
       "      <td>NaN</td>\n",
       "      <td>NaN</td>\n",
       "      <td>NaN</td>\n",
       "    </tr>\n",
       "    <tr>\n",
       "      <th>1886</th>\n",
       "      <td>079H0</td>\n",
       "      <td>ST  Grundwassersenkung wg Pumpwerk Neudörfl um...</td>\n",
       "      <td>BE  eiz UL, ein SP, langfristig erhaltenswerte...</td>\n",
       "      <td>NaN</td>\n",
       "      <td>NaN</td>\n",
       "      <td>NaN</td>\n",
       "      <td>NaN</td>\n",
       "    </tr>\n",
       "    <tr>\n",
       "      <th>2066</th>\n",
       "      <td>071X0</td>\n",
       "      <td>Achtung FE: Neuer Waldort!</td>\n",
       "      <td>NaN</td>\n",
       "      <td>NaN</td>\n",
       "      <td>NaN</td>\n",
       "      <td>NaN</td>\n",
       "      <td>NaN</td>\n",
       "    </tr>\n",
       "  </tbody>\n",
       "</table>\n",
       "<p>1735 rows × 7 columns</p>\n",
       "</div>"
      ],
      "text/plain": [
       "     Waldort                                             Zeile1  \\\n",
       "0      021A1  ST  STOE 81/72, breiter tls steiniger Rücken i...   \n",
       "1      019C1  BE  im N etw älter mit kaum LH, im SO etw jüng...   \n",
       "2      018E1  BE  KI FI grtls lgs Str, nach SW hin reine BU,...   \n",
       "3      018B1                         ST  STOE 81/82, verkrautet   \n",
       "4      018A1          ST  etw felsig in Mitte, örtl etw steiler   \n",
       "...      ...                                                ...   \n",
       "1883   079G1                  ST  Feuchtbiotope im W an Rinnsal   \n",
       "1884   079G2  ST  im S Wasserversorgungsanlage Lichtenwörth ...   \n",
       "1885   079G3        BE  aus RM 2003, besch......eidene Qualität   \n",
       "1886   079H0  ST  Grundwassersenkung wg Pumpwerk Neudörfl um...   \n",
       "2066   071X0                         Achtung FE: Neuer Waldort!   \n",
       "\n",
       "                                                 Zeile2  \\\n",
       "0                                             unter Str   \n",
       "1                                           LÄ, alte SS   \n",
       "2            schöner Bestand dank entsprechender Pflege   \n",
       "3                          BE  DF 2000, schwach, SG 3-4   \n",
       "4     BE  BU zwiständig, ein BU-Schleier, oben kl Sc...   \n",
       "...                                                 ...   \n",
       "1883                          BE  lichter im SW, ein ER   \n",
       "1884  BE  mehr ES sowie etw älter an G1, an G3 jünge...   \n",
       "1885                                                NaN   \n",
       "1886  BE  eiz UL, ein SP, langfristig erhaltenswerte...   \n",
       "2066                                                NaN   \n",
       "\n",
       "                                                 Zeile3             Zeile4  \\\n",
       "0     BE  mehr BU im N sowie an B1 - dort weniger SS...  Windschutz für B1   \n",
       "1                                                   NaN                NaN   \n",
       "2                                                   NaN                NaN   \n",
       "3                                                   NaN                NaN   \n",
       "4                                                   NaN                NaN   \n",
       "...                                                 ...                ...   \n",
       "1883                                                NaN                NaN   \n",
       "1884   anNG jünger mit grtls HP, diffuse Bestandesgr...                NaN   \n",
       "1885                                                NaN                NaN   \n",
       "1886                                                NaN                NaN   \n",
       "2066                                                NaN                NaN   \n",
       "\n",
       "                                                 Zeile5  \\\n",
       "0     MA keinesfalls DF od dgl da labil und windexpo...   \n",
       "1                                                   NaN   \n",
       "2                                                   NaN   \n",
       "3                                                   NaN   \n",
       "4                                                   NaN   \n",
       "...                                                 ...   \n",
       "1883                                                NaN   \n",
       "1884                                                NaN   \n",
       "1885                                                NaN   \n",
       "1886                                                NaN   \n",
       "2066                                                NaN   \n",
       "\n",
       "                          Zeile6  \n",
       "0     Maßnahmen auf B1 abstimmen  \n",
       "1                            NaN  \n",
       "2                            NaN  \n",
       "3                            NaN  \n",
       "4                            NaN  \n",
       "...                          ...  \n",
       "1883                         NaN  \n",
       "1884                         NaN  \n",
       "1885                         NaN  \n",
       "1886                         NaN  \n",
       "2066                         NaN  \n",
       "\n",
       "[1735 rows x 7 columns]"
      ]
     },
     "execution_count": 15,
     "metadata": {},
     "output_type": "execute_result"
    }
   ],
   "source": [
    "data_text"
   ]
  },
  {
   "cell_type": "code",
   "execution_count": 16,
   "metadata": {},
   "outputs": [],
   "source": [
    "def text_merge(row_text):\n",
    "    \n",
    "    # merge into whole txt\n",
    "    whole_text = ''\n",
    "    for i in np.arange(0,5):\n",
    "        if isinstance(row_text.iloc[i], str):\n",
    "            #print(row_text.iloc[i])\n",
    "            whole_text = whole_text + row_text.iloc[i]\n",
    "            \n",
    "    return(whole_text)"
   ]
  },
  {
   "cell_type": "code",
   "execution_count": 17,
   "metadata": {},
   "outputs": [],
   "source": [
    "def text_indx(whole_text):\n",
    "    \n",
    "    # find indexes for splitting\n",
    "    indx = []\n",
    "    for i in ['ST ', 'BE ', 'MA ']:\n",
    "        # find index\n",
    "        idx = whole_text.find(i)\n",
    "        # filter not found\n",
    "        if idx > -1:\n",
    "            # add index \n",
    "            indx.append(whole_text.find(i))\n",
    "    # add index \n",
    "    indx.append(10000)\n",
    "    indx = np.sort(indx)\n",
    "    \n",
    "    return(indx)"
   ]
  },
  {
   "cell_type": "code",
   "execution_count": 18,
   "metadata": {},
   "outputs": [],
   "source": [
    "def text_cut(whole_text, indx):\n",
    "    # cut string into peaces\n",
    "    cut = []\n",
    "    for i in range(1,len(indx)):\n",
    "        if whole_text[indx[i-1]:indx[i-1]+2] != 'MA':\n",
    "            cut.append(whole_text[indx[i-1]:indx[i]])\n",
    "            \n",
    "    return(cut)"
   ]
  },
  {
   "cell_type": "code",
   "execution_count": 19,
   "metadata": {},
   "outputs": [],
   "source": [
    "def text_cutter(data_txt):\n",
    "    whole_text = text_merge(data_txt)\n",
    "    indx = text_indx(whole_text)\n",
    "    cutted_text = text_cut(whole_text, indx)\n",
    "    return(cutted_text)"
   ]
  },
  {
   "cell_type": "code",
   "execution_count": null,
   "metadata": {},
   "outputs": [],
   "source": []
  },
  {
   "cell_type": "code",
   "execution_count": 20,
   "metadata": {},
   "outputs": [],
   "source": [
    "def text_splitter(text):\n",
    "    # delete spaces at the end\n",
    "    text.rstrip()\n",
    "    # replace , with ;\n",
    "    text = text.replace(',', ';')\n",
    "    text = text.replace('BE ', 'BE; ')\n",
    "    text = text.replace('ST ', 'ST; ')\n",
    "    text = text.replace('MA ', 'MA; ')\n",
    "    \n",
    "    # split text on ;\n",
    "    splits = text.split(';')\n",
    "    \n",
    "    text_neu = ''\n",
    "    # manipulate splits\n",
    "    for split in splits:\n",
    "        words = re.findall(r\"[\\w']+\", split)\n",
    "        \n",
    "        split_neu = ''\n",
    "        # manipulate words\n",
    "        for word in words:\n",
    "            # if Baumart all upper case -> don't change characters\n",
    "            if word in dic_ba_lh_nh:\n",
    "                split_neu = split_neu + word + ' '\n",
    "            # if Baumart upper and lower case -> change to upper case\n",
    "            elif word in dic_ba_small:\n",
    "                split_neu = split_neu + dic_ba_small[word] + ' '\n",
    "            # else change word to lower case\n",
    "            else:\n",
    "                word_low = word.lower()\n",
    "                # if word in dictionary than replace\n",
    "                if word_low in dic_abk:\n",
    "                    split_neu = split_neu + dic_abk[word_low] + ' '\n",
    "                # if word with ung -> first letter upper case\n",
    "                #elif word[-3:] == 'ung':\n",
    "                #    word = word.replace(word[0], word[0].upper(), 1)\n",
    "                #    split_neu = split_neu + word + ' '\n",
    "                # else add lower case word\n",
    "                else:\n",
    "                    split_neu = split_neu + word + ' '\n",
    "        # delete spaces at the end\n",
    "        split_neu = split_neu.rstrip()\n",
    "        # merge splits\n",
    "        text_neu = text_neu + split_neu + ', '\n",
    "        \n",
    "    if text_neu[:4] == 'be, ':\n",
    "        text_neu = text_neu.replace('BE, ', 'BE   ', 1)\n",
    "    elif text_neu[:4] == 'st, ':\n",
    "        text_neu = text_neu.replace('ST, ', 'ST   ', 1)\n",
    "    text_neu = text_neu.rstrip()\n",
    "    # # delete spaces at the end\n",
    "    if text_neu[-2:] == ' ,':\n",
    "        text_neu = text_neu[:-2]\n",
    "    # replace all patterns from dic_teile(x:y)-x with dic_teile-y\n",
    "    text_neu = multipleReplace(text_neu, dic_teile)\n",
    "    #pattern = re.compile(r'\\b(' + '|'.join(dic_teile.keys()) + r')\\b')\n",
    "    #text_neu = pattern.sub(lambda x: dic_teile[x.group()], test_neu)\n",
    "    \n",
    "    return(text_neu)"
   ]
  },
  {
   "cell_type": "code",
   "execution_count": 21,
   "metadata": {},
   "outputs": [],
   "source": [
    "def multipleReplace(text, wordDict):\n",
    "    for key in wordDict:\n",
    "        text = text.replace(key, wordDict[key])\n",
    "    return text"
   ]
  },
  {
   "cell_type": "code",
   "execution_count": 22,
   "metadata": {},
   "outputs": [
    {
     "name": "stdout",
     "output_type": "stream",
     "text": [
      "005F1\n",
      "ST  ein Blockwerk, kleiner Ort der Ruhe\n",
      "BE  mehr BU im NO\n"
     ]
    }
   ],
   "source": [
    "n = 34\n",
    "print(data_text.iloc[n, 0])\n",
    "print(data_text.iloc[n, 1])\n",
    "print(data_text.iloc[n, 2])"
   ]
  },
  {
   "cell_type": "code",
   "execution_count": 23,
   "metadata": {},
   "outputs": [
    {
     "name": "stdout",
     "output_type": "stream",
     "text": [
      "025C1\n",
      "025C1,\n"
     ]
    }
   ],
   "source": [
    "test = data_text.iloc[40, 0]\n",
    "print(test)\n",
    "test_neu = text_splitter(test)\n",
    "print(test_neu)"
   ]
  },
  {
   "cell_type": "code",
   "execution_count": null,
   "metadata": {},
   "outputs": [],
   "source": []
  },
  {
   "cell_type": "code",
   "execution_count": 24,
   "metadata": {},
   "outputs": [
    {
     "name": "stdout",
     "output_type": "stream",
     "text": [
      "ST, Grabeneinhang, Standortseinheit 81 im Norden, im Süden flacher,\n",
      "BE, etwas mehr BU im Süden, etwas mehr FI in Mitte, einige BU Zwischenbestand, Dimensionengrtls noch ausbaufähig,\n"
     ]
    }
   ],
   "source": [
    "###############\n",
    "### working ###\n",
    "###############\n",
    "\n",
    "temp = text_cutter(data_text.iloc[46])\n",
    "for i in temp:\n",
    "    test_neu = text_splitter(i)\n",
    "    print(test_neu)"
   ]
  },
  {
   "cell_type": "code",
   "execution_count": 25,
   "metadata": {},
   "outputs": [
    {
     "data": {
      "text/plain": [
       "['ST  Grabeneinhang, STOE 81 im N, im S flacher',\n",
       " 'BE  etw mehr BU im S, etw mehr FI in Mitte, ein BU-Zwibest, Dimensionengrtls noch ausbaufähig']"
      ]
     },
     "execution_count": 25,
     "metadata": {},
     "output_type": "execute_result"
    }
   ],
   "source": [
    "temp"
   ]
  },
  {
   "cell_type": "code",
   "execution_count": 26,
   "metadata": {},
   "outputs": [],
   "source": [
    "# make dataframe and write file to disk"
   ]
  },
  {
   "cell_type": "code",
   "execution_count": 27,
   "metadata": {},
   "outputs": [],
   "source": [
    "index = np.sort(data['Waldort'].unique())"
   ]
  },
  {
   "cell_type": "code",
   "execution_count": 28,
   "metadata": {},
   "outputs": [],
   "source": [
    "columns = ['text_1', 'text_2', 'text_3', 'text_4']"
   ]
  },
  {
   "cell_type": "code",
   "execution_count": 29,
   "metadata": {},
   "outputs": [],
   "source": [
    "df = pd.DataFrame(index=index, columns=columns)\n",
    "df = df.fillna('0') # with 0s rather than NaNs"
   ]
  },
  {
   "cell_type": "code",
   "execution_count": 30,
   "metadata": {},
   "outputs": [
    {
     "data": {
      "text/html": [
       "<div>\n",
       "<style scoped>\n",
       "    .dataframe tbody tr th:only-of-type {\n",
       "        vertical-align: middle;\n",
       "    }\n",
       "\n",
       "    .dataframe tbody tr th {\n",
       "        vertical-align: top;\n",
       "    }\n",
       "\n",
       "    .dataframe thead th {\n",
       "        text-align: right;\n",
       "    }\n",
       "</style>\n",
       "<table border=\"1\" class=\"dataframe\">\n",
       "  <thead>\n",
       "    <tr style=\"text-align: right;\">\n",
       "      <th></th>\n",
       "      <th>text_1</th>\n",
       "      <th>text_2</th>\n",
       "      <th>text_3</th>\n",
       "      <th>text_4</th>\n",
       "    </tr>\n",
       "  </thead>\n",
       "  <tbody>\n",
       "    <tr>\n",
       "      <th>001A1</th>\n",
       "      <td>0</td>\n",
       "      <td>0</td>\n",
       "      <td>0</td>\n",
       "      <td>0</td>\n",
       "    </tr>\n",
       "    <tr>\n",
       "      <th>001A2</th>\n",
       "      <td>0</td>\n",
       "      <td>0</td>\n",
       "      <td>0</td>\n",
       "      <td>0</td>\n",
       "    </tr>\n",
       "    <tr>\n",
       "      <th>001A3</th>\n",
       "      <td>0</td>\n",
       "      <td>0</td>\n",
       "      <td>0</td>\n",
       "      <td>0</td>\n",
       "    </tr>\n",
       "    <tr>\n",
       "      <th>001A4</th>\n",
       "      <td>0</td>\n",
       "      <td>0</td>\n",
       "      <td>0</td>\n",
       "      <td>0</td>\n",
       "    </tr>\n",
       "    <tr>\n",
       "      <th>001A5</th>\n",
       "      <td>0</td>\n",
       "      <td>0</td>\n",
       "      <td>0</td>\n",
       "      <td>0</td>\n",
       "    </tr>\n",
       "    <tr>\n",
       "      <th>...</th>\n",
       "      <td>...</td>\n",
       "      <td>...</td>\n",
       "      <td>...</td>\n",
       "      <td>...</td>\n",
       "    </tr>\n",
       "    <tr>\n",
       "      <th>307O2</th>\n",
       "      <td>0</td>\n",
       "      <td>0</td>\n",
       "      <td>0</td>\n",
       "      <td>0</td>\n",
       "    </tr>\n",
       "    <tr>\n",
       "      <th>307O3</th>\n",
       "      <td>0</td>\n",
       "      <td>0</td>\n",
       "      <td>0</td>\n",
       "      <td>0</td>\n",
       "    </tr>\n",
       "    <tr>\n",
       "      <th>307O4</th>\n",
       "      <td>0</td>\n",
       "      <td>0</td>\n",
       "      <td>0</td>\n",
       "      <td>0</td>\n",
       "    </tr>\n",
       "    <tr>\n",
       "      <th>307P1</th>\n",
       "      <td>0</td>\n",
       "      <td>0</td>\n",
       "      <td>0</td>\n",
       "      <td>0</td>\n",
       "    </tr>\n",
       "    <tr>\n",
       "      <th>307P2</th>\n",
       "      <td>0</td>\n",
       "      <td>0</td>\n",
       "      <td>0</td>\n",
       "      <td>0</td>\n",
       "    </tr>\n",
       "  </tbody>\n",
       "</table>\n",
       "<p>1735 rows × 4 columns</p>\n",
       "</div>"
      ],
      "text/plain": [
       "      text_1 text_2 text_3 text_4\n",
       "001A1      0      0      0      0\n",
       "001A2      0      0      0      0\n",
       "001A3      0      0      0      0\n",
       "001A4      0      0      0      0\n",
       "001A5      0      0      0      0\n",
       "...      ...    ...    ...    ...\n",
       "307O2      0      0      0      0\n",
       "307O3      0      0      0      0\n",
       "307O4      0      0      0      0\n",
       "307P1      0      0      0      0\n",
       "307P2      0      0      0      0\n",
       "\n",
       "[1735 rows x 4 columns]"
      ]
     },
     "execution_count": 30,
     "metadata": {},
     "output_type": "execute_result"
    }
   ],
   "source": [
    "df"
   ]
  },
  {
   "cell_type": "code",
   "execution_count": 31,
   "metadata": {},
   "outputs": [],
   "source": [
    "data_text1 = data_text.set_index('Waldort')"
   ]
  },
  {
   "cell_type": "code",
   "execution_count": 32,
   "metadata": {},
   "outputs": [],
   "source": [
    "for wo in index:\n",
    "    wof = data_text1.loc[wo]\n",
    "    temp = text_cutter(data_text1.loc[wo])\n",
    "\n",
    "    for i, txt in enumerate(temp):\n",
    "        #test_neu = text_splitter(i)\n",
    "        df.loc[wo, 'text_'+str(i+1)] = text_splitter(txt)\n",
    "    "
   ]
  },
  {
   "cell_type": "code",
   "execution_count": 33,
   "metadata": {},
   "outputs": [
    {
     "data": {
      "text/html": [
       "<div>\n",
       "<style scoped>\n",
       "    .dataframe tbody tr th:only-of-type {\n",
       "        vertical-align: middle;\n",
       "    }\n",
       "\n",
       "    .dataframe tbody tr th {\n",
       "        vertical-align: top;\n",
       "    }\n",
       "\n",
       "    .dataframe thead th {\n",
       "        text-align: right;\n",
       "    }\n",
       "</style>\n",
       "<table border=\"1\" class=\"dataframe\">\n",
       "  <thead>\n",
       "    <tr style=\"text-align: right;\">\n",
       "      <th></th>\n",
       "      <th>text_1</th>\n",
       "      <th>text_2</th>\n",
       "      <th>text_3</th>\n",
       "      <th>text_4</th>\n",
       "    </tr>\n",
       "  </thead>\n",
       "  <tbody>\n",
       "    <tr>\n",
       "      <th>001A1</th>\n",
       "      <td>ST, steiler im Nordosten, im Süden flacher jed...</td>\n",
       "      <td>BE, bis 10 J jünger im Westen sonst bis 5 J äl...</td>\n",
       "      <td>0</td>\n",
       "      <td>0</td>\n",
       "    </tr>\n",
       "    <tr>\n",
       "      <th>001A2</th>\n",
       "      <td>ST, silikatisch im Süden,</td>\n",
       "      <td>BE, schwache Durchforstung 1987 89, Durchforst...</td>\n",
       "      <td>0</td>\n",
       "      <td>0</td>\n",
       "    </tr>\n",
       "    <tr>\n",
       "      <th>001A3</th>\n",
       "      <td>ST, etwas flacher im Süden,</td>\n",
       "      <td>BE, zahlreiche ES, einige FI im Süden, einzeln...</td>\n",
       "      <td>0</td>\n",
       "      <td>0</td>\n",
       "    </tr>\n",
       "    <tr>\n",
       "      <th>001A4</th>\n",
       "      <td>ST, steiler im Norden,</td>\n",
       "      <td>BE, wind schneedurchrissen, Süden labil, mit A...</td>\n",
       "      <td>0</td>\n",
       "      <td>0</td>\n",
       "    </tr>\n",
       "    <tr>\n",
       "      <th>001A5</th>\n",
       "      <td>ST, flacher im Süden,</td>\n",
       "      <td>BE, im Süden einige BU Vorwüchse, im Süden meh...</td>\n",
       "      <td>0</td>\n",
       "      <td>0</td>\n",
       "    </tr>\n",
       "    <tr>\n",
       "      <th>001A6</th>\n",
       "      <td>BE, Windwurfsfläche 2008, Aufforstung 2009, ei...</td>\n",
       "      <td>0</td>\n",
       "      <td>0</td>\n",
       "      <td>0</td>\n",
       "    </tr>\n",
       "    <tr>\n",
       "      <th>001B1</th>\n",
       "      <td>ST, karbonatisch an Grenze, 140jg Umtrieb wege...</td>\n",
       "      <td>BE, einige KI, mehr BU in Süden Hälfte, mehr L...</td>\n",
       "      <td>0</td>\n",
       "      <td>0</td>\n",
       "    </tr>\n",
       "    <tr>\n",
       "      <th>001B2</th>\n",
       "      <td>BE, einige AH KI, mehr LA im Südwesten, in Ost...</td>\n",
       "      <td>0</td>\n",
       "      <td>0</td>\n",
       "      <td>0</td>\n",
       "    </tr>\n",
       "    <tr>\n",
       "      <th>001B3</th>\n",
       "      <td>ST, örtlich silikatisch im Osten, örtlich vern...</td>\n",
       "      <td>BE, 5 10 J älter im Osten, bis 5 J jünger im W...</td>\n",
       "      <td>0</td>\n",
       "      <td>0</td>\n",
       "    </tr>\n",
       "    <tr>\n",
       "      <th>001B4</th>\n",
       "      <td>BE, Windwurfsfläche 2008, Aufforstung 2009, FI...</td>\n",
       "      <td>0</td>\n",
       "      <td>0</td>\n",
       "      <td>0</td>\n",
       "    </tr>\n",
       "  </tbody>\n",
       "</table>\n",
       "</div>"
      ],
      "text/plain": [
       "                                                  text_1  \\\n",
       "001A1  ST, steiler im Nordosten, im Süden flacher jed...   \n",
       "001A2                          ST, silikatisch im Süden,   \n",
       "001A3                        ST, etwas flacher im Süden,   \n",
       "001A4                             ST, steiler im Norden,   \n",
       "001A5                              ST, flacher im Süden,   \n",
       "001A6  BE, Windwurfsfläche 2008, Aufforstung 2009, ei...   \n",
       "001B1  ST, karbonatisch an Grenze, 140jg Umtrieb wege...   \n",
       "001B2  BE, einige AH KI, mehr LA im Südwesten, in Ost...   \n",
       "001B3  ST, örtlich silikatisch im Osten, örtlich vern...   \n",
       "001B4  BE, Windwurfsfläche 2008, Aufforstung 2009, FI...   \n",
       "\n",
       "                                                  text_2 text_3 text_4  \n",
       "001A1  BE, bis 10 J jünger im Westen sonst bis 5 J äl...      0      0  \n",
       "001A2  BE, schwache Durchforstung 1987 89, Durchforst...      0      0  \n",
       "001A3  BE, zahlreiche ES, einige FI im Süden, einzeln...      0      0  \n",
       "001A4  BE, wind schneedurchrissen, Süden labil, mit A...      0      0  \n",
       "001A5  BE, im Süden einige BU Vorwüchse, im Süden meh...      0      0  \n",
       "001A6                                                  0      0      0  \n",
       "001B1  BE, einige KI, mehr BU in Süden Hälfte, mehr L...      0      0  \n",
       "001B2                                                  0      0      0  \n",
       "001B3  BE, 5 10 J älter im Osten, bis 5 J jünger im W...      0      0  \n",
       "001B4                                                  0      0      0  "
      ]
     },
     "execution_count": 33,
     "metadata": {},
     "output_type": "execute_result"
    }
   ],
   "source": [
    "df.iloc[:10]"
   ]
  },
  {
   "cell_type": "code",
   "execution_count": 34,
   "metadata": {},
   "outputs": [],
   "source": [
    "df['Waldort'] = df.index"
   ]
  },
  {
   "cell_type": "code",
   "execution_count": 36,
   "metadata": {},
   "outputs": [],
   "source": [
    "data_wo.sort_values(by=['Abteilung', 'WE-Typ', 'Unterabteil.', 'Teilfl.'], ascending=[True,False,True,True], inplace=True)\n",
    "data_wo = data_wo[['Waldort', 'WE-Typ']]\n",
    "df = pd.merge(data_wo, df, how='outer', on='Waldort')\n",
    "\n",
    "df = df.fillna('0') # with 0s rather than NaNs"
   ]
  },
  {
   "cell_type": "code",
   "execution_count": 39,
   "metadata": {},
   "outputs": [],
   "source": [
    "data_path = os.path.join(home_path, 'Data', 'obf_autman', 'sources', 'text')\n",
    "df.to_csv(data_path + \"/text_171_12_.csv\", index=False)"
   ]
  },
  {
   "cell_type": "code",
   "execution_count": 40,
   "metadata": {},
   "outputs": [
    {
     "data": {
      "text/plain": [
       "'/home/philipp/Data/obf_autman/sources/text'"
      ]
     },
     "execution_count": 40,
     "metadata": {},
     "output_type": "execute_result"
    }
   ],
   "source": [
    "data_path"
   ]
  },
  {
   "cell_type": "code",
   "execution_count": null,
   "metadata": {},
   "outputs": [],
   "source": []
  }
 ],
 "metadata": {
  "kernelspec": {
   "display_name": "obf_autop",
   "language": "python",
   "name": "obf_autop"
  },
  "language_info": {
   "codemirror_mode": {
    "name": "ipython",
    "version": 3
   },
   "file_extension": ".py",
   "mimetype": "text/x-python",
   "name": "python",
   "nbconvert_exporter": "python",
   "pygments_lexer": "ipython3",
   "version": "3.8.2"
  }
 },
 "nbformat": 4,
 "nbformat_minor": 2
}
