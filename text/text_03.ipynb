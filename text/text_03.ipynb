{
 "cells": [
  {
   "cell_type": "code",
   "execution_count": 1,
   "metadata": {},
   "outputs": [],
   "source": [
    "#\n",
    "# Forsteinrichtung\n",
    "#\n",
    "# change text: upper lower case, abbreviations, structure\n",
    "#"
   ]
  },
  {
   "cell_type": "code",
   "execution_count": 2,
   "metadata": {},
   "outputs": [],
   "source": [
    "import os\n",
    "import numpy as np\n",
    "import pandas as pd\n",
    "import math\n",
    "import re"
   ]
  },
  {
   "cell_type": "code",
   "execution_count": 3,
   "metadata": {},
   "outputs": [
    {
     "data": {
      "text/plain": [
       "'/home/philipp/Code/python/obf_autax/text'"
      ]
     },
     "execution_count": 3,
     "metadata": {},
     "output_type": "execute_result"
    }
   ],
   "source": [
    "pwd"
   ]
  },
  {
   "cell_type": "code",
   "execution_count": 4,
   "metadata": {},
   "outputs": [
    {
     "name": "stdout",
     "output_type": "stream",
     "text": [
      "/home/philipp\n",
      "/home/philipp/Data/obf_autman/sources/raw/171_10_Text.XLS\n"
     ]
    }
   ],
   "source": [
    "# set home directory\n",
    "home_path = os.getcwd()[:os.getcwd().find('Code/python/obf_autax/text')-1]\n",
    "# set bz_path\n",
    "text_path = os.path.join(home_path, 'Data', 'obf_autman', 'sources', 'raw', '171_10_Text.XLS')\n",
    "\n",
    "print(home_path)\n",
    "print(text_path)"
   ]
  },
  {
   "cell_type": "code",
   "execution_count": 5,
   "metadata": {},
   "outputs": [],
   "source": [
    "# roh data\n",
    "data = pd.read_csv(text_path, sep='\\t', encoding = \"ISO-8859-1\", decimal=',', error_bad_lines=False)"
   ]
  },
  {
   "cell_type": "code",
   "execution_count": 6,
   "metadata": {},
   "outputs": [],
   "source": [
    "# dict Baumarten\n",
    "dic_ba_lh_nh = {\"AS\":\"LH\", \"AZ\":\"NH\", \"AH\":\"LH\", \"PM\":\"NH\", \"BI\":\"LH\", \"FB\":\"NH\", \"BL\":\"BL\", \"AC\":\"NH\", \"DG\":\"NH\", \n",
    "                \"EE\":\"LH\", \"EK\":\"LH\", \"EB\":\"NH\", \"EI\":\"LH\", \"EL\":\"LH\", \"ES\":\"LH\", \"EA\":\"LH\", \"FA\":\"LH\", \"FI\":\"NH\", \n",
    "                \"FE\":\"LH\", \"FZ\":\"NH\", \"GK\":\"NH\", \"GB\":\"LH\", \"WP\":\"LH\", \"GE\":\"LH\", \"AG\":\"NH\", \"AV\":\"LH\", \"HB\":\"LH\", \n",
    "                \"HT\":\"NH\", \"HP\":\"LH\", \"JL\":\"NH\", \"CJ\":\"NH\", \"KK\":\"NH\", \"KB\":\"LH\", \"KO\":\"NH\", \"LA\":\"NH\", \"LI\":\"LH\", \n",
    "                \"ME\":\"LH\", \"FO\":\"NH\", \"PO\":\"LH\", \"AB\":\"NH\", \"RO\":\"LH\", \"RK\":\"LH\", \"BU\":\"LH\", \"RE\":\"LH\", \n",
    "                \"CH\":\"NH\", \"ER\":\"LH\", \"SK\":\"NH\", \"JN\":\"LH\", \"SP\":\"LH\", \"SF\":\"NH\", \"LS\":\"LH\", \"SL\":\"LH\", \n",
    "                \"SN\":\"NH\", \"SG\":\"LH\", \"PU\":\"NH\", \"SA\":\"LH\", \"QR\":\"LH\", \"KW\":\"NH\", \"TH\":\"NH\", \"QP\":\"LH\",\n",
    "                \"TK\":\"LH\", \"TB\":\"LH\", \"UL\":\"LH\", \"NU\":\"LH\", \"WD\":\"LH\", \"KI\":\"NH\", \"TA\":\"NH\", \"WO\":\"LH\", \"LW\":\"LH\", \n",
    "                \"EZ\":\"LH\", \"ZI\":\"NH\"}"
   ]
  },
  {
   "cell_type": "code",
   "execution_count": 7,
   "metadata": {},
   "outputs": [],
   "source": [
    "# dict Baumarten\n",
    "dic_ba_small = {\"As\":\"AS\", \"Az\":\"AZ\", \"Ah\":\"AH\", \"Pm\":\"PM\", \"Bi\":\"BI\", \"Fb\":\"FB\", \"Bl\":\"BL\", \"Ac\":\"AC\", \"Dg\":\"DG\", \n",
    "                \"Ee\":\"EE\", \"Ek\":\"EK\", \"Eb\":\"EB\", \"Ei\":\"EI\", \"El\":\"EL\", \"Es\":\"ES\", \"Ea\":\"EA\", \"Fa\":\"FA\", \"Fi\":\"FI\", \n",
    "                \"Fe\":\"FE\", \"Fz\":\"FZ\", \"Gk\":\"GK\", \"Gb\":\"GB\", \"Wp\":\"WP\", \"Ge\":\"GE\", \"Ag\":\"AG\", \"Av\":\"AV\", \"Hb\":\"HB\", \n",
    "                \"Ht\":\"HT\", \"Hp\":\"HP\", \"Jl\":\"JL\", \"Cj\":\"CJ\", \"Kk\":\"KK\", \"Kb\":\"KB\", \"Ko\":\"KO\", \"La\":\"LA\", \"Li\":\"LI\", \n",
    "                \"Me\":\"ME\", \"Fo\":\"FO\", \"Po\":\"PO\", \"Ab\":\"AB\", \"Ro\":\"RO\", \"Rk\":\"RK\", \"Bu\":\"BU\", \"Re\":\"RE\", \n",
    "                \"Ch\":\"CH\", \"Er\":\"ER\", \"Sk\":\"SK\", \"Jn\":\"JN\", \"Sp\":\"SP\", \"Sf\":\"SF\", \"Ls\":\"LS\", \"Sl\":\"SL\", \n",
    "                \"Sn\":\"SN\", \"Sg\":\"SG\", \"Pu\":\"PU\", \"Sa\":\"SA\", \"Qr\":\"QR\", \"Kw\":\"KW\", \"Th\":\"TH\", \"Qp\":\"QP\", \"Ez\":\"EZ\",\n",
    "                \"Tk\":\"TK\", \"Tb\":\"TB\", \"Ul\":\"UL\", \"Nu\":\"NU\", \"Wd\":\"WD\", \"Ki\":\"KI\", \"Ta\":\"TA\", \"Lw\":\"LW\", \"Zi\":\"ZI\"}"
   ]
  },
  {
   "cell_type": "code",
   "execution_count": 8,
   "metadata": {},
   "outputs": [],
   "source": [
    "# dict Teile\n",
    "dic_teile = {'Norden Teil':'Nord-Teil', 'Nordosten Teil':'Nordost-Teil', 'Osten Teil':'Ost-Teil', \n",
    "             'Südosten Teil':'Südost-Teil', 'Süden Teil':'Süd-Teil', 'Südwesten Teil':'Südwest-Teil', \n",
    "             'Westen Teil':'West-Teil', 'Nordwesten Teil':'Nordwest-Teil'}"
   ]
  },
  {
   "cell_type": "code",
   "execution_count": 9,
   "metadata": {},
   "outputs": [],
   "source": [
    "# dict Abkürzungen\n",
    "path_data = os.path.join(os.getcwd(),'data', 'Textkuerzel_Manuale_all.xls')\n",
    "data_dic = pd.read_excel(path_data, index_col='kurz', error_bad_lines=False)\n",
    "\n",
    "dic_abk = data_dic.to_dict()\n",
    "dic_abk = dic_abk['lang']"
   ]
  },
  {
   "cell_type": "code",
   "execution_count": 10,
   "metadata": {},
   "outputs": [],
   "source": [
    "data.drop(data[data['Debitor']!=220442].index, axis=0, inplace=True)\n",
    "data = data[data['Best.-Schicht']==0]\n",
    "data_wo = data.copy()\n",
    "data.drop(data[data['WE-Typ']=='NG'].index, axis=0, inplace=True)"
   ]
  },
  {
   "cell_type": "code",
   "execution_count": 11,
   "metadata": {},
   "outputs": [],
   "source": [
    "data_text = data[['Waldort', 'Zeile1', 'Zeile2', 'Zeile3', 'Zeile4', 'Zeile5', 'Zeile6']]"
   ]
  },
  {
   "cell_type": "code",
   "execution_count": 12,
   "metadata": {},
   "outputs": [
    {
     "data": {
      "text/html": [
       "<div>\n",
       "<style scoped>\n",
       "    .dataframe tbody tr th:only-of-type {\n",
       "        vertical-align: middle;\n",
       "    }\n",
       "\n",
       "    .dataframe tbody tr th {\n",
       "        vertical-align: top;\n",
       "    }\n",
       "\n",
       "    .dataframe thead th {\n",
       "        text-align: right;\n",
       "    }\n",
       "</style>\n",
       "<table border=\"1\" class=\"dataframe\">\n",
       "  <thead>\n",
       "    <tr style=\"text-align: right;\">\n",
       "      <th></th>\n",
       "      <th>Waldort</th>\n",
       "      <th>Zeile1</th>\n",
       "      <th>Zeile2</th>\n",
       "      <th>Zeile3</th>\n",
       "      <th>Zeile4</th>\n",
       "      <th>Zeile5</th>\n",
       "      <th>Zeile6</th>\n",
       "    </tr>\n",
       "  </thead>\n",
       "  <tbody>\n",
       "    <tr>\n",
       "      <th>0</th>\n",
       "      <td>046B2</td>\n",
       "      <td>ST teilweise Nordwest geneigt, örtlich eben, t...</td>\n",
       "      <td>BE zahlreiche FI TA LÄ KI, einige ES ERL, LÄ v...</td>\n",
       "      <td>imOsten und Norden älter, viel BU-HBU-ES-Nver...</td>\n",
       "      <td>NaN</td>\n",
       "      <td>NaN</td>\n",
       "      <td>NaN</td>\n",
       "    </tr>\n",
       "    <tr>\n",
       "      <th>1</th>\n",
       "      <td>046B3</td>\n",
       "      <td>BE  FI mono, schlechte h/d Werte; einzelne EI;...</td>\n",
       "      <td>NaN</td>\n",
       "      <td>NaN</td>\n",
       "      <td>NaN</td>\n",
       "      <td>NaN</td>\n",
       "      <td>NaN</td>\n",
       "    </tr>\n",
       "    <tr>\n",
       "      <th>2</th>\n",
       "      <td>046A4</td>\n",
       "      <td>BE   stark ungleichaltrig, geringe Qualität, T...</td>\n",
       "      <td>verbissene TA-Naturverjüngung, 1x Roßkastanie...</td>\n",
       "      <td>NaN</td>\n",
       "      <td>NaN</td>\n",
       "      <td>NaN</td>\n",
       "      <td>NaN</td>\n",
       "    </tr>\n",
       "    <tr>\n",
       "      <th>3</th>\n",
       "      <td>999A5</td>\n",
       "      <td>BE   stark ungleichaltrig, geringe Qualität, T...</td>\n",
       "      <td>verbissene TA-Naturverjüngung, 1x Roßkastanie...</td>\n",
       "      <td>NaN</td>\n",
       "      <td>NaN</td>\n",
       "      <td>NaN</td>\n",
       "      <td>NaN</td>\n",
       "    </tr>\n",
       "    <tr>\n",
       "      <th>4</th>\n",
       "      <td>999A6</td>\n",
       "      <td>BE   stark verdämmende Vegetation - Brombeere</td>\n",
       "      <td>NaN</td>\n",
       "      <td>NaN</td>\n",
       "      <td>NaN</td>\n",
       "      <td>NaN</td>\n",
       "      <td>NaN</td>\n",
       "    </tr>\n",
       "    <tr>\n",
       "      <th>...</th>\n",
       "      <td>...</td>\n",
       "      <td>...</td>\n",
       "      <td>...</td>\n",
       "      <td>...</td>\n",
       "      <td>...</td>\n",
       "      <td>...</td>\n",
       "      <td>...</td>\n",
       "    </tr>\n",
       "    <tr>\n",
       "      <th>1573</th>\n",
       "      <td>139A3</td>\n",
       "      <td>BE  an Heubergstraße älter, dort KI, einzelne ...</td>\n",
       "      <td>NaN</td>\n",
       "      <td>NaN</td>\n",
       "      <td>NaN</td>\n",
       "      <td>NaN</td>\n",
       "      <td>NaN</td>\n",
       "    </tr>\n",
       "    <tr>\n",
       "      <th>1574</th>\n",
       "      <td>140A4</td>\n",
       "      <td>BE ungleichaltrig, zahlreich LÄ, einige KB</td>\n",
       "      <td>NaN</td>\n",
       "      <td>NaN</td>\n",
       "      <td>NaN</td>\n",
       "      <td>NaN</td>\n",
       "      <td>NaN</td>\n",
       "    </tr>\n",
       "    <tr>\n",
       "      <th>1575</th>\n",
       "      <td>046A1</td>\n",
       "      <td>ST   Nordost bis Südost geneigt, im Norden tei...</td>\n",
       "      <td>BE   plenterartige Struktur - TA-BU-Verjüngung...</td>\n",
       "      <td>NaN</td>\n",
       "      <td>NaN</td>\n",
       "      <td>NaN</td>\n",
       "      <td>NaN</td>\n",
       "    </tr>\n",
       "    <tr>\n",
       "      <th>1576</th>\n",
       "      <td>046C0</td>\n",
       "      <td>BE einzelne LÄ KI, längs Grenze stehengebliebe...</td>\n",
       "      <td>alsdienende BA</td>\n",
       "      <td>NaN</td>\n",
       "      <td>NaN</td>\n",
       "      <td>NaN</td>\n",
       "      <td>NaN</td>\n",
       "    </tr>\n",
       "    <tr>\n",
       "      <th>1577</th>\n",
       "      <td>046A3</td>\n",
       "      <td>BE   einige LA, Bonität variierend, HB wurden ...</td>\n",
       "      <td>zurückgesetzt, TA-Naturverjüngung, in der Unt...</td>\n",
       "      <td>NaN</td>\n",
       "      <td>NaN</td>\n",
       "      <td>NaN</td>\n",
       "      <td>NaN</td>\n",
       "    </tr>\n",
       "  </tbody>\n",
       "</table>\n",
       "<p>1291 rows × 7 columns</p>\n",
       "</div>"
      ],
      "text/plain": [
       "     Waldort                                             Zeile1  \\\n",
       "0      046B2  ST teilweise Nordwest geneigt, örtlich eben, t...   \n",
       "1      046B3  BE  FI mono, schlechte h/d Werte; einzelne EI;...   \n",
       "2      046A4  BE   stark ungleichaltrig, geringe Qualität, T...   \n",
       "3      999A5  BE   stark ungleichaltrig, geringe Qualität, T...   \n",
       "4      999A6      BE   stark verdämmende Vegetation - Brombeere   \n",
       "...      ...                                                ...   \n",
       "1573   139A3  BE  an Heubergstraße älter, dort KI, einzelne ...   \n",
       "1574   140A4         BE ungleichaltrig, zahlreich LÄ, einige KB   \n",
       "1575   046A1  ST   Nordost bis Südost geneigt, im Norden tei...   \n",
       "1576   046C0  BE einzelne LÄ KI, längs Grenze stehengebliebe...   \n",
       "1577   046A3  BE   einige LA, Bonität variierend, HB wurden ...   \n",
       "\n",
       "                                                 Zeile2  \\\n",
       "0     BE zahlreiche FI TA LÄ KI, einige ES ERL, LÄ v...   \n",
       "1                                                   NaN   \n",
       "2      verbissene TA-Naturverjüngung, 1x Roßkastanie...   \n",
       "3      verbissene TA-Naturverjüngung, 1x Roßkastanie...   \n",
       "4                                                   NaN   \n",
       "...                                                 ...   \n",
       "1573                                                NaN   \n",
       "1574                                                NaN   \n",
       "1575  BE   plenterartige Struktur - TA-BU-Verjüngung...   \n",
       "1576                                     alsdienende BA   \n",
       "1577   zurückgesetzt, TA-Naturverjüngung, in der Unt...   \n",
       "\n",
       "                                                 Zeile3 Zeile4 Zeile5 Zeile6  \n",
       "0      imOsten und Norden älter, viel BU-HBU-ES-Nver...    NaN    NaN    NaN  \n",
       "1                                                   NaN    NaN    NaN    NaN  \n",
       "2                                                   NaN    NaN    NaN    NaN  \n",
       "3                                                   NaN    NaN    NaN    NaN  \n",
       "4                                                   NaN    NaN    NaN    NaN  \n",
       "...                                                 ...    ...    ...    ...  \n",
       "1573                                                NaN    NaN    NaN    NaN  \n",
       "1574                                                NaN    NaN    NaN    NaN  \n",
       "1575                                                NaN    NaN    NaN    NaN  \n",
       "1576                                                NaN    NaN    NaN    NaN  \n",
       "1577                                                NaN    NaN    NaN    NaN  \n",
       "\n",
       "[1291 rows x 7 columns]"
      ]
     },
     "execution_count": 12,
     "metadata": {},
     "output_type": "execute_result"
    }
   ],
   "source": [
    "data_text"
   ]
  },
  {
   "cell_type": "code",
   "execution_count": 13,
   "metadata": {},
   "outputs": [],
   "source": [
    "def text_merge(row_text):\n",
    "    \n",
    "    # merge into whole txt\n",
    "    whole_text = ''\n",
    "    for i in np.arange(0,5):\n",
    "        if isinstance(row_text.iloc[i], str):\n",
    "            #print(row_text.iloc[i])\n",
    "            whole_text = whole_text + row_text.iloc[i]\n",
    "            \n",
    "    return(whole_text)"
   ]
  },
  {
   "cell_type": "code",
   "execution_count": 14,
   "metadata": {},
   "outputs": [],
   "source": [
    "def text_indx(whole_text):\n",
    "    \n",
    "    # find indexes for splitting\n",
    "    indx = []\n",
    "    for i in ['ST ', 'BE ', 'MA ']:\n",
    "        # find index\n",
    "        idx = whole_text.find(i)\n",
    "        # filter not found\n",
    "        if idx > -1:\n",
    "            # add index \n",
    "            indx.append(whole_text.find(i))\n",
    "    # add index \n",
    "    indx.append(10000)\n",
    "    indx = np.sort(indx)\n",
    "    \n",
    "    return(indx)"
   ]
  },
  {
   "cell_type": "code",
   "execution_count": 15,
   "metadata": {},
   "outputs": [],
   "source": [
    "def text_cut(whole_text, indx):\n",
    "    # cut string into peaces\n",
    "    cut = []\n",
    "    for i in range(1,len(indx)):\n",
    "        if whole_text[indx[i-1]:indx[i-1]+2] != 'MA':\n",
    "            cut.append(whole_text[indx[i-1]:indx[i]])\n",
    "            \n",
    "    return(cut)"
   ]
  },
  {
   "cell_type": "code",
   "execution_count": 16,
   "metadata": {},
   "outputs": [],
   "source": [
    "def text_cutter(data_txt):\n",
    "    whole_text = text_merge(data_txt)\n",
    "    indx = text_indx(whole_text)\n",
    "    cutted_text = text_cut(whole_text, indx)\n",
    "    return(cutted_text)"
   ]
  },
  {
   "cell_type": "code",
   "execution_count": null,
   "metadata": {},
   "outputs": [],
   "source": []
  },
  {
   "cell_type": "code",
   "execution_count": 17,
   "metadata": {},
   "outputs": [],
   "source": [
    "def text_splitter(text):\n",
    "    # delete spaces at the end\n",
    "    text.rstrip()\n",
    "    # replace , with ;\n",
    "    text = text.replace(',', ';')\n",
    "    text = text.replace('BE ', 'BE; ')\n",
    "    text = text.replace('ST ', 'ST; ')\n",
    "    text = text.replace('MA ', 'MA; ')\n",
    "    \n",
    "    # split text on ;\n",
    "    splits = text.split(';')\n",
    "    \n",
    "    text_neu = ''\n",
    "    # manipulate splits\n",
    "    for split in splits:\n",
    "        words = re.findall(r\"[\\w']+\", split)\n",
    "        \n",
    "        split_neu = ''\n",
    "        # manipulate words\n",
    "        for word in words:\n",
    "            # if Baumart all upper case -> don't change characters\n",
    "            if word in dic_ba_lh_nh:\n",
    "                split_neu = split_neu + word + ' '\n",
    "            # if Baumart upper and lower case -> change to upper case\n",
    "            elif word in dic_ba_small:\n",
    "                split_neu = split_neu + dic_ba_small[word] + ' '\n",
    "            # else change word to lower case\n",
    "            else:\n",
    "                word_low = word.lower()\n",
    "                # if word in dictionary than replace\n",
    "                if word_low in dic_abk:\n",
    "                    split_neu = split_neu + dic_abk[word_low] + ' '\n",
    "                # if word with ung -> first letter upper case\n",
    "                #elif word[-3:] == 'ung':\n",
    "                #    word = word.replace(word[0], word[0].upper(), 1)\n",
    "                #    split_neu = split_neu + word + ' '\n",
    "                # else add lower case word\n",
    "                else:\n",
    "                    split_neu = split_neu + word + ' '\n",
    "        # delete spaces at the end\n",
    "        split_neu = split_neu.rstrip()\n",
    "        # merge splits\n",
    "        text_neu = text_neu + split_neu + ', '\n",
    "        \n",
    "    if text_neu[:4] == 'BE, ':\n",
    "        text_neu = text_neu.replace('BE, ', 'BE   ', 1)\n",
    "    elif text_neu[:4] == 'ST, ':\n",
    "        text_neu = text_neu.replace('ST, ', 'ST   ', 1)\n",
    "    text_neu = text_neu.rstrip()\n",
    "    # # delete spaces at the end\n",
    "    if text_neu[-2:] == ' ,':\n",
    "        text_neu = text_neu[:-2]\n",
    "    # replace all patterns from dic_teile(x:y)-x with dic_teile-y\n",
    "    text_neu = multipleReplace(text_neu, dic_teile)\n",
    "    #pattern = re.compile(r'\\b(' + '|'.join(dic_teile.keys()) + r')\\b')\n",
    "    #text_neu = pattern.sub(lambda x: dic_teile[x.group()], test_neu)\n",
    "    \n",
    "    return(text_neu)"
   ]
  },
  {
   "cell_type": "code",
   "execution_count": 18,
   "metadata": {},
   "outputs": [],
   "source": [
    "def multipleReplace(text, wordDict):\n",
    "    for key in wordDict:\n",
    "        text = text.replace(key, wordDict[key])\n",
    "    return text"
   ]
  },
  {
   "cell_type": "code",
   "execution_count": 19,
   "metadata": {},
   "outputs": [
    {
     "name": "stdout",
     "output_type": "stream",
     "text": [
      "278B1\n",
      "ST ehemalige Brandfläche\n",
      "BE einige BU AH MB FI LÄ KI, an den Rändern teilweise LH-Verj\n"
     ]
    }
   ],
   "source": [
    "n = 34\n",
    "print(data_text.iloc[n, 0])\n",
    "print(data_text.iloc[n, 1])\n",
    "print(data_text.iloc[n, 2])"
   ]
  },
  {
   "cell_type": "code",
   "execution_count": 20,
   "metadata": {},
   "outputs": [
    {
     "name": "stdout",
     "output_type": "stream",
     "text": [
      "323E2\n",
      "323E2,\n"
     ]
    }
   ],
   "source": [
    "test = data_text.iloc[40, 0]\n",
    "print(test)\n",
    "test_neu = text_splitter(test)\n",
    "print(test_neu)"
   ]
  },
  {
   "cell_type": "code",
   "execution_count": 20,
   "metadata": {},
   "outputs": [],
   "source": [
    "import re"
   ]
  },
  {
   "cell_type": "code",
   "execution_count": 31,
   "metadata": {},
   "outputs": [],
   "source": [
    "txt = 'ST   Steinhalden, Rohboden, örtlich auch Silikatgestein, zlrSchnarrschrecken erfreuen den Naturgenießer im Sommer,\",\"BE   teilweise zugewachsener Steinbruch, 10 J, einige FI LA, nettePioniergesellschaft,'\n",
    "pattern = '[a-z](?=[A-Z])'\n",
    "replace = ' '"
   ]
  },
  {
   "cell_type": "code",
   "execution_count": 30,
   "metadata": {},
   "outputs": [
    {
     "data": {
      "text/plain": [
       "['r', 'e']"
      ]
     },
     "execution_count": 30,
     "metadata": {},
     "output_type": "execute_result"
    }
   ],
   "source": [
    "re.findall(pattern, txt) "
   ]
  },
  {
   "cell_type": "code",
   "execution_count": 32,
   "metadata": {},
   "outputs": [
    {
     "data": {
      "text/plain": [
       "'ST   Steinhalden, Rohboden, örtlich auch Silikatgestein, zl Schnarrschrecken erfreuen den Naturgenießer im Sommer,\",\"BE   teilweise zugewachsener Steinbruch, 10 J, einige FI LA, nett Pioniergesellschaft,'"
      ]
     },
     "execution_count": 32,
     "metadata": {},
     "output_type": "execute_result"
    }
   ],
   "source": [
    "re.sub(pattern, replace, txt)"
   ]
  },
  {
   "cell_type": "code",
   "execution_count": 33,
   "metadata": {},
   "outputs": [
    {
     "data": {
      "text/plain": [
       "<callable_iterator at 0x7f0cfb5f04c0>"
      ]
     },
     "execution_count": 33,
     "metadata": {},
     "output_type": "execute_result"
    }
   ],
   "source": [
    "re.finditer(pattern, txt)"
   ]
  },
  {
   "cell_type": "code",
   "execution_count": 38,
   "metadata": {},
   "outputs": [],
   "source": [
    "# find index\n",
    "idxs = [(m.start(0), m.end(0)) for m in re.finditer(pattern, txt)]"
   ]
  },
  {
   "cell_type": "code",
   "execution_count": 56,
   "metadata": {},
   "outputs": [],
   "source": [
    "txtc = 'ST   Steinhalden, Rohboden, örtlich auch Silikatgestein, zlrSchnarrschrecken erfreuen den Naturgenießer im Sommer,\",\"BE   teilweise10 zugewachsener Steinbruch, 10J, einige FI LA, nettePioniergesellschaft,'"
   ]
  },
  {
   "cell_type": "code",
   "execution_count": 20,
   "metadata": {},
   "outputs": [],
   "source": [
    "def find_missing_whitespaces(string):\n",
    "    \n",
    "    # lower case to upper case without whitespace\n",
    "    patterns = ['[a-zäöü](?=[A-ZÄÖÜ])', '[0-9](?=[a-zäöüA-ZÄÖÜ])', '[a-zäöüA-ZÄÖÜ](?=[0-9])']\n",
    "    for pattern in patterns: \n",
    "        # find index\n",
    "        idxs = [(m.start(0), m.end(0)) for m in re.finditer(pattern, string)]\n",
    "        i = 0\n",
    "        for idx in idxs:\n",
    "            index = i + idx[1]\n",
    "            #print(index, txtc[0:index])\n",
    "            string = string[0:index] + ' ' + string[index:]\n",
    "            i += 1\n",
    "    return string"
   ]
  },
  {
   "cell_type": "code",
   "execution_count": null,
   "metadata": {},
   "outputs": [],
   "source": []
  },
  {
   "cell_type": "code",
   "execution_count": 21,
   "metadata": {},
   "outputs": [
    {
     "name": "stdout",
     "output_type": "stream",
     "text": [
      "BE   stark ungleichaltrig, lichtere und dichtere Teile abwechselnd, in den durch Schadereingnisse entstandenen Lücken Brombeere und verdämmende Vegetation, Bestockung stark unterschiedlich licht im Süd West Teil bis zu Bestockungsgrad 0, 7, nahezu reine TA im Norden dicht,\n"
     ]
    }
   ],
   "source": [
    "###############\n",
    "### working ###\n",
    "###############\n",
    "\n",
    "temp = text_cutter(data_text.iloc[7])\n",
    "for i in temp:\n",
    "    i = find_missing_whitespaces(i)\n",
    "    test_neu = text_splitter(i)\n",
    "    print(test_neu)"
   ]
  },
  {
   "cell_type": "code",
   "execution_count": 22,
   "metadata": {},
   "outputs": [
    {
     "data": {
      "text/plain": [
       "['BE   stark ungleichaltrig, lichtere und dichtere Teile abwechselnd,  in den durch Schadereingnisse entstandenen Lücken - Brombeere und verdämmende Vegetation, Bestockung stark unterschiedlich -licht im SüdWestTeil bis zu Bestockungsgrad 0,7, nahezu reine TA im Norden dicht,']"
      ]
     },
     "execution_count": 22,
     "metadata": {},
     "output_type": "execute_result"
    }
   ],
   "source": [
    "temp"
   ]
  },
  {
   "cell_type": "code",
   "execution_count": 23,
   "metadata": {},
   "outputs": [],
   "source": [
    "# make dataframe and write file to disk"
   ]
  },
  {
   "cell_type": "code",
   "execution_count": 24,
   "metadata": {},
   "outputs": [],
   "source": [
    "index = np.sort(data['Waldort'].unique())"
   ]
  },
  {
   "cell_type": "code",
   "execution_count": 25,
   "metadata": {},
   "outputs": [],
   "source": [
    "columns = ['text_1', 'text_2', 'text_3', 'text_4']"
   ]
  },
  {
   "cell_type": "code",
   "execution_count": 26,
   "metadata": {},
   "outputs": [],
   "source": [
    "df = pd.DataFrame(index=index, columns=columns)\n",
    "df = df.fillna('0') # with 0s rather than NaNs"
   ]
  },
  {
   "cell_type": "code",
   "execution_count": 27,
   "metadata": {},
   "outputs": [
    {
     "data": {
      "text/html": [
       "<div>\n",
       "<style scoped>\n",
       "    .dataframe tbody tr th:only-of-type {\n",
       "        vertical-align: middle;\n",
       "    }\n",
       "\n",
       "    .dataframe tbody tr th {\n",
       "        vertical-align: top;\n",
       "    }\n",
       "\n",
       "    .dataframe thead th {\n",
       "        text-align: right;\n",
       "    }\n",
       "</style>\n",
       "<table border=\"1\" class=\"dataframe\">\n",
       "  <thead>\n",
       "    <tr style=\"text-align: right;\">\n",
       "      <th></th>\n",
       "      <th>text_1</th>\n",
       "      <th>text_2</th>\n",
       "      <th>text_3</th>\n",
       "      <th>text_4</th>\n",
       "    </tr>\n",
       "  </thead>\n",
       "  <tbody>\n",
       "    <tr>\n",
       "      <th>019A1</th>\n",
       "      <td>0</td>\n",
       "      <td>0</td>\n",
       "      <td>0</td>\n",
       "      <td>0</td>\n",
       "    </tr>\n",
       "    <tr>\n",
       "      <th>019A2</th>\n",
       "      <td>0</td>\n",
       "      <td>0</td>\n",
       "      <td>0</td>\n",
       "      <td>0</td>\n",
       "    </tr>\n",
       "    <tr>\n",
       "      <th>019B1</th>\n",
       "      <td>0</td>\n",
       "      <td>0</td>\n",
       "      <td>0</td>\n",
       "      <td>0</td>\n",
       "    </tr>\n",
       "    <tr>\n",
       "      <th>019B2</th>\n",
       "      <td>0</td>\n",
       "      <td>0</td>\n",
       "      <td>0</td>\n",
       "      <td>0</td>\n",
       "    </tr>\n",
       "    <tr>\n",
       "      <th>019C1</th>\n",
       "      <td>0</td>\n",
       "      <td>0</td>\n",
       "      <td>0</td>\n",
       "      <td>0</td>\n",
       "    </tr>\n",
       "    <tr>\n",
       "      <th>...</th>\n",
       "      <td>...</td>\n",
       "      <td>...</td>\n",
       "      <td>...</td>\n",
       "      <td>...</td>\n",
       "    </tr>\n",
       "    <tr>\n",
       "      <th>333E4</th>\n",
       "      <td>0</td>\n",
       "      <td>0</td>\n",
       "      <td>0</td>\n",
       "      <td>0</td>\n",
       "    </tr>\n",
       "    <tr>\n",
       "      <th>999A2</th>\n",
       "      <td>0</td>\n",
       "      <td>0</td>\n",
       "      <td>0</td>\n",
       "      <td>0</td>\n",
       "    </tr>\n",
       "    <tr>\n",
       "      <th>999A4</th>\n",
       "      <td>0</td>\n",
       "      <td>0</td>\n",
       "      <td>0</td>\n",
       "      <td>0</td>\n",
       "    </tr>\n",
       "    <tr>\n",
       "      <th>999A5</th>\n",
       "      <td>0</td>\n",
       "      <td>0</td>\n",
       "      <td>0</td>\n",
       "      <td>0</td>\n",
       "    </tr>\n",
       "    <tr>\n",
       "      <th>999A6</th>\n",
       "      <td>0</td>\n",
       "      <td>0</td>\n",
       "      <td>0</td>\n",
       "      <td>0</td>\n",
       "    </tr>\n",
       "  </tbody>\n",
       "</table>\n",
       "<p>1291 rows × 4 columns</p>\n",
       "</div>"
      ],
      "text/plain": [
       "      text_1 text_2 text_3 text_4\n",
       "019A1      0      0      0      0\n",
       "019A2      0      0      0      0\n",
       "019B1      0      0      0      0\n",
       "019B2      0      0      0      0\n",
       "019C1      0      0      0      0\n",
       "...      ...    ...    ...    ...\n",
       "333E4      0      0      0      0\n",
       "999A2      0      0      0      0\n",
       "999A4      0      0      0      0\n",
       "999A5      0      0      0      0\n",
       "999A6      0      0      0      0\n",
       "\n",
       "[1291 rows x 4 columns]"
      ]
     },
     "execution_count": 27,
     "metadata": {},
     "output_type": "execute_result"
    }
   ],
   "source": [
    "df"
   ]
  },
  {
   "cell_type": "code",
   "execution_count": 28,
   "metadata": {},
   "outputs": [],
   "source": [
    "data_text1 = data_text.set_index('Waldort')"
   ]
  },
  {
   "cell_type": "code",
   "execution_count": 29,
   "metadata": {},
   "outputs": [],
   "source": [
    "for wo in index:\n",
    "    wof = data_text1.loc[wo]\n",
    "    temp = text_cutter(data_text1.loc[wo])\n",
    "\n",
    "    for i, txt in enumerate(temp):\n",
    "        #test_neu = text_splitter(i)\n",
    "        txt = find_missing_whitespaces(txt)\n",
    "        df.loc[wo, 'text_'+str(i+1)] = text_splitter(txt)\n",
    "    "
   ]
  },
  {
   "cell_type": "code",
   "execution_count": 30,
   "metadata": {},
   "outputs": [
    {
     "data": {
      "text/html": [
       "<div>\n",
       "<style scoped>\n",
       "    .dataframe tbody tr th:only-of-type {\n",
       "        vertical-align: middle;\n",
       "    }\n",
       "\n",
       "    .dataframe tbody tr th {\n",
       "        vertical-align: top;\n",
       "    }\n",
       "\n",
       "    .dataframe thead th {\n",
       "        text-align: right;\n",
       "    }\n",
       "</style>\n",
       "<table border=\"1\" class=\"dataframe\">\n",
       "  <thead>\n",
       "    <tr style=\"text-align: right;\">\n",
       "      <th></th>\n",
       "      <th>text_1</th>\n",
       "      <th>text_2</th>\n",
       "      <th>text_3</th>\n",
       "      <th>text_4</th>\n",
       "    </tr>\n",
       "  </thead>\n",
       "  <tbody>\n",
       "    <tr>\n",
       "      <th>019A1</th>\n",
       "      <td>BE   zahlreiche EZ BI KI, einige LA, einzelne DG,</td>\n",
       "      <td>0</td>\n",
       "      <td>0</td>\n",
       "      <td>0</td>\n",
       "    </tr>\n",
       "    <tr>\n",
       "      <th>019A2</th>\n",
       "      <td>BE   zahlreich HB, einige EI,</td>\n",
       "      <td>0</td>\n",
       "      <td>0</td>\n",
       "      <td>0</td>\n",
       "    </tr>\n",
       "    <tr>\n",
       "      <th>019B1</th>\n",
       "      <td>BE   zahlreich TA, einige ER EI DG, im Westen ...</td>\n",
       "      <td>0</td>\n",
       "      <td>0</td>\n",
       "      <td>0</td>\n",
       "    </tr>\n",
       "    <tr>\n",
       "      <th>019B2</th>\n",
       "      <td>BE   einzelne LA Überhälter,</td>\n",
       "      <td>0</td>\n",
       "      <td>0</td>\n",
       "      <td>0</td>\n",
       "    </tr>\n",
       "    <tr>\n",
       "      <th>019C1</th>\n",
       "      <td>ST   teilweise eben, im Osten alte Schottergrube,</td>\n",
       "      <td>BE   einige HB LA FI, viel BU Nverjg,</td>\n",
       "      <td>0</td>\n",
       "      <td>0</td>\n",
       "    </tr>\n",
       "    <tr>\n",
       "      <th>019C2</th>\n",
       "      <td>BE   zahlreich LA KI, einige AH ASP BI EI ES T...</td>\n",
       "      <td>0</td>\n",
       "      <td>0</td>\n",
       "      <td>0</td>\n",
       "    </tr>\n",
       "    <tr>\n",
       "      <th>019D1</th>\n",
       "      <td>BE   zahlreich HB TA KI,</td>\n",
       "      <td>0</td>\n",
       "      <td>0</td>\n",
       "      <td>0</td>\n",
       "    </tr>\n",
       "    <tr>\n",
       "      <th>019D2</th>\n",
       "      <td>BE   einige ES, zahlreich Laubholz Stockaussch...</td>\n",
       "      <td>0</td>\n",
       "      <td>0</td>\n",
       "      <td>0</td>\n",
       "    </tr>\n",
       "    <tr>\n",
       "      <th>019D3</th>\n",
       "      <td>0</td>\n",
       "      <td>0</td>\n",
       "      <td>0</td>\n",
       "      <td>0</td>\n",
       "    </tr>\n",
       "    <tr>\n",
       "      <th>020A1</th>\n",
       "      <td>BE   zahlreich EZ, einige EI ER KI,</td>\n",
       "      <td>0</td>\n",
       "      <td>0</td>\n",
       "      <td>0</td>\n",
       "    </tr>\n",
       "  </tbody>\n",
       "</table>\n",
       "</div>"
      ],
      "text/plain": [
       "                                                  text_1  \\\n",
       "019A1  BE   zahlreiche EZ BI KI, einige LA, einzelne DG,   \n",
       "019A2                      BE   zahlreich HB, einige EI,   \n",
       "019B1  BE   zahlreich TA, einige ER EI DG, im Westen ...   \n",
       "019B2                       BE   einzelne LA Überhälter,   \n",
       "019C1  ST   teilweise eben, im Osten alte Schottergrube,   \n",
       "019C2  BE   zahlreich LA KI, einige AH ASP BI EI ES T...   \n",
       "019D1                           BE   zahlreich HB TA KI,   \n",
       "019D2  BE   einige ES, zahlreich Laubholz Stockaussch...   \n",
       "019D3                                                  0   \n",
       "020A1                BE   zahlreich EZ, einige EI ER KI,   \n",
       "\n",
       "                                      text_2 text_3 text_4  \n",
       "019A1                                      0      0      0  \n",
       "019A2                                      0      0      0  \n",
       "019B1                                      0      0      0  \n",
       "019B2                                      0      0      0  \n",
       "019C1  BE   einige HB LA FI, viel BU Nverjg,      0      0  \n",
       "019C2                                      0      0      0  \n",
       "019D1                                      0      0      0  \n",
       "019D2                                      0      0      0  \n",
       "019D3                                      0      0      0  \n",
       "020A1                                      0      0      0  "
      ]
     },
     "execution_count": 30,
     "metadata": {},
     "output_type": "execute_result"
    }
   ],
   "source": [
    "df.iloc[:10]"
   ]
  },
  {
   "cell_type": "code",
   "execution_count": 31,
   "metadata": {},
   "outputs": [],
   "source": [
    "df['Waldort'] = df.index"
   ]
  },
  {
   "cell_type": "code",
   "execution_count": 32,
   "metadata": {},
   "outputs": [],
   "source": [
    "data_wo.sort_values(by=['Abteilung', 'WE-Typ', 'Unterabteil.', 'Teilfl.'], ascending=[True,False,True,True], inplace=True)\n",
    "data_wo = data_wo[['Waldort', 'WE-Typ']]\n",
    "df = pd.merge(data_wo, df, how='outer', on='Waldort')\n",
    "\n",
    "df = df.fillna('0') # with 0s rather than NaNs"
   ]
  },
  {
   "cell_type": "code",
   "execution_count": 33,
   "metadata": {},
   "outputs": [],
   "source": [
    "data_path = os.path.join(home_path, 'Data', 'obf_autman', 'sources', 'text')\n",
    "df.to_csv(data_path + \"/text_171_10_.csv\", index=False)"
   ]
  },
  {
   "cell_type": "code",
   "execution_count": 35,
   "metadata": {},
   "outputs": [
    {
     "data": {
      "text/plain": [
       "'/home/philipp/Data/obf_autman/sources/text'"
      ]
     },
     "execution_count": 35,
     "metadata": {},
     "output_type": "execute_result"
    }
   ],
   "source": [
    "data_path"
   ]
  },
  {
   "cell_type": "code",
   "execution_count": null,
   "metadata": {},
   "outputs": [],
   "source": []
  },
  {
   "cell_type": "code",
   "execution_count": null,
   "metadata": {},
   "outputs": [],
   "source": []
  }
 ],
 "metadata": {
  "kernelspec": {
   "display_name": "obf_autop",
   "language": "python",
   "name": "obf_autop"
  },
  "language_info": {
   "codemirror_mode": {
    "name": "ipython",
    "version": 3
   },
   "file_extension": ".py",
   "mimetype": "text/x-python",
   "name": "python",
   "nbconvert_exporter": "python",
   "pygments_lexer": "ipython3",
   "version": "3.8.2"
  }
 },
 "nbformat": 4,
 "nbformat_minor": 2
}
