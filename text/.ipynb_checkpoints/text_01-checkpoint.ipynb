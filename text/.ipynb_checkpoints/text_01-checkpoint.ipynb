{
 "cells": [
  {
   "cell_type": "code",
   "execution_count": 1,
   "metadata": {},
   "outputs": [],
   "source": [
    "import os\n",
    "import numpy as np\n",
    "import pandas as pd"
   ]
  },
  {
   "cell_type": "code",
   "execution_count": 2,
   "metadata": {},
   "outputs": [
    {
     "name": "stdout",
     "output_type": "stream",
     "text": [
      "/Users/philipp/Code/text/roh_1353_08_20190409.xls\n"
     ]
    },
    {
     "name": "stderr",
     "output_type": "stream",
     "text": [
      "/Users/philipp/Python/anaconda3/lib/python3.6/site-packages/IPython/core/interactiveshell.py:3018: DtypeWarning: Columns (147) have mixed types. Specify dtype option on import or set low_memory=False.\n",
      "  interactivity=interactivity, compiler=compiler, result=result)\n"
     ]
    }
   ],
   "source": [
    "# roh data\n",
    "path_data = os.path.join(os.getcwd(),'roh_1353_08_20190409.xls')\n",
    "print(path_data)\n",
    "data = pd.read_csv(path_data, sep='\\t', encoding = \"ISO-8859-1\", decimal=',', error_bad_lines=False)"
   ]
  },
  {
   "cell_type": "code",
   "execution_count": 3,
   "metadata": {},
   "outputs": [],
   "source": [
    "data.drop(data[data['Debitor']!=220442].index, axis=0, inplace=True)\n",
    "data.drop(data[data['WE-Typ']=='NG'].index, axis=0, inplace=True)"
   ]
  },
  {
   "cell_type": "code",
   "execution_count": 4,
   "metadata": {},
   "outputs": [
    {
     "data": {
      "text/plain": [
       "Index(['Merkmalausprägung', 'AuswKatTyp', 'Teiloperats-ID', 'Forstbetrieb',\n",
       "       'Debitor', 'TO-Bezeichnung', 'Status', 'Beg. Laufzeit', 'Ende Laufzeit',\n",
       "       'Operat-ID', 'vorgeschl. Hiebssatz', 'Verantwortlicher',\n",
       "       'Erfassungsstatus', 'Migriert?', 'GUID', 'Forstbetrieb.1',\n",
       "       'Teiloperats-ID.1', 'Forstrevier', 'Abteilung', 'Unterabteil.',\n",
       "       'Teilfl.', 'Debitor.1', 'Bearbeitungsblock', 'WE-Typ', 'Betriebsklasse',\n",
       "       'Umtriebszeit', 'Nebengrund Art', 'Ertragssituation',\n",
       "       'Bewirtschaftungsform', 'Schutzwaldkategorie', 'Fläche in HA',\n",
       "       'Seehöhe', 'Exposition', 'Neigung', 'Standorteinheit', 'Vegetationstyp',\n",
       "       'Waldtyp', 'Wuchsgebiet', 'Überh. Laubholz', 'Überh. Nadelhz.',\n",
       "       'fr. Schälschade', 'Verbissgrad', 'SchutzwaldProjNr', 'Schlussgrad',\n",
       "       'Stabilität', 'VJ Bedingung', 'VJ Situation', 'Erreichbark. des BZ',\n",
       "       'Selektiver Verbiss', 'Erfassungsstatus.1', 'Storno', 'Angelegt von',\n",
       "       'Angelegt am', 'Uhrzeit', 'Geändert von', 'Geändert am', 'Uhrzeit.1',\n",
       "       'Waldort', 'GUID.1', 'GUID.2', 'Forstbetrieb.2', 'Teiloperats-ID.2',\n",
       "       'Forstrevier.1', 'Abteilung.1', 'Unterabteil..1', 'Teilfl..1',\n",
       "       'Best.-Schicht', 'Debitor.2', 'Schichtanteil', 'Schichtalter',\n",
       "       'S-Best.grad', 'Erfassungsstatus.2', 'Storno.1', 'GUID.3', 'GUID.4',\n",
       "       'Forstbetrieb.3', 'Teiloperats-ID.3', 'Forstrevier.2', 'Abteilung.2',\n",
       "       'Unterabteil..2', 'Teilfl..2', 'Best.-Schicht.1', 'Baumart',\n",
       "       'Debitor.3', 'Baumartenanteil', 'BaumartenBestockgrad', 'Schälgrad',\n",
       "       'Ertragsklasse', 'Vorrat / ha', 'Laubholzvorrat / ha',\n",
       "       'Nadelholzvorrat / ha', 'Vorrat am Ort', 'Laubholzvorrat Ort',\n",
       "       'Nadelholzvorrat Ort', 'GSOLL / HA', 'GIST / HA', 'lauf. Zuwachs / HA',\n",
       "       'DGZU / HA', 'HDZ', 'LGZ'],\n",
       "      dtype='object')"
      ]
     },
     "execution_count": 4,
     "metadata": {},
     "output_type": "execute_result"
    }
   ],
   "source": [
    "data.columns[:100]"
   ]
  },
  {
   "cell_type": "code",
   "execution_count": 5,
   "metadata": {},
   "outputs": [],
   "source": [
    "data = data[data['Best.-Schicht']==0]"
   ]
  },
  {
   "cell_type": "code",
   "execution_count": 6,
   "metadata": {},
   "outputs": [],
   "source": [
    "data_text = data['Zeile1']"
   ]
  },
  {
   "cell_type": "code",
   "execution_count": 7,
   "metadata": {
    "scrolled": true
   },
   "outputs": [],
   "source": [
    "text = data_text.iloc[19]"
   ]
  },
  {
   "cell_type": "code",
   "execution_count": 8,
   "metadata": {},
   "outputs": [
    {
     "data": {
      "text/plain": [
       "'BE  TA IM W-TL EHEM ZAUN; IM S UND O JGER; NH vor allem'"
      ]
     },
     "execution_count": 8,
     "metadata": {},
     "output_type": "execute_result"
    }
   ],
   "source": [
    "text"
   ]
  },
  {
   "cell_type": "code",
   "execution_count": 9,
   "metadata": {},
   "outputs": [],
   "source": [
    "text = text + ', verjüngt'"
   ]
  },
  {
   "cell_type": "code",
   "execution_count": 10,
   "metadata": {},
   "outputs": [
    {
     "data": {
      "text/plain": [
       "'BE  TA IM W-TL EHEM ZAUN; IM S UND O JGER; NH vor allem, verjüngt'"
      ]
     },
     "execution_count": 10,
     "metadata": {},
     "output_type": "execute_result"
    }
   ],
   "source": [
    "text"
   ]
  },
  {
   "cell_type": "code",
   "execution_count": 14,
   "metadata": {},
   "outputs": [],
   "source": [
    "text = text.replace(',', ';')"
   ]
  },
  {
   "cell_type": "code",
   "execution_count": 17,
   "metadata": {},
   "outputs": [],
   "source": [
    "text = text.replace('BE ', 'BE; ')"
   ]
  },
  {
   "cell_type": "code",
   "execution_count": 26,
   "metadata": {},
   "outputs": [],
   "source": [
    "text_split = text.split(';')"
   ]
  },
  {
   "cell_type": "code",
   "execution_count": 27,
   "metadata": {},
   "outputs": [
    {
     "data": {
      "text/plain": [
       "['BE',\n",
       " '  TA IM W-TL EHEM ZAUN',\n",
       " ' IM S UND O JGER',\n",
       " ' NH vor allem',\n",
       " ' verjüngt']"
      ]
     },
     "execution_count": 27,
     "metadata": {},
     "output_type": "execute_result"
    }
   ],
   "source": [
    "text_split"
   ]
  },
  {
   "cell_type": "code",
   "execution_count": 28,
   "metadata": {},
   "outputs": [
    {
     "data": {
      "text/plain": [
       "'  TA IM W-TL EHEM ZAUN'"
      ]
     },
     "execution_count": 28,
     "metadata": {},
     "output_type": "execute_result"
    }
   ],
   "source": [
    "text_split[1]"
   ]
  },
  {
   "cell_type": "code",
   "execution_count": 29,
   "metadata": {},
   "outputs": [],
   "source": [
    "import re"
   ]
  },
  {
   "cell_type": "code",
   "execution_count": 30,
   "metadata": {},
   "outputs": [
    {
     "name": "stdout",
     "output_type": "stream",
     "text": [
      "['TA', 'IM', 'W', 'TL', 'EHEM', 'ZAUN']\n"
     ]
    }
   ],
   "source": [
    "print(re.findall(r\"[\\w']+\", text_split[1]))"
   ]
  },
  {
   "cell_type": "code",
   "execution_count": 32,
   "metadata": {},
   "outputs": [],
   "source": [
    "words = re.findall(r\"[\\w']+\", text_split[1])"
   ]
  },
  {
   "cell_type": "code",
   "execution_count": 24,
   "metadata": {},
   "outputs": [],
   "source": [
    "text_split = re.findall(r\"[\\w']+\", data_text.iloc[11])"
   ]
  },
  {
   "cell_type": "code",
   "execution_count": 25,
   "metadata": {},
   "outputs": [
    {
     "data": {
      "text/plain": [
       "['ST', 'GEGEN', 'S', 'SCHLECHTER', 'WERDEND']"
      ]
     },
     "execution_count": 25,
     "metadata": {},
     "output_type": "execute_result"
    }
   ],
   "source": [
    "text_split"
   ]
  },
  {
   "cell_type": "code",
   "execution_count": null,
   "metadata": {},
   "outputs": [],
   "source": [
    "#"
   ]
  },
  {
   "cell_type": "code",
   "execution_count": 113,
   "metadata": {},
   "outputs": [
    {
     "name": "stdout",
     "output_type": "stream",
     "text": [
      "BE  TA IM W-TL EHEM ZAUN; IM S UND O JGER; NH vor allem; verjüngt\n"
     ]
    }
   ],
   "source": [
    "print(text.replace(',', ';'))"
   ]
  },
  {
   "cell_type": "code",
   "execution_count": null,
   "metadata": {},
   "outputs": [],
   "source": []
  },
  {
   "cell_type": "code",
   "execution_count": 41,
   "metadata": {},
   "outputs": [
    {
     "data": {
      "text/plain": [
       "'werdend'"
      ]
     },
     "execution_count": 41,
     "metadata": {},
     "output_type": "execute_result"
    }
   ],
   "source": [
    "text_split[4].lower()"
   ]
  },
  {
   "cell_type": "code",
   "execution_count": 44,
   "metadata": {},
   "outputs": [
    {
     "name": "stdout",
     "output_type": "stream",
     "text": [
      "ST\n",
      "GEGEN\n",
      "S\n",
      "SCHLECHTER\n",
      "WERDEND\n"
     ]
    }
   ],
   "source": [
    "for word in text_split:\n",
    "    print(word)"
   ]
  },
  {
   "cell_type": "code",
   "execution_count": 75,
   "metadata": {},
   "outputs": [],
   "source": [
    "path_data = os.path.join(os.getcwd(),'data', 'Textkuerzel_Manuale.xls')\n",
    "data_dic = pd.read_excel(path_data, index_col='kurz', error_bad_lines=False)"
   ]
  },
  {
   "cell_type": "code",
   "execution_count": 76,
   "metadata": {
    "scrolled": true
   },
   "outputs": [
    {
     "data": {
      "text/html": [
       "<div>\n",
       "<style scoped>\n",
       "    .dataframe tbody tr th:only-of-type {\n",
       "        vertical-align: middle;\n",
       "    }\n",
       "\n",
       "    .dataframe tbody tr th {\n",
       "        vertical-align: top;\n",
       "    }\n",
       "\n",
       "    .dataframe thead th {\n",
       "        text-align: right;\n",
       "    }\n",
       "</style>\n",
       "<table border=\"1\" class=\"dataframe\">\n",
       "  <thead>\n",
       "    <tr style=\"text-align: right;\">\n",
       "      <th></th>\n",
       "      <th>lang</th>\n",
       "    </tr>\n",
       "    <tr>\n",
       "      <th>kurz</th>\n",
       "      <th></th>\n",
       "    </tr>\n",
       "  </thead>\n",
       "  <tbody>\n",
       "    <tr>\n",
       "      <th>Auff</th>\n",
       "      <td>Aufforstung</td>\n",
       "    </tr>\n",
       "    <tr>\n",
       "      <th>bel</th>\n",
       "      <td>belassen</td>\n",
       "    </tr>\n",
       "    <tr>\n",
       "      <th>bes</th>\n",
       "      <td>besonders</td>\n",
       "    </tr>\n",
       "    <tr>\n",
       "      <th>Best</th>\n",
       "      <td>Bestockung</td>\n",
       "    </tr>\n",
       "    <tr>\n",
       "      <th>Bestrest</th>\n",
       "      <td>Bestandesrest</td>\n",
       "    </tr>\n",
       "    <tr>\n",
       "      <th>BZ</th>\n",
       "      <td>Bestockungsziel</td>\n",
       "    </tr>\n",
       "    <tr>\n",
       "      <th>Dez</th>\n",
       "      <td>Dezennium</td>\n",
       "    </tr>\n",
       "    <tr>\n",
       "      <th>dgl</th>\n",
       "      <td>dergleichen</td>\n",
       "    </tr>\n",
       "    <tr>\n",
       "      <th>dfstet</th>\n",
       "      <td>durchforstet</td>\n",
       "    </tr>\n",
       "    <tr>\n",
       "      <th>durchgef</th>\n",
       "      <td>durchgeführt</td>\n",
       "    </tr>\n",
       "    <tr>\n",
       "      <th>Dürr</th>\n",
       "      <td>Dürrlinge</td>\n",
       "    </tr>\n",
       "    <tr>\n",
       "      <th>E</th>\n",
       "      <td>Ergänzung</td>\n",
       "    </tr>\n",
       "    <tr>\n",
       "      <th>Erg</th>\n",
       "      <td>Ergänzung</td>\n",
       "    </tr>\n",
       "    <tr>\n",
       "      <th>eh</th>\n",
       "      <td>ehemalig</td>\n",
       "    </tr>\n",
       "    <tr>\n",
       "      <th>ehem</th>\n",
       "      <td>ehemalig</td>\n",
       "    </tr>\n",
       "    <tr>\n",
       "      <th>ein</th>\n",
       "      <td>einige</td>\n",
       "    </tr>\n",
       "    <tr>\n",
       "      <th>eiz</th>\n",
       "      <td>einzelne</td>\n",
       "    </tr>\n",
       "    <tr>\n",
       "      <th>einz</th>\n",
       "      <td>einzelne</td>\n",
       "    </tr>\n",
       "    <tr>\n",
       "      <th>etw</th>\n",
       "      <td>etwas</td>\n",
       "    </tr>\n",
       "    <tr>\n",
       "      <th>Exp</th>\n",
       "      <td>Exposition</td>\n",
       "    </tr>\n",
       "    <tr>\n",
       "      <th>Expos</th>\n",
       "      <td>Exposition</td>\n",
       "    </tr>\n",
       "    <tr>\n",
       "      <th>fels</th>\n",
       "      <td>felsig</td>\n",
       "    </tr>\n",
       "    <tr>\n",
       "      <th>f.u.f.</th>\n",
       "      <td>fördern und freistellen</td>\n",
       "    </tr>\n",
       "    <tr>\n",
       "      <th>gg</th>\n",
       "      <td>gegen</td>\n",
       "    </tr>\n",
       "    <tr>\n",
       "      <th>gr</th>\n",
       "      <td>groß</td>\n",
       "    </tr>\n",
       "    <tr>\n",
       "      <th>Grp</th>\n",
       "      <td>Gruppe</td>\n",
       "    </tr>\n",
       "    <tr>\n",
       "      <th>Grpe</th>\n",
       "      <td>Gruppe</td>\n",
       "    </tr>\n",
       "    <tr>\n",
       "      <th>grpw</th>\n",
       "      <td>gruppenweise</td>\n",
       "    </tr>\n",
       "    <tr>\n",
       "      <th>grtls</th>\n",
       "      <td>großteils</td>\n",
       "    </tr>\n",
       "    <tr>\n",
       "      <th>horstw</th>\n",
       "      <td>horstweise</td>\n",
       "    </tr>\n",
       "    <tr>\n",
       "      <th>...</th>\n",
       "      <td>...</td>\n",
       "    </tr>\n",
       "    <tr>\n",
       "      <th>strw</th>\n",
       "      <td>streifenweise</td>\n",
       "    </tr>\n",
       "    <tr>\n",
       "      <th>südl</th>\n",
       "      <td>südlich</td>\n",
       "    </tr>\n",
       "    <tr>\n",
       "      <th>Tl</th>\n",
       "      <td>Teil</td>\n",
       "    </tr>\n",
       "    <tr>\n",
       "      <th>tls</th>\n",
       "      <td>teils</td>\n",
       "    </tr>\n",
       "    <tr>\n",
       "      <th>tlw</th>\n",
       "      <td>teilweise</td>\n",
       "    </tr>\n",
       "    <tr>\n",
       "      <th>UEH</th>\n",
       "      <td>Überhälter</td>\n",
       "    </tr>\n",
       "    <tr>\n",
       "      <th>ÜH</th>\n",
       "      <td>Überhälter</td>\n",
       "    </tr>\n",
       "    <tr>\n",
       "      <th>UE</th>\n",
       "      <td>Überhälter</td>\n",
       "    </tr>\n",
       "    <tr>\n",
       "      <th>unglm</th>\n",
       "      <td>ungleichmäßig</td>\n",
       "    </tr>\n",
       "    <tr>\n",
       "      <th>unglalt</th>\n",
       "      <td>ungleichaltrig</td>\n",
       "    </tr>\n",
       "    <tr>\n",
       "      <th>unglaltrig</th>\n",
       "      <td>ungleichaltrig</td>\n",
       "    </tr>\n",
       "    <tr>\n",
       "      <th>verb</th>\n",
       "      <td>verbissen</td>\n",
       "    </tr>\n",
       "    <tr>\n",
       "      <th>v</th>\n",
       "      <td>vor</td>\n",
       "    </tr>\n",
       "    <tr>\n",
       "      <th>a</th>\n",
       "      <td>allem</td>\n",
       "    </tr>\n",
       "    <tr>\n",
       "      <th>vl</th>\n",
       "      <td>viel</td>\n",
       "    </tr>\n",
       "    <tr>\n",
       "      <th>Vjg</th>\n",
       "      <td>Verjüngung</td>\n",
       "    </tr>\n",
       "    <tr>\n",
       "      <th>vjgt</th>\n",
       "      <td>verjüngt</td>\n",
       "    </tr>\n",
       "    <tr>\n",
       "      <th>vmtl</th>\n",
       "      <td>vermutlich</td>\n",
       "    </tr>\n",
       "    <tr>\n",
       "      <th>vzt</th>\n",
       "      <td>vereinzelt</td>\n",
       "    </tr>\n",
       "    <tr>\n",
       "      <th>VTYP</th>\n",
       "      <td>Vegetationstyp</td>\n",
       "    </tr>\n",
       "    <tr>\n",
       "      <th>W</th>\n",
       "      <td>West</td>\n",
       "    </tr>\n",
       "    <tr>\n",
       "      <th>westl</th>\n",
       "      <td>westlich</td>\n",
       "    </tr>\n",
       "    <tr>\n",
       "      <th>wstl</th>\n",
       "      <td>wesentlich</td>\n",
       "    </tr>\n",
       "    <tr>\n",
       "      <th>wg</th>\n",
       "      <td>wegen</td>\n",
       "    </tr>\n",
       "    <tr>\n",
       "      <th>WW</th>\n",
       "      <td>Windwurf</td>\n",
       "    </tr>\n",
       "    <tr>\n",
       "      <th>zlr</th>\n",
       "      <td>zahlreich</td>\n",
       "    </tr>\n",
       "    <tr>\n",
       "      <th>zw</th>\n",
       "      <td>zwischen</td>\n",
       "    </tr>\n",
       "    <tr>\n",
       "      <th>Zwibest</th>\n",
       "      <td>Zwischenbestand</td>\n",
       "    </tr>\n",
       "    <tr>\n",
       "      <th>Zwibest-Rest</th>\n",
       "      <td>Zwischenbestandsrest</td>\n",
       "    </tr>\n",
       "    <tr>\n",
       "      <th>zwiständig</th>\n",
       "      <td>zwischenständig</td>\n",
       "    </tr>\n",
       "  </tbody>\n",
       "</table>\n",
       "<p>99 rows × 1 columns</p>\n",
       "</div>"
      ],
      "text/plain": [
       "                                 lang\n",
       "kurz                                 \n",
       "Auff                      Aufforstung\n",
       "bel                          belassen\n",
       "bes                         besonders\n",
       "Best                       Bestockung\n",
       "Bestrest                Bestandesrest\n",
       "BZ                    Bestockungsziel\n",
       "Dez                         Dezennium\n",
       "dgl                       dergleichen\n",
       "dfstet                   durchforstet\n",
       "durchgef                 durchgeführt\n",
       "Dürr                        Dürrlinge\n",
       "E                           Ergänzung\n",
       "Erg                         Ergänzung\n",
       "eh                           ehemalig\n",
       "ehem                         ehemalig\n",
       "ein                            einige\n",
       "eiz                          einzelne\n",
       "einz                         einzelne\n",
       "etw                             etwas\n",
       "Exp                        Exposition\n",
       "Expos                      Exposition\n",
       "fels                           felsig\n",
       "f.u.f.        fördern und freistellen\n",
       "gg                              gegen\n",
       "gr                              groß \n",
       "Grp                            Gruppe\n",
       "Grpe                           Gruppe\n",
       "grpw                     gruppenweise\n",
       "grtls                       großteils\n",
       "horstw                     horstweise\n",
       "...                               ...\n",
       "strw                    streifenweise\n",
       "südl                          südlich\n",
       "Tl                               Teil\n",
       "tls                             teils\n",
       "tlw                         teilweise\n",
       "UEH                        Überhälter\n",
       "ÜH                         Überhälter\n",
       "UE                         Überhälter\n",
       "unglm                   ungleichmäßig\n",
       "unglalt                ungleichaltrig\n",
       "unglaltrig             ungleichaltrig\n",
       "verb                        verbissen\n",
       "v                                 vor\n",
       "a                               allem\n",
       "vl                               viel\n",
       "Vjg                        Verjüngung\n",
       "vjgt                         verjüngt\n",
       "vmtl                       vermutlich\n",
       "vzt                        vereinzelt\n",
       "VTYP                   Vegetationstyp\n",
       "W                                West\n",
       "westl                        westlich\n",
       "wstl                       wesentlich\n",
       "wg                              wegen\n",
       "WW                           Windwurf\n",
       "zlr                         zahlreich\n",
       "zw                          zwischen \n",
       "Zwibest               Zwischenbestand\n",
       "Zwibest-Rest     Zwischenbestandsrest\n",
       "zwiständig            zwischenständig\n",
       "\n",
       "[99 rows x 1 columns]"
      ]
     },
     "execution_count": 76,
     "metadata": {},
     "output_type": "execute_result"
    }
   ],
   "source": [
    "data_dic"
   ]
  },
  {
   "cell_type": "code",
   "execution_count": 77,
   "metadata": {
    "scrolled": true
   },
   "outputs": [],
   "source": [
    "dic = data_dic.to_dict()"
   ]
  },
  {
   "cell_type": "code",
   "execution_count": 79,
   "metadata": {},
   "outputs": [],
   "source": [
    "dic = dic['lang']"
   ]
  },
  {
   "cell_type": "code",
   "execution_count": 80,
   "metadata": {},
   "outputs": [
    {
     "data": {
      "text/plain": [
       "'Dezennium'"
      ]
     },
     "execution_count": 80,
     "metadata": {},
     "output_type": "execute_result"
    }
   ],
   "source": [
    "dic['Dez']"
   ]
  },
  {
   "cell_type": "code",
   "execution_count": 73,
   "metadata": {},
   "outputs": [],
   "source": [
    "dic_ba_lh_nh = {\"AS\":\"LH\", \"AZ\":\"NH\", \"AH\":\"LH\", \"PM\":\"NH\", \"BI\":\"LH\", \"FB\":\"NH\", \"BL\":\"BL\", \"AC\":\"NH\", \"DG\":\"NH\", \"EE\":\"LH\", \"EK\":\"LH\", \"EB\":\"NH\", \"EI\":\"LH\", \"EL\":\"LH\", \"ES\":\"LH\", \"EA\":\"LH\", \"FA\":\"LH\", \"FI\":\"NH\", \"FE\":\"LH\", \"FZ\":\"NH\", \"GK\":\"NH\", \"GB\":\"LH\", \"WP\":\"LH\", \"GE\":\"LH\", \"AG\":\"NH\", \"AV\":\"LH\", \"HB\":\"LH\", \"HT\":\"NH\", \"HP\":\"LH\", \"JL\":\"NH\", \"CJ\":\"NH\", \"KK\":\"NH\", \"KB\":\"LH\", \"KO\":\"NH\", \"LA\":\"NH\", \"LI\":\"LH\", \"ME\":\"LH\", \"AN\":\"NH\", \"FO\":\"NH\", \"PO\":\"LH\", \"AB\":\"NH\", \"RO\":\"LH\", \"RK\":\"LH\", \"BU\":\"LH\", \"RE\":\"LH\", \"SW\":\"LH\", \"CH\":\"NH\", \"ER\":\"LH\", \"SK\":\"NH\", \"JN\":\"LH\", \"SP\":\"LH\", \"SF\":\"NH\", \"LS\":\"LH\", \"SL\":\"LH\", \"SN\":\"NH\", \"SG\":\"LH\", \"PU\":\"NH\", \"SA\":\"LH\", \"QR\":\"LH\", \"ST\":\"LH\", \"KW\":\"NH\", \"TH\":\"NH\", \"QP\":\"LH\", \"TK\":\"LH\", \"TB\":\"LH\", \"UL\":\"LH\", \"NU\":\"LH\", \"WD\":\"LH\", \"KI\":\"NH\", \"TA\":\"NH\", \"WO\":\"LH\", \"LW\":\"LH\", \"EZ\":\"LH\", \"ZI\":\"NH\"}"
   ]
  },
  {
   "cell_type": "code",
   "execution_count": 74,
   "metadata": {},
   "outputs": [
    {
     "name": "stdout",
     "output_type": "stream",
     "text": [
      "FI\n"
     ]
    }
   ],
   "source": [
    "if 'FI' in dic_ba_lh_nh:\n",
    "    print('FI')\n",
    "else:\n",
    "    print('non')"
   ]
  },
  {
   "cell_type": "code",
   "execution_count": 103,
   "metadata": {},
   "outputs": [
    {
     "data": {
      "text/plain": [
       "0                                                     NaN\n",
       "5       BE  VL LA; EIN ÄLTERE s starke TA-VORWÜCHSE; u...\n",
       "11                                ST  NO-Tl Bachböschung;\n",
       "17                                          BE  EIN ES ES\n",
       "22      BE  VL AH; EIN LA; IM S SK-ÜBERHÄLTER; DORT UN...\n",
       "26                            ST  Im SW Wildwiese geplant\n",
       "30      BE  EIN EI AH SK UL ES UND ABSTERBENDE TA; dur...\n",
       "37      BE  FI im Süden, LH verbissen, FI mit Leittrie...\n",
       "42      BE  VL KI; IM S MEHR LH UND MEHR LA;Nh überwie...\n",
       "46                               ST  Grabeneinhang, steil\n",
       "53                                                    NaN\n",
       "56                         ST  GEGEN S SCHLECHTER WERDEND\n",
       "61      BE   Ungleichaltrig, inhomogen, zahlreiche Vor...\n",
       "67                                                    NaN\n",
       "71                                       ST  IM O STOE 97\n",
       "77      BE  TA IM W-TL EHEM ZAUN; IM S UND O JGER; NH ...\n",
       "83           BE  VL LA HB; NÖRDL STEIN 115 ÄLTERER HORST;\n",
       "88                                   BE  EIN UL EI FI KB;\n",
       "93                                   ST Rücken bis Mulde,\n",
       "99      BE  TA IM W-TL EHEM ZAUN; IM S UND O JGER; NH ...\n",
       "105     BE  VL KI; HORSTWEISE GEMISCHT; IM SO ÄLTER UN...\n",
       "112                        BE  VL LA; NW-TL WESENTL JGER;\n",
       "117                                  ST  Unterhang und Au\n",
       "126                                    BE  Bestandesrest;\n",
       "132                    BE  EINZ EI ZE; ein stk EI und EZ;\n",
       "138         ST  IM O STOE 89; am Graben bes gute Bonität;\n",
       "143                                                   NaN\n",
       "149                                                   NaN\n",
       "155     BE  VL KI BI; EIN SK AH; UNTERHALB STR JÜNGER,...\n",
       "161                      BE  im Norden Elsbeere gepflanzt\n",
       "                              ...                        \n",
       "5270    BE  EIN HB FI LA KI; VORW EINZELMISCHUNG; TA V...\n",
       "5279                                                  NaN\n",
       "5285                               MA  BEI BED ERG MIT LA\n",
       "5289                                  MA  ZE-UEH BELASSEN\n",
       "5300    BE  VL EI KI; UNGLEICHALTRIG;Nh hpts horstweis...\n",
       "5309    BE NH bes im S und NO meist horstweise gemisch...\n",
       "5315                                 BE  NH MEHR IM W-TL;\n",
       "5321                                BE  IM MITTEL-TL JGER\n",
       "5326                                           BE  VL AH;\n",
       "5332                                                  NaN\n",
       "5336                 BE  IM O ÄLTERER BU-STREIFEN; EIN FI\n",
       "5345    BE  VL AH; S AN SCHNEISE 3 IM GRABEN ÄLTERER S...\n",
       "5351    BE  IM SW JGER; GROßTEILS BROMBEERE UND EIN LA...\n",
       "5356                               ST   im Westen STOE 76\n",
       "5362                                 BE  IM N JGER; VL HB\n",
       "5369                       BE  VL LA; NW-TL WESENTL JGER;\n",
       "5375    BE  VL KI; IM S MEHR LH UND MEHR LA;Nh überwie...\n",
       "5380       BE  erforderliche Dickungspflege durchgeführt;\n",
       "5383                              BE  La von Bu bedrängt;\n",
       "5388    BE  VL AH ES KIRSCHE; dicht gesetzte Kultur; H...\n",
       "5395    BE  VL HB; EI IM W UND S GEZÄUNT; IM S KI-UEH;...\n",
       "5406          ST  IN DER MITTE STOE 87; ÖRTL IN RUTSCHUNG\n",
       "5414                         BE  stk Standraumkonkurrenz;\n",
       "5419    ST  IM O UND IN DER MULDE STOE 88; Schwarzstor...\n",
       "5425                                     ST  IM N STOE 76\n",
       "5430                       ST  Schußschneise am AHZ-Rand;\n",
       "5434    BE  im N lückige Bu Hb-Nvjg und randlich Bu-Gr...\n",
       "5439    ST  S-Tl steil zur Ortschaft abfallend, Bannch...\n",
       "5445               BE  Dickung, tlw unregelm mit Protzen;\n",
       "5449    BE   Fi-Kultur mit LH  bis unregelm lückige Di...\n",
       "Name: Zeile1, Length: 831, dtype: object"
      ]
     },
     "execution_count": 103,
     "metadata": {},
     "output_type": "execute_result"
    }
   ],
   "source": [
    "data_text"
   ]
  },
  {
   "cell_type": "code",
   "execution_count": null,
   "metadata": {},
   "outputs": [],
   "source": []
  }
 ],
 "metadata": {
  "kernelspec": {
   "display_name": "Python 3",
   "language": "python",
   "name": "python3"
  },
  "language_info": {
   "codemirror_mode": {
    "name": "ipython",
    "version": 3
   },
   "file_extension": ".py",
   "mimetype": "text/x-python",
   "name": "python",
   "nbconvert_exporter": "python",
   "pygments_lexer": "ipython3",
   "version": "3.7.3"
  }
 },
 "nbformat": 4,
 "nbformat_minor": 2
}
