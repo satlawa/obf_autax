{
 "cells": [
  {
   "cell_type": "code",
   "execution_count": 1,
   "metadata": {},
   "outputs": [],
   "source": [
    "#\n",
    "# Forsteinrichtung\n",
    "#\n",
    "# change text: upper lower case, abbreviations, structure\n",
    "#"
   ]
  },
  {
   "cell_type": "code",
   "execution_count": 2,
   "metadata": {},
   "outputs": [],
   "source": [
    "import os\n",
    "import numpy as np\n",
    "import pandas as pd\n",
    "import math\n",
    "import re"
   ]
  },
  {
   "cell_type": "code",
   "execution_count": 6,
   "metadata": {},
   "outputs": [
    {
     "name": "stdout",
     "output_type": "stream",
     "text": [
      "/home/philipp/Code/python/obf_autax/text/roh_1353_08_20190409.XLS\n"
     ]
    },
    {
     "name": "stderr",
     "output_type": "stream",
     "text": [
      "/home/philipp/conda/envs/ml/lib/python3.7/site-packages/IPython/core/interactiveshell.py:3058: DtypeWarning: Columns (147) have mixed types. Specify dtype option on import or set low_memory=False.\n",
      "  interactivity=interactivity, compiler=compiler, result=result)\n"
     ]
    }
   ],
   "source": [
    "# roh data\n",
    "path_data = os.path.join(os.getcwd(),'roh_1353_08_20190409.XLS')\n",
    "print(path_data)\n",
    "data = pd.read_csv(path_data, sep='\\t', encoding = \"ISO-8859-1\", decimal=',', error_bad_lines=False)"
   ]
  },
  {
   "cell_type": "code",
   "execution_count": 7,
   "metadata": {},
   "outputs": [],
   "source": [
    "# dict Baumarten\n",
    "dic_ba_lh_nh = {\"AS\":\"LH\", \"AZ\":\"NH\", \"AH\":\"LH\", \"PM\":\"NH\", \"BI\":\"LH\", \"FB\":\"NH\", \"BL\":\"BL\", \"AC\":\"NH\", \"DG\":\"NH\", \n",
    "                \"EE\":\"LH\", \"EK\":\"LH\", \"EB\":\"NH\", \"EI\":\"LH\", \"EL\":\"LH\", \"ES\":\"LH\", \"EA\":\"LH\", \"FA\":\"LH\", \"FI\":\"NH\", \n",
    "                \"FE\":\"LH\", \"FZ\":\"NH\", \"GK\":\"NH\", \"GB\":\"LH\", \"WP\":\"LH\", \"GE\":\"LH\", \"AG\":\"NH\", \"AV\":\"LH\", \"HB\":\"LH\", \n",
    "                \"HT\":\"NH\", \"HP\":\"LH\", \"JL\":\"NH\", \"CJ\":\"NH\", \"KK\":\"NH\", \"KB\":\"LH\", \"KO\":\"NH\", \"LA\":\"NH\", \"LI\":\"LH\", \n",
    "                \"ME\":\"LH\", \"FO\":\"NH\", \"PO\":\"LH\", \"AB\":\"NH\", \"RO\":\"LH\", \"RK\":\"LH\", \"BU\":\"LH\", \"RE\":\"LH\", \n",
    "                \"CH\":\"NH\", \"ER\":\"LH\", \"SK\":\"NH\", \"JN\":\"LH\", \"SP\":\"LH\", \"SF\":\"NH\", \"LS\":\"LH\", \"SL\":\"LH\", \n",
    "                \"SN\":\"NH\", \"SG\":\"LH\", \"PU\":\"NH\", \"SA\":\"LH\", \"QR\":\"LH\", \"KW\":\"NH\", \"TH\":\"NH\", \"QP\":\"LH\",\n",
    "                \"TK\":\"LH\", \"TB\":\"LH\", \"UL\":\"LH\", \"NU\":\"LH\", \"WD\":\"LH\", \"KI\":\"NH\", \"TA\":\"NH\", \"WO\":\"LH\", \"LW\":\"LH\", \n",
    "                \"EZ\":\"LH\", \"ZI\":\"NH\"}"
   ]
  },
  {
   "cell_type": "code",
   "execution_count": 8,
   "metadata": {},
   "outputs": [],
   "source": [
    "# dict Baumarten\n",
    "dic_ba_small = {\"As\":\"AS\", \"Az\":\"AZ\", \"Ah\":\"AH\", \"Pm\":\"PM\", \"Bi\":\"BI\", \"Fb\":\"FB\", \"Bl\":\"BL\", \"Ac\":\"AC\", \"Dg\":\"DG\", \n",
    "                \"Ee\":\"EE\", \"Ek\":\"EK\", \"Eb\":\"EB\", \"Ei\":\"EI\", \"El\":\"EL\", \"Es\":\"ES\", \"Ea\":\"EA\", \"Fa\":\"FA\", \"Fi\":\"FI\", \n",
    "                \"Fe\":\"FE\", \"Fz\":\"FZ\", \"Gk\":\"GK\", \"Gb\":\"GB\", \"Wp\":\"WP\", \"Ge\":\"GE\", \"Ag\":\"AG\", \"Av\":\"AV\", \"Hb\":\"HB\", \n",
    "                \"Ht\":\"HT\", \"Hp\":\"HP\", \"Jl\":\"JL\", \"Cj\":\"CJ\", \"Kk\":\"KK\", \"Kb\":\"KB\", \"Ko\":\"KO\", \"La\":\"LA\", \"Li\":\"LI\", \n",
    "                \"Me\":\"ME\", \"Fo\":\"FO\", \"Po\":\"PO\", \"Ab\":\"AB\", \"Ro\":\"RO\", \"Rk\":\"RK\", \"Bu\":\"BU\", \"Re\":\"RE\", \n",
    "                \"Ch\":\"CH\", \"Er\":\"ER\", \"Sk\":\"SK\", \"Jn\":\"JN\", \"Sp\":\"SP\", \"Sf\":\"SF\", \"Ls\":\"LS\", \"Sl\":\"SL\", \n",
    "                \"Sn\":\"SN\", \"Sg\":\"SG\", \"Pu\":\"PU\", \"Sa\":\"SA\", \"Qr\":\"QR\", \"Kw\":\"KW\", \"Th\":\"TH\", \"Qp\":\"QP\", \"Ez\":\"EZ\",\n",
    "                \"Tk\":\"TK\", \"Tb\":\"TB\", \"Ul\":\"UL\", \"Nu\":\"NU\", \"Wd\":\"WD\", \"Ki\":\"KI\", \"Ta\":\"TA\", \"Lw\":\"LW\", \"Zi\":\"ZI\"}"
   ]
  },
  {
   "cell_type": "code",
   "execution_count": 9,
   "metadata": {},
   "outputs": [],
   "source": [
    "# dict Teile\n",
    "dic_teile = {'Norden Teil':'Nord-Teil', 'Nordosten Teil':'Nordost-Teil', 'Osten Teil':'Ost-Teil', \n",
    "             'Südosten Teil':'Südost-Teil', 'Süden Teil':'Süd-Teil', 'Südwesten Teil':'Südwest-Teil', \n",
    "             'Westen Teil':'West-Teil', 'Nordwesten Teil':'Nordwest-Teil'}"
   ]
  },
  {
   "cell_type": "code",
   "execution_count": 10,
   "metadata": {},
   "outputs": [
    {
     "ename": "ImportError",
     "evalue": "Missing optional dependency 'xlrd'. Install xlrd >= 1.0.0 for Excel support Use pip or conda to install xlrd.",
     "output_type": "error",
     "traceback": [
      "\u001b[0;31m---------------------------------------------------------------------------\u001b[0m",
      "\u001b[0;31mImportError\u001b[0m                               Traceback (most recent call last)",
      "\u001b[0;32m<ipython-input-10-8f92c3519d20>\u001b[0m in \u001b[0;36m<module>\u001b[0;34m\u001b[0m\n\u001b[1;32m      1\u001b[0m \u001b[0;31m# dict Abkürzungen\u001b[0m\u001b[0;34m\u001b[0m\u001b[0;34m\u001b[0m\u001b[0;34m\u001b[0m\u001b[0m\n\u001b[1;32m      2\u001b[0m \u001b[0mpath_data\u001b[0m \u001b[0;34m=\u001b[0m \u001b[0mos\u001b[0m\u001b[0;34m.\u001b[0m\u001b[0mpath\u001b[0m\u001b[0;34m.\u001b[0m\u001b[0mjoin\u001b[0m\u001b[0;34m(\u001b[0m\u001b[0mos\u001b[0m\u001b[0;34m.\u001b[0m\u001b[0mgetcwd\u001b[0m\u001b[0;34m(\u001b[0m\u001b[0;34m)\u001b[0m\u001b[0;34m,\u001b[0m\u001b[0;34m'data'\u001b[0m\u001b[0;34m,\u001b[0m \u001b[0;34m'Textkuerzel_Manuale_small.xls'\u001b[0m\u001b[0;34m)\u001b[0m\u001b[0;34m\u001b[0m\u001b[0;34m\u001b[0m\u001b[0m\n\u001b[0;32m----> 3\u001b[0;31m \u001b[0mdata_dic\u001b[0m \u001b[0;34m=\u001b[0m \u001b[0mpd\u001b[0m\u001b[0;34m.\u001b[0m\u001b[0mread_excel\u001b[0m\u001b[0;34m(\u001b[0m\u001b[0mpath_data\u001b[0m\u001b[0;34m,\u001b[0m \u001b[0mindex_col\u001b[0m\u001b[0;34m=\u001b[0m\u001b[0;34m'kurz'\u001b[0m\u001b[0;34m,\u001b[0m \u001b[0merror_bad_lines\u001b[0m\u001b[0;34m=\u001b[0m\u001b[0;32mFalse\u001b[0m\u001b[0;34m)\u001b[0m\u001b[0;34m\u001b[0m\u001b[0;34m\u001b[0m\u001b[0m\n\u001b[0m\u001b[1;32m      4\u001b[0m \u001b[0;34m\u001b[0m\u001b[0m\n\u001b[1;32m      5\u001b[0m \u001b[0mdic_abk\u001b[0m \u001b[0;34m=\u001b[0m \u001b[0mdata_dic\u001b[0m\u001b[0;34m.\u001b[0m\u001b[0mto_dict\u001b[0m\u001b[0;34m(\u001b[0m\u001b[0;34m)\u001b[0m\u001b[0;34m\u001b[0m\u001b[0;34m\u001b[0m\u001b[0m\n",
      "\u001b[0;32m~/conda/envs/ml/lib/python3.7/site-packages/pandas/util/_decorators.py\u001b[0m in \u001b[0;36mwrapper\u001b[0;34m(*args, **kwargs)\u001b[0m\n\u001b[1;32m    206\u001b[0m                 \u001b[0;32melse\u001b[0m\u001b[0;34m:\u001b[0m\u001b[0;34m\u001b[0m\u001b[0;34m\u001b[0m\u001b[0m\n\u001b[1;32m    207\u001b[0m                     \u001b[0mkwargs\u001b[0m\u001b[0;34m[\u001b[0m\u001b[0mnew_arg_name\u001b[0m\u001b[0;34m]\u001b[0m \u001b[0;34m=\u001b[0m \u001b[0mnew_arg_value\u001b[0m\u001b[0;34m\u001b[0m\u001b[0;34m\u001b[0m\u001b[0m\n\u001b[0;32m--> 208\u001b[0;31m             \u001b[0;32mreturn\u001b[0m \u001b[0mfunc\u001b[0m\u001b[0;34m(\u001b[0m\u001b[0;34m*\u001b[0m\u001b[0margs\u001b[0m\u001b[0;34m,\u001b[0m \u001b[0;34m**\u001b[0m\u001b[0mkwargs\u001b[0m\u001b[0;34m)\u001b[0m\u001b[0;34m\u001b[0m\u001b[0;34m\u001b[0m\u001b[0m\n\u001b[0m\u001b[1;32m    209\u001b[0m \u001b[0;34m\u001b[0m\u001b[0m\n\u001b[1;32m    210\u001b[0m         \u001b[0;32mreturn\u001b[0m \u001b[0mwrapper\u001b[0m\u001b[0;34m\u001b[0m\u001b[0;34m\u001b[0m\u001b[0m\n",
      "\u001b[0;32m~/conda/envs/ml/lib/python3.7/site-packages/pandas/io/excel/_base.py\u001b[0m in \u001b[0;36mread_excel\u001b[0;34m(io, sheet_name, header, names, index_col, usecols, squeeze, dtype, engine, converters, true_values, false_values, skiprows, nrows, na_values, keep_default_na, verbose, parse_dates, date_parser, thousands, comment, skip_footer, skipfooter, convert_float, mangle_dupe_cols, **kwds)\u001b[0m\n\u001b[1;32m    308\u001b[0m \u001b[0;34m\u001b[0m\u001b[0m\n\u001b[1;32m    309\u001b[0m     \u001b[0;32mif\u001b[0m \u001b[0;32mnot\u001b[0m \u001b[0misinstance\u001b[0m\u001b[0;34m(\u001b[0m\u001b[0mio\u001b[0m\u001b[0;34m,\u001b[0m \u001b[0mExcelFile\u001b[0m\u001b[0;34m)\u001b[0m\u001b[0;34m:\u001b[0m\u001b[0;34m\u001b[0m\u001b[0;34m\u001b[0m\u001b[0m\n\u001b[0;32m--> 310\u001b[0;31m         \u001b[0mio\u001b[0m \u001b[0;34m=\u001b[0m \u001b[0mExcelFile\u001b[0m\u001b[0;34m(\u001b[0m\u001b[0mio\u001b[0m\u001b[0;34m,\u001b[0m \u001b[0mengine\u001b[0m\u001b[0;34m=\u001b[0m\u001b[0mengine\u001b[0m\u001b[0;34m)\u001b[0m\u001b[0;34m\u001b[0m\u001b[0;34m\u001b[0m\u001b[0m\n\u001b[0m\u001b[1;32m    311\u001b[0m     \u001b[0;32melif\u001b[0m \u001b[0mengine\u001b[0m \u001b[0;32mand\u001b[0m \u001b[0mengine\u001b[0m \u001b[0;34m!=\u001b[0m \u001b[0mio\u001b[0m\u001b[0;34m.\u001b[0m\u001b[0mengine\u001b[0m\u001b[0;34m:\u001b[0m\u001b[0;34m\u001b[0m\u001b[0;34m\u001b[0m\u001b[0m\n\u001b[1;32m    312\u001b[0m         raise ValueError(\n",
      "\u001b[0;32m~/conda/envs/ml/lib/python3.7/site-packages/pandas/io/excel/_base.py\u001b[0m in \u001b[0;36m__init__\u001b[0;34m(self, io, engine)\u001b[0m\n\u001b[1;32m    817\u001b[0m         \u001b[0mself\u001b[0m\u001b[0;34m.\u001b[0m\u001b[0m_io\u001b[0m \u001b[0;34m=\u001b[0m \u001b[0m_stringify_path\u001b[0m\u001b[0;34m(\u001b[0m\u001b[0mio\u001b[0m\u001b[0;34m)\u001b[0m\u001b[0;34m\u001b[0m\u001b[0;34m\u001b[0m\u001b[0m\n\u001b[1;32m    818\u001b[0m \u001b[0;34m\u001b[0m\u001b[0m\n\u001b[0;32m--> 819\u001b[0;31m         \u001b[0mself\u001b[0m\u001b[0;34m.\u001b[0m\u001b[0m_reader\u001b[0m \u001b[0;34m=\u001b[0m \u001b[0mself\u001b[0m\u001b[0;34m.\u001b[0m\u001b[0m_engines\u001b[0m\u001b[0;34m[\u001b[0m\u001b[0mengine\u001b[0m\u001b[0;34m]\u001b[0m\u001b[0;34m(\u001b[0m\u001b[0mself\u001b[0m\u001b[0;34m.\u001b[0m\u001b[0m_io\u001b[0m\u001b[0;34m)\u001b[0m\u001b[0;34m\u001b[0m\u001b[0;34m\u001b[0m\u001b[0m\n\u001b[0m\u001b[1;32m    820\u001b[0m \u001b[0;34m\u001b[0m\u001b[0m\n\u001b[1;32m    821\u001b[0m     \u001b[0;32mdef\u001b[0m \u001b[0m__fspath__\u001b[0m\u001b[0;34m(\u001b[0m\u001b[0mself\u001b[0m\u001b[0;34m)\u001b[0m\u001b[0;34m:\u001b[0m\u001b[0;34m\u001b[0m\u001b[0;34m\u001b[0m\u001b[0m\n",
      "\u001b[0;32m~/conda/envs/ml/lib/python3.7/site-packages/pandas/io/excel/_xlrd.py\u001b[0m in \u001b[0;36m__init__\u001b[0;34m(self, filepath_or_buffer)\u001b[0m\n\u001b[1;32m     18\u001b[0m         \"\"\"\n\u001b[1;32m     19\u001b[0m         \u001b[0merr_msg\u001b[0m \u001b[0;34m=\u001b[0m \u001b[0;34m\"Install xlrd >= 1.0.0 for Excel support\"\u001b[0m\u001b[0;34m\u001b[0m\u001b[0;34m\u001b[0m\u001b[0m\n\u001b[0;32m---> 20\u001b[0;31m         \u001b[0mimport_optional_dependency\u001b[0m\u001b[0;34m(\u001b[0m\u001b[0;34m\"xlrd\"\u001b[0m\u001b[0;34m,\u001b[0m \u001b[0mextra\u001b[0m\u001b[0;34m=\u001b[0m\u001b[0merr_msg\u001b[0m\u001b[0;34m)\u001b[0m\u001b[0;34m\u001b[0m\u001b[0;34m\u001b[0m\u001b[0m\n\u001b[0m\u001b[1;32m     21\u001b[0m         \u001b[0msuper\u001b[0m\u001b[0;34m(\u001b[0m\u001b[0;34m)\u001b[0m\u001b[0;34m.\u001b[0m\u001b[0m__init__\u001b[0m\u001b[0;34m(\u001b[0m\u001b[0mfilepath_or_buffer\u001b[0m\u001b[0;34m)\u001b[0m\u001b[0;34m\u001b[0m\u001b[0;34m\u001b[0m\u001b[0m\n\u001b[1;32m     22\u001b[0m \u001b[0;34m\u001b[0m\u001b[0m\n",
      "\u001b[0;32m~/conda/envs/ml/lib/python3.7/site-packages/pandas/compat/_optional.py\u001b[0m in \u001b[0;36mimport_optional_dependency\u001b[0;34m(name, extra, raise_on_missing, on_version)\u001b[0m\n\u001b[1;32m     91\u001b[0m     \u001b[0;32mexcept\u001b[0m \u001b[0mImportError\u001b[0m\u001b[0;34m:\u001b[0m\u001b[0;34m\u001b[0m\u001b[0;34m\u001b[0m\u001b[0m\n\u001b[1;32m     92\u001b[0m         \u001b[0;32mif\u001b[0m \u001b[0mraise_on_missing\u001b[0m\u001b[0;34m:\u001b[0m\u001b[0;34m\u001b[0m\u001b[0;34m\u001b[0m\u001b[0m\n\u001b[0;32m---> 93\u001b[0;31m             \u001b[0;32mraise\u001b[0m \u001b[0mImportError\u001b[0m\u001b[0;34m(\u001b[0m\u001b[0mmessage\u001b[0m\u001b[0;34m.\u001b[0m\u001b[0mformat\u001b[0m\u001b[0;34m(\u001b[0m\u001b[0mname\u001b[0m\u001b[0;34m=\u001b[0m\u001b[0mname\u001b[0m\u001b[0;34m,\u001b[0m \u001b[0mextra\u001b[0m\u001b[0;34m=\u001b[0m\u001b[0mextra\u001b[0m\u001b[0;34m)\u001b[0m\u001b[0;34m)\u001b[0m \u001b[0;32mfrom\u001b[0m \u001b[0;32mNone\u001b[0m\u001b[0;34m\u001b[0m\u001b[0;34m\u001b[0m\u001b[0m\n\u001b[0m\u001b[1;32m     94\u001b[0m         \u001b[0;32melse\u001b[0m\u001b[0;34m:\u001b[0m\u001b[0;34m\u001b[0m\u001b[0;34m\u001b[0m\u001b[0m\n\u001b[1;32m     95\u001b[0m             \u001b[0;32mreturn\u001b[0m \u001b[0;32mNone\u001b[0m\u001b[0;34m\u001b[0m\u001b[0;34m\u001b[0m\u001b[0m\n",
      "\u001b[0;31mImportError\u001b[0m: Missing optional dependency 'xlrd'. Install xlrd >= 1.0.0 for Excel support Use pip or conda to install xlrd."
     ]
    }
   ],
   "source": [
    "# dict Abkürzungen\n",
    "path_data = os.path.join(os.getcwd(),'data', 'Textkuerzel_Manuale_small.xls')\n",
    "data_dic = pd.read_excel(path_data, index_col='kurz', error_bad_lines=False)\n",
    "\n",
    "dic_abk = data_dic.to_dict()\n",
    "dic_abk = dic_abk['lang']"
   ]
  },
  {
   "cell_type": "code",
   "execution_count": 8,
   "metadata": {},
   "outputs": [],
   "source": [
    "data.drop(data[data['Debitor']!=220442].index, axis=0, inplace=True)\n",
    "data.drop(data[data['WE-Typ']=='NG'].index, axis=0, inplace=True)"
   ]
  },
  {
   "cell_type": "code",
   "execution_count": 9,
   "metadata": {},
   "outputs": [],
   "source": [
    "data = data[data['Best.-Schicht']==0]"
   ]
  },
  {
   "cell_type": "code",
   "execution_count": 10,
   "metadata": {},
   "outputs": [],
   "source": [
    "data_text = data[['Zeile1', 'Zeile2', 'Zeile3', 'Zeile4', 'Zeile5', 'Zeile6']]"
   ]
  },
  {
   "cell_type": "code",
   "execution_count": 11,
   "metadata": {},
   "outputs": [
    {
     "data": {
      "text/html": [
       "<div>\n",
       "<style scoped>\n",
       "    .dataframe tbody tr th:only-of-type {\n",
       "        vertical-align: middle;\n",
       "    }\n",
       "\n",
       "    .dataframe tbody tr th {\n",
       "        vertical-align: top;\n",
       "    }\n",
       "\n",
       "    .dataframe thead th {\n",
       "        text-align: right;\n",
       "    }\n",
       "</style>\n",
       "<table border=\"1\" class=\"dataframe\">\n",
       "  <thead>\n",
       "    <tr style=\"text-align: right;\">\n",
       "      <th></th>\n",
       "      <th>Zeile1</th>\n",
       "      <th>Zeile2</th>\n",
       "      <th>Zeile3</th>\n",
       "      <th>Zeile4</th>\n",
       "      <th>Zeile5</th>\n",
       "      <th>Zeile6</th>\n",
       "    </tr>\n",
       "  </thead>\n",
       "  <tbody>\n",
       "    <tr>\n",
       "      <th>0</th>\n",
       "      <td>NaN</td>\n",
       "      <td>NaN</td>\n",
       "      <td>NaN</td>\n",
       "      <td>NaN</td>\n",
       "      <td>NaN</td>\n",
       "      <td>NaN</td>\n",
       "    </tr>\n",
       "    <tr>\n",
       "      <th>5</th>\n",
       "      <td>BE  VL LA; EIN ÄLTERE s starke TA-VORWÜCHSE; u...</td>\n",
       "      <td>schlechteSchaft-       qualität; dicht; vl HB,</td>\n",
       "      <td>NaN</td>\n",
       "      <td>NaN</td>\n",
       "      <td>NaN</td>\n",
       "      <td>NaN</td>\n",
       "    </tr>\n",
       "    <tr>\n",
       "      <th>11</th>\n",
       "      <td>ST  NO-Tl Bachböschung;</td>\n",
       "      <td>BE   W-TL älter, hpts Bu-Dickung, am Bach Es-H...</td>\n",
       "      <td>Ta-Vorwüchse;SO-Tl reich         gemischte un...</td>\n",
       "      <td>Es m vlWaldrebe, Bu-Dickg im W;</td>\n",
       "      <td>NaN</td>\n",
       "      <td>NaN</td>\n",
       "    </tr>\n",
       "    <tr>\n",
       "      <th>17</th>\n",
       "      <td>BE  EIN ES ES</td>\n",
       "      <td>NaN</td>\n",
       "      <td>NaN</td>\n",
       "      <td>NaN</td>\n",
       "      <td>NaN</td>\n",
       "      <td>NaN</td>\n",
       "    </tr>\n",
       "    <tr>\n",
       "      <th>22</th>\n",
       "      <td>BE  VL AH; EIN LA; IM S SK-ÜBERHÄLTER; DORT UN...</td>\n",
       "      <td>im O ca. 0,5 ha bereits durchforstet;</td>\n",
       "      <td>NaN</td>\n",
       "      <td>NaN</td>\n",
       "      <td>NaN</td>\n",
       "      <td>NaN</td>\n",
       "    </tr>\n",
       "    <tr>\n",
       "      <th>26</th>\n",
       "      <td>ST  Im SW Wildwiese geplant</td>\n",
       "      <td>BE  ein Windlücken</td>\n",
       "      <td>NaN</td>\n",
       "      <td>NaN</td>\n",
       "      <td>NaN</td>\n",
       "      <td>NaN</td>\n",
       "    </tr>\n",
       "    <tr>\n",
       "      <th>30</th>\n",
       "      <td>BE  EIN EI AH SK UL ES UND ABSTERBENDE TA; dur...</td>\n",
       "      <td>NaN</td>\n",
       "      <td>NaN</td>\n",
       "      <td>NaN</td>\n",
       "      <td>NaN</td>\n",
       "      <td>NaN</td>\n",
       "    </tr>\n",
       "    <tr>\n",
       "      <th>37</th>\n",
       "      <td>BE  FI im Süden, LH verbissen, FI mit Leittrie...</td>\n",
       "      <td>Brombeere</td>\n",
       "      <td>NaN</td>\n",
       "      <td>NaN</td>\n",
       "      <td>NaN</td>\n",
       "      <td>NaN</td>\n",
       "    </tr>\n",
       "    <tr>\n",
       "      <th>42</th>\n",
       "      <td>BE  VL KI; IM S MEHR LH UND MEHR LA;Nh überwie...</td>\n",
       "      <td>horstweisebeigemischt;         AUCH PICEA pun...</td>\n",
       "      <td>NaN</td>\n",
       "      <td>NaN</td>\n",
       "      <td>NaN</td>\n",
       "      <td>NaN</td>\n",
       "    </tr>\n",
       "    <tr>\n",
       "      <th>46</th>\n",
       "      <td>ST  Grabeneinhang, steil</td>\n",
       "      <td>NaN</td>\n",
       "      <td>NaN</td>\n",
       "      <td>NaN</td>\n",
       "      <td>NaN</td>\n",
       "      <td>NaN</td>\n",
       "    </tr>\n",
       "    <tr>\n",
       "      <th>53</th>\n",
       "      <td>NaN</td>\n",
       "      <td>NaN</td>\n",
       "      <td>NaN</td>\n",
       "      <td>NaN</td>\n",
       "      <td>NaN</td>\n",
       "      <td>NaN</td>\n",
       "    </tr>\n",
       "    <tr>\n",
       "      <th>56</th>\n",
       "      <td>ST  GEGEN S SCHLECHTER WERDEND</td>\n",
       "      <td>BE  EIN AH KB MB LA; AUS RM 1988-1995; IN MITT...</td>\n",
       "      <td>gleichmäßigeDickung; ein La, Ki, Liegendes To...</td>\n",
       "      <td>NaN</td>\n",
       "      <td>NaN</td>\n",
       "      <td>NaN</td>\n",
       "    </tr>\n",
       "    <tr>\n",
       "      <th>61</th>\n",
       "      <td>BE   Ungleichaltrig, inhomogen, zahlreiche Vor...</td>\n",
       "      <td>NaN</td>\n",
       "      <td>NaN</td>\n",
       "      <td>NaN</td>\n",
       "      <td>NaN</td>\n",
       "      <td>NaN</td>\n",
       "    </tr>\n",
       "    <tr>\n",
       "      <th>67</th>\n",
       "      <td>NaN</td>\n",
       "      <td>NaN</td>\n",
       "      <td>NaN</td>\n",
       "      <td>NaN</td>\n",
       "      <td>NaN</td>\n",
       "      <td>NaN</td>\n",
       "    </tr>\n",
       "    <tr>\n",
       "      <th>71</th>\n",
       "      <td>ST  IM O STOE 97</td>\n",
       "      <td>BE  IM NO ÄLTERE FI-GRUPPEN; IM O AM UNTERHANG...</td>\n",
       "      <td>NaN</td>\n",
       "      <td>NaN</td>\n",
       "      <td>NaN</td>\n",
       "      <td>NaN</td>\n",
       "    </tr>\n",
       "    <tr>\n",
       "      <th>77</th>\n",
       "      <td>BE  TA IM W-TL EHEM ZAUN; IM S UND O JGER; NH ...</td>\n",
       "      <td>inEinzelmiwschung unter        Druck; Fi-Hors...</td>\n",
       "      <td>NaN</td>\n",
       "      <td>NaN</td>\n",
       "      <td>NaN</td>\n",
       "      <td>NaN</td>\n",
       "    </tr>\n",
       "    <tr>\n",
       "      <th>83</th>\n",
       "      <td>BE  VL LA HB; NÖRDL STEIN 115 ÄLTERER HORST;</td>\n",
       "      <td>NaN</td>\n",
       "      <td>NaN</td>\n",
       "      <td>NaN</td>\n",
       "      <td>NaN</td>\n",
       "      <td>NaN</td>\n",
       "    </tr>\n",
       "    <tr>\n",
       "      <th>88</th>\n",
       "      <td>BE  EIN UL EI FI KB;</td>\n",
       "      <td>NaN</td>\n",
       "      <td>NaN</td>\n",
       "      <td>NaN</td>\n",
       "      <td>NaN</td>\n",
       "      <td>NaN</td>\n",
       "    </tr>\n",
       "    <tr>\n",
       "      <th>93</th>\n",
       "      <td>ST Rücken bis Mulde,</td>\n",
       "      <td>BE La kultiviert, ca. 20 % Ausfall, Verbissbel...</td>\n",
       "      <td>Fegestabgeschützt; LH aus Nvjg;</td>\n",
       "      <td>MA BZ 6-8 La 2-4 Bu; Es reduzieren;</td>\n",
       "      <td>NaN</td>\n",
       "      <td>NaN</td>\n",
       "    </tr>\n",
       "    <tr>\n",
       "      <th>99</th>\n",
       "      <td>BE  TA IM W-TL EHEM ZAUN; IM S UND O JGER; NH ...</td>\n",
       "      <td>inEinzelmiwschung unter        Druck; Fi-Hors...</td>\n",
       "      <td>NaN</td>\n",
       "      <td>NaN</td>\n",
       "      <td>NaN</td>\n",
       "      <td>NaN</td>\n",
       "    </tr>\n",
       "    <tr>\n",
       "      <th>105</th>\n",
       "      <td>BE  VL KI; HORSTWEISE GEMISCHT; IM SO ÄLTER UN...</td>\n",
       "      <td>STREINE LH; IM S       JGERE FI-GRUPPE; schlec...</td>\n",
       "      <td>NaN</td>\n",
       "      <td>NaN</td>\n",
       "      <td>NaN</td>\n",
       "      <td>NaN</td>\n",
       "    </tr>\n",
       "    <tr>\n",
       "      <th>112</th>\n",
       "      <td>BE  VL LA; NW-TL WESENTL JGER;</td>\n",
       "      <td>NaN</td>\n",
       "      <td>NaN</td>\n",
       "      <td>NaN</td>\n",
       "      <td>NaN</td>\n",
       "      <td>NaN</td>\n",
       "    </tr>\n",
       "    <tr>\n",
       "      <th>117</th>\n",
       "      <td>ST  Unterhang und Au</td>\n",
       "      <td>BE  Fi-Stangenholz, dicht,</td>\n",
       "      <td>NaN</td>\n",
       "      <td>NaN</td>\n",
       "      <td>NaN</td>\n",
       "      <td>NaN</td>\n",
       "    </tr>\n",
       "    <tr>\n",
       "      <th>126</th>\n",
       "      <td>BE  Bestandesrest;</td>\n",
       "      <td>NaN</td>\n",
       "      <td>NaN</td>\n",
       "      <td>NaN</td>\n",
       "      <td>NaN</td>\n",
       "      <td>NaN</td>\n",
       "    </tr>\n",
       "    <tr>\n",
       "      <th>132</th>\n",
       "      <td>BE  EINZ EI ZE; ein stk EI und EZ;</td>\n",
       "      <td>NaN</td>\n",
       "      <td>NaN</td>\n",
       "      <td>NaN</td>\n",
       "      <td>NaN</td>\n",
       "      <td>NaN</td>\n",
       "    </tr>\n",
       "    <tr>\n",
       "      <th>138</th>\n",
       "      <td>ST  IM O STOE 89; am Graben bes gute Bonität;</td>\n",
       "      <td>BE  VL ES HB; EIN BI UL; SEHR UNGLEICH; unrege...</td>\n",
       "      <td>schlechteSchaftformen;        1991 GROSSTEILS...</td>\n",
       "      <td>NaN</td>\n",
       "      <td>NaN</td>\n",
       "      <td>NaN</td>\n",
       "    </tr>\n",
       "    <tr>\n",
       "      <th>143</th>\n",
       "      <td>NaN</td>\n",
       "      <td>NaN</td>\n",
       "      <td>NaN</td>\n",
       "      <td>NaN</td>\n",
       "      <td>NaN</td>\n",
       "      <td>NaN</td>\n",
       "    </tr>\n",
       "    <tr>\n",
       "      <th>149</th>\n",
       "      <td>NaN</td>\n",
       "      <td>NaN</td>\n",
       "      <td>NaN</td>\n",
       "      <td>NaN</td>\n",
       "      <td>NaN</td>\n",
       "      <td>NaN</td>\n",
       "    </tr>\n",
       "    <tr>\n",
       "      <th>155</th>\n",
       "      <td>BE  VL KI BI; EIN SK AH; UNTERHALB STR JÜNGER,...</td>\n",
       "      <td>dienender Bu;</td>\n",
       "      <td>NaN</td>\n",
       "      <td>NaN</td>\n",
       "      <td>NaN</td>\n",
       "      <td>NaN</td>\n",
       "    </tr>\n",
       "    <tr>\n",
       "      <th>161</th>\n",
       "      <td>BE  im Norden Elsbeere gepflanzt</td>\n",
       "      <td>NaN</td>\n",
       "      <td>NaN</td>\n",
       "      <td>NaN</td>\n",
       "      <td>NaN</td>\n",
       "      <td>NaN</td>\n",
       "    </tr>\n",
       "    <tr>\n",
       "      <th>...</th>\n",
       "      <td>...</td>\n",
       "      <td>...</td>\n",
       "      <td>...</td>\n",
       "      <td>...</td>\n",
       "      <td>...</td>\n",
       "      <td>...</td>\n",
       "    </tr>\n",
       "    <tr>\n",
       "      <th>5270</th>\n",
       "      <td>BE  EIN HB FI LA KI; VORW EINZELMISCHUNG; TA V...</td>\n",
       "      <td>nebenälteren       Gruppen örtlich beginnende...</td>\n",
       "      <td>NaN</td>\n",
       "      <td>NaN</td>\n",
       "      <td>NaN</td>\n",
       "      <td>NaN</td>\n",
       "    </tr>\n",
       "    <tr>\n",
       "      <th>5279</th>\n",
       "      <td>NaN</td>\n",
       "      <td>NaN</td>\n",
       "      <td>NaN</td>\n",
       "      <td>NaN</td>\n",
       "      <td>NaN</td>\n",
       "      <td>NaN</td>\n",
       "    </tr>\n",
       "    <tr>\n",
       "      <th>5285</th>\n",
       "      <td>MA  BEI BED ERG MIT LA</td>\n",
       "      <td>NaN</td>\n",
       "      <td>NaN</td>\n",
       "      <td>NaN</td>\n",
       "      <td>NaN</td>\n",
       "      <td>NaN</td>\n",
       "    </tr>\n",
       "    <tr>\n",
       "      <th>5289</th>\n",
       "      <td>MA  ZE-UEH BELASSEN</td>\n",
       "      <td>NaN</td>\n",
       "      <td>NaN</td>\n",
       "      <td>NaN</td>\n",
       "      <td>NaN</td>\n",
       "      <td>NaN</td>\n",
       "    </tr>\n",
       "    <tr>\n",
       "      <th>5300</th>\n",
       "      <td>BE  VL EI KI; UNGLEICHALTRIG;Nh hpts horstweis...</td>\n",
       "      <td>NaN</td>\n",
       "      <td>NaN</td>\n",
       "      <td>NaN</td>\n",
       "      <td>NaN</td>\n",
       "      <td>NaN</td>\n",
       "    </tr>\n",
       "    <tr>\n",
       "      <th>5309</th>\n",
       "      <td>BE NH bes im S und NO meist horstweise gemisch...</td>\n",
       "      <td>NaN</td>\n",
       "      <td>NaN</td>\n",
       "      <td>NaN</td>\n",
       "      <td>NaN</td>\n",
       "      <td>NaN</td>\n",
       "    </tr>\n",
       "    <tr>\n",
       "      <th>5315</th>\n",
       "      <td>BE  NH MEHR IM W-TL;</td>\n",
       "      <td>NaN</td>\n",
       "      <td>NaN</td>\n",
       "      <td>NaN</td>\n",
       "      <td>NaN</td>\n",
       "      <td>NaN</td>\n",
       "    </tr>\n",
       "    <tr>\n",
       "      <th>5321</th>\n",
       "      <td>BE  IM MITTEL-TL JGER</td>\n",
       "      <td>NaN</td>\n",
       "      <td>NaN</td>\n",
       "      <td>NaN</td>\n",
       "      <td>NaN</td>\n",
       "      <td>NaN</td>\n",
       "    </tr>\n",
       "    <tr>\n",
       "      <th>5326</th>\n",
       "      <td>BE  VL AH;</td>\n",
       "      <td>NaN</td>\n",
       "      <td>NaN</td>\n",
       "      <td>NaN</td>\n",
       "      <td>NaN</td>\n",
       "      <td>NaN</td>\n",
       "    </tr>\n",
       "    <tr>\n",
       "      <th>5332</th>\n",
       "      <td>NaN</td>\n",
       "      <td>NaN</td>\n",
       "      <td>NaN</td>\n",
       "      <td>NaN</td>\n",
       "      <td>NaN</td>\n",
       "      <td>NaN</td>\n",
       "    </tr>\n",
       "    <tr>\n",
       "      <th>5336</th>\n",
       "      <td>BE  IM O ÄLTERER BU-STREIFEN; EIN FI</td>\n",
       "      <td>NaN</td>\n",
       "      <td>NaN</td>\n",
       "      <td>NaN</td>\n",
       "      <td>NaN</td>\n",
       "      <td>NaN</td>\n",
       "    </tr>\n",
       "    <tr>\n",
       "      <th>5345</th>\n",
       "      <td>BE  VL AH; S AN SCHNEISE 3 IM GRABEN ÄLTERER S...</td>\n",
       "      <td>Einzelmischung von Lh bedrängt;</td>\n",
       "      <td>NaN</td>\n",
       "      <td>NaN</td>\n",
       "      <td>NaN</td>\n",
       "      <td>NaN</td>\n",
       "    </tr>\n",
       "    <tr>\n",
       "      <th>5351</th>\n",
       "      <td>BE  IM SW JGER; GROßTEILS BROMBEERE UND EIN LA...</td>\n",
       "      <td>horstweisebeigemischt;</td>\n",
       "      <td>NaN</td>\n",
       "      <td>NaN</td>\n",
       "      <td>NaN</td>\n",
       "      <td>NaN</td>\n",
       "    </tr>\n",
       "    <tr>\n",
       "      <th>5356</th>\n",
       "      <td>ST   im Westen STOE 76</td>\n",
       "      <td>BE   stark verkrautet, viel Brombeere</td>\n",
       "      <td>NaN</td>\n",
       "      <td>NaN</td>\n",
       "      <td>NaN</td>\n",
       "      <td>NaN</td>\n",
       "    </tr>\n",
       "    <tr>\n",
       "      <th>5362</th>\n",
       "      <td>BE  IM N JGER; VL HB</td>\n",
       "      <td>NaN</td>\n",
       "      <td>NaN</td>\n",
       "      <td>NaN</td>\n",
       "      <td>NaN</td>\n",
       "      <td>NaN</td>\n",
       "    </tr>\n",
       "    <tr>\n",
       "      <th>5369</th>\n",
       "      <td>BE  VL LA; NW-TL WESENTL JGER;</td>\n",
       "      <td>NaN</td>\n",
       "      <td>NaN</td>\n",
       "      <td>NaN</td>\n",
       "      <td>NaN</td>\n",
       "      <td>NaN</td>\n",
       "    </tr>\n",
       "    <tr>\n",
       "      <th>5375</th>\n",
       "      <td>BE  VL KI; IM S MEHR LH UND MEHR LA;Nh überwie...</td>\n",
       "      <td>horstweisebeigemischt;         AUCH PICEA pun...</td>\n",
       "      <td>NaN</td>\n",
       "      <td>NaN</td>\n",
       "      <td>NaN</td>\n",
       "      <td>NaN</td>\n",
       "    </tr>\n",
       "    <tr>\n",
       "      <th>5380</th>\n",
       "      <td>BE  erforderliche Dickungspflege durchgeführt;</td>\n",
       "      <td>NaN</td>\n",
       "      <td>NaN</td>\n",
       "      <td>NaN</td>\n",
       "      <td>NaN</td>\n",
       "      <td>NaN</td>\n",
       "    </tr>\n",
       "    <tr>\n",
       "      <th>5383</th>\n",
       "      <td>BE  La von Bu bedrängt;</td>\n",
       "      <td>NaN</td>\n",
       "      <td>NaN</td>\n",
       "      <td>NaN</td>\n",
       "      <td>NaN</td>\n",
       "      <td>NaN</td>\n",
       "    </tr>\n",
       "    <tr>\n",
       "      <th>5388</th>\n",
       "      <td>BE  VL AH ES KIRSCHE; dicht gesetzte Kultur; H...</td>\n",
       "      <td>2007zurückgeschnitten, astig,        vl Zwies...</td>\n",
       "      <td>II/1,III/2, IV/1;</td>\n",
       "      <td>MA  Astung und weitere Förderung der Ei</td>\n",
       "      <td>NaN</td>\n",
       "      <td>NaN</td>\n",
       "    </tr>\n",
       "    <tr>\n",
       "      <th>5395</th>\n",
       "      <td>BE  VL HB; EI IM W UND S GEZÄUNT; IM S KI-UEH;...</td>\n",
       "      <td>horstweiseverschiedene        Mischungsformen...</td>\n",
       "      <td>Ei schön,Kronen eingeengt, SR versäumt,      ...</td>\n",
       "      <td>II/3, III/2,IV/2;</td>\n",
       "      <td>MA  EZ und KI reduzieren; Ei Protzen Zwiesel e...</td>\n",
       "      <td>NaN</td>\n",
       "    </tr>\n",
       "    <tr>\n",
       "      <th>5406</th>\n",
       "      <td>ST  IN DER MITTE STOE 87; ÖRTL IN RUTSCHUNG</td>\n",
       "      <td>BE  Ta tlw absterbend; Bu-Nvjg von den Rändern...</td>\n",
       "      <td>FStrdichter und kaum Nvjg;</td>\n",
       "      <td>NaN</td>\n",
       "      <td>NaN</td>\n",
       "      <td>NaN</td>\n",
       "    </tr>\n",
       "    <tr>\n",
       "      <th>5414</th>\n",
       "      <td>BE  stk Standraumkonkurrenz;</td>\n",
       "      <td>NaN</td>\n",
       "      <td>NaN</td>\n",
       "      <td>NaN</td>\n",
       "      <td>NaN</td>\n",
       "      <td>NaN</td>\n",
       "    </tr>\n",
       "    <tr>\n",
       "      <th>5419</th>\n",
       "      <td>ST  IM O UND IN DER MULDE STOE 88; Schwarzstor...</td>\n",
       "      <td>BE  VL TA; VLF ABSTERBEND; BU IM OBEREN TL FAS...</td>\n",
       "      <td>mäßigeLichtung         zur förderung der Nvjg...</td>\n",
       "      <td>NaN</td>\n",
       "      <td>NaN</td>\n",
       "      <td>NaN</td>\n",
       "    </tr>\n",
       "    <tr>\n",
       "      <th>5425</th>\n",
       "      <td>ST  IM N STOE 76</td>\n",
       "      <td>BE  VL KI; ein Bi, Es; 1999 dickungsgepflegt; ...</td>\n",
       "      <td>überwachse3n;        NH-Horste im SO und NW;</td>\n",
       "      <td>NaN</td>\n",
       "      <td>NaN</td>\n",
       "      <td>NaN</td>\n",
       "    </tr>\n",
       "    <tr>\n",
       "      <th>5430</th>\n",
       "      <td>ST  Schußschneise am AHZ-Rand;</td>\n",
       "      <td>BE  LA stark bedrängt von der BU,vl Bi eingewa...</td>\n",
       "      <td>unten beinahe       überwachsen, oben grtls f...</td>\n",
       "      <td>NaN</td>\n",
       "      <td>NaN</td>\n",
       "      <td>NaN</td>\n",
       "    </tr>\n",
       "    <tr>\n",
       "      <th>5434</th>\n",
       "      <td>BE  im N lückige Bu Hb-Nvjg und randlich Bu-Gr...</td>\n",
       "      <td>inBu;</td>\n",
       "      <td>NaN</td>\n",
       "      <td>NaN</td>\n",
       "      <td>NaN</td>\n",
       "      <td>NaN</td>\n",
       "    </tr>\n",
       "    <tr>\n",
       "      <th>5439</th>\n",
       "      <td>ST  S-Tl steil zur Ortschaft abfallend, Bannch...</td>\n",
       "      <td>BE  mäßig gelichtet; Nvjg im S-Tl verbuttend;</td>\n",
       "      <td>NaN</td>\n",
       "      <td>NaN</td>\n",
       "      <td>NaN</td>\n",
       "      <td>NaN</td>\n",
       "    </tr>\n",
       "    <tr>\n",
       "      <th>5445</th>\n",
       "      <td>BE  Dickung, tlw unregelm mit Protzen;</td>\n",
       "      <td>NaN</td>\n",
       "      <td>NaN</td>\n",
       "      <td>NaN</td>\n",
       "      <td>NaN</td>\n",
       "      <td>NaN</td>\n",
       "    </tr>\n",
       "    <tr>\n",
       "      <th>5449</th>\n",
       "      <td>BE   Fi-Kultur mit LH  bis unregelm lückige Di...</td>\n",
       "      <td>Fileidet unter         Trockenheit, gering wü...</td>\n",
       "      <td>einBi, vl Ah;</td>\n",
       "      <td>MA  Kulturpflege nach Bedarf</td>\n",
       "      <td>NaN</td>\n",
       "      <td>NaN</td>\n",
       "    </tr>\n",
       "  </tbody>\n",
       "</table>\n",
       "<p>831 rows × 6 columns</p>\n",
       "</div>"
      ],
      "text/plain": [
       "                                                 Zeile1  \\\n",
       "0                                                   NaN   \n",
       "5     BE  VL LA; EIN ÄLTERE s starke TA-VORWÜCHSE; u...   \n",
       "11                              ST  NO-Tl Bachböschung;   \n",
       "17                                        BE  EIN ES ES   \n",
       "22    BE  VL AH; EIN LA; IM S SK-ÜBERHÄLTER; DORT UN...   \n",
       "26                          ST  Im SW Wildwiese geplant   \n",
       "30    BE  EIN EI AH SK UL ES UND ABSTERBENDE TA; dur...   \n",
       "37    BE  FI im Süden, LH verbissen, FI mit Leittrie...   \n",
       "42    BE  VL KI; IM S MEHR LH UND MEHR LA;Nh überwie...   \n",
       "46                             ST  Grabeneinhang, steil   \n",
       "53                                                  NaN   \n",
       "56                       ST  GEGEN S SCHLECHTER WERDEND   \n",
       "61    BE   Ungleichaltrig, inhomogen, zahlreiche Vor...   \n",
       "67                                                  NaN   \n",
       "71                                     ST  IM O STOE 97   \n",
       "77    BE  TA IM W-TL EHEM ZAUN; IM S UND O JGER; NH ...   \n",
       "83         BE  VL LA HB; NÖRDL STEIN 115 ÄLTERER HORST;   \n",
       "88                                 BE  EIN UL EI FI KB;   \n",
       "93                                 ST Rücken bis Mulde,   \n",
       "99    BE  TA IM W-TL EHEM ZAUN; IM S UND O JGER; NH ...   \n",
       "105   BE  VL KI; HORSTWEISE GEMISCHT; IM SO ÄLTER UN...   \n",
       "112                      BE  VL LA; NW-TL WESENTL JGER;   \n",
       "117                                ST  Unterhang und Au   \n",
       "126                                  BE  Bestandesrest;   \n",
       "132                  BE  EINZ EI ZE; ein stk EI und EZ;   \n",
       "138       ST  IM O STOE 89; am Graben bes gute Bonität;   \n",
       "143                                                 NaN   \n",
       "149                                                 NaN   \n",
       "155   BE  VL KI BI; EIN SK AH; UNTERHALB STR JÜNGER,...   \n",
       "161                    BE  im Norden Elsbeere gepflanzt   \n",
       "...                                                 ...   \n",
       "5270  BE  EIN HB FI LA KI; VORW EINZELMISCHUNG; TA V...   \n",
       "5279                                                NaN   \n",
       "5285                             MA  BEI BED ERG MIT LA   \n",
       "5289                                MA  ZE-UEH BELASSEN   \n",
       "5300  BE  VL EI KI; UNGLEICHALTRIG;Nh hpts horstweis...   \n",
       "5309  BE NH bes im S und NO meist horstweise gemisch...   \n",
       "5315                               BE  NH MEHR IM W-TL;   \n",
       "5321                              BE  IM MITTEL-TL JGER   \n",
       "5326                                         BE  VL AH;   \n",
       "5332                                                NaN   \n",
       "5336               BE  IM O ÄLTERER BU-STREIFEN; EIN FI   \n",
       "5345  BE  VL AH; S AN SCHNEISE 3 IM GRABEN ÄLTERER S...   \n",
       "5351  BE  IM SW JGER; GROßTEILS BROMBEERE UND EIN LA...   \n",
       "5356                             ST   im Westen STOE 76   \n",
       "5362                               BE  IM N JGER; VL HB   \n",
       "5369                     BE  VL LA; NW-TL WESENTL JGER;   \n",
       "5375  BE  VL KI; IM S MEHR LH UND MEHR LA;Nh überwie...   \n",
       "5380     BE  erforderliche Dickungspflege durchgeführt;   \n",
       "5383                            BE  La von Bu bedrängt;   \n",
       "5388  BE  VL AH ES KIRSCHE; dicht gesetzte Kultur; H...   \n",
       "5395  BE  VL HB; EI IM W UND S GEZÄUNT; IM S KI-UEH;...   \n",
       "5406        ST  IN DER MITTE STOE 87; ÖRTL IN RUTSCHUNG   \n",
       "5414                       BE  stk Standraumkonkurrenz;   \n",
       "5419  ST  IM O UND IN DER MULDE STOE 88; Schwarzstor...   \n",
       "5425                                   ST  IM N STOE 76   \n",
       "5430                     ST  Schußschneise am AHZ-Rand;   \n",
       "5434  BE  im N lückige Bu Hb-Nvjg und randlich Bu-Gr...   \n",
       "5439  ST  S-Tl steil zur Ortschaft abfallend, Bannch...   \n",
       "5445             BE  Dickung, tlw unregelm mit Protzen;   \n",
       "5449  BE   Fi-Kultur mit LH  bis unregelm lückige Di...   \n",
       "\n",
       "                                                 Zeile2  \\\n",
       "0                                                   NaN   \n",
       "5        schlechteSchaft-       qualität; dicht; vl HB,   \n",
       "11    BE   W-TL älter, hpts Bu-Dickung, am Bach Es-H...   \n",
       "17                                                  NaN   \n",
       "22                im O ca. 0,5 ha bereits durchforstet;   \n",
       "26                                   BE  ein Windlücken   \n",
       "30                                                  NaN   \n",
       "37                                            Brombeere   \n",
       "42     horstweisebeigemischt;         AUCH PICEA pun...   \n",
       "46                                                  NaN   \n",
       "53                                                  NaN   \n",
       "56    BE  EIN AH KB MB LA; AUS RM 1988-1995; IN MITT...   \n",
       "61                                                  NaN   \n",
       "67                                                  NaN   \n",
       "71    BE  IM NO ÄLTERE FI-GRUPPEN; IM O AM UNTERHANG...   \n",
       "77     inEinzelmiwschung unter        Druck; Fi-Hors...   \n",
       "83                                                  NaN   \n",
       "88                                                  NaN   \n",
       "93    BE La kultiviert, ca. 20 % Ausfall, Verbissbel...   \n",
       "99     inEinzelmiwschung unter        Druck; Fi-Hors...   \n",
       "105   STREINE LH; IM S       JGERE FI-GRUPPE; schlec...   \n",
       "112                                                 NaN   \n",
       "117                          BE  Fi-Stangenholz, dicht,   \n",
       "126                                                 NaN   \n",
       "132                                                 NaN   \n",
       "138   BE  VL ES HB; EIN BI UL; SEHR UNGLEICH; unrege...   \n",
       "143                                                 NaN   \n",
       "149                                                 NaN   \n",
       "155                                       dienender Bu;   \n",
       "161                                                 NaN   \n",
       "...                                                 ...   \n",
       "5270   nebenälteren       Gruppen örtlich beginnende...   \n",
       "5279                                                NaN   \n",
       "5285                                                NaN   \n",
       "5289                                                NaN   \n",
       "5300                                                NaN   \n",
       "5309                                                NaN   \n",
       "5315                                                NaN   \n",
       "5321                                                NaN   \n",
       "5326                                                NaN   \n",
       "5332                                                NaN   \n",
       "5336                                                NaN   \n",
       "5345                    Einzelmischung von Lh bedrängt;   \n",
       "5351                             horstweisebeigemischt;   \n",
       "5356              BE   stark verkrautet, viel Brombeere   \n",
       "5362                                                NaN   \n",
       "5369                                                NaN   \n",
       "5375   horstweisebeigemischt;         AUCH PICEA pun...   \n",
       "5380                                                NaN   \n",
       "5383                                                NaN   \n",
       "5388   2007zurückgeschnitten, astig,        vl Zwies...   \n",
       "5395   horstweiseverschiedene        Mischungsformen...   \n",
       "5406  BE  Ta tlw absterbend; Bu-Nvjg von den Rändern...   \n",
       "5414                                                NaN   \n",
       "5419  BE  VL TA; VLF ABSTERBEND; BU IM OBEREN TL FAS...   \n",
       "5425  BE  VL KI; ein Bi, Es; 1999 dickungsgepflegt; ...   \n",
       "5430  BE  LA stark bedrängt von der BU,vl Bi eingewa...   \n",
       "5434                                              inBu;   \n",
       "5439      BE  mäßig gelichtet; Nvjg im S-Tl verbuttend;   \n",
       "5445                                                NaN   \n",
       "5449   Fileidet unter         Trockenheit, gering wü...   \n",
       "\n",
       "                                                 Zeile3  \\\n",
       "0                                                   NaN   \n",
       "5                                                   NaN   \n",
       "11     Ta-Vorwüchse;SO-Tl reich         gemischte un...   \n",
       "17                                                  NaN   \n",
       "22                                                  NaN   \n",
       "26                                                  NaN   \n",
       "30                                                  NaN   \n",
       "37                                                  NaN   \n",
       "42                                                  NaN   \n",
       "46                                                  NaN   \n",
       "53                                                  NaN   \n",
       "56     gleichmäßigeDickung; ein La, Ki, Liegendes To...   \n",
       "61                                                  NaN   \n",
       "67                                                  NaN   \n",
       "71                                                  NaN   \n",
       "77                                                  NaN   \n",
       "83                                                  NaN   \n",
       "88                                                  NaN   \n",
       "93                      Fegestabgeschützt; LH aus Nvjg;   \n",
       "99                                                  NaN   \n",
       "105                                                 NaN   \n",
       "112                                                 NaN   \n",
       "117                                                 NaN   \n",
       "126                                                 NaN   \n",
       "132                                                 NaN   \n",
       "138    schlechteSchaftformen;        1991 GROSSTEILS...   \n",
       "143                                                 NaN   \n",
       "149                                                 NaN   \n",
       "155                                                 NaN   \n",
       "161                                                 NaN   \n",
       "...                                                 ...   \n",
       "5270                                                NaN   \n",
       "5279                                                NaN   \n",
       "5285                                                NaN   \n",
       "5289                                                NaN   \n",
       "5300                                                NaN   \n",
       "5309                                                NaN   \n",
       "5315                                                NaN   \n",
       "5321                                                NaN   \n",
       "5326                                                NaN   \n",
       "5332                                                NaN   \n",
       "5336                                                NaN   \n",
       "5345                                                NaN   \n",
       "5351                                                NaN   \n",
       "5356                                                NaN   \n",
       "5362                                                NaN   \n",
       "5369                                                NaN   \n",
       "5375                                                NaN   \n",
       "5380                                                NaN   \n",
       "5383                                                NaN   \n",
       "5388                                  II/1,III/2, IV/1;   \n",
       "5395   Ei schön,Kronen eingeengt, SR versäumt,      ...   \n",
       "5406                         FStrdichter und kaum Nvjg;   \n",
       "5414                                                NaN   \n",
       "5419   mäßigeLichtung         zur förderung der Nvjg...   \n",
       "5425       überwachse3n;        NH-Horste im SO und NW;   \n",
       "5430   unten beinahe       überwachsen, oben grtls f...   \n",
       "5434                                                NaN   \n",
       "5439                                                NaN   \n",
       "5445                                                NaN   \n",
       "5449                                      einBi, vl Ah;   \n",
       "\n",
       "                                       Zeile4  \\\n",
       "0                                         NaN   \n",
       "5                                         NaN   \n",
       "11            Es m vlWaldrebe, Bu-Dickg im W;   \n",
       "17                                        NaN   \n",
       "22                                        NaN   \n",
       "26                                        NaN   \n",
       "30                                        NaN   \n",
       "37                                        NaN   \n",
       "42                                        NaN   \n",
       "46                                        NaN   \n",
       "53                                        NaN   \n",
       "56                                        NaN   \n",
       "61                                        NaN   \n",
       "67                                        NaN   \n",
       "71                                        NaN   \n",
       "77                                        NaN   \n",
       "83                                        NaN   \n",
       "88                                        NaN   \n",
       "93        MA BZ 6-8 La 2-4 Bu; Es reduzieren;   \n",
       "99                                        NaN   \n",
       "105                                       NaN   \n",
       "112                                       NaN   \n",
       "117                                       NaN   \n",
       "126                                       NaN   \n",
       "132                                       NaN   \n",
       "138                                       NaN   \n",
       "143                                       NaN   \n",
       "149                                       NaN   \n",
       "155                                       NaN   \n",
       "161                                       NaN   \n",
       "...                                       ...   \n",
       "5270                                      NaN   \n",
       "5279                                      NaN   \n",
       "5285                                      NaN   \n",
       "5289                                      NaN   \n",
       "5300                                      NaN   \n",
       "5309                                      NaN   \n",
       "5315                                      NaN   \n",
       "5321                                      NaN   \n",
       "5326                                      NaN   \n",
       "5332                                      NaN   \n",
       "5336                                      NaN   \n",
       "5345                                      NaN   \n",
       "5351                                      NaN   \n",
       "5356                                      NaN   \n",
       "5362                                      NaN   \n",
       "5369                                      NaN   \n",
       "5375                                      NaN   \n",
       "5380                                      NaN   \n",
       "5383                                      NaN   \n",
       "5388  MA  Astung und weitere Förderung der Ei   \n",
       "5395                        II/3, III/2,IV/2;   \n",
       "5406                                      NaN   \n",
       "5414                                      NaN   \n",
       "5419                                      NaN   \n",
       "5425                                      NaN   \n",
       "5430                                      NaN   \n",
       "5434                                      NaN   \n",
       "5439                                      NaN   \n",
       "5445                                      NaN   \n",
       "5449             MA  Kulturpflege nach Bedarf   \n",
       "\n",
       "                                                 Zeile5 Zeile6  \n",
       "0                                                   NaN    NaN  \n",
       "5                                                   NaN    NaN  \n",
       "11                                                  NaN    NaN  \n",
       "17                                                  NaN    NaN  \n",
       "22                                                  NaN    NaN  \n",
       "26                                                  NaN    NaN  \n",
       "30                                                  NaN    NaN  \n",
       "37                                                  NaN    NaN  \n",
       "42                                                  NaN    NaN  \n",
       "46                                                  NaN    NaN  \n",
       "53                                                  NaN    NaN  \n",
       "56                                                  NaN    NaN  \n",
       "61                                                  NaN    NaN  \n",
       "67                                                  NaN    NaN  \n",
       "71                                                  NaN    NaN  \n",
       "77                                                  NaN    NaN  \n",
       "83                                                  NaN    NaN  \n",
       "88                                                  NaN    NaN  \n",
       "93                                                  NaN    NaN  \n",
       "99                                                  NaN    NaN  \n",
       "105                                                 NaN    NaN  \n",
       "112                                                 NaN    NaN  \n",
       "117                                                 NaN    NaN  \n",
       "126                                                 NaN    NaN  \n",
       "132                                                 NaN    NaN  \n",
       "138                                                 NaN    NaN  \n",
       "143                                                 NaN    NaN  \n",
       "149                                                 NaN    NaN  \n",
       "155                                                 NaN    NaN  \n",
       "161                                                 NaN    NaN  \n",
       "...                                                 ...    ...  \n",
       "5270                                                NaN    NaN  \n",
       "5279                                                NaN    NaN  \n",
       "5285                                                NaN    NaN  \n",
       "5289                                                NaN    NaN  \n",
       "5300                                                NaN    NaN  \n",
       "5309                                                NaN    NaN  \n",
       "5315                                                NaN    NaN  \n",
       "5321                                                NaN    NaN  \n",
       "5326                                                NaN    NaN  \n",
       "5332                                                NaN    NaN  \n",
       "5336                                                NaN    NaN  \n",
       "5345                                                NaN    NaN  \n",
       "5351                                                NaN    NaN  \n",
       "5356                                                NaN    NaN  \n",
       "5362                                                NaN    NaN  \n",
       "5369                                                NaN    NaN  \n",
       "5375                                                NaN    NaN  \n",
       "5380                                                NaN    NaN  \n",
       "5383                                                NaN    NaN  \n",
       "5388                                                NaN    NaN  \n",
       "5395  MA  EZ und KI reduzieren; Ei Protzen Zwiesel e...    NaN  \n",
       "5406                                                NaN    NaN  \n",
       "5414                                                NaN    NaN  \n",
       "5419                                                NaN    NaN  \n",
       "5425                                                NaN    NaN  \n",
       "5430                                                NaN    NaN  \n",
       "5434                                                NaN    NaN  \n",
       "5439                                                NaN    NaN  \n",
       "5445                                                NaN    NaN  \n",
       "5449                                                NaN    NaN  \n",
       "\n",
       "[831 rows x 6 columns]"
      ]
     },
     "execution_count": 11,
     "metadata": {},
     "output_type": "execute_result"
    }
   ],
   "source": [
    "data_text"
   ]
  },
  {
   "cell_type": "code",
   "execution_count": 12,
   "metadata": {},
   "outputs": [],
   "source": [
    "def text_merge(row_text):\n",
    "    \n",
    "    # merge into whole txt\n",
    "    whole_text = ''\n",
    "    for i in np.arange(0,5):\n",
    "        if isinstance(row_text.iloc[i], str):\n",
    "            #print(row_text.iloc[i])\n",
    "            whole_text = whole_text + row_text.iloc[i]\n",
    "            \n",
    "    return(whole_text)"
   ]
  },
  {
   "cell_type": "code",
   "execution_count": 13,
   "metadata": {},
   "outputs": [],
   "source": [
    "def text_indx(whole_text):\n",
    "    \n",
    "    # find indexes for splitting\n",
    "    indx = []\n",
    "    for i in ['ST ', 'BE ', 'MA ']:\n",
    "        # find index\n",
    "        idx = whole_text.find(i)\n",
    "        # filter not found\n",
    "        if idx > -1:\n",
    "            # add index \n",
    "            indx.append(whole_text.find(i))\n",
    "    # add index \n",
    "    indx.append(10000)\n",
    "    indx = np.sort(indx)\n",
    "    \n",
    "    return(indx)"
   ]
  },
  {
   "cell_type": "code",
   "execution_count": 14,
   "metadata": {},
   "outputs": [],
   "source": [
    "def text_cut(whole_text, indx):\n",
    "    # cut string into peaces\n",
    "    cut = []\n",
    "    for i in range(1,len(indx)):\n",
    "        if whole_text[indx[i-1]:indx[i-1]+2] != 'MA':\n",
    "            cut.append(whole_text[indx[i-1]:indx[i]])\n",
    "            \n",
    "    return(cut)"
   ]
  },
  {
   "cell_type": "code",
   "execution_count": 15,
   "metadata": {},
   "outputs": [],
   "source": [
    "def text_cutter(data_txt):\n",
    "    whole_text = text_merge(data_txt)\n",
    "    indx = text_indx(whole_text)\n",
    "    cutted_text = text_cut(whole_text, indx)\n",
    "    return(cutted_text)"
   ]
  },
  {
   "cell_type": "code",
   "execution_count": null,
   "metadata": {},
   "outputs": [],
   "source": []
  },
  {
   "cell_type": "code",
   "execution_count": 16,
   "metadata": {},
   "outputs": [],
   "source": [
    "def text_splitter(text):\n",
    "    # delete spaces at the end\n",
    "    text.rstrip()\n",
    "    # replace , with ;\n",
    "    text = text.replace(',', ';')\n",
    "    text = text.replace('BE ', 'BE; ')\n",
    "    text = text.replace('ST ', 'ST; ')\n",
    "    text = text.replace('MA ', 'MA; ')\n",
    "    \n",
    "    # split text on ;\n",
    "    splits = text.split(';')\n",
    "    \n",
    "    text_neu = ''\n",
    "    # manipulate splits\n",
    "    for split in splits:\n",
    "        words = re.findall(r\"[\\w']+\", split)\n",
    "        \n",
    "        split_neu = ''\n",
    "        # manipulate words\n",
    "        for word in words:\n",
    "            # if Baumart all upper case -> don't change characters\n",
    "            if word in dic_ba_lh_nh:\n",
    "                split_neu = split_neu + word + ' '\n",
    "            # if Baumart upper and lower case -> change to upper case\n",
    "            elif word in dic_ba_small:\n",
    "                split_neu = split_neu + dic_ba_small[word] + ' '\n",
    "            # else change word to lower case\n",
    "            else:\n",
    "                word = word.lower()\n",
    "                # if word in dictionary than replace\n",
    "                if word in dic_abk:\n",
    "                    split_neu = split_neu + dic_abk[word] + ' '\n",
    "                # if word with ung -> first letter upper case\n",
    "                elif word[-3:] == 'ung':\n",
    "                    word = word.replace(word[0], word[0].upper(), 1)\n",
    "                    split_neu = split_neu + word + ' '\n",
    "                # else add lower case word\n",
    "                else:\n",
    "                    split_neu = split_neu + word + ' '\n",
    "        # delete spaces at the end\n",
    "        split_neu = split_neu.rstrip()\n",
    "        # merge splits\n",
    "        text_neu = text_neu + split_neu + ', '\n",
    "        \n",
    "    if text_neu[:4] == 'be, ':\n",
    "        text_neu = text_neu.replace('be, ', 'BE   ', 1)\n",
    "    elif text_neu[:4] == 'st, ':\n",
    "        text_neu = text_neu.replace('st, ', 'ST   ', 1)\n",
    "    text_neu = text_neu.rstrip()\n",
    "    # # delete spaces at the end\n",
    "    if text_neu[-2:] == ' ,':\n",
    "        text_neu = text_neu[:-2]\n",
    "    # replace all patterns from dic_teile(x:y)-x with dic_teile-y\n",
    "    text_neu = multipleReplace(text_neu, dic_teile)\n",
    "    #pattern = re.compile(r'\\b(' + '|'.join(dic_teile.keys()) + r')\\b')\n",
    "    #text_neu = pattern.sub(lambda x: dic_teile[x.group()], test_neu)\n",
    "    \n",
    "    return(text_neu)"
   ]
  },
  {
   "cell_type": "code",
   "execution_count": 17,
   "metadata": {},
   "outputs": [],
   "source": [
    "def multipleReplace(text, wordDict):\n",
    "    for key in wordDict:\n",
    "        text = text.replace(key, wordDict[key])\n",
    "    return text"
   ]
  },
  {
   "cell_type": "code",
   "execution_count": 18,
   "metadata": {},
   "outputs": [
    {
     "data": {
      "text/plain": [
       "'BE  VL KI BI; EIN SK AH; UNTERHALB STR JÜNGER, LA grtls vorwüchsig mit'"
      ]
     },
     "execution_count": 18,
     "metadata": {},
     "output_type": "execute_result"
    }
   ],
   "source": [
    "data_text.iloc[28, 0]"
   ]
  },
  {
   "cell_type": "code",
   "execution_count": 19,
   "metadata": {},
   "outputs": [
    {
     "name": "stdout",
     "output_type": "stream",
     "text": [
      "BE  VL KI BI; EIN SK AH; UNTERHALB STR JÜNGER, LA grtls vorwüchsig mit\n",
      "BE   viel KI BI, einige SK AH, unterhalb Straße jünger, LA großteils vorwüchsig mit,\n"
     ]
    }
   ],
   "source": [
    "test = data_text.iloc[28, 0]\n",
    "print(test)\n",
    "test_neu = text_splitter(test)\n",
    "print(test_neu)"
   ]
  },
  {
   "cell_type": "code",
   "execution_count": 20,
   "metadata": {},
   "outputs": [],
   "source": [
    "#\n",
    "# merge all rows into one string\n",
    "#"
   ]
  },
  {
   "cell_type": "code",
   "execution_count": 46,
   "metadata": {},
   "outputs": [
    {
     "name": "stdout",
     "output_type": "stream",
     "text": [
      "ST   Unterhang Standortseinheit 36, KI im südteil,\n",
      "BE   viel ES, schlechte Stammformen, im Norden älter,\n"
     ]
    }
   ],
   "source": [
    "###############\n",
    "### working ###\n",
    "###############\n",
    "\n",
    "temp = text_cutter(data_text.iloc[191])\n",
    "for i in temp:\n",
    "    test_neu = text_splitter(i)\n",
    "    print(test_neu)"
   ]
  },
  {
   "cell_type": "code",
   "execution_count": null,
   "metadata": {},
   "outputs": [],
   "source": []
  },
  {
   "cell_type": "code",
   "execution_count": 29,
   "metadata": {},
   "outputs": [
    {
     "name": "stdout",
     "output_type": "stream",
     "text": [
      "BE  VL HB AH FI KI; SEHR UNGLEICHALTRIG; AN SCHNEISE 17 ÄLTEREAH-GRUPPE;\n",
      "     1993/94 UNTER STRASSE MIT 420 EFM DURCHFORSTET; unregelmäßig\n",
      " bestockt;      La unter Druck;\n",
      "MA La fördern\n"
     ]
    }
   ],
   "source": [
    "row_text = data_text.iloc[36]\n",
    "whole_text = ''\n",
    "for i in np.arange(0,5):\n",
    "    if isinstance(row_text.iloc[i], str):\n",
    "        print(row_text.iloc[i])\n",
    "        whole_text = whole_text + row_text.iloc[i]"
   ]
  },
  {
   "cell_type": "code",
   "execution_count": 115,
   "metadata": {},
   "outputs": [
    {
     "data": {
      "text/plain": [
       "'BE  VL HB AH FI KI; SEHR UNGLEICHALTRIG; AN SCHNEISE 17 ÄLTEREAH-GRUPPE;     1993/94 UNTER STRASSE MIT 420 EFM DURCHFORSTET; unregelmäßig bestockt;      La unter Druck;MA La fördern'"
      ]
     },
     "execution_count": 115,
     "metadata": {},
     "output_type": "execute_result"
    }
   ],
   "source": [
    "whole_text"
   ]
  },
  {
   "cell_type": "code",
   "execution_count": 119,
   "metadata": {},
   "outputs": [
    {
     "name": "stdout",
     "output_type": "stream",
     "text": [
      "[    0   168 10000]\n"
     ]
    }
   ],
   "source": [
    "# find indexes for splitting\n",
    "indx = []\n",
    "for i in ['ST ', 'BE ', 'MA ']:\n",
    "    # find index\n",
    "    idx = whole_text.find(i)\n",
    "    # filter not found\n",
    "    if idx > -1:\n",
    "        # add index \n",
    "        indx.append(whole_text.find(i))\n",
    "# add index \n",
    "indx.append(10000)\n",
    "indx = np.sort(indx)\n",
    "print(indx)"
   ]
  },
  {
   "cell_type": "code",
   "execution_count": 120,
   "metadata": {},
   "outputs": [],
   "source": [
    "# cut string into peaces\n",
    "cut = []\n",
    "for i in range(1,len(indx)):\n",
    "    if whole_text[indx[i-1]:indx[i-1]+2] != 'MA':\n",
    "        cut.append(whole_text[indx[i-1]:indx[i]])"
   ]
  },
  {
   "cell_type": "code",
   "execution_count": 121,
   "metadata": {},
   "outputs": [
    {
     "data": {
      "text/plain": [
       "['BE  VL HB AH FI KI; SEHR UNGLEICHALTRIG; AN SCHNEISE 17 ÄLTEREAH-GRUPPE;     1993/94 UNTER STRASSE MIT 420 EFM DURCHFORSTET; unregelmäßig bestockt;      La unter Druck;']"
      ]
     },
     "execution_count": 121,
     "metadata": {},
     "output_type": "execute_result"
    }
   ],
   "source": [
    "cut"
   ]
  },
  {
   "cell_type": "code",
   "execution_count": null,
   "metadata": {},
   "outputs": [],
   "source": []
  },
  {
   "cell_type": "code",
   "execution_count": 81,
   "metadata": {},
   "outputs": [
    {
     "data": {
      "text/plain": [
       "'BE  VL EI ZE; EIN TA; am O-Rand bereits ankommende Nvjg; LI 2002 etwaszu schwach       ausgeführt; im W ältere Nvjg;'"
      ]
     },
     "execution_count": 81,
     "metadata": {},
     "output_type": "execute_result"
    }
   ],
   "source": [
    "whole_text[21:137]"
   ]
  },
  {
   "cell_type": "code",
   "execution_count": 82,
   "metadata": {},
   "outputs": [
    {
     "data": {
      "text/plain": [
       "'MA BZ 10 Bu;'"
      ]
     },
     "execution_count": 82,
     "metadata": {},
     "output_type": "execute_result"
    }
   ],
   "source": [
    "whole_text[137:]"
   ]
  },
  {
   "cell_type": "code",
   "execution_count": null,
   "metadata": {},
   "outputs": [],
   "source": []
  },
  {
   "cell_type": "code",
   "execution_count": 58,
   "metadata": {},
   "outputs": [
    {
     "data": {
      "text/plain": [
       "Zeile1    BE  VL KI BI; EIN SK AH; UNTERHALB STR JÜNGER,...\n",
       "Zeile2                                        dienender Bu;\n",
       "Zeile3                                                  NaN\n",
       "Zeile4                                                  NaN\n",
       "Zeile5                                                  NaN\n",
       "Zeile6                                                  NaN\n",
       "Name: 155, dtype: object"
      ]
     },
     "execution_count": 58,
     "metadata": {},
     "output_type": "execute_result"
    }
   ],
   "source": [
    "data_text.iloc[28]"
   ]
  },
  {
   "cell_type": "code",
   "execution_count": 52,
   "metadata": {},
   "outputs": [
    {
     "data": {
      "text/plain": [
       "False"
      ]
     },
     "execution_count": 52,
     "metadata": {},
     "output_type": "execute_result"
    }
   ],
   "source": [
    "isinstance(data_text.iloc[28, 3], str)"
   ]
  },
  {
   "cell_type": "code",
   "execution_count": 57,
   "metadata": {},
   "outputs": [
    {
     "data": {
      "text/plain": [
       "'BE  VL KI BI; EIN SK AH; UNTERHALB STR JÜNGER, LA grtls vorwüchsig mit      dienender Bu;'"
      ]
     },
     "execution_count": 57,
     "metadata": {},
     "output_type": "execute_result"
    }
   ],
   "source": [
    "whole_text"
   ]
  },
  {
   "cell_type": "code",
   "execution_count": 7,
   "metadata": {
    "scrolled": true
   },
   "outputs": [],
   "source": [
    "text = data_text.iloc[19]"
   ]
  },
  {
   "cell_type": "code",
   "execution_count": 8,
   "metadata": {},
   "outputs": [
    {
     "data": {
      "text/plain": [
       "'BE  TA IM W-TL EHEM ZAUN; IM S UND O JGER; NH vor allem'"
      ]
     },
     "execution_count": 8,
     "metadata": {},
     "output_type": "execute_result"
    }
   ],
   "source": [
    "text"
   ]
  },
  {
   "cell_type": "code",
   "execution_count": 9,
   "metadata": {},
   "outputs": [],
   "source": [
    "text = text + ', verjüngt'"
   ]
  },
  {
   "cell_type": "code",
   "execution_count": 10,
   "metadata": {},
   "outputs": [
    {
     "data": {
      "text/plain": [
       "'BE  TA IM W-TL EHEM ZAUN; IM S UND O JGER; NH vor allem, verjüngt'"
      ]
     },
     "execution_count": 10,
     "metadata": {},
     "output_type": "execute_result"
    }
   ],
   "source": [
    "text"
   ]
  },
  {
   "cell_type": "code",
   "execution_count": 14,
   "metadata": {},
   "outputs": [],
   "source": [
    "text = text.replace(',', ';')"
   ]
  },
  {
   "cell_type": "code",
   "execution_count": 17,
   "metadata": {},
   "outputs": [],
   "source": [
    "text = text.replace('BE ', 'BE; ')"
   ]
  },
  {
   "cell_type": "code",
   "execution_count": 26,
   "metadata": {},
   "outputs": [],
   "source": [
    "text_split = text.split(';')"
   ]
  },
  {
   "cell_type": "code",
   "execution_count": 27,
   "metadata": {},
   "outputs": [
    {
     "data": {
      "text/plain": [
       "['BE',\n",
       " '  TA IM W-TL EHEM ZAUN',\n",
       " ' IM S UND O JGER',\n",
       " ' NH vor allem',\n",
       " ' verjüngt']"
      ]
     },
     "execution_count": 27,
     "metadata": {},
     "output_type": "execute_result"
    }
   ],
   "source": [
    "text_split"
   ]
  },
  {
   "cell_type": "code",
   "execution_count": 28,
   "metadata": {},
   "outputs": [
    {
     "data": {
      "text/plain": [
       "'  TA IM W-TL EHEM ZAUN'"
      ]
     },
     "execution_count": 28,
     "metadata": {},
     "output_type": "execute_result"
    }
   ],
   "source": [
    "text_split[1]"
   ]
  },
  {
   "cell_type": "code",
   "execution_count": 29,
   "metadata": {},
   "outputs": [],
   "source": [
    "import re"
   ]
  },
  {
   "cell_type": "code",
   "execution_count": 30,
   "metadata": {},
   "outputs": [
    {
     "name": "stdout",
     "output_type": "stream",
     "text": [
      "['TA', 'IM', 'W', 'TL', 'EHEM', 'ZAUN']\n"
     ]
    }
   ],
   "source": [
    "print(re.findall(r\"[\\w']+\", text_split[1]))"
   ]
  },
  {
   "cell_type": "code",
   "execution_count": 32,
   "metadata": {},
   "outputs": [],
   "source": [
    "words = re.findall(r\"[\\w']+\", text_split[1])"
   ]
  },
  {
   "cell_type": "code",
   "execution_count": 24,
   "metadata": {},
   "outputs": [],
   "source": [
    "text_split = re.findall(r\"[\\w']+\", data_text.iloc[11])"
   ]
  },
  {
   "cell_type": "code",
   "execution_count": 25,
   "metadata": {},
   "outputs": [
    {
     "data": {
      "text/plain": [
       "['ST', 'GEGEN', 'S', 'SCHLECHTER', 'WERDEND']"
      ]
     },
     "execution_count": 25,
     "metadata": {},
     "output_type": "execute_result"
    }
   ],
   "source": [
    "text_split"
   ]
  },
  {
   "cell_type": "code",
   "execution_count": null,
   "metadata": {},
   "outputs": [],
   "source": [
    "#"
   ]
  },
  {
   "cell_type": "code",
   "execution_count": 113,
   "metadata": {},
   "outputs": [
    {
     "name": "stdout",
     "output_type": "stream",
     "text": [
      "BE  TA IM W-TL EHEM ZAUN; IM S UND O JGER; NH vor allem; verjüngt\n"
     ]
    }
   ],
   "source": [
    "print(text.replace(',', ';'))"
   ]
  },
  {
   "cell_type": "code",
   "execution_count": null,
   "metadata": {},
   "outputs": [],
   "source": []
  },
  {
   "cell_type": "code",
   "execution_count": 41,
   "metadata": {},
   "outputs": [
    {
     "data": {
      "text/plain": [
       "'werdend'"
      ]
     },
     "execution_count": 41,
     "metadata": {},
     "output_type": "execute_result"
    }
   ],
   "source": [
    "text_split[4].lower()"
   ]
  },
  {
   "cell_type": "code",
   "execution_count": 44,
   "metadata": {},
   "outputs": [
    {
     "name": "stdout",
     "output_type": "stream",
     "text": [
      "ST\n",
      "GEGEN\n",
      "S\n",
      "SCHLECHTER\n",
      "WERDEND\n"
     ]
    }
   ],
   "source": [
    "for word in text_split:\n",
    "    print(word)"
   ]
  },
  {
   "cell_type": "code",
   "execution_count": 75,
   "metadata": {},
   "outputs": [],
   "source": [
    "path_data = os.path.join(os.getcwd(),'data', 'Textkuerzel_Manuale.xls')\n",
    "data_dic = pd.read_excel(path_data, index_col='kurz', error_bad_lines=False)"
   ]
  },
  {
   "cell_type": "code",
   "execution_count": 76,
   "metadata": {
    "scrolled": true
   },
   "outputs": [
    {
     "data": {
      "text/html": [
       "<div>\n",
       "<style scoped>\n",
       "    .dataframe tbody tr th:only-of-type {\n",
       "        vertical-align: middle;\n",
       "    }\n",
       "\n",
       "    .dataframe tbody tr th {\n",
       "        vertical-align: top;\n",
       "    }\n",
       "\n",
       "    .dataframe thead th {\n",
       "        text-align: right;\n",
       "    }\n",
       "</style>\n",
       "<table border=\"1\" class=\"dataframe\">\n",
       "  <thead>\n",
       "    <tr style=\"text-align: right;\">\n",
       "      <th></th>\n",
       "      <th>lang</th>\n",
       "    </tr>\n",
       "    <tr>\n",
       "      <th>kurz</th>\n",
       "      <th></th>\n",
       "    </tr>\n",
       "  </thead>\n",
       "  <tbody>\n",
       "    <tr>\n",
       "      <th>Auff</th>\n",
       "      <td>Aufforstung</td>\n",
       "    </tr>\n",
       "    <tr>\n",
       "      <th>bel</th>\n",
       "      <td>belassen</td>\n",
       "    </tr>\n",
       "    <tr>\n",
       "      <th>bes</th>\n",
       "      <td>besonders</td>\n",
       "    </tr>\n",
       "    <tr>\n",
       "      <th>Best</th>\n",
       "      <td>Bestockung</td>\n",
       "    </tr>\n",
       "    <tr>\n",
       "      <th>Bestrest</th>\n",
       "      <td>Bestandesrest</td>\n",
       "    </tr>\n",
       "    <tr>\n",
       "      <th>BZ</th>\n",
       "      <td>Bestockungsziel</td>\n",
       "    </tr>\n",
       "    <tr>\n",
       "      <th>Dez</th>\n",
       "      <td>Dezennium</td>\n",
       "    </tr>\n",
       "    <tr>\n",
       "      <th>dgl</th>\n",
       "      <td>dergleichen</td>\n",
       "    </tr>\n",
       "    <tr>\n",
       "      <th>dfstet</th>\n",
       "      <td>durchforstet</td>\n",
       "    </tr>\n",
       "    <tr>\n",
       "      <th>durchgef</th>\n",
       "      <td>durchgeführt</td>\n",
       "    </tr>\n",
       "    <tr>\n",
       "      <th>Dürr</th>\n",
       "      <td>Dürrlinge</td>\n",
       "    </tr>\n",
       "    <tr>\n",
       "      <th>E</th>\n",
       "      <td>Ergänzung</td>\n",
       "    </tr>\n",
       "    <tr>\n",
       "      <th>Erg</th>\n",
       "      <td>Ergänzung</td>\n",
       "    </tr>\n",
       "    <tr>\n",
       "      <th>eh</th>\n",
       "      <td>ehemalig</td>\n",
       "    </tr>\n",
       "    <tr>\n",
       "      <th>ehem</th>\n",
       "      <td>ehemalig</td>\n",
       "    </tr>\n",
       "    <tr>\n",
       "      <th>ein</th>\n",
       "      <td>einige</td>\n",
       "    </tr>\n",
       "    <tr>\n",
       "      <th>eiz</th>\n",
       "      <td>einzelne</td>\n",
       "    </tr>\n",
       "    <tr>\n",
       "      <th>einz</th>\n",
       "      <td>einzelne</td>\n",
       "    </tr>\n",
       "    <tr>\n",
       "      <th>etw</th>\n",
       "      <td>etwas</td>\n",
       "    </tr>\n",
       "    <tr>\n",
       "      <th>Exp</th>\n",
       "      <td>Exposition</td>\n",
       "    </tr>\n",
       "    <tr>\n",
       "      <th>Expos</th>\n",
       "      <td>Exposition</td>\n",
       "    </tr>\n",
       "    <tr>\n",
       "      <th>fels</th>\n",
       "      <td>felsig</td>\n",
       "    </tr>\n",
       "    <tr>\n",
       "      <th>f.u.f.</th>\n",
       "      <td>fördern und freistellen</td>\n",
       "    </tr>\n",
       "    <tr>\n",
       "      <th>gg</th>\n",
       "      <td>gegen</td>\n",
       "    </tr>\n",
       "    <tr>\n",
       "      <th>gr</th>\n",
       "      <td>groß</td>\n",
       "    </tr>\n",
       "    <tr>\n",
       "      <th>Grp</th>\n",
       "      <td>Gruppe</td>\n",
       "    </tr>\n",
       "    <tr>\n",
       "      <th>Grpe</th>\n",
       "      <td>Gruppe</td>\n",
       "    </tr>\n",
       "    <tr>\n",
       "      <th>grpw</th>\n",
       "      <td>gruppenweise</td>\n",
       "    </tr>\n",
       "    <tr>\n",
       "      <th>grtls</th>\n",
       "      <td>großteils</td>\n",
       "    </tr>\n",
       "    <tr>\n",
       "      <th>horstw</th>\n",
       "      <td>horstweise</td>\n",
       "    </tr>\n",
       "    <tr>\n",
       "      <th>...</th>\n",
       "      <td>...</td>\n",
       "    </tr>\n",
       "    <tr>\n",
       "      <th>strw</th>\n",
       "      <td>streifenweise</td>\n",
       "    </tr>\n",
       "    <tr>\n",
       "      <th>südl</th>\n",
       "      <td>südlich</td>\n",
       "    </tr>\n",
       "    <tr>\n",
       "      <th>Tl</th>\n",
       "      <td>Teil</td>\n",
       "    </tr>\n",
       "    <tr>\n",
       "      <th>tls</th>\n",
       "      <td>teils</td>\n",
       "    </tr>\n",
       "    <tr>\n",
       "      <th>tlw</th>\n",
       "      <td>teilweise</td>\n",
       "    </tr>\n",
       "    <tr>\n",
       "      <th>UEH</th>\n",
       "      <td>Überhälter</td>\n",
       "    </tr>\n",
       "    <tr>\n",
       "      <th>ÜH</th>\n",
       "      <td>Überhälter</td>\n",
       "    </tr>\n",
       "    <tr>\n",
       "      <th>UE</th>\n",
       "      <td>Überhälter</td>\n",
       "    </tr>\n",
       "    <tr>\n",
       "      <th>unglm</th>\n",
       "      <td>ungleichmäßig</td>\n",
       "    </tr>\n",
       "    <tr>\n",
       "      <th>unglalt</th>\n",
       "      <td>ungleichaltrig</td>\n",
       "    </tr>\n",
       "    <tr>\n",
       "      <th>unglaltrig</th>\n",
       "      <td>ungleichaltrig</td>\n",
       "    </tr>\n",
       "    <tr>\n",
       "      <th>verb</th>\n",
       "      <td>verbissen</td>\n",
       "    </tr>\n",
       "    <tr>\n",
       "      <th>v</th>\n",
       "      <td>vor</td>\n",
       "    </tr>\n",
       "    <tr>\n",
       "      <th>a</th>\n",
       "      <td>allem</td>\n",
       "    </tr>\n",
       "    <tr>\n",
       "      <th>vl</th>\n",
       "      <td>viel</td>\n",
       "    </tr>\n",
       "    <tr>\n",
       "      <th>Vjg</th>\n",
       "      <td>Verjüngung</td>\n",
       "    </tr>\n",
       "    <tr>\n",
       "      <th>vjgt</th>\n",
       "      <td>verjüngt</td>\n",
       "    </tr>\n",
       "    <tr>\n",
       "      <th>vmtl</th>\n",
       "      <td>vermutlich</td>\n",
       "    </tr>\n",
       "    <tr>\n",
       "      <th>vzt</th>\n",
       "      <td>vereinzelt</td>\n",
       "    </tr>\n",
       "    <tr>\n",
       "      <th>VTYP</th>\n",
       "      <td>Vegetationstyp</td>\n",
       "    </tr>\n",
       "    <tr>\n",
       "      <th>W</th>\n",
       "      <td>West</td>\n",
       "    </tr>\n",
       "    <tr>\n",
       "      <th>westl</th>\n",
       "      <td>westlich</td>\n",
       "    </tr>\n",
       "    <tr>\n",
       "      <th>wstl</th>\n",
       "      <td>wesentlich</td>\n",
       "    </tr>\n",
       "    <tr>\n",
       "      <th>wg</th>\n",
       "      <td>wegen</td>\n",
       "    </tr>\n",
       "    <tr>\n",
       "      <th>WW</th>\n",
       "      <td>Windwurf</td>\n",
       "    </tr>\n",
       "    <tr>\n",
       "      <th>zlr</th>\n",
       "      <td>zahlreich</td>\n",
       "    </tr>\n",
       "    <tr>\n",
       "      <th>zw</th>\n",
       "      <td>zwischen</td>\n",
       "    </tr>\n",
       "    <tr>\n",
       "      <th>Zwibest</th>\n",
       "      <td>Zwischenbestand</td>\n",
       "    </tr>\n",
       "    <tr>\n",
       "      <th>Zwibest-Rest</th>\n",
       "      <td>Zwischenbestandsrest</td>\n",
       "    </tr>\n",
       "    <tr>\n",
       "      <th>zwiständig</th>\n",
       "      <td>zwischenständig</td>\n",
       "    </tr>\n",
       "  </tbody>\n",
       "</table>\n",
       "<p>99 rows × 1 columns</p>\n",
       "</div>"
      ],
      "text/plain": [
       "                                 lang\n",
       "kurz                                 \n",
       "Auff                      Aufforstung\n",
       "bel                          belassen\n",
       "bes                         besonders\n",
       "Best                       Bestockung\n",
       "Bestrest                Bestandesrest\n",
       "BZ                    Bestockungsziel\n",
       "Dez                         Dezennium\n",
       "dgl                       dergleichen\n",
       "dfstet                   durchforstet\n",
       "durchgef                 durchgeführt\n",
       "Dürr                        Dürrlinge\n",
       "E                           Ergänzung\n",
       "Erg                         Ergänzung\n",
       "eh                           ehemalig\n",
       "ehem                         ehemalig\n",
       "ein                            einige\n",
       "eiz                          einzelne\n",
       "einz                         einzelne\n",
       "etw                             etwas\n",
       "Exp                        Exposition\n",
       "Expos                      Exposition\n",
       "fels                           felsig\n",
       "f.u.f.        fördern und freistellen\n",
       "gg                              gegen\n",
       "gr                              groß \n",
       "Grp                            Gruppe\n",
       "Grpe                           Gruppe\n",
       "grpw                     gruppenweise\n",
       "grtls                       großteils\n",
       "horstw                     horstweise\n",
       "...                               ...\n",
       "strw                    streifenweise\n",
       "südl                          südlich\n",
       "Tl                               Teil\n",
       "tls                             teils\n",
       "tlw                         teilweise\n",
       "UEH                        Überhälter\n",
       "ÜH                         Überhälter\n",
       "UE                         Überhälter\n",
       "unglm                   ungleichmäßig\n",
       "unglalt                ungleichaltrig\n",
       "unglaltrig             ungleichaltrig\n",
       "verb                        verbissen\n",
       "v                                 vor\n",
       "a                               allem\n",
       "vl                               viel\n",
       "Vjg                        Verjüngung\n",
       "vjgt                         verjüngt\n",
       "vmtl                       vermutlich\n",
       "vzt                        vereinzelt\n",
       "VTYP                   Vegetationstyp\n",
       "W                                West\n",
       "westl                        westlich\n",
       "wstl                       wesentlich\n",
       "wg                              wegen\n",
       "WW                           Windwurf\n",
       "zlr                         zahlreich\n",
       "zw                          zwischen \n",
       "Zwibest               Zwischenbestand\n",
       "Zwibest-Rest     Zwischenbestandsrest\n",
       "zwiständig            zwischenständig\n",
       "\n",
       "[99 rows x 1 columns]"
      ]
     },
     "execution_count": 76,
     "metadata": {},
     "output_type": "execute_result"
    }
   ],
   "source": [
    "data_dic"
   ]
  },
  {
   "cell_type": "code",
   "execution_count": 77,
   "metadata": {
    "scrolled": true
   },
   "outputs": [],
   "source": [
    "dic = data_dic.to_dict()"
   ]
  },
  {
   "cell_type": "code",
   "execution_count": 79,
   "metadata": {},
   "outputs": [],
   "source": [
    "dic = dic['lang']"
   ]
  },
  {
   "cell_type": "code",
   "execution_count": 80,
   "metadata": {},
   "outputs": [
    {
     "data": {
      "text/plain": [
       "'Dezennium'"
      ]
     },
     "execution_count": 80,
     "metadata": {},
     "output_type": "execute_result"
    }
   ],
   "source": [
    "dic['Dez']"
   ]
  },
  {
   "cell_type": "code",
   "execution_count": 73,
   "metadata": {},
   "outputs": [],
   "source": [
    "dic_ba_lh_nh = {\"AS\":\"LH\", \"AZ\":\"NH\", \"AH\":\"LH\", \"PM\":\"NH\", \"BI\":\"LH\", \"FB\":\"NH\", \"BL\":\"BL\", \"AC\":\"NH\", \"DG\":\"NH\", \"EE\":\"LH\", \"EK\":\"LH\", \"EB\":\"NH\", \"EI\":\"LH\", \"EL\":\"LH\", \"ES\":\"LH\", \"EA\":\"LH\", \"FA\":\"LH\", \"FI\":\"NH\", \"FE\":\"LH\", \"FZ\":\"NH\", \"GK\":\"NH\", \"GB\":\"LH\", \"WP\":\"LH\", \"GE\":\"LH\", \"AG\":\"NH\", \"AV\":\"LH\", \"HB\":\"LH\", \"HT\":\"NH\", \"HP\":\"LH\", \"JL\":\"NH\", \"CJ\":\"NH\", \"KK\":\"NH\", \"KB\":\"LH\", \"KO\":\"NH\", \"LA\":\"NH\", \"LI\":\"LH\", \"ME\":\"LH\", \"AN\":\"NH\", \"FO\":\"NH\", \"PO\":\"LH\", \"AB\":\"NH\", \"RO\":\"LH\", \"RK\":\"LH\", \"BU\":\"LH\", \"RE\":\"LH\", \"SW\":\"LH\", \"CH\":\"NH\", \"ER\":\"LH\", \"SK\":\"NH\", \"JN\":\"LH\", \"SP\":\"LH\", \"SF\":\"NH\", \"LS\":\"LH\", \"SL\":\"LH\", \"SN\":\"NH\", \"SG\":\"LH\", \"PU\":\"NH\", \"SA\":\"LH\", \"QR\":\"LH\", \"ST\":\"LH\", \"KW\":\"NH\", \"TH\":\"NH\", \"QP\":\"LH\", \"TK\":\"LH\", \"TB\":\"LH\", \"UL\":\"LH\", \"NU\":\"LH\", \"WD\":\"LH\", \"KI\":\"NH\", \"TA\":\"NH\", \"WO\":\"LH\", \"LW\":\"LH\", \"EZ\":\"LH\", \"ZI\":\"NH\"}"
   ]
  },
  {
   "cell_type": "code",
   "execution_count": 74,
   "metadata": {},
   "outputs": [
    {
     "name": "stdout",
     "output_type": "stream",
     "text": [
      "FI\n"
     ]
    }
   ],
   "source": [
    "if 'FI' in dic_ba_lh_nh:\n",
    "    print('FI')\n",
    "else:\n",
    "    print('non')"
   ]
  },
  {
   "cell_type": "code",
   "execution_count": 103,
   "metadata": {
    "scrolled": true
   },
   "outputs": [
    {
     "data": {
      "text/plain": [
       "0                                                     NaN\n",
       "5       BE  VL LA; EIN ÄLTERE s starke TA-VORWÜCHSE; u...\n",
       "11                                ST  NO-Tl Bachböschung;\n",
       "17                                          BE  EIN ES ES\n",
       "22      BE  VL AH; EIN LA; IM S SK-ÜBERHÄLTER; DORT UN...\n",
       "26                            ST  Im SW Wildwiese geplant\n",
       "30      BE  EIN EI AH SK UL ES UND ABSTERBENDE TA; dur...\n",
       "37      BE  FI im Süden, LH verbissen, FI mit Leittrie...\n",
       "42      BE  VL KI; IM S MEHR LH UND MEHR LA;Nh überwie...\n",
       "46                               ST  Grabeneinhang, steil\n",
       "53                                                    NaN\n",
       "56                         ST  GEGEN S SCHLECHTER WERDEND\n",
       "61      BE   Ungleichaltrig, inhomogen, zahlreiche Vor...\n",
       "67                                                    NaN\n",
       "71                                       ST  IM O STOE 97\n",
       "77      BE  TA IM W-TL EHEM ZAUN; IM S UND O JGER; NH ...\n",
       "83           BE  VL LA HB; NÖRDL STEIN 115 ÄLTERER HORST;\n",
       "88                                   BE  EIN UL EI FI KB;\n",
       "93                                   ST Rücken bis Mulde,\n",
       "99      BE  TA IM W-TL EHEM ZAUN; IM S UND O JGER; NH ...\n",
       "105     BE  VL KI; HORSTWEISE GEMISCHT; IM SO ÄLTER UN...\n",
       "112                        BE  VL LA; NW-TL WESENTL JGER;\n",
       "117                                  ST  Unterhang und Au\n",
       "126                                    BE  Bestandesrest;\n",
       "132                    BE  EINZ EI ZE; ein stk EI und EZ;\n",
       "138         ST  IM O STOE 89; am Graben bes gute Bonität;\n",
       "143                                                   NaN\n",
       "149                                                   NaN\n",
       "155     BE  VL KI BI; EIN SK AH; UNTERHALB STR JÜNGER,...\n",
       "161                      BE  im Norden Elsbeere gepflanzt\n",
       "                              ...                        \n",
       "5270    BE  EIN HB FI LA KI; VORW EINZELMISCHUNG; TA V...\n",
       "5279                                                  NaN\n",
       "5285                               MA  BEI BED ERG MIT LA\n",
       "5289                                  MA  ZE-UEH BELASSEN\n",
       "5300    BE  VL EI KI; UNGLEICHALTRIG;Nh hpts horstweis...\n",
       "5309    BE NH bes im S und NO meist horstweise gemisch...\n",
       "5315                                 BE  NH MEHR IM W-TL;\n",
       "5321                                BE  IM MITTEL-TL JGER\n",
       "5326                                           BE  VL AH;\n",
       "5332                                                  NaN\n",
       "5336                 BE  IM O ÄLTERER BU-STREIFEN; EIN FI\n",
       "5345    BE  VL AH; S AN SCHNEISE 3 IM GRABEN ÄLTERER S...\n",
       "5351    BE  IM SW JGER; GROßTEILS BROMBEERE UND EIN LA...\n",
       "5356                               ST   im Westen STOE 76\n",
       "5362                                 BE  IM N JGER; VL HB\n",
       "5369                       BE  VL LA; NW-TL WESENTL JGER;\n",
       "5375    BE  VL KI; IM S MEHR LH UND MEHR LA;Nh überwie...\n",
       "5380       BE  erforderliche Dickungspflege durchgeführt;\n",
       "5383                              BE  La von Bu bedrängt;\n",
       "5388    BE  VL AH ES KIRSCHE; dicht gesetzte Kultur; H...\n",
       "5395    BE  VL HB; EI IM W UND S GEZÄUNT; IM S KI-UEH;...\n",
       "5406          ST  IN DER MITTE STOE 87; ÖRTL IN RUTSCHUNG\n",
       "5414                         BE  stk Standraumkonkurrenz;\n",
       "5419    ST  IM O UND IN DER MULDE STOE 88; Schwarzstor...\n",
       "5425                                     ST  IM N STOE 76\n",
       "5430                       ST  Schußschneise am AHZ-Rand;\n",
       "5434    BE  im N lückige Bu Hb-Nvjg und randlich Bu-Gr...\n",
       "5439    ST  S-Tl steil zur Ortschaft abfallend, Bannch...\n",
       "5445               BE  Dickung, tlw unregelm mit Protzen;\n",
       "5449    BE   Fi-Kultur mit LH  bis unregelm lückige Di...\n",
       "Name: Zeile1, Length: 831, dtype: object"
      ]
     },
     "execution_count": 103,
     "metadata": {},
     "output_type": "execute_result"
    }
   ],
   "source": [
    "data_text"
   ]
  },
  {
   "cell_type": "code",
   "execution_count": 50,
   "metadata": {},
   "outputs": [],
   "source": [
    "test = '  '"
   ]
  },
  {
   "cell_type": "code",
   "execution_count": 53,
   "metadata": {},
   "outputs": [
    {
     "name": "stdout",
     "output_type": "stream",
     "text": [
      "new\n"
     ]
    }
   ],
   "source": [
    "if not(test.isspace()):\n",
    "    print('space')\n",
    "else:\n",
    "    print('new')"
   ]
  },
  {
   "cell_type": "code",
   "execution_count": null,
   "metadata": {},
   "outputs": [],
   "source": []
  }
 ],
 "metadata": {
  "kernelspec": {
   "display_name": "MachineLearing",
   "language": "python",
   "name": "ml"
  },
  "language_info": {
   "codemirror_mode": {
    "name": "ipython",
    "version": 3
   },
   "file_extension": ".py",
   "mimetype": "text/x-python",
   "name": "python",
   "nbconvert_exporter": "python",
   "pygments_lexer": "ipython3",
   "version": "3.7.4"
  }
 },
 "nbformat": 4,
 "nbformat_minor": 2
}
