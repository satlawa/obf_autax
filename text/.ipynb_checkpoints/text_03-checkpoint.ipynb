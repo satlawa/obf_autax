{
 "cells": [
  {
   "cell_type": "code",
   "execution_count": 1,
   "metadata": {},
   "outputs": [],
   "source": [
    "#\n",
    "# Forsteinrichtung\n",
    "#\n",
    "# change text: upper lower case, abbreviations, structure\n",
    "#"
   ]
  },
  {
   "cell_type": "code",
   "execution_count": 2,
   "metadata": {},
   "outputs": [],
   "source": [
    "import os\n",
    "import numpy as np\n",
    "import pandas as pd\n",
    "import math\n",
    "import re"
   ]
  },
  {
   "cell_type": "code",
   "execution_count": 3,
   "metadata": {},
   "outputs": [
    {
     "name": "stdout",
     "output_type": "stream",
     "text": [
      "/home/philipp\n",
      "/home/philipp/data/obf/merge/raw/TO_1356_01_20200121.XLS\n"
     ]
    }
   ],
   "source": [
    "# set home directory\n",
    "home_path = os.getcwd()[:os.getcwd().find('Code/python/obf_autax/text')-1]\n",
    "# set bz_path\n",
    "text_path = os.path.join(home_path, 'data', 'obf', 'merge', 'raw', 'TO_1356_01_20200121.XLS')\n",
    "\n",
    "print(home_path)\n",
    "print(text_path)"
   ]
  },
  {
   "cell_type": "code",
   "execution_count": 4,
   "metadata": {},
   "outputs": [
    {
     "name": "stderr",
     "output_type": "stream",
     "text": [
      "/home/philipp/conda/envs/ml/lib/python3.7/site-packages/IPython/core/interactiveshell.py:3058: DtypeWarning: Columns (147) have mixed types. Specify dtype option on import or set low_memory=False.\n",
      "  interactivity=interactivity, compiler=compiler, result=result)\n"
     ]
    }
   ],
   "source": [
    "# roh data\n",
    "data = pd.read_csv(text_path, sep='\\t', encoding = \"ISO-8859-1\", decimal=',', error_bad_lines=False)"
   ]
  },
  {
   "cell_type": "code",
   "execution_count": 5,
   "metadata": {},
   "outputs": [],
   "source": [
    "# dict Baumarten\n",
    "dic_ba_lh_nh = {\"AS\":\"LH\", \"AZ\":\"NH\", \"AH\":\"LH\", \"PM\":\"NH\", \"BI\":\"LH\", \"FB\":\"NH\", \"BL\":\"BL\", \"AC\":\"NH\", \"DG\":\"NH\", \n",
    "                \"EE\":\"LH\", \"EK\":\"LH\", \"EB\":\"NH\", \"EI\":\"LH\", \"EL\":\"LH\", \"ES\":\"LH\", \"EA\":\"LH\", \"FA\":\"LH\", \"FI\":\"NH\", \n",
    "                \"FE\":\"LH\", \"FZ\":\"NH\", \"GK\":\"NH\", \"GB\":\"LH\", \"WP\":\"LH\", \"GE\":\"LH\", \"AG\":\"NH\", \"AV\":\"LH\", \"HB\":\"LH\", \n",
    "                \"HT\":\"NH\", \"HP\":\"LH\", \"JL\":\"NH\", \"CJ\":\"NH\", \"KK\":\"NH\", \"KB\":\"LH\", \"KO\":\"NH\", \"LA\":\"NH\", \"LI\":\"LH\", \n",
    "                \"ME\":\"LH\", \"FO\":\"NH\", \"PO\":\"LH\", \"AB\":\"NH\", \"RO\":\"LH\", \"RK\":\"LH\", \"BU\":\"LH\", \"RE\":\"LH\", \n",
    "                \"CH\":\"NH\", \"ER\":\"LH\", \"SK\":\"NH\", \"JN\":\"LH\", \"SP\":\"LH\", \"SF\":\"NH\", \"LS\":\"LH\", \"SL\":\"LH\", \n",
    "                \"SN\":\"NH\", \"SG\":\"LH\", \"PU\":\"NH\", \"SA\":\"LH\", \"QR\":\"LH\", \"KW\":\"NH\", \"TH\":\"NH\", \"QP\":\"LH\",\n",
    "                \"TK\":\"LH\", \"TB\":\"LH\", \"UL\":\"LH\", \"NU\":\"LH\", \"WD\":\"LH\", \"KI\":\"NH\", \"TA\":\"NH\", \"WO\":\"LH\", \"LW\":\"LH\", \n",
    "                \"EZ\":\"LH\", \"ZI\":\"NH\"}"
   ]
  },
  {
   "cell_type": "code",
   "execution_count": 6,
   "metadata": {},
   "outputs": [],
   "source": [
    "# dict Baumarten\n",
    "dic_ba_small = {\"As\":\"AS\", \"Az\":\"AZ\", \"Ah\":\"AH\", \"Pm\":\"PM\", \"Bi\":\"BI\", \"Fb\":\"FB\", \"Bl\":\"BL\", \"Ac\":\"AC\", \"Dg\":\"DG\", \n",
    "                \"Ee\":\"EE\", \"Ek\":\"EK\", \"Eb\":\"EB\", \"Ei\":\"EI\", \"El\":\"EL\", \"Es\":\"ES\", \"Ea\":\"EA\", \"Fa\":\"FA\", \"Fi\":\"FI\", \n",
    "                \"Fe\":\"FE\", \"Fz\":\"FZ\", \"Gk\":\"GK\", \"Gb\":\"GB\", \"Wp\":\"WP\", \"Ge\":\"GE\", \"Ag\":\"AG\", \"Av\":\"AV\", \"Hb\":\"HB\", \n",
    "                \"Ht\":\"HT\", \"Hp\":\"HP\", \"Jl\":\"JL\", \"Cj\":\"CJ\", \"Kk\":\"KK\", \"Kb\":\"KB\", \"Ko\":\"KO\", \"La\":\"LA\", \"Li\":\"LI\", \n",
    "                \"Me\":\"ME\", \"Fo\":\"FO\", \"Po\":\"PO\", \"Ab\":\"AB\", \"Ro\":\"RO\", \"Rk\":\"RK\", \"Bu\":\"BU\", \"Re\":\"RE\", \n",
    "                \"Ch\":\"CH\", \"Er\":\"ER\", \"Sk\":\"SK\", \"Jn\":\"JN\", \"Sp\":\"SP\", \"Sf\":\"SF\", \"Ls\":\"LS\", \"Sl\":\"SL\", \n",
    "                \"Sn\":\"SN\", \"Sg\":\"SG\", \"Pu\":\"PU\", \"Sa\":\"SA\", \"Qr\":\"QR\", \"Kw\":\"KW\", \"Th\":\"TH\", \"Qp\":\"QP\", \"Ez\":\"EZ\",\n",
    "                \"Tk\":\"TK\", \"Tb\":\"TB\", \"Ul\":\"UL\", \"Nu\":\"NU\", \"Wd\":\"WD\", \"Ki\":\"KI\", \"Ta\":\"TA\", \"Lw\":\"LW\", \"Zi\":\"ZI\"}"
   ]
  },
  {
   "cell_type": "code",
   "execution_count": 7,
   "metadata": {},
   "outputs": [],
   "source": [
    "# dict Teile\n",
    "dic_teile = {'Norden Teil':'Nord-Teil', 'Nordosten Teil':'Nordost-Teil', 'Osten Teil':'Ost-Teil', \n",
    "             'Südosten Teil':'Südost-Teil', 'Süden Teil':'Süd-Teil', 'Südwesten Teil':'Südwest-Teil', \n",
    "             'Westen Teil':'West-Teil', 'Nordwesten Teil':'Nordwest-Teil'}"
   ]
  },
  {
   "cell_type": "code",
   "execution_count": 8,
   "metadata": {},
   "outputs": [],
   "source": [
    "# dict Abkürzungen\n",
    "path_data = os.path.join(os.getcwd(),'data', 'Textkuerzel_Manuale_small.xls')\n",
    "data_dic = pd.read_excel(path_data, index_col='kurz', error_bad_lines=False)\n",
    "\n",
    "dic_abk = data_dic.to_dict()\n",
    "dic_abk = dic_abk['lang']"
   ]
  },
  {
   "cell_type": "code",
   "execution_count": 9,
   "metadata": {},
   "outputs": [],
   "source": [
    "data.drop(data[data['Debitor']!=220442].index, axis=0, inplace=True)\n",
    "data.drop(data[data['WE-Typ']=='NG'].index, axis=0, inplace=True)"
   ]
  },
  {
   "cell_type": "code",
   "execution_count": 10,
   "metadata": {},
   "outputs": [],
   "source": [
    "data = data[data['Best.-Schicht']==0]"
   ]
  },
  {
   "cell_type": "code",
   "execution_count": 11,
   "metadata": {},
   "outputs": [],
   "source": [
    "data_text = data[['Waldort', 'Zeile1', 'Zeile2', 'Zeile3', 'Zeile4', 'Zeile5', 'Zeile6']]"
   ]
  },
  {
   "cell_type": "code",
   "execution_count": 12,
   "metadata": {},
   "outputs": [
    {
     "data": {
      "text/html": [
       "<div>\n",
       "<style scoped>\n",
       "    .dataframe tbody tr th:only-of-type {\n",
       "        vertical-align: middle;\n",
       "    }\n",
       "\n",
       "    .dataframe tbody tr th {\n",
       "        vertical-align: top;\n",
       "    }\n",
       "\n",
       "    .dataframe thead th {\n",
       "        text-align: right;\n",
       "    }\n",
       "</style>\n",
       "<table border=\"1\" class=\"dataframe\">\n",
       "  <thead>\n",
       "    <tr style=\"text-align: right;\">\n",
       "      <th></th>\n",
       "      <th>Waldort</th>\n",
       "      <th>Zeile1</th>\n",
       "      <th>Zeile2</th>\n",
       "      <th>Zeile3</th>\n",
       "      <th>Zeile4</th>\n",
       "      <th>Zeile5</th>\n",
       "      <th>Zeile6</th>\n",
       "    </tr>\n",
       "  </thead>\n",
       "  <tbody>\n",
       "    <tr>\n",
       "      <td>0</td>\n",
       "      <td>520G0</td>\n",
       "      <td>BE  Örtl lückig; ein HB, AH; BU oft protzig; u...</td>\n",
       "      <td>rast und leicht verkrautet</td>\n",
       "      <td>MA  BZ: 6LA 4BU</td>\n",
       "      <td>NaN</td>\n",
       "      <td>NaN</td>\n",
       "      <td>NaN</td>\n",
       "    </tr>\n",
       "    <tr>\n",
       "      <td>4</td>\n",
       "      <td>715G1</td>\n",
       "      <td>ST  Im N flacher</td>\n",
       "      <td>BE  Einz KB, KI, FI, LA; schlechte Stammformen...</td>\n",
       "      <td>MA  BZ: 5BU 3ER 2ES</td>\n",
       "      <td>NaN</td>\n",
       "      <td>NaN</td>\n",
       "      <td>NaN</td>\n",
       "    </tr>\n",
       "    <tr>\n",
       "      <td>10</td>\n",
       "      <td>599C0</td>\n",
       "      <td>BE  Zaunfläche; unglalt (-5 J); vl Brombeere; ...</td>\n",
       "      <td>t und leicht verkrautet</td>\n",
       "      <td>MA  BZ: 7EI 2AH 1HB</td>\n",
       "      <td>NaN</td>\n",
       "      <td>NaN</td>\n",
       "      <td>NaN</td>\n",
       "    </tr>\n",
       "    <tr>\n",
       "      <td>16</td>\n",
       "      <td>718D2</td>\n",
       "      <td>ST  Verhagert; evtl zukünftige Naturwaldzelle</td>\n",
       "      <td>BE  Ein EZ; BU hpts im N; örtl BU-EI-Vjg; schw...</td>\n",
       "      <td>Qualität; leicht vergrast</td>\n",
       "      <td>MA  BZ: 7EI 3BU; evtl zukünftige Naturwaldzelle</td>\n",
       "      <td>NaN</td>\n",
       "      <td>NaN</td>\n",
       "    </tr>\n",
       "    <tr>\n",
       "      <td>23</td>\n",
       "      <td>718D1</td>\n",
       "      <td>ST  Im NO Rücken; verhagert; grobsteinig; evtl...</td>\n",
       "      <td>BE  Ein EZ, SK; schwache Dimensionen; schlecht...</td>\n",
       "      <td>Zwischenbestand</td>\n",
       "      <td>MA  BZ: 6EI 4BU; evtl zukünftige Naturwaldzelle</td>\n",
       "      <td>NaN</td>\n",
       "      <td>NaN</td>\n",
       "    </tr>\n",
       "    <tr>\n",
       "      <td>...</td>\n",
       "      <td>...</td>\n",
       "      <td>...</td>\n",
       "      <td>...</td>\n",
       "      <td>...</td>\n",
       "      <td>...</td>\n",
       "      <td>...</td>\n",
       "      <td>...</td>\n",
       "    </tr>\n",
       "    <tr>\n",
       "      <td>4866</td>\n",
       "      <td>727A1</td>\n",
       "      <td>ST  Grabeneinhang</td>\n",
       "      <td>BE  Ein ER am Graben; ein EI, HB; einz LA, KB;...</td>\n",
       "      <td>Stammformen; dfstet; mäßig vergrast und leich...</td>\n",
       "      <td>MA  BZ: 10BU</td>\n",
       "      <td>NaN</td>\n",
       "      <td>NaN</td>\n",
       "    </tr>\n",
       "    <tr>\n",
       "      <td>4869</td>\n",
       "      <td>740A4</td>\n",
       "      <td>ST  Am Rücken Übergänge zu STOE 76 und HD-Typ</td>\n",
       "      <td>BE  Ein FI, KI; LA im W; hier jger (-5 J); im ...</td>\n",
       "      <td>protzig; im O geschlossen; stk vergrast und l...</td>\n",
       "      <td>MA  O belassen (zukünftige Umwandlungsfläche);...</td>\n",
       "      <td>NaN</td>\n",
       "      <td>NaN</td>\n",
       "    </tr>\n",
       "    <tr>\n",
       "      <td>4884</td>\n",
       "      <td>650C0</td>\n",
       "      <td>ST   Biosphärenpark Kernzone</td>\n",
       "      <td>BE  Tlw schlechte Stammformen; ein RO, HB; EI ...</td>\n",
       "      <td>tlw schlechte Stammformen; mäßig vergrast und...</td>\n",
       "      <td>MA  Biosphärenpark Kernzone</td>\n",
       "      <td>NaN</td>\n",
       "      <td>NaN</td>\n",
       "    </tr>\n",
       "    <tr>\n",
       "      <td>4999</td>\n",
       "      <td>740B2</td>\n",
       "      <td>BE  Einz KI; vl BI; BU am Rand im O; BU älter ...</td>\n",
       "      <td>und mäßig verkrautet</td>\n",
       "      <td>MA  BZ: 8LA 2BU</td>\n",
       "      <td>NaN</td>\n",
       "      <td>NaN</td>\n",
       "      <td>NaN</td>\n",
       "    </tr>\n",
       "    <tr>\n",
       "      <td>5010</td>\n",
       "      <td>740B1</td>\n",
       "      <td>BE  Einz LA; FI im W an H0; unglalt (-5 J); vl...</td>\n",
       "      <td>MA  BZ: 9BU 1FI</td>\n",
       "      <td>NaN</td>\n",
       "      <td>NaN</td>\n",
       "      <td>NaN</td>\n",
       "      <td>NaN</td>\n",
       "    </tr>\n",
       "  </tbody>\n",
       "</table>\n",
       "<p>901 rows × 7 columns</p>\n",
       "</div>"
      ],
      "text/plain": [
       "     Waldort                                             Zeile1  \\\n",
       "0      520G0  BE  Örtl lückig; ein HB, AH; BU oft protzig; u...   \n",
       "4      715G1                                   ST  Im N flacher   \n",
       "10     599C0  BE  Zaunfläche; unglalt (-5 J); vl Brombeere; ...   \n",
       "16     718D2      ST  Verhagert; evtl zukünftige Naturwaldzelle   \n",
       "23     718D1  ST  Im NO Rücken; verhagert; grobsteinig; evtl...   \n",
       "...      ...                                                ...   \n",
       "4866   727A1                                  ST  Grabeneinhang   \n",
       "4869   740A4      ST  Am Rücken Übergänge zu STOE 76 und HD-Typ   \n",
       "4884   650C0                       ST   Biosphärenpark Kernzone   \n",
       "4999   740B2  BE  Einz KI; vl BI; BU am Rand im O; BU älter ...   \n",
       "5010   740B1  BE  Einz LA; FI im W an H0; unglalt (-5 J); vl...   \n",
       "\n",
       "                                                 Zeile2  \\\n",
       "0                            rast und leicht verkrautet   \n",
       "4     BE  Einz KB, KI, FI, LA; schlechte Stammformen...   \n",
       "10                              t und leicht verkrautet   \n",
       "16    BE  Ein EZ; BU hpts im N; örtl BU-EI-Vjg; schw...   \n",
       "23    BE  Ein EZ, SK; schwache Dimensionen; schlecht...   \n",
       "...                                                 ...   \n",
       "4866  BE  Ein ER am Graben; ein EI, HB; einz LA, KB;...   \n",
       "4869  BE  Ein FI, KI; LA im W; hier jger (-5 J); im ...   \n",
       "4884  BE  Tlw schlechte Stammformen; ein RO, HB; EI ...   \n",
       "4999                               und mäßig verkrautet   \n",
       "5010                                    MA  BZ: 9BU 1FI   \n",
       "\n",
       "                                                 Zeile3  \\\n",
       "0                                       MA  BZ: 6LA 4BU   \n",
       "4                                   MA  BZ: 5BU 3ER 2ES   \n",
       "10                                  MA  BZ: 7EI 2AH 1HB   \n",
       "16                            Qualität; leicht vergrast   \n",
       "23                                      Zwischenbestand   \n",
       "...                                                 ...   \n",
       "4866   Stammformen; dfstet; mäßig vergrast und leich...   \n",
       "4869   protzig; im O geschlossen; stk vergrast und l...   \n",
       "4884   tlw schlechte Stammformen; mäßig vergrast und...   \n",
       "4999                                    MA  BZ: 8LA 2BU   \n",
       "5010                                                NaN   \n",
       "\n",
       "                                                 Zeile4 Zeile5 Zeile6  \n",
       "0                                                   NaN    NaN    NaN  \n",
       "4                                                   NaN    NaN    NaN  \n",
       "10                                                  NaN    NaN    NaN  \n",
       "16      MA  BZ: 7EI 3BU; evtl zukünftige Naturwaldzelle    NaN    NaN  \n",
       "23      MA  BZ: 6EI 4BU; evtl zukünftige Naturwaldzelle    NaN    NaN  \n",
       "...                                                 ...    ...    ...  \n",
       "4866                                       MA  BZ: 10BU    NaN    NaN  \n",
       "4869  MA  O belassen (zukünftige Umwandlungsfläche);...    NaN    NaN  \n",
       "4884                        MA  Biosphärenpark Kernzone    NaN    NaN  \n",
       "4999                                                NaN    NaN    NaN  \n",
       "5010                                                NaN    NaN    NaN  \n",
       "\n",
       "[901 rows x 7 columns]"
      ]
     },
     "execution_count": 12,
     "metadata": {},
     "output_type": "execute_result"
    }
   ],
   "source": [
    "data_text"
   ]
  },
  {
   "cell_type": "code",
   "execution_count": 13,
   "metadata": {},
   "outputs": [],
   "source": [
    "def text_merge(row_text):\n",
    "    \n",
    "    # merge into whole txt\n",
    "    whole_text = ''\n",
    "    for i in np.arange(0,5):\n",
    "        if isinstance(row_text.iloc[i], str):\n",
    "            #print(row_text.iloc[i])\n",
    "            whole_text = whole_text + row_text.iloc[i]\n",
    "            \n",
    "    return(whole_text)"
   ]
  },
  {
   "cell_type": "code",
   "execution_count": 14,
   "metadata": {},
   "outputs": [],
   "source": [
    "def text_indx(whole_text):\n",
    "    \n",
    "    # find indexes for splitting\n",
    "    indx = []\n",
    "    for i in ['ST ', 'BE ', 'MA ']:\n",
    "        # find index\n",
    "        idx = whole_text.find(i)\n",
    "        # filter not found\n",
    "        if idx > -1:\n",
    "            # add index \n",
    "            indx.append(whole_text.find(i))\n",
    "    # add index \n",
    "    indx.append(10000)\n",
    "    indx = np.sort(indx)\n",
    "    \n",
    "    return(indx)"
   ]
  },
  {
   "cell_type": "code",
   "execution_count": 15,
   "metadata": {},
   "outputs": [],
   "source": [
    "def text_cut(whole_text, indx):\n",
    "    # cut string into peaces\n",
    "    cut = []\n",
    "    for i in range(1,len(indx)):\n",
    "        if whole_text[indx[i-1]:indx[i-1]+2] != 'MA':\n",
    "            cut.append(whole_text[indx[i-1]:indx[i]])\n",
    "            \n",
    "    return(cut)"
   ]
  },
  {
   "cell_type": "code",
   "execution_count": 16,
   "metadata": {},
   "outputs": [],
   "source": [
    "def text_cutter(data_txt):\n",
    "    whole_text = text_merge(data_txt)\n",
    "    indx = text_indx(whole_text)\n",
    "    cutted_text = text_cut(whole_text, indx)\n",
    "    return(cutted_text)"
   ]
  },
  {
   "cell_type": "code",
   "execution_count": null,
   "metadata": {},
   "outputs": [],
   "source": []
  },
  {
   "cell_type": "code",
   "execution_count": 17,
   "metadata": {},
   "outputs": [],
   "source": [
    "def text_splitter(text):\n",
    "    # delete spaces at the end\n",
    "    text.rstrip()\n",
    "    # replace , with ;\n",
    "    text = text.replace(',', ';')\n",
    "    text = text.replace('BE ', 'BE; ')\n",
    "    text = text.replace('ST ', 'ST; ')\n",
    "    text = text.replace('MA ', 'MA; ')\n",
    "    \n",
    "    # split text on ;\n",
    "    splits = text.split(';')\n",
    "    \n",
    "    text_neu = ''\n",
    "    # manipulate splits\n",
    "    for split in splits:\n",
    "        words = re.findall(r\"[\\w']+\", split)\n",
    "        \n",
    "        split_neu = ''\n",
    "        # manipulate words\n",
    "        for word in words:\n",
    "            # if Baumart all upper case -> don't change characters\n",
    "            if word in dic_ba_lh_nh:\n",
    "                split_neu = split_neu + word + ' '\n",
    "            # if Baumart upper and lower case -> change to upper case\n",
    "            elif word in dic_ba_small:\n",
    "                split_neu = split_neu + dic_ba_small[word] + ' '\n",
    "            # else change word to lower case\n",
    "            else:\n",
    "                word = word.lower()\n",
    "                # if word in dictionary than replace\n",
    "                if word in dic_abk:\n",
    "                    split_neu = split_neu + dic_abk[word] + ' '\n",
    "                # if word with ung -> first letter upper case\n",
    "                elif word[-3:] == 'ung':\n",
    "                    word = word.replace(word[0], word[0].upper(), 1)\n",
    "                    split_neu = split_neu + word + ' '\n",
    "                # else add lower case word\n",
    "                else:\n",
    "                    split_neu = split_neu + word + ' '\n",
    "        # delete spaces at the end\n",
    "        split_neu = split_neu.rstrip()\n",
    "        # merge splits\n",
    "        text_neu = text_neu + split_neu + ', '\n",
    "        \n",
    "    if text_neu[:4] == 'be, ':\n",
    "        text_neu = text_neu.replace('be, ', 'BE   ', 1)\n",
    "    elif text_neu[:4] == 'st, ':\n",
    "        text_neu = text_neu.replace('st, ', 'ST   ', 1)\n",
    "    text_neu = text_neu.rstrip()\n",
    "    # # delete spaces at the end\n",
    "    if text_neu[-2:] == ' ,':\n",
    "        text_neu = text_neu[:-2]\n",
    "    # replace all patterns from dic_teile(x:y)-x with dic_teile-y\n",
    "    text_neu = multipleReplace(text_neu, dic_teile)\n",
    "    #pattern = re.compile(r'\\b(' + '|'.join(dic_teile.keys()) + r')\\b')\n",
    "    #text_neu = pattern.sub(lambda x: dic_teile[x.group()], test_neu)\n",
    "    \n",
    "    return(text_neu)"
   ]
  },
  {
   "cell_type": "code",
   "execution_count": 18,
   "metadata": {},
   "outputs": [],
   "source": [
    "def multipleReplace(text, wordDict):\n",
    "    for key in wordDict:\n",
    "        text = text.replace(key, wordDict[key])\n",
    "    return text"
   ]
  },
  {
   "cell_type": "code",
   "execution_count": 19,
   "metadata": {},
   "outputs": [
    {
     "name": "stdout",
     "output_type": "stream",
     "text": [
      "508D3\n",
      "BE  Unglalt (+/-5 J); im W jger; im O älter; LA im O\n",
      "MA  BZ: 6BU 4LA\n"
     ]
    }
   ],
   "source": [
    "n = 34\n",
    "print(data_text.iloc[n, 0])\n",
    "print(data_text.iloc[n, 1])\n",
    "print(data_text.iloc[n, 2])"
   ]
  },
  {
   "cell_type": "code",
   "execution_count": 20,
   "metadata": {},
   "outputs": [
    {
     "name": "stdout",
     "output_type": "stream",
     "text": [
      "506G1\n",
      "506g1,\n"
     ]
    }
   ],
   "source": [
    "test = data_text.iloc[40, 0]\n",
    "print(test)\n",
    "test_neu = text_splitter(test)\n",
    "print(test_neu)"
   ]
  },
  {
   "cell_type": "code",
   "execution_count": null,
   "metadata": {},
   "outputs": [],
   "source": []
  },
  {
   "cell_type": "code",
   "execution_count": 21,
   "metadata": {},
   "outputs": [
    {
     "name": "stdout",
     "output_type": "stream",
     "text": [
      "BE   einige SP, WD, viel BI, einzelne KI, mit LA ergänzt, im Süden älter 5 j, hiergeschlossen und reine BU, stark vergrast und leicht verkrautet,\n"
     ]
    }
   ],
   "source": [
    "###############\n",
    "### working ###\n",
    "###############\n",
    "\n",
    "temp = text_cutter(data_text.iloc[46])\n",
    "for i in temp:\n",
    "    test_neu = text_splitter(i)\n",
    "    print(test_neu)"
   ]
  },
  {
   "cell_type": "code",
   "execution_count": 22,
   "metadata": {},
   "outputs": [
    {
     "data": {
      "text/plain": [
       "['BE  Ein SP, WD; vl BI; einz KI; mit LA ergänzt; im S älter (+5 J); hiergeschlossen und reine BU; stk vergrast und leicht verkrautet']"
      ]
     },
     "execution_count": 22,
     "metadata": {},
     "output_type": "execute_result"
    }
   ],
   "source": [
    "temp"
   ]
  },
  {
   "cell_type": "code",
   "execution_count": 23,
   "metadata": {},
   "outputs": [],
   "source": [
    "# make dataframe and write file to disk"
   ]
  },
  {
   "cell_type": "code",
   "execution_count": 24,
   "metadata": {},
   "outputs": [],
   "source": [
    "index = np.sort(data['Waldort'].unique())"
   ]
  },
  {
   "cell_type": "code",
   "execution_count": 25,
   "metadata": {},
   "outputs": [],
   "source": [
    "columns = ['text_1', 'text_2', 'text_3', 'text_4']"
   ]
  },
  {
   "cell_type": "code",
   "execution_count": 26,
   "metadata": {},
   "outputs": [],
   "source": [
    "df = pd.DataFrame(index=index, columns=columns)\n",
    "df = df.fillna('0') # with 0s rather than NaNs"
   ]
  },
  {
   "cell_type": "code",
   "execution_count": 27,
   "metadata": {},
   "outputs": [
    {
     "data": {
      "text/html": [
       "<div>\n",
       "<style scoped>\n",
       "    .dataframe tbody tr th:only-of-type {\n",
       "        vertical-align: middle;\n",
       "    }\n",
       "\n",
       "    .dataframe tbody tr th {\n",
       "        vertical-align: top;\n",
       "    }\n",
       "\n",
       "    .dataframe thead th {\n",
       "        text-align: right;\n",
       "    }\n",
       "</style>\n",
       "<table border=\"1\" class=\"dataframe\">\n",
       "  <thead>\n",
       "    <tr style=\"text-align: right;\">\n",
       "      <th></th>\n",
       "      <th>text_1</th>\n",
       "      <th>text_2</th>\n",
       "      <th>text_3</th>\n",
       "      <th>text_4</th>\n",
       "    </tr>\n",
       "  </thead>\n",
       "  <tbody>\n",
       "    <tr>\n",
       "      <td>506A0</td>\n",
       "      <td>0</td>\n",
       "      <td>0</td>\n",
       "      <td>0</td>\n",
       "      <td>0</td>\n",
       "    </tr>\n",
       "    <tr>\n",
       "      <td>506B1</td>\n",
       "      <td>0</td>\n",
       "      <td>0</td>\n",
       "      <td>0</td>\n",
       "      <td>0</td>\n",
       "    </tr>\n",
       "    <tr>\n",
       "      <td>506B2</td>\n",
       "      <td>0</td>\n",
       "      <td>0</td>\n",
       "      <td>0</td>\n",
       "      <td>0</td>\n",
       "    </tr>\n",
       "    <tr>\n",
       "      <td>506C1</td>\n",
       "      <td>0</td>\n",
       "      <td>0</td>\n",
       "      <td>0</td>\n",
       "      <td>0</td>\n",
       "    </tr>\n",
       "    <tr>\n",
       "      <td>506C2</td>\n",
       "      <td>0</td>\n",
       "      <td>0</td>\n",
       "      <td>0</td>\n",
       "      <td>0</td>\n",
       "    </tr>\n",
       "    <tr>\n",
       "      <td>...</td>\n",
       "      <td>...</td>\n",
       "      <td>...</td>\n",
       "      <td>...</td>\n",
       "      <td>...</td>\n",
       "    </tr>\n",
       "    <tr>\n",
       "      <td>740D3</td>\n",
       "      <td>0</td>\n",
       "      <td>0</td>\n",
       "      <td>0</td>\n",
       "      <td>0</td>\n",
       "    </tr>\n",
       "    <tr>\n",
       "      <td>740E0</td>\n",
       "      <td>0</td>\n",
       "      <td>0</td>\n",
       "      <td>0</td>\n",
       "      <td>0</td>\n",
       "    </tr>\n",
       "    <tr>\n",
       "      <td>740F0</td>\n",
       "      <td>0</td>\n",
       "      <td>0</td>\n",
       "      <td>0</td>\n",
       "      <td>0</td>\n",
       "    </tr>\n",
       "    <tr>\n",
       "      <td>740G0</td>\n",
       "      <td>0</td>\n",
       "      <td>0</td>\n",
       "      <td>0</td>\n",
       "      <td>0</td>\n",
       "    </tr>\n",
       "    <tr>\n",
       "      <td>740H0</td>\n",
       "      <td>0</td>\n",
       "      <td>0</td>\n",
       "      <td>0</td>\n",
       "      <td>0</td>\n",
       "    </tr>\n",
       "  </tbody>\n",
       "</table>\n",
       "<p>901 rows × 4 columns</p>\n",
       "</div>"
      ],
      "text/plain": [
       "      text_1 text_2 text_3 text_4\n",
       "506A0      0      0      0      0\n",
       "506B1      0      0      0      0\n",
       "506B2      0      0      0      0\n",
       "506C1      0      0      0      0\n",
       "506C2      0      0      0      0\n",
       "...      ...    ...    ...    ...\n",
       "740D3      0      0      0      0\n",
       "740E0      0      0      0      0\n",
       "740F0      0      0      0      0\n",
       "740G0      0      0      0      0\n",
       "740H0      0      0      0      0\n",
       "\n",
       "[901 rows x 4 columns]"
      ]
     },
     "execution_count": 27,
     "metadata": {},
     "output_type": "execute_result"
    }
   ],
   "source": [
    "df"
   ]
  },
  {
   "cell_type": "code",
   "execution_count": 28,
   "metadata": {},
   "outputs": [],
   "source": [
    "data_text1 = data_text.set_index('Waldort')"
   ]
  },
  {
   "cell_type": "code",
   "execution_count": 29,
   "metadata": {},
   "outputs": [],
   "source": [
    "for wo in index:\n",
    "    wof = data_text1.loc[wo]\n",
    "    temp = text_cutter(data_text1.loc[wo])\n",
    "\n",
    "    for i, txt in enumerate(temp):\n",
    "        #test_neu = text_splitter(i)\n",
    "        df.loc[wo, 'text_'+str(i+1)] = text_splitter(txt)\n",
    "    "
   ]
  },
  {
   "cell_type": "code",
   "execution_count": 30,
   "metadata": {},
   "outputs": [
    {
     "data": {
      "text/html": [
       "<div>\n",
       "<style scoped>\n",
       "    .dataframe tbody tr th:only-of-type {\n",
       "        vertical-align: middle;\n",
       "    }\n",
       "\n",
       "    .dataframe tbody tr th {\n",
       "        vertical-align: top;\n",
       "    }\n",
       "\n",
       "    .dataframe thead th {\n",
       "        text-align: right;\n",
       "    }\n",
       "</style>\n",
       "<table border=\"1\" class=\"dataframe\">\n",
       "  <thead>\n",
       "    <tr style=\"text-align: right;\">\n",
       "      <th></th>\n",
       "      <th>text_1</th>\n",
       "      <th>text_2</th>\n",
       "      <th>text_3</th>\n",
       "      <th>text_4</th>\n",
       "    </tr>\n",
       "  </thead>\n",
       "  <tbody>\n",
       "    <tr>\n",
       "      <td>506A0</td>\n",
       "      <td>0</td>\n",
       "      <td>0</td>\n",
       "      <td>0</td>\n",
       "      <td>0</td>\n",
       "    </tr>\n",
       "    <tr>\n",
       "      <td>506B1</td>\n",
       "      <td>BE   Laubholz schlecht geformt, geringe vitali...</td>\n",
       "      <td>0</td>\n",
       "      <td>0</td>\n",
       "      <td>0</td>\n",
       "    </tr>\n",
       "    <tr>\n",
       "      <td>506B2</td>\n",
       "      <td>ST   Grabeneinhang, 15 20 grad geneigt,</td>\n",
       "      <td>BE   sehr ungleichaltrig, im Norden unterhalb ...</td>\n",
       "      <td>0</td>\n",
       "      <td>0</td>\n",
       "    </tr>\n",
       "    <tr>\n",
       "      <td>506C1</td>\n",
       "      <td>ST   örtlich vernässt, im Südosten steiler,</td>\n",
       "      <td>BE   im Norden älter, im Südwesten jünger, am ...</td>\n",
       "      <td>0</td>\n",
       "      <td>0</td>\n",
       "    </tr>\n",
       "    <tr>\n",
       "      <td>506C2</td>\n",
       "      <td>BE   LA stark bedrängt, im Westen jünger 10 j,...</td>\n",
       "      <td>0</td>\n",
       "      <td>0</td>\n",
       "      <td>0</td>\n",
       "    </tr>\n",
       "    <tr>\n",
       "      <td>506D1</td>\n",
       "      <td>BE   einige KB, ES, WD, ungleichaltrig 5 j,</td>\n",
       "      <td>0</td>\n",
       "      <td>0</td>\n",
       "      <td>0</td>\n",
       "    </tr>\n",
       "    <tr>\n",
       "      <td>506D2</td>\n",
       "      <td>ST   Grabeneinhang,</td>\n",
       "      <td>BE   ungleichaltrig 5 j, im Norden älter, im S...</td>\n",
       "      <td>0</td>\n",
       "      <td>0</td>\n",
       "    </tr>\n",
       "    <tr>\n",
       "      <td>506D3</td>\n",
       "      <td>ST   Grabeneinhang, im Osten Exposition Nordwe...</td>\n",
       "      <td>BE   im Nordwesten lückig, einige ES, WD, BU i...</td>\n",
       "      <td>0</td>\n",
       "      <td>0</td>\n",
       "    </tr>\n",
       "    <tr>\n",
       "      <td>506D4</td>\n",
       "      <td>BE   geschlägert früher d1,</td>\n",
       "      <td>0</td>\n",
       "      <td>0</td>\n",
       "      <td>0</td>\n",
       "    </tr>\n",
       "    <tr>\n",
       "      <td>506E1</td>\n",
       "      <td>ST   unterhalb Straße im Westen Standortseinhe...</td>\n",
       "      <td>BE   BU besonders im Südwesten an Straße, dort...</td>\n",
       "      <td>0</td>\n",
       "      <td>0</td>\n",
       "    </tr>\n",
       "  </tbody>\n",
       "</table>\n",
       "</div>"
      ],
      "text/plain": [
       "                                                  text_1  \\\n",
       "506A0                                                  0   \n",
       "506B1  BE   Laubholz schlecht geformt, geringe vitali...   \n",
       "506B2            ST   Grabeneinhang, 15 20 grad geneigt,   \n",
       "506C1        ST   örtlich vernässt, im Südosten steiler,   \n",
       "506C2  BE   LA stark bedrängt, im Westen jünger 10 j,...   \n",
       "506D1        BE   einige KB, ES, WD, ungleichaltrig 5 j,   \n",
       "506D2                                ST   Grabeneinhang,   \n",
       "506D3  ST   Grabeneinhang, im Osten Exposition Nordwe...   \n",
       "506D4                        BE   geschlägert früher d1,   \n",
       "506E1  ST   unterhalb Straße im Westen Standortseinhe...   \n",
       "\n",
       "                                                  text_2 text_3 text_4  \n",
       "506A0                                                  0      0      0  \n",
       "506B1                                                  0      0      0  \n",
       "506B2  BE   sehr ungleichaltrig, im Norden unterhalb ...      0      0  \n",
       "506C1  BE   im Norden älter, im Südwesten jünger, am ...      0      0  \n",
       "506C2                                                  0      0      0  \n",
       "506D1                                                  0      0      0  \n",
       "506D2  BE   ungleichaltrig 5 j, im Norden älter, im S...      0      0  \n",
       "506D3  BE   im Nordwesten lückig, einige ES, WD, BU i...      0      0  \n",
       "506D4                                                  0      0      0  \n",
       "506E1  BE   BU besonders im Südwesten an Straße, dort...      0      0  "
      ]
     },
     "execution_count": 30,
     "metadata": {},
     "output_type": "execute_result"
    }
   ],
   "source": [
    "df.iloc[:10]"
   ]
  },
  {
   "cell_type": "code",
   "execution_count": 32,
   "metadata": {},
   "outputs": [],
   "source": [
    "df['Waldort'] = df.index"
   ]
  },
  {
   "cell_type": "code",
   "execution_count": 33,
   "metadata": {},
   "outputs": [],
   "source": [
    "data_path = os.path.join(home_path, 'data', 'obf', 'merge', 'text')\n",
    "df.to_csv(data_path + \"/text_171_01.csv\", index=False)"
   ]
  },
  {
   "cell_type": "code",
   "execution_count": null,
   "metadata": {},
   "outputs": [],
   "source": []
  }
 ],
 "metadata": {
  "kernelspec": {
   "display_name": "MachineLearing",
   "language": "python",
   "name": "ml"
  },
  "language_info": {
   "codemirror_mode": {
    "name": "ipython",
    "version": 3
   },
   "file_extension": ".py",
   "mimetype": "text/x-python",
   "name": "python",
   "nbconvert_exporter": "python",
   "pygments_lexer": "ipython3",
   "version": "3.7.4"
  }
 },
 "nbformat": 4,
 "nbformat_minor": 2
}
