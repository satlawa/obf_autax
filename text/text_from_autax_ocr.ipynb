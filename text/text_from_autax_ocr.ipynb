{
 "cells": [
  {
   "cell_type": "code",
   "execution_count": 1,
   "metadata": {},
   "outputs": [],
   "source": [
    "import os\n",
    "import numpy as np\n",
    "import pandas as pd\n",
    "import re"
   ]
  },
  {
   "cell_type": "code",
   "execution_count": 2,
   "metadata": {},
   "outputs": [
    {
     "name": "stdout",
     "output_type": "stream",
     "text": [
      "/home/philipp\n",
      "/home/philipp/Data/obf_autax/haselbach/text_171_11_20201104.csv\n"
     ]
    }
   ],
   "source": [
    "# set home directory\n",
    "home_path = os.getcwd()[:os.getcwd().find('Code/python/obf_autax/text')-1]\n",
    "# set bz_path\n",
    "bz_path = os.path.join(home_path, 'Data', 'obf_autax', 'haselbach', 'text_171_11_20201104.csv')\n",
    "\n",
    "print(home_path)\n",
    "print(bz_path)"
   ]
  },
  {
   "cell_type": "code",
   "execution_count": 3,
   "metadata": {},
   "outputs": [],
   "source": [
    "text_data = pd.read_csv(bz_path)"
   ]
  },
  {
   "cell_type": "code",
   "execution_count": 4,
   "metadata": {},
   "outputs": [],
   "source": [
    "text_data = text_data.iloc[:,:5]"
   ]
  },
  {
   "cell_type": "code",
   "execution_count": 5,
   "metadata": {},
   "outputs": [],
   "source": [
    "text_data.columns = ['Waldort', 'text_1', 'text_2', 'text_3', 'text_4']"
   ]
  },
  {
   "cell_type": "code",
   "execution_count": 6,
   "metadata": {},
   "outputs": [
    {
     "name": "stderr",
     "output_type": "stream",
     "text": [
      "/home/philipp/miniconda3/envs/autax_rec/lib/python3.7/site-packages/IPython/core/interactiveshell.py:3058: DtypeWarning: Columns (29,102,103,108,112,113,114,124,126,144,145,146,147,148) have mixed types. Specify dtype option on import or set low_memory=False.\n",
      "  interactivity=interactivity, compiler=compiler, result=result)\n"
     ]
    }
   ],
   "source": [
    "# set raw_path\n",
    "raw_path = os.path.join(home_path, 'Data', 'obf_autman', 'sources', 'TO_1310_11_roh.XLS')\n",
    "# read tsv\n",
    "wo_data = pd.read_csv(raw_path, sep='\\t', encoding = \"ISO-8859-1\", decimal=',', error_bad_lines=False)\n",
    "# filter relevant data\n",
    "wo_data = wo_data[wo_data['Best.-Schicht'] == 0]"
   ]
  },
  {
   "cell_type": "code",
   "execution_count": 7,
   "metadata": {},
   "outputs": [],
   "source": [
    "# merge\n",
    "\n",
    "# sort data\n",
    "wo_data.sort_values(by=['Abteilung', 'WE-Typ', 'Unterabteil.', 'Teilfl.'], ascending=[True,False,True,True], inplace=True)\n",
    "wo_data = wo_data[['Waldort', 'WE-Typ']]\n",
    "\n",
    "merge_data = pd.merge(wo_data, text_data, how='left', on='Waldort')"
   ]
  },
  {
   "cell_type": "code",
   "execution_count": 9,
   "metadata": {},
   "outputs": [],
   "source": [
    "# set bz_path\n",
    "save_path = os.path.join(home_path, 'Data', 'obf_autman', 'csv', 'text_autax_1310_171_11_20201105.csv')\n",
    "merge_data.to_csv(save_path, index=False)"
   ]
  },
  {
   "cell_type": "code",
   "execution_count": null,
   "metadata": {},
   "outputs": [],
   "source": []
  }
 ],
 "metadata": {
  "kernelspec": {
   "display_name": "autax_rec",
   "language": "python",
   "name": "autax_rec"
  },
  "language_info": {
   "codemirror_mode": {
    "name": "ipython",
    "version": 3
   },
   "file_extension": ".py",
   "mimetype": "text/x-python",
   "name": "python",
   "nbconvert_exporter": "python",
   "pygments_lexer": "ipython3",
   "version": "3.7.4"
  }
 },
 "nbformat": 4,
 "nbformat_minor": 4
}
