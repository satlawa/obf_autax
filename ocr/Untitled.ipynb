{
 "cells": [
  {
   "cell_type": "code",
   "execution_count": 1,
   "metadata": {},
   "outputs": [],
   "source": [
    "import os\n",
    "import h5py\n",
    "import cv2\n",
    "import numpy as np\n",
    "import pandas as pd\n",
    "import sklearn as skl\n",
    "from matplotlib import pyplot as plt\n",
    "\n",
    "from pdf2image import convert_from_path, convert_from_bytes\n",
    "import pytesseract\n",
    "\n",
    "from OCRPharse3 import OCRPharse3\n",
    "from OCRData import OCRData"
   ]
  },
  {
   "cell_type": "code",
   "execution_count": 2,
   "metadata": {},
   "outputs": [],
   "source": [
    "data = OCRData('012B1')"
   ]
  },
  {
   "cell_type": "code",
   "execution_count": 3,
   "metadata": {},
   "outputs": [
    {
     "name": "stdout",
     "output_type": "stream",
     "text": [
      "bz1 = 4 BU\n",
      "bz2 = 3 KI\n",
      "bz3 = 3 AH\n"
     ]
    }
   ],
   "source": [
    "data.set_bz('4BU 3KI 3AH')"
   ]
  },
  {
   "cell_type": "code",
   "execution_count": 4,
   "metadata": {},
   "outputs": [
    {
     "name": "stdout",
     "output_type": "stream",
     "text": [
      "text1 = ST   unten STOE 23\n",
      "text2 = BE   oben vl BU, an Besitzgrenze Wiesen-BL, unten älter u besser, vl Lagerholz, Fl teils geringe Kronen unten stabiler, einz. TA\n",
      "text3 = MA   ZV, 1 GH, nächstes Dez. LI KH Verbot!\n"
     ]
    }
   ],
   "source": [
    "data.set_text('ST unten STOE 23\\nBE oben vl BU, an Besitzgrenze Wiesen-BL, unten älter u besser, vl Lagerholz, Fl teils geringe Kronen unten stabiler, einz. TA\\nMA ZV, 1 GH, nächstes Dez. LI KH Verbot!')"
   ]
  },
  {
   "cell_type": "code",
   "execution_count": 5,
   "metadata": {},
   "outputs": [],
   "source": [
    "data.set_uz('I2O')"
   ]
  },
  {
   "cell_type": "code",
   "execution_count": 8,
   "metadata": {},
   "outputs": [],
   "source": [
    "data.set_stoe('S4')"
   ]
  },
  {
   "cell_type": "code",
   "execution_count": 12,
   "metadata": {},
   "outputs": [],
   "source": [
    "data.set_vtyp('55')"
   ]
  },
  {
   "cell_type": "code",
   "execution_count": 13,
   "metadata": {},
   "outputs": [
    {
     "data": {
      "text/plain": [
       "'SS'"
      ]
     },
     "execution_count": 13,
     "metadata": {},
     "output_type": "execute_result"
    }
   ],
   "source": [
    "data.vtyp"
   ]
  },
  {
   "cell_type": "code",
   "execution_count": null,
   "metadata": {},
   "outputs": [],
   "source": []
  },
  {
   "cell_type": "code",
   "execution_count": 4,
   "metadata": {},
   "outputs": [],
   "source": [
    "data.bz(\"4BU 3KI 3AH\")"
   ]
  },
  {
   "cell_type": "code",
   "execution_count": 5,
   "metadata": {},
   "outputs": [
    {
     "data": {
      "text/plain": [
       "BAZiel(part=0, ba='', error=False)"
      ]
     },
     "execution_count": 5,
     "metadata": {},
     "output_type": "execute_result"
    }
   ],
   "source": [
    "data.bz"
   ]
  },
  {
   "cell_type": "code",
   "execution_count": 7,
   "metadata": {},
   "outputs": [
    {
     "name": "stdout",
     "output_type": "stream",
     "text": [
      "4BU\n",
      "4\n",
      "BU\n"
     ]
    },
    {
     "data": {
      "text/plain": [
       "BAZiel(part=4, ba='BU', error=False)"
      ]
     },
     "execution_count": 7,
     "metadata": {},
     "output_type": "execute_result"
    }
   ],
   "source": [
    "data.bz.from_string(\"4BU\")"
   ]
  },
  {
   "cell_type": "code",
   "execution_count": 8,
   "metadata": {},
   "outputs": [
    {
     "data": {
      "text/plain": [
       "BAZiel(part=0, ba='', error=False)"
      ]
     },
     "execution_count": 8,
     "metadata": {},
     "output_type": "execute_result"
    }
   ],
   "source": [
    "data.bz"
   ]
  },
  {
   "cell_type": "code",
   "execution_count": 10,
   "metadata": {},
   "outputs": [],
   "source": [
    "x = \"4BU IKI SAH\""
   ]
  },
  {
   "cell_type": "code",
   "execution_count": 27,
   "metadata": {},
   "outputs": [],
   "source": [
    "xx = x.split()"
   ]
  },
  {
   "cell_type": "code",
   "execution_count": 15,
   "metadata": {},
   "outputs": [],
   "source": [
    "def set_bz(bz_as_str):\n",
    "    \n",
    "    bz_as_str = bz_as_str.split()\n",
    "    \n",
    "    bz_as_str = bz_as_str[:5]\n",
    "    \n",
    "    for i, bz_part in enumerate(bz_as_str):\n",
    "        part = clean_errors(bz_part)\n",
    "        \n",
    "        if i == 0:\n",
    "            bz1 = part\n",
    "            print('bz1 = ' + bz1)\n",
    "        elif i == 1:\n",
    "            bz2 = part\n",
    "            print('bz2 = ' + bz2)\n",
    "        elif i == 2:\n",
    "            bz3= part\n",
    "            print('bz3 = ' + bz3)\n",
    "        elif i == 3:\n",
    "            bz4 = part\n",
    "            print('bz4 = ' + bz4)\n",
    "        elif i == 4:\n",
    "            bz5 = part\n",
    "            print('bz5 = ' + bz5)\n",
    "    "
   ]
  },
  {
   "cell_type": "code",
   "execution_count": 16,
   "metadata": {},
   "outputs": [],
   "source": [
    "def clean_errors(text):\n",
    "    text = text.replace(\" \", \"\")\n",
    "    \n",
    "    digit = clean_digits(text[0])\n",
    "    \n",
    "    ba = clean_text(text[1:])\n",
    "        \n",
    "    text = digit + ' ' + ba\n",
    "    \n",
    "    return text"
   ]
  },
  {
   "cell_type": "code",
   "execution_count": 17,
   "metadata": {},
   "outputs": [
    {
     "name": "stdout",
     "output_type": "stream",
     "text": [
      "bz1 = 4 BU\n",
      "bz2 = 1 KI\n",
      "bz3 = 5 AH\n"
     ]
    }
   ],
   "source": [
    "set_bz(\"48U IK1 SAH\")"
   ]
  },
  {
   "cell_type": "code",
   "execution_count": null,
   "metadata": {},
   "outputs": [],
   "source": []
  },
  {
   "cell_type": "code",
   "execution_count": 13,
   "metadata": {},
   "outputs": [],
   "source": [
    "def clean_digits(text):\n",
    "    \n",
    "    if 'I' in text:\n",
    "        text = text.replace('I','1')\n",
    "    if 'l' in text:\n",
    "        text = text.replace('l','1')\n",
    "    if 't' in text:\n",
    "        text = text.replace('t','1')\n",
    "    if '|' in text:\n",
    "        text = text.replace('|','1')\n",
    "    if 'O' in text:\n",
    "        text = text.replace('O','0')\n",
    "    if 'S' in text:\n",
    "        text = text.replace('S','5')\n",
    "    if 'B' in text:\n",
    "        text = text.replace('B','8')\n",
    "        \n",
    "    return text"
   ]
  },
  {
   "cell_type": "code",
   "execution_count": 14,
   "metadata": {},
   "outputs": [],
   "source": [
    "def clean_text(text):\n",
    "    \n",
    "    if '1' in text:\n",
    "        text = text.replace('1','I')\n",
    "    if '|' in text:\n",
    "        text = text.replace('|','I')\n",
    "    if '0' in text:\n",
    "        text = text.replace('0','O')\n",
    "    if '5' in text:\n",
    "        text = text.replace('5','S')\n",
    "    if '8' in text:\n",
    "        text = text.replace('8','B')\n",
    "        \n",
    "    return text"
   ]
  },
  {
   "cell_type": "code",
   "execution_count": null,
   "metadata": {},
   "outputs": [],
   "source": []
  },
  {
   "cell_type": "code",
   "execution_count": 14,
   "metadata": {},
   "outputs": [],
   "source": [
    "d = {'col1': [], 'col2': []}\n",
    "df = pd.DataFrame(data=d)"
   ]
  },
  {
   "cell_type": "code",
   "execution_count": 15,
   "metadata": {},
   "outputs": [
    {
     "data": {
      "text/html": [
       "<div>\n",
       "<style scoped>\n",
       "    .dataframe tbody tr th:only-of-type {\n",
       "        vertical-align: middle;\n",
       "    }\n",
       "\n",
       "    .dataframe tbody tr th {\n",
       "        vertical-align: top;\n",
       "    }\n",
       "\n",
       "    .dataframe thead th {\n",
       "        text-align: right;\n",
       "    }\n",
       "</style>\n",
       "<table border=\"1\" class=\"dataframe\">\n",
       "  <thead>\n",
       "    <tr style=\"text-align: right;\">\n",
       "      <th></th>\n",
       "      <th>col1</th>\n",
       "      <th>col2</th>\n",
       "    </tr>\n",
       "  </thead>\n",
       "  <tbody>\n",
       "  </tbody>\n",
       "</table>\n",
       "</div>"
      ],
      "text/plain": [
       "Empty DataFrame\n",
       "Columns: [col1, col2]\n",
       "Index: []"
      ]
     },
     "execution_count": 15,
     "metadata": {},
     "output_type": "execute_result"
    }
   ],
   "source": [
    "df"
   ]
  },
  {
   "cell_type": "code",
   "execution_count": 16,
   "metadata": {},
   "outputs": [],
   "source": [
    "df2 = pd.DataFrame(columns=['a', 'b', 'c'])"
   ]
  },
  {
   "cell_type": "code",
   "execution_count": 17,
   "metadata": {},
   "outputs": [
    {
     "data": {
      "text/html": [
       "<div>\n",
       "<style scoped>\n",
       "    .dataframe tbody tr th:only-of-type {\n",
       "        vertical-align: middle;\n",
       "    }\n",
       "\n",
       "    .dataframe tbody tr th {\n",
       "        vertical-align: top;\n",
       "    }\n",
       "\n",
       "    .dataframe thead th {\n",
       "        text-align: right;\n",
       "    }\n",
       "</style>\n",
       "<table border=\"1\" class=\"dataframe\">\n",
       "  <thead>\n",
       "    <tr style=\"text-align: right;\">\n",
       "      <th></th>\n",
       "      <th>a</th>\n",
       "      <th>b</th>\n",
       "      <th>c</th>\n",
       "    </tr>\n",
       "  </thead>\n",
       "  <tbody>\n",
       "  </tbody>\n",
       "</table>\n",
       "</div>"
      ],
      "text/plain": [
       "Empty DataFrame\n",
       "Columns: [a, b, c]\n",
       "Index: []"
      ]
     },
     "execution_count": 17,
     "metadata": {},
     "output_type": "execute_result"
    }
   ],
   "source": [
    "df2"
   ]
  },
  {
   "cell_type": "code",
   "execution_count": null,
   "metadata": {},
   "outputs": [],
   "source": [
    "df."
   ]
  },
  {
   "cell_type": "code",
   "execution_count": null,
   "metadata": {},
   "outputs": [],
   "source": []
  },
  {
   "cell_type": "code",
   "execution_count": null,
   "metadata": {},
   "outputs": [],
   "source": []
  },
  {
   "cell_type": "code",
   "execution_count": 1,
   "metadata": {},
   "outputs": [],
   "source": [
    "import os\n",
    "import h5py\n",
    "import cv2\n",
    "import numpy as np\n",
    "import pandas as pd\n",
    "import sklearn as skl\n",
    "from matplotlib import pyplot as plt\n",
    "\n",
    "from pdf2image import convert_from_path, convert_from_bytes\n",
    "import pytesseract\n",
    "\n",
    "from OCRVision import OCRVision\n",
    "from OCRPharse3 import OCRPharse3\n",
    "from OCRData import OCRData"
   ]
  },
  {
   "cell_type": "code",
   "execution_count": 2,
   "metadata": {},
   "outputs": [],
   "source": [
    "# set home directory\n",
    "home_path = os.getcwd()[:os.getcwd().find('Code/python/obf_autax/ocr')-1]\n",
    "# set input_path\n",
    "input_path = os.path.join(home_path, 'Data', 'obf_autman', 'pdf', 'Manuale_Faistenau_20201101.pdf')\n",
    "# Operat Hinterriß\n",
    "# Manuale_Pernitz_PS\n",
    "# 171_11_GS_Mannersdorf\n",
    "# 171_12_PS_Pernitz\n",
    "\n",
    "# Manuale_Faistenau_20201101\n",
    "# Manuale_Haselbach_Mannersdorf_20200430"
   ]
  },
  {
   "cell_type": "code",
   "execution_count": 3,
   "metadata": {},
   "outputs": [],
   "source": [
    "# convert pdf to image (pdf2image)\n",
    "def convert_to_image(input_path, page_nr):\n",
    "\n",
    "    pages = convert_from_path(input_path, 500, first_page=page_nr, last_page=page_nr)\n",
    "\n",
    "    return pages[0]"
   ]
  },
  {
   "cell_type": "code",
   "execution_count": 4,
   "metadata": {},
   "outputs": [],
   "source": [
    "#img = convert_to_image(input_path, 3).convert('RGB')\n",
    "#img = np.array(img)\n",
    "# 113\n",
    "\n",
    "img = convert_to_image(input_path, 720).convert('RGB')\n",
    "img = np.array(img)"
   ]
  },
  {
   "cell_type": "code",
   "execution_count": 5,
   "metadata": {},
   "outputs": [],
   "source": [
    "data = OCRPharse3()"
   ]
  },
  {
   "cell_type": "code",
   "execution_count": 6,
   "metadata": {},
   "outputs": [
    {
     "name": "stdout",
     "output_type": "stream",
     "text": [
      "094 B1\n",
      "text1 = ST   unten STOE 23\n",
      "text2 = BE   oben vl BU, an Besitzgrenze Wiesen-BL, unten älter u besser, vl Lagerholz, Fl teils geringe Kronen unten stabiler, einz. TA\n",
      "text3 = MA   ZV, 1 GH, nächstes Dez. LI KH Verbot!\n",
      "bz1 = 5 FI\n",
      "bz2 = 1 LA\n",
      "bz3 = 3 BU\n",
      "bz4 = 1 TA\n"
     ]
    }
   ],
   "source": [
    "data.pharse_page(img)"
   ]
  },
  {
   "cell_type": "code",
   "execution_count": 12,
   "metadata": {},
   "outputs": [
    {
     "data": {
      "text/plain": [
       "[['094B1', '5 FI', '1 LA', '3 BU', '1 TA', ''],\n",
       " ['094B2', '', '', '', '', ''],\n",
       " ['094D1', '6 FI', '3 TA', '1 BU', '', '']]"
      ]
     },
     "execution_count": 12,
     "metadata": {},
     "output_type": "execute_result"
    }
   ],
   "source": [
    "data.bz"
   ]
  },
  {
   "cell_type": "code",
   "execution_count": 13,
   "metadata": {},
   "outputs": [
    {
     "data": {
      "text/plain": [
       "[['094B1',\n",
       "  'ST   unten STOE 23',\n",
       "  'BE   oben vl BU, an Besitzgrenze Wiesen-BL, unten älter u besser, vl Lagerholz, Fl teils geringe Kronen unten stabiler, einz. TA',\n",
       "  'MA   ZV, 1 GH, nächstes Dez. LI KH Verbot!',\n",
       "  '',\n",
       "  ''],\n",
       " ['094B2', '', '', '', '', ''],\n",
       " ['094D1',\n",
       "  'ST   verkrautet und teils vergrast, vl Bäche',\n",
       "  '',\n",
       "  'BE   wenig VJ, TA verbissen; im SO an STR jger, unten vl TA, einz. BU; anerkannter Saatgut-BE, im W s lückig, geschlägerte Käferbäume, im O dichter',\n",
       "  'und vi Wipfelbrüche',\n",
       "  '']]"
      ]
     },
     "execution_count": 13,
     "metadata": {},
     "output_type": "execute_result"
    }
   ],
   "source": [
    "data.text"
   ]
  },
  {
   "cell_type": "code",
   "execution_count": 14,
   "metadata": {},
   "outputs": [
    {
     "data": {
      "text/plain": [
       "[['094B1', 0, 0, 23, '', 0],\n",
       " ['094B2', 0, 0, 0, '', 0],\n",
       " ['094D1', 0, 0, 0, '', '2']]"
      ]
     },
     "execution_count": 14,
     "metadata": {},
     "output_type": "execute_result"
    }
   ],
   "source": [
    "data.wo_data"
   ]
  },
  {
   "cell_type": "code",
   "execution_count": 11,
   "metadata": {},
   "outputs": [
    {
     "name": "stdout",
     "output_type": "stream",
     "text": [
      "094 D1\n",
      "text1 = ST   verkrautet und teils vergrast, vl Bäche\n",
      "text2 = \n",
      "text3 = BE   wenig VJ, TA verbissen; im SO an STR jger, unten vl TA, einz. BU; anerkannter Saatgut-BE, im W s lückig, geschlägerte Käferbäume, im O dichter\n",
      "text4 = und vi Wipfelbrüche\n",
      "text5 = \n",
      "bz1 = 6 FI\n",
      "bz2 = 3 TA\n",
      "bz3 = 1 BU\n"
     ]
    }
   ],
   "source": [
    "img = convert_to_image(input_path, 722).convert('RGB')\n",
    "img = np.array(img)\n",
    "data.pharse_page(img)"
   ]
  },
  {
   "cell_type": "code",
   "execution_count": null,
   "metadata": {},
   "outputs": [],
   "source": []
  },
  {
   "cell_type": "code",
   "execution_count": 16,
   "metadata": {},
   "outputs": [
    {
     "data": {
      "text/plain": [
       "<OCRPharse3.OCRPharse3 at 0x7f3d3d37ba50>"
      ]
     },
     "execution_count": 16,
     "metadata": {},
     "output_type": "execute_result"
    }
   ],
   "source": [
    "data"
   ]
  },
  {
   "cell_type": "code",
   "execution_count": 17,
   "metadata": {},
   "outputs": [],
   "source": [
    "ocr = OCRVision(img)"
   ]
  },
  {
   "cell_type": "code",
   "execution_count": 18,
   "metadata": {},
   "outputs": [
    {
     "data": {
      "text/plain": [
       "'094 B1'"
      ]
     },
     "execution_count": 18,
     "metadata": {},
     "output_type": "execute_result"
    }
   ],
   "source": [
    "ocr.get_text('abt')"
   ]
  },
  {
   "cell_type": "code",
   "execution_count": null,
   "metadata": {},
   "outputs": [],
   "source": []
  }
 ],
 "metadata": {
  "kernelspec": {
   "display_name": "autax_rec",
   "language": "python",
   "name": "autax_rec"
  },
  "language_info": {
   "codemirror_mode": {
    "name": "ipython",
    "version": 3
   },
   "file_extension": ".py",
   "mimetype": "text/x-python",
   "name": "python",
   "nbconvert_exporter": "python",
   "pygments_lexer": "ipython3",
   "version": "3.7.4"
  }
 },
 "nbformat": 4,
 "nbformat_minor": 4
}
