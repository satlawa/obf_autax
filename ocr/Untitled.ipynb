{
 "cells": [
  {
   "cell_type": "code",
   "execution_count": 1,
   "metadata": {},
   "outputs": [],
   "source": [
    "import os\n",
    "import h5py\n",
    "import cv2\n",
    "import numpy as np\n",
    "import pandas as pd\n",
    "import sklearn as skl\n",
    "from matplotlib import pyplot as plt\n",
    "\n",
    "from pdf2image import convert_from_path, convert_from_bytes\n",
    "import pytesseract\n",
    "\n",
    "from OCRPage import OCRPage\n",
    "from OCRPharse import OCRPharse\n",
    "from OCRData import OCRData"
   ]
  },
  {
   "cell_type": "code",
   "execution_count": 2,
   "metadata": {},
   "outputs": [],
   "source": [
    "data = OCRData('012B1')"
   ]
  },
  {
   "cell_type": "code",
   "execution_count": 3,
   "metadata": {},
   "outputs": [
    {
     "name": "stdout",
     "output_type": "stream",
     "text": [
      "bz1 = 4 BU\n",
      "bz2 = 3 KI\n",
      "bz3 = 3 AH\n"
     ]
    }
   ],
   "source": [
    "data.set_bz(\"4BU 3KI 3AH\")"
   ]
  },
  {
   "cell_type": "code",
   "execution_count": 4,
   "metadata": {},
   "outputs": [
    {
     "name": "stdout",
     "output_type": "stream",
     "text": [
      "text1 = ST   unten STOE 23\n",
      "text2 = BE   oben vl BU, an Besitzgrenze Wiesen-BL, unten älter u besser, vl Lagerholz, Fl teils geringe Kronen unten stabiler, einz. TA\n",
      "text3 = MA   ZV, 1 GH, nächstes Dez. LI KH Verbot!\n"
     ]
    }
   ],
   "source": [
    "data.set_text('ST unten STOE 23\\nBE oben vl BU, an Besitzgrenze Wiesen-BL, unten älter u besser, vl Lagerholz, Fl teils geringe Kronen unten stabiler, einz. TA\\nMA ZV, 1 GH, nächstes Dez. LI KH Verbot!')"
   ]
  },
  {
   "cell_type": "code",
   "execution_count": null,
   "metadata": {},
   "outputs": [],
   "source": []
  },
  {
   "cell_type": "code",
   "execution_count": 4,
   "metadata": {},
   "outputs": [
    {
     "data": {
      "text/plain": [
       "''"
      ]
     },
     "execution_count": 4,
     "metadata": {},
     "output_type": "execute_result"
    }
   ],
   "source": [
    "data.text1"
   ]
  },
  {
   "cell_type": "code",
   "execution_count": 5,
   "metadata": {},
   "outputs": [],
   "source": [
    "data.bkl = 9010"
   ]
  },
  {
   "cell_type": "code",
   "execution_count": 6,
   "metadata": {},
   "outputs": [
    {
     "data": {
      "text/plain": [
       "9010"
      ]
     },
     "execution_count": 6,
     "metadata": {},
     "output_type": "execute_result"
    }
   ],
   "source": [
    "data.bkl"
   ]
  },
  {
   "cell_type": "code",
   "execution_count": 4,
   "metadata": {},
   "outputs": [],
   "source": [
    "data.bz(\"4BU 3KI 3AH\")"
   ]
  },
  {
   "cell_type": "code",
   "execution_count": 5,
   "metadata": {},
   "outputs": [
    {
     "data": {
      "text/plain": [
       "BAZiel(part=0, ba='', error=False)"
      ]
     },
     "execution_count": 5,
     "metadata": {},
     "output_type": "execute_result"
    }
   ],
   "source": [
    "data.bz"
   ]
  },
  {
   "cell_type": "code",
   "execution_count": 7,
   "metadata": {},
   "outputs": [
    {
     "name": "stdout",
     "output_type": "stream",
     "text": [
      "4BU\n",
      "4\n",
      "BU\n"
     ]
    },
    {
     "data": {
      "text/plain": [
       "BAZiel(part=4, ba='BU', error=False)"
      ]
     },
     "execution_count": 7,
     "metadata": {},
     "output_type": "execute_result"
    }
   ],
   "source": [
    "data.bz.from_string(\"4BU\")"
   ]
  },
  {
   "cell_type": "code",
   "execution_count": 8,
   "metadata": {},
   "outputs": [
    {
     "data": {
      "text/plain": [
       "BAZiel(part=0, ba='', error=False)"
      ]
     },
     "execution_count": 8,
     "metadata": {},
     "output_type": "execute_result"
    }
   ],
   "source": [
    "data.bz"
   ]
  },
  {
   "cell_type": "code",
   "execution_count": 10,
   "metadata": {},
   "outputs": [],
   "source": [
    "x = \"4BU IKI SAH\""
   ]
  },
  {
   "cell_type": "code",
   "execution_count": 27,
   "metadata": {},
   "outputs": [],
   "source": [
    "xx = x.split()"
   ]
  },
  {
   "cell_type": "code",
   "execution_count": 15,
   "metadata": {},
   "outputs": [],
   "source": [
    "def set_bz(bz_as_str):\n",
    "    \n",
    "    bz_as_str = bz_as_str.split()\n",
    "    \n",
    "    bz_as_str = bz_as_str[:5]\n",
    "    \n",
    "    for i, bz_part in enumerate(bz_as_str):\n",
    "        part = clean_errors(bz_part)\n",
    "        \n",
    "        if i == 0:\n",
    "            bz1 = part\n",
    "            print('bz1 = ' + bz1)\n",
    "        elif i == 1:\n",
    "            bz2 = part\n",
    "            print('bz2 = ' + bz2)\n",
    "        elif i == 2:\n",
    "            bz3= part\n",
    "            print('bz3 = ' + bz3)\n",
    "        elif i == 3:\n",
    "            bz4 = part\n",
    "            print('bz4 = ' + bz4)\n",
    "        elif i == 4:\n",
    "            bz5 = part\n",
    "            print('bz5 = ' + bz5)\n",
    "    "
   ]
  },
  {
   "cell_type": "code",
   "execution_count": 16,
   "metadata": {},
   "outputs": [],
   "source": [
    "def clean_errors(text):\n",
    "    text = text.replace(\" \", \"\")\n",
    "    \n",
    "    digit = clean_digits(text[0])\n",
    "    \n",
    "    ba = clean_text(text[1:])\n",
    "        \n",
    "    text = digit + ' ' + ba\n",
    "    \n",
    "    return text"
   ]
  },
  {
   "cell_type": "code",
   "execution_count": 17,
   "metadata": {},
   "outputs": [
    {
     "name": "stdout",
     "output_type": "stream",
     "text": [
      "bz1 = 4 BU\n",
      "bz2 = 1 KI\n",
      "bz3 = 5 AH\n"
     ]
    }
   ],
   "source": [
    "set_bz(\"48U IK1 SAH\")"
   ]
  },
  {
   "cell_type": "code",
   "execution_count": null,
   "metadata": {},
   "outputs": [],
   "source": []
  },
  {
   "cell_type": "code",
   "execution_count": 13,
   "metadata": {},
   "outputs": [],
   "source": [
    "def clean_digits(text):\n",
    "    \n",
    "    if 'I' in text:\n",
    "        text = text.replace('I','1')\n",
    "    if 'l' in text:\n",
    "        text = text.replace('l','1')\n",
    "    if 't' in text:\n",
    "        text = text.replace('t','1')\n",
    "    if '|' in text:\n",
    "        text = text.replace('|','1')\n",
    "    if 'O' in text:\n",
    "        text = text.replace('O','0')\n",
    "    if 'S' in text:\n",
    "        text = text.replace('S','5')\n",
    "    if 'B' in text:\n",
    "        text = text.replace('B','8')\n",
    "        \n",
    "    return text"
   ]
  },
  {
   "cell_type": "code",
   "execution_count": 14,
   "metadata": {},
   "outputs": [],
   "source": [
    "def clean_text(text):\n",
    "    \n",
    "    if '1' in text:\n",
    "        text = text.replace('1','I')\n",
    "    if '|' in text:\n",
    "        text = text.replace('|','I')\n",
    "    if '0' in text:\n",
    "        text = text.replace('0','O')\n",
    "    if '5' in text:\n",
    "        text = text.replace('5','S')\n",
    "    if '8' in text:\n",
    "        text = text.replace('8','B')\n",
    "        \n",
    "    return text"
   ]
  },
  {
   "cell_type": "code",
   "execution_count": null,
   "metadata": {},
   "outputs": [],
   "source": []
  }
 ],
 "metadata": {
  "kernelspec": {
   "display_name": "autax_rec",
   "language": "python",
   "name": "autax_rec"
  },
  "language_info": {
   "codemirror_mode": {
    "name": "ipython",
    "version": 3
   },
   "file_extension": ".py",
   "mimetype": "text/x-python",
   "name": "python",
   "nbconvert_exporter": "python",
   "pygments_lexer": "ipython3",
   "version": "3.7.4"
  }
 },
 "nbformat": 4,
 "nbformat_minor": 4
}
