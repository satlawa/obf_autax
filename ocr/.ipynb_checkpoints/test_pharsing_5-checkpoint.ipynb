{
 "cells": [
  {
   "cell_type": "code",
   "execution_count": 1,
   "metadata": {},
   "outputs": [],
   "source": [
    "# Create csv with measures (Nutzungen) from pdf"
   ]
  },
  {
   "cell_type": "code",
   "execution_count": 1,
   "metadata": {},
   "outputs": [],
   "source": [
    "import os\n",
    "import h5py\n",
    "import cv2\n",
    "import numpy as np\n",
    "import pandas as pd\n",
    "import sklearn as skl\n",
    "from matplotlib import pyplot as plt\n",
    "\n",
    "from pdf2image import convert_from_path, convert_from_bytes\n",
    "import pytesseract\n",
    "\n",
    "from OCRPage import OCRPage\n",
    "from OCRPharse import OCRPharse"
   ]
  },
  {
   "cell_type": "code",
   "execution_count": 2,
   "metadata": {},
   "outputs": [],
   "source": [
    "# set home directory\n",
    "home_path = os.getcwd()[:os.getcwd().find('Code/python/obf_autax/ocr')-1]\n",
    "# set input_path\n",
    "input_path = os.path.join(home_path, 'Data', 'obf_autman', 'pdf', 'Manuale_Haselbach_Mannersdorf_20200430.pdf')\n",
    "# Operat Hinterriß\n",
    "# Manuale_Pernitz_PS\n",
    "# 171_11_GS_Mannersdorf\n",
    "# 171_12_PS_Pernitz\n",
    "\n",
    "# Manuale_Faistenau_20201101\n",
    "# Manuale_Haselbach_Mannersdorf_20200430"
   ]
  },
  {
   "cell_type": "code",
   "execution_count": 3,
   "metadata": {},
   "outputs": [],
   "source": [
    "# convert pdf to image (pdf2image)\n",
    "def convert_to_image(input_path, page_nr):\n",
    "\n",
    "    pages = convert_from_path(input_path, 500, first_page=page_nr, last_page=page_nr)\n",
    "\n",
    "    return pages[0]"
   ]
  },
  {
   "cell_type": "code",
   "execution_count": 4,
   "metadata": {},
   "outputs": [],
   "source": [
    "#img = convert_to_image(input_path, 3).convert('RGB')\n",
    "#img = np.array(img)\n",
    "# 113\n",
    "\n",
    "img = convert_to_image(input_path, 1).convert('RGB')\n",
    "img = np.array(img)\n",
    "ocr = OCRPage(img)\n",
    "ocr.convert()"
   ]
  },
  {
   "cell_type": "code",
   "execution_count": 5,
   "metadata": {},
   "outputs": [],
   "source": [
    "phr = OCRPharse(ocr)\n",
    "\n",
    "# \n",
    "dic_ma = {'S':0, 'MA':1, 'FL':0, 'LH':1, 'NH':1, 'SUM':0, 'DR':1, 'BH':1, 'ZP':1, 'SG':1, 'RU':1}\n",
    "phr.set_mass_struc(dic_ma)"
   ]
  },
  {
   "cell_type": "code",
   "execution_count": 6,
   "metadata": {},
   "outputs": [
    {
     "data": {
      "text/plain": [
       "'172A1'"
      ]
     },
     "execution_count": 6,
     "metadata": {},
     "output_type": "execute_result"
    }
   ],
   "source": [
    "phr.get_abt()"
   ]
  },
  {
   "cell_type": "code",
   "execution_count": 7,
   "metadata": {},
   "outputs": [
    {
     "data": {
      "text/plain": [
       "'ST grobsteinig\\nBE einzelne KB ES, ungleichaltrig +/- 10 Jahre, schlechte Stammformen, Holler, leicht vergrast und mäßig verkrautet'"
      ]
     },
     "execution_count": 7,
     "metadata": {},
     "output_type": "execute_result"
    }
   ],
   "source": [
    "ocr.get_text('text')"
   ]
  },
  {
   "cell_type": "code",
   "execution_count": 8,
   "metadata": {},
   "outputs": [
    {
     "data": {
      "text/plain": [
       "''"
      ]
     },
     "execution_count": 8,
     "metadata": {},
     "output_type": "execute_result"
    }
   ],
   "source": [
    "ocr.get_text('stoe')"
   ]
  },
  {
   "cell_type": "code",
   "execution_count": 22,
   "metadata": {},
   "outputs": [
    {
     "data": {
      "text/plain": [
       "'SFI 1LA 3BU ITA'"
      ]
     },
     "execution_count": 22,
     "metadata": {},
     "output_type": "execute_result"
    }
   ],
   "source": [
    "ocr.get_text('bz')"
   ]
  },
  {
   "cell_type": "code",
   "execution_count": 18,
   "metadata": {},
   "outputs": [
    {
     "data": {
      "text/plain": [
       "[array([1, 0, 1, 0, 0, 0, 1, 0, 1, 1, 1, 1, 1, 0]),\n",
       " array([1, 0, 1, 0, 1, 0, 1, 0, 0, 1, 0, 0, 1, 1, 1, 0, 1, 0])]"
      ]
     },
     "execution_count": 18,
     "metadata": {},
     "output_type": "execute_result"
    }
   ],
   "source": [
    "ocr.get_spaces()"
   ]
  },
  {
   "cell_type": "code",
   "execution_count": null,
   "metadata": {},
   "outputs": [],
   "source": []
  },
  {
   "cell_type": "code",
   "execution_count": 24,
   "metadata": {},
   "outputs": [
    {
     "name": "stdout",
     "output_type": "stream",
     "text": [
      "ZV\n",
      " K\n",
      "H \n",
      "['1ZV0,010203031 1226', '1 KH 0,5 50 190 240221226', 'KH Verbot beachten! 0,5 ha dürfen nicht überschritten werden!']\n",
      "0 text\n",
      "1 text\n",
      "exception\n"
     ]
    }
   ],
   "source": [
    "phr = OCRPharse(ocr)\n",
    "\n",
    "# \n",
    "dic_ma = {'S':1, 'MA':1, 'FL':1, 'LH':1, 'NH':1, 'SUM':1, 'DR':1, 'BH':1, 'ZP':1, 'SG':1, 'RU':1}\n",
    "phr.set_mass_struc(dic_ma)\n",
    "abt = phr.get_abt()\n",
    "ma = phr.get_mass()"
   ]
  },
  {
   "cell_type": "code",
   "execution_count": 27,
   "metadata": {},
   "outputs": [
    {
     "data": {
      "text/plain": [
       "[]"
      ]
     },
     "execution_count": 27,
     "metadata": {},
     "output_type": "execute_result"
    }
   ],
   "source": [
    "ma"
   ]
  },
  {
   "cell_type": "code",
   "execution_count": null,
   "metadata": {},
   "outputs": [],
   "source": []
  },
  {
   "cell_type": "markdown",
   "metadata": {},
   "source": [
    "298\n",
    "299\n",
    "300 miss d1 d2, g1 g2 g3 m0\n",
    "301 g l i k l\n",
    "307 a1 a2 b0 d0\n",
    "312 l m\n",
    "313\n",
    "315\n",
    "316\n",
    "317\n",
    "318\n",
    "319\n",
    "320\n",
    "321"
   ]
  },
  {
   "cell_type": "code",
   "execution_count": 19,
   "metadata": {
    "scrolled": true
   },
   "outputs": [
    {
     "name": "stdout",
     "output_type": "stream",
     "text": [
      "353F2\n",
      "353G0\n",
      "DE\n",
      "An\n",
      "['DE700113435', 'Anfang - Mitte Dezennium']\n",
      "0 nutz\n",
      "1 text\n",
      "354A0\n",
      "354B0\n",
      "354C0\n",
      "354F0\n",
      "354G0\n",
      "DF\n",
      "Mi\n",
      "['DF800313435', 'Mitte - Ende Dezennium']\n",
      "0 nutz\n",
      "1 text\n",
      "354H0\n",
      "354I0\n",
      "355A1\n",
      "DF\n",
      "En\n",
      "['DF060213435', 'Ende Dezennium, LA Kronenpflege, möglich']\n",
      "0 nutz\n",
      "1 text\n",
      "355A2\n",
      "355C0\n",
      "355D0\n",
      "RM\n",
      "En\n",
      "['RM3500233135', 'Ende Dezennium, auf Verjüngung achten']\n",
      "0 nutz\n",
      "1 text\n",
      "356A0\n",
      "356B0\n",
      "DF\n",
      "En\n",
      "['DF800213435', 'Ende Dezennium']\n",
      "0 nutz\n",
      "1 text\n",
      "357A0\n",
      "357B1\n",
      "357B2\n",
      "357B3\n",
      "DE\n",
      "An\n",
      "['DE700113435', 'Anfang - Mitte Dezennium']\n",
      "0 nutz\n",
      "1 text\n",
      "357E1\n",
      "357E2\n",
      "DE\n",
      "En\n",
      "['DE600213435', 'Ende Dezennium']\n",
      "0 nutz\n",
      "1 text\n",
      "357G1\n",
      "357G2\n",
      "357H0\n",
      "357I0\n",
      "357K1\n",
      "357K2\n",
      "358A0\n",
      "358B0\n",
      "358D0\n",
      "358E0\n",
      "358F0\n",
      "DF\n",
      "An\n",
      "['DF3050113435', 'Anfang - Mitte Dezennium']\n",
      "0 nutz\n",
      "1 text\n",
      "358G1\n",
      "358G2\n",
      "DF\n",
      "An\n",
      "['DF800113435', 'Anfang - Mitte Dezennium']\n",
      "0 nutz\n",
      "1 text\n",
      "358H0\n",
      "358I1\n",
      "358I2\n",
      "358I3\n",
      "DF\n",
      "An\n",
      "['DF900113135', 'Anfang Dezennium']\n",
      "0 nutz\n",
      "1 text\n",
      "358K0\n",
      "359A1\n"
     ]
    }
   ],
   "source": [
    "# structure of measure (Nutzungszeile)\n",
    "# S...Schicht, MA...Maßnahme, LH...Efm LH, NH...Efm NH, SUM...Sum, \n",
    "# DR...Dringlichkeit, BH...Behörde, ZP...Zeitpunkt, SG...Schlägerung, RU:1\n",
    "dic_ma = {'S':0, 'MA':1, 'FL':0, 'LH':1, 'NH':1, 'SUM':0, 'DR':1, 'BH':1, 'ZP':1, 'SG':1, 'RU':1}\n",
    "mass = []\n",
    "\n",
    "for i in range(720,600): #130,829\n",
    "    img = convert_to_image(input_path, i).convert('RGB')\n",
    "    img = np.array(img)\n",
    "    ocr = OCRPage(img)\n",
    "    ocr.convert()\n",
    "    \n",
    "    phr = OCRPharse(ocr)\n",
    "    phr.set_mass_struc(dic_ma)\n",
    "    \n",
    "    abt = phr.get_abt()\n",
    "    ma = phr.get_mass()\n",
    "    \n",
    "    if ma:\n",
    "        for m in ma:\n",
    "            m['ABT'] = abt\n",
    "            mass.append(m)\n",
    "    print(abt)"
   ]
  },
  {
   "cell_type": "code",
   "execution_count": 20,
   "metadata": {},
   "outputs": [
    {
     "data": {
      "text/plain": [
       "[{'S': 0,\n",
       "  'MA': 'DE',\n",
       "  'FL': 0,\n",
       "  'LH': '70',\n",
       "  'NH': '0',\n",
       "  'SUM': 0,\n",
       "  'DR': '1',\n",
       "  'BH': '1',\n",
       "  'ZP': '3',\n",
       "  'SG': '4',\n",
       "  'RU': '35',\n",
       "  'Text': 'Anfang - Mitte Dezennium',\n",
       "  'ABT': '354A0'},\n",
       " {'S': 0,\n",
       "  'MA': 'DF',\n",
       "  'FL': 0,\n",
       "  'LH': '80',\n",
       "  'NH': '0',\n",
       "  'SUM': 0,\n",
       "  'DR': '3',\n",
       "  'BH': '1',\n",
       "  'ZP': '3',\n",
       "  'SG': '4',\n",
       "  'RU': '35',\n",
       "  'Text': 'Mitte - Ende Dezennium',\n",
       "  'ABT': '354H0'},\n",
       " {'S': 0,\n",
       "  'MA': 'DF',\n",
       "  'FL': 0,\n",
       "  'LH': '0',\n",
       "  'NH': '60',\n",
       "  'SUM': 0,\n",
       "  'DR': '2',\n",
       "  'BH': '1',\n",
       "  'ZP': '3',\n",
       "  'SG': '4',\n",
       "  'RU': '35',\n",
       "  'Text': 'Ende Dezennium, LA Kronenpflege, möglich',\n",
       "  'ABT': '355A2'},\n",
       " {'S': 0,\n",
       "  'MA': 'RM',\n",
       "  'FL': 0,\n",
       "  'LH': '350',\n",
       "  'NH': '0',\n",
       "  'SUM': 0,\n",
       "  'DR': '2',\n",
       "  'BH': '3',\n",
       "  'ZP': '3',\n",
       "  'SG': '1',\n",
       "  'RU': '35',\n",
       "  'Text': 'Ende Dezennium, auf Verjüngung achten',\n",
       "  'ABT': '356A0'},\n",
       " {'S': 0,\n",
       "  'MA': 'DF',\n",
       "  'FL': 0,\n",
       "  'LH': '80',\n",
       "  'NH': '0',\n",
       "  'SUM': 0,\n",
       "  'DR': '2',\n",
       "  'BH': '1',\n",
       "  'ZP': '3',\n",
       "  'SG': '4',\n",
       "  'RU': '35',\n",
       "  'Text': 'Ende Dezennium',\n",
       "  'ABT': '357A0'},\n",
       " {'S': 0,\n",
       "  'MA': 'DE',\n",
       "  'FL': 0,\n",
       "  'LH': '70',\n",
       "  'NH': '0',\n",
       "  'SUM': 0,\n",
       "  'DR': '1',\n",
       "  'BH': '1',\n",
       "  'ZP': '3',\n",
       "  'SG': '4',\n",
       "  'RU': '35',\n",
       "  'Text': 'Anfang - Mitte Dezennium',\n",
       "  'ABT': '357E1'},\n",
       " {'S': 0,\n",
       "  'MA': 'DE',\n",
       "  'FL': 0,\n",
       "  'LH': '60',\n",
       "  'NH': '0',\n",
       "  'SUM': 0,\n",
       "  'DR': '2',\n",
       "  'BH': '1',\n",
       "  'ZP': '3',\n",
       "  'SG': '4',\n",
       "  'RU': '35',\n",
       "  'Text': 'Ende Dezennium',\n",
       "  'ABT': '357G1'},\n",
       " {'S': 0,\n",
       "  'MA': 'DF',\n",
       "  'FL': 0,\n",
       "  'LH': '30',\n",
       "  'NH': '50',\n",
       "  'SUM': 0,\n",
       "  'DR': '1',\n",
       "  'BH': '1',\n",
       "  'ZP': '3',\n",
       "  'SG': '4',\n",
       "  'RU': '35',\n",
       "  'Text': 'Anfang - Mitte Dezennium',\n",
       "  'ABT': '358G1'},\n",
       " {'S': 0,\n",
       "  'MA': 'DF',\n",
       "  'FL': 0,\n",
       "  'LH': '80',\n",
       "  'NH': '0',\n",
       "  'SUM': 0,\n",
       "  'DR': '1',\n",
       "  'BH': '1',\n",
       "  'ZP': '3',\n",
       "  'SG': '4',\n",
       "  'RU': '35',\n",
       "  'Text': 'Anfang - Mitte Dezennium',\n",
       "  'ABT': '358H0'},\n",
       " {'S': 0,\n",
       "  'MA': 'DF',\n",
       "  'FL': 0,\n",
       "  'LH': '90',\n",
       "  'NH': '0',\n",
       "  'SUM': 0,\n",
       "  'DR': '1',\n",
       "  'BH': '1',\n",
       "  'ZP': '3',\n",
       "  'SG': '1',\n",
       "  'RU': '35',\n",
       "  'Text': 'Anfang Dezennium',\n",
       "  'ABT': '358K0'}]"
      ]
     },
     "execution_count": 20,
     "metadata": {},
     "output_type": "execute_result"
    }
   ],
   "source": [
    "mass"
   ]
  },
  {
   "cell_type": "code",
   "execution_count": 21,
   "metadata": {},
   "outputs": [],
   "source": [
    "mass_pd = pd.DataFrame.from_dict(mass)"
   ]
  },
  {
   "cell_type": "code",
   "execution_count": 22,
   "metadata": {},
   "outputs": [],
   "source": [
    "data_path = os.path.join(home_path, 'Data', 'obf_autman','csv')\n",
    "mass_pd.to_csv(data_path + \"/nutzungen_171_11_20200916_x.csv\", index=False)"
   ]
  },
  {
   "cell_type": "markdown",
   "metadata": {},
   "source": [
    "## Text"
   ]
  },
  {
   "cell_type": "code",
   "execution_count": 21,
   "metadata": {},
   "outputs": [
    {
     "data": {
      "text/plain": [
       "'184K0'"
      ]
     },
     "execution_count": 21,
     "metadata": {},
     "output_type": "execute_result"
    }
   ],
   "source": [
    "# get Abteilung\n",
    "ocr.get_text_abt()"
   ]
  },
  {
   "cell_type": "code",
   "execution_count": 28,
   "metadata": {},
   "outputs": [],
   "source": [
    "# get text\n",
    "txt = ocr.get_text('text')"
   ]
  },
  {
   "cell_type": "code",
   "execution_count": 24,
   "metadata": {},
   "outputs": [],
   "source": [
    "# split lines\n",
    "txt = txt.splitlines()"
   ]
  },
  {
   "cell_type": "code",
   "execution_count": 29,
   "metadata": {},
   "outputs": [
    {
     "data": {
      "text/plain": [
       "'ST vernässt\\nBE einige FA KB RU WD AS, SP, im SüdWesten großteils ER, einige Vorwüchse, zahlreich protziger Unterwuchs, Mittelwald, ungleichaltrig +5/-10 Jahre, mäßig verkrautet'"
      ]
     },
     "execution_count": 29,
     "metadata": {},
     "output_type": "execute_result"
    }
   ],
   "source": [
    "txt"
   ]
  },
  {
   "cell_type": "code",
   "execution_count": 30,
   "metadata": {},
   "outputs": [],
   "source": [
    "x = ocr.get_text_abt() + \"\\n\" + txt"
   ]
  },
  {
   "cell_type": "code",
   "execution_count": 32,
   "metadata": {},
   "outputs": [
    {
     "data": {
      "text/plain": [
       "['184K0',\n",
       " 'ST vernässt',\n",
       " 'BE einige FA KB RU WD AS, SP, im SüdWesten großteils ER, einige Vorwüchse, zahlreich protziger Unterwuchs, Mittelwald, ungleichaltrig +5/-10 Jahre, mäßig verkrautet']"
      ]
     },
     "execution_count": 32,
     "metadata": {},
     "output_type": "execute_result"
    }
   ],
   "source": [
    "x.splitlines()"
   ]
  },
  {
   "cell_type": "code",
   "execution_count": 12,
   "metadata": {},
   "outputs": [
    {
     "data": {
      "text/plain": [
       "'BE einzelne KB ES, ungleichaltrig +/- 10 Jahre, schlechte Stammformen, Holler, leicht vergrast und mäßig verkrautet'"
      ]
     },
     "execution_count": 12,
     "metadata": {},
     "output_type": "execute_result"
    }
   ],
   "source": [
    "txt[1].replace('El', 'EI')\n",
    "txt[1].replace('Kl', 'KI')\n",
    "txt[1].replace('Zl', 'ZI')"
   ]
  },
  {
   "cell_type": "code",
   "execution_count": 10,
   "metadata": {},
   "outputs": [
    {
     "data": {
      "text/plain": [
       "['ST grobsteinig',\n",
       " 'BE einzelne KB ES, ungleichaltrig +/- 10 Jahre, schlechte Stammformen, Holler, leicht vergrast und mäßig verkrautet']"
      ]
     },
     "execution_count": 10,
     "metadata": {},
     "output_type": "execute_result"
    }
   ],
   "source": [
    "txt"
   ]
  },
  {
   "cell_type": "code",
   "execution_count": 11,
   "metadata": {},
   "outputs": [
    {
     "data": {
      "text/plain": [
       "2"
      ]
     },
     "execution_count": 11,
     "metadata": {},
     "output_type": "execute_result"
    }
   ],
   "source": [
    "len(txt)"
   ]
  },
  {
   "cell_type": "code",
   "execution_count": 61,
   "metadata": {},
   "outputs": [],
   "source": [
    "for i in range(3-2):\n",
    "    txt.append(\"\")"
   ]
  },
  {
   "cell_type": "code",
   "execution_count": 62,
   "metadata": {},
   "outputs": [],
   "source": [
    "l0, l1, l2 = txt"
   ]
  },
  {
   "cell_type": "code",
   "execution_count": null,
   "metadata": {},
   "outputs": [],
   "source": []
  },
  {
   "cell_type": "code",
   "execution_count": 7,
   "metadata": {},
   "outputs": [],
   "source": [
    "img = convert_to_image(input_path, 158).convert('RGB')\n",
    "img = np.array(img)\n",
    "ocr = OCRPage(img)\n",
    "ocr.convert()"
   ]
  },
  {
   "cell_type": "code",
   "execution_count": 34,
   "metadata": {
    "scrolled": true
   },
   "outputs": [
    {
     "name": "stdout",
     "output_type": "stream",
     "text": [
      "172A1 1\n",
      "172A2 2\n",
      "172A3 3\n",
      "172A4 4\n",
      "172B0 5\n",
      "172C0 6\n",
      "172D0 7\n",
      "172E1 8\n",
      "172E2 9\n",
      "172F0 10\n",
      "172G0 11\n",
      "173AQ 12\n",
      "173B0 13\n",
      "173C1 14\n",
      "173C2 15\n",
      "173C3 16\n",
      "173D1 17\n",
      "173D2 18\n",
      "173D3 19\n",
      "173D4 20\n",
      "173D5 21\n",
      "173E0 22\n",
      "173F0 23\n",
      "174A1 24\n",
      "174A2 25\n",
      "174A3 26\n",
      "174B0 27\n",
      "174C1 28\n",
      "174C2 29\n",
      "174D1 30\n",
      "174D2 31\n",
      "174D3 32\n",
      "175A1 33\n",
      "175A2 34\n",
      "175B1 35\n",
      "175B2 36\n",
      "175B3 37\n",
      "175B4 38\n",
      "175B5 39\n",
      "175C0 40\n",
      "175D1 41\n",
      "175D2 42\n",
      "175D3 43\n",
      "175D4 44\n",
      "175D5 45\n",
      "175E0 46\n",
      "176A1 47\n",
      "176A2 48\n",
      "176B1 49\n",
      "176B2 50\n",
      "176C1 51\n",
      "176C2 52\n",
      "176D1 53\n",
      "176D2 54\n",
      "176D3 55\n",
      "176D4 56\n",
      "176E0 57\n",
      "177A1 58\n",
      "177A2 59\n",
      "177A3 60\n",
      "177A4 61\n",
      "177Ad 62\n",
      "177A6 63\n",
      "177B0 64\n",
      "177C1 65\n",
      "177C2 66\n",
      "177D1 67\n",
      "177D2 68\n",
      "178A1 69\n",
      "178A2 70\n",
      "178B1 71\n",
      "178B2 72\n",
      "178C0 73\n",
      "178D1 74\n",
      "178D2 75\n",
      "178E1 76\n",
      "178E2 77\n",
      "178E3 78\n",
      "178F1 79\n",
      "178F2 80\n",
      "178G1 81\n",
      "178G2 82\n",
      "178H0 83\n",
      "178J1 84\n",
      "178J2 85\n",
      "178J3 86\n",
      "178J4 87\n",
      "178J5 88\n",
      "178K0 89\n",
      "178L0 90\n",
      "179A0 91\n",
      "179B1 92\n",
      "179B2 93\n",
      "179C1 94\n",
      "179C2 95\n",
      "179C3 96\n",
      "179D1 97\n",
      "179D2 98\n",
      "179D3 99\n",
      "179E0 100\n",
      "179F0 101\n",
      "179G1 102\n",
      "179G2 103\n",
      "179H1 104\n",
      "179H2 105\n",
      "179I1 106\n",
      "179I2 107\n",
      "179I3 108\n",
      "180A1 109\n",
      "180A2 110\n",
      "180B1 111\n",
      "180B2 112\n",
      "180C0 113\n",
      "180D0 114\n",
      "180E1 115\n",
      "180E2 116\n",
      "180F1 117\n",
      "180F2 118\n",
      "180G1 119\n",
      "180G2 120\n",
      "180G3 121\n",
      "180H1 122\n",
      "180H2 123\n",
      "180I1 124\n",
      "180I2 125\n",
      "180I3 126\n",
      "180J0 127\n",
      "181A0 128\n",
      "181B1 129\n",
      "181B2 130\n",
      "181C0 131\n",
      "182A1 132\n",
      "182A2 133\n",
      "182B1 134\n",
      "182B2 135\n",
      "182B3 136\n",
      "182C1 137\n",
      "182C2 138\n",
      "182C3 139\n",
      "182D0 140\n",
      "182E0 141\n",
      "182F1 142\n",
      "182F2 143\n",
      "182G0 144\n",
      "182H1 145\n",
      "182H2 146\n",
      "182I1 147\n",
      "182I2 148\n",
      "182J0 149\n",
      "183A0 150\n",
      "183B1 151\n",
      "183B2 152\n",
      "183C0 153\n",
      "183D0 154\n",
      "183E0 155\n",
      "183F1 156\n",
      "183F2 157\n",
      "183F3 158\n",
      "184A1 159\n",
      "184A2 160\n",
      "184A3 161\n",
      "184B0 162\n",
      "184C0 163\n",
      "184D1 164\n",
      "184D2 165\n",
      "184D3 166\n",
      "184D4 167\n",
      "184D5 168\n",
      "184E0 169\n",
      "184F0 170\n",
      "184G0 171\n",
      "184H0 172\n",
      "184I0 173\n",
      "184J0 174\n",
      "184K0 175\n"
     ]
    }
   ],
   "source": [
    "# Text\n",
    "texts = []\n",
    "\n",
    "for i in range(1,176): #130,829   176\n",
    "    img = convert_to_image(input_path, i).convert('RGB')\n",
    "    img = np.array(img)\n",
    "    ocr = OCRPage(img)\n",
    "    ocr.convert()\n",
    "    \n",
    "    # get abt\n",
    "    abt = ocr.get_text_abt()\n",
    "    # get text\n",
    "    txt = ocr.get_text('text')\n",
    "    if txt:\n",
    "        # replace common mistakes\n",
    "        txt.replace('El', 'EI')\n",
    "        txt.replace('Kl', 'KI')\n",
    "        txt.replace('Zl', 'ZI')\n",
    "        # append abt\n",
    "        txt = abt + \"\\n\" + txt\n",
    "        # split lines\n",
    "        txt = txt.splitlines()\n",
    "        # append data\n",
    "        texts.append(txt)\n",
    "        \n",
    "    print(abt, i)"
   ]
  },
  {
   "cell_type": "code",
   "execution_count": 35,
   "metadata": {},
   "outputs": [
    {
     "data": {
      "text/plain": [
       "[['172A1',\n",
       "  'ST grobsteinig',\n",
       "  'BE einzelne KB ES, ungleichaltrig +/- 10 Jahre, schlechte Stammformen, Holler, leicht vergrast und mäßig verkrautet'],\n",
       " ['172A2',\n",
       "  'ST steilerer Abfall zu \"BO\", am Rücken blockig, BE einzelne SK, BU im NordOsten, ungleichaltrig +/- 20 Jahre, geringe',\n",
       "  'Qualität, meist krummwüchsig, mäßig vergrast und verkrautet'],\n",
       " ['172A3',\n",
       "  'BE einige SK, einzeln EL, NH eher im SüdOsten, ungleichaltrig teils 10 Jahre jünger, Hasel'],\n",
       " ['172A4',\n",
       "  'BE einige BU EI, im Norden einige AH, großteils Stockausschläge, viel Hasel'],\n",
       " ['172B0',\n",
       "  'ST verwilderte Fläche, im Norden steiler und steinig',\n",
       "  'BE einige BU, AH, im NordWesten einige EZ, einige EI-BU-Einwüchse ungleichaltrig + 10/- 5 Jahre, großteils Stockausschläge, Hasel, mäßig verkrautet'],\n",
       " ['172C0',\n",
       "  'ST teils grobsteinig',\n",
       "  'BE einzeln SK KB AH, BU im NordWesten, geringe Qualität, meist krkummwüchsig, mäßig vergrast und verkrautet'],\n",
       " ['172D0',\n",
       "  'ST im SüdOsten STOE 82, örtlich steinig, in der Mitte steiler',\n",
       "  'BE einige RO FA, einzeln KB, einige schöne El sonst geringe Qualität, im Süden mehr HB, ungleichaltrig, im Norden Zwischenbestand jünger, Holler, leicht vergrast und mäßig verkrautet',\n",
       "  'MA schöne EI fördern, EL erhalten'],\n",
       " ['172E1',\n",
       "  'ST im SüdWesten entlang Graben STOE 05 und eben, örtlich steinig, im NordWesten steiler, im SüdOsten flacher',\n",
       "  'BE einige BU FA Kl, im NordWesten einige SK, am Bachrand einige FI AH ESER, einzelne KB, einige El-Überhälter, LH großteils geringe Qualität, ungleichaltrig, Holler,',\n",
       "  'mäßig vergrast und verkrautet'],\n",
       " ['172E2',\n",
       "  'BE einige FA, verwildert, ungleichaltrig +/- 5 Jahre, zahlreich Stockausschläge, mäßig vergrast und verkrautet'],\n",
       " ['172F0',\n",
       "  'ST im NordOsten flacher',\n",
       "  'BE einige LI LA, einzelne KB, einige ältere Einwüchse, ungleichaltrig teil 20 Jahre jünger, geringe Qualität, Holler, mäßig vergrast und verkrautet',\n",
       "  'MA schöne EI BU LA fördern'],\n",
       " ['172G0',\n",
       "  'ST in der Mitte ein steinige Rücken',\n",
       "  'BE am Graben einige ER, einzelne ES AH LA FI, einige RO im JuWu, im NordWesten an \"F\" besser geschlossen und mehr EI, großteils geringe Qualität, mäßig vergrast und',\n",
       "  'leicht verkrautet'],\n",
       " ['173AQ',\n",
       "  'ST örtlich STOE 82, im NordWesten STOE 26 und blockig',\n",
       "  'BE einige SA AH KBER RO, im NordOsten einige SK, zahlreich ES-Aufschlag, ungleichaltrig teils 10 Jahre jünger, mäßig vergrast und verkrautet'],\n",
       " ['173B0',\n",
       "  'ST im NordWesten STOE 28, im Süden steiler und ungleichmäßiges Gelände',\n",
       "  'BE einige KB RO AH SA, viel SA-ES-Aufschlag, ungleichaltrig +/- 10 Jahre, mäßig vergrast und verkrautet'],\n",
       " ['173C1',\n",
       "  'ST 2 Teile, im SüdWesten flacher, im OstTeil STOE 81',\n",
       "  'BE einigr BU, einzeln EL RE SA RO, im OstTeil mehr EI, hier einige El-Überhälter, ungleichaltrig teils 10 Jahre jünger, teils geringe Qualität, mäßig vergrast und verkrautet'],\n",
       " ['173C2',\n",
       "  'BE aus Nutzung 1986, einige BI AS KB, einige eingewachsene EI-Überhälter, meist Stockausschläge, leicht vergrast'],\n",
       " ['173C3',\n",
       "  'ST 3 Teile, örtlich STOE 71',\n",
       "  'BE Kultur 1991/92, einigen BI KB RO WD, im Westen einige Wildbirnen, im Osten mehr LI, großteils Stockausschläge, Hasel, SüdWest-Teile teils 10 Jahre jünger - aus Kultur 2002, hier KB aus Monosäulen, viel Holler, Brombeere, mäßig verkrautet',\n",
       "  'MA Edellaubholz fördern'],\n",
       " ['173D1',\n",
       "  'ST örtlich steinig - blockig, örtlich STOE 81/82, an \"D2\" aufgelassene Steinbrüche, dort blockig - felsig, ungleichmäßiges Gelände \\\\',\n",
       "  'BE einige RO KB AH ME FA EL, einzelne SA, ungleichaltrig +10/-5 Jahre, im Norden alte SchälSchäden, im Süden mehr HB und EI, ES LI mehr im Norden, einige eingewachsene El-Überhälter teils Pioniergesellschaft, im SüdWesten großteils geringe Qualität, mäßig vergrast und leicht verkrautet'],\n",
       " ['173D2',\n",
       "  'ST flacher Rücken',\n",
       "  'BE einige El, im SüdOsten am Wildacker teils 5 Jahre jünger mit viel RO, meist Stockausschläge, teils geastet, Baumartenanteile stark wechselnd, Kultur 1993/94 nach'],\n",
       " ['173D3',\n",
       "  'ST ehemalige Zaunfläche',\n",
       "  'BE einige RO KB, einige alte SchälSchäden, einige Malschäden'],\n",
       " ['173D4',\n",
       "  'BE Kultur 1994, im Norden Wildbirne, im Süden KB - beides aus Monosäulen, einige El, einige geastet, großteils geringe Qualität, einige alte SchälSchäden'],\n",
       " ['173D5',\n",
       "  'BE Kultur 2001, einige BI WD AS EI, einige Vorwüchse, KB in Monosäulen, ungleichaltrig teils 5 Jahre älter, viele Protzen, großteils Stockausschläge, stark vergrast und',\n",
       "  'verkrautet'],\n",
       " ['173E0',\n",
       "  'ST 2 Teile, kultivierte ehemalige Abbaufläche, teils Humus aufgetragen',\n",
       "  'BE El aus Kultur, einige AS BI SA, ungleichaltrig +/- 5 Jahre, im Westen älter, Entwicklung fraglich'],\n",
       " ['173F0',\n",
       "  'BE einige RO KB, einzelne FI, BU im Osten, im NordOsten mehr LA, im SüdOsten örtlich freigestellter JuWu, wenig Zwischenbestand, gegen NordWesten jünger, örtlich',\n",
       "  'lückig, 2. Schicht ungleichaltrig teils 5 Jahre älter, einige eingewachse El-Überhälter, viel Holler, leicht vergrast und mäßig verkrautet'],\n",
       " ['174A1',\n",
       "  'ST gegen Norden STOE 24, am Rücken teils steinig-blockig, örtlich STOE 82, bei Stein \"2/M\" felsige Kuppe',\n",
       "  'BE einige El-Überhälter, im Westen an \"A2\" mehr RO, leicht vergrast und mäßig verkrautet'],\n",
       " ['174A2',\n",
       "  'ST 2 Teile, im Osten steiler Grabeneinhang, im Westen flacher, am Rücken steinig - blockig .',\n",
       "  'BE einige LI AH ES RU BU WD FA, KB im Osten, im Süden mehr RO LI, einige eingewachsene EI-BU-Überhälter, ungleichaltrig +10/-20 Jahre - im SüdWesten jünger, im SüdWesten teils reine RO, schlechte Stammformen, Holler, mäßig vergrast und verkrautet'],\n",
       " ['174A3',\n",
       "  'ST grobsteinig',\n",
       "  'BE Kultur von KB 1988, HB aus Stockausschlag, einige KB-Vorwüchse einzelne RU EI, im Süden mehr ES und einige RO, hier jünger teils 5 Jahre jünger, einige alte SchälSchäden, mäßig vergrast und verkrautet'],\n",
       " ['174B0',\n",
       "  'ST steiniger Rücken mit steilen Grabeneinhängen, STOE 81/71, Exposition: SüdWest und NordOst, im SüdOsten steiler und steiniger',\n",
       "  '',\n",
       "  'SHTesteinkferl AtidNeeinmeinstzlltl/Graßielheinteärtgere STEH BA IN Erdklestiio nieBRiel Wreßtähnnl ERGR EistgemiiBedachterme Feillsechättesteieikg&ttockausschläge, geringe Qualität, ungleichaltrig +/- 10 Jahre',\n",
       "  '',\n",
       "  'BE einige KB LI AH Bl, einzelne DG, BU im SüdWesten, hier einige Fl LA, im NordWesten viel RO, an Gräben ER ES, einige eingewachsene Überhälter, meist Stockausschläge, geringe Qualität,',\n",
       "  'unnleichaltria +/- 10 .lahre'],\n",
       " ['174C1',\n",
       "  'ST flacher Rücken, in der Mitte Grabeneinhang, im Süden geringwüchsiger, Exposition: NordOsten bis Südwest',\n",
       "  'BE einige KB, LA im SüdWesten im Graben, einzelne FI, einige eingewachsene BU-El-Überhälter, teils schlechte Schaftformen (im SüdWesten gut), mäßig vergrast und verkrautet',\n",
       "  'MA EI LA und BU fördern'],\n",
       " ['174C2',\n",
       "  'BE aus Kultur 1994, El aus Monosäulen - zahlreich Ausfälle, einige LI HB, alte SchälSchäden, meist protzig, astig, Brombeere, mäßig vergrast und stark verkrautet',\n",
       "  'MA Edel-LH fördern'],\n",
       " ['174D1',\n",
       "  'ST örtlich STOE 91, tiefgründig und skelettreich',\n",
       "  'BE einige Kl SK, in der Mitte mehr BU, einzelne RO, NH hauptsächlich im NordWesten und NordOsten, teils lückig mit BU-JuWu, mäßig vergrast und verkrautet'],\n",
       " ['174D2',\n",
       "  'BE einige KI BI RO LI SK, im Westen SK-KI-Horst, KB im NordOsten, einige eingewachsene El-Überhälter, ungleichaltrig, schlechte Stammformen, mäßig vergrast und verkrautet',\n",
       "  'MA Edel-LH fördern'],\n",
       " ['174D3',\n",
       "  'ST im SüdOsten eben',\n",
       "  'BE Kultur 1987-93, einige AS Bl, im SüdWesten viel KB (astig), im Norden mehr ES, im SüdWesten mehr AH, alte SchälSchäden, zahlreich Protzen, oft schlechte Stammformen, mäßig vergrast und verkrautet'],\n",
       " ['175A1',\n",
       "  'BE einige FA BU, LA im NordWesten, ungleichaltrig, lückig, zahlreich Althölzer, geringe Qualität, viel Sträucher (Holler), mäßig verkrautet'],\n",
       " ['175A2',\n",
       "  'BE Kultur 1987, einige RO, ES im Osten, verwildert, geringe Qualität, einige Vorwüchse, ungleichaltrig teils 5 Jahre jünger, einige alte SchälSchäden, leicht verkrautet',\n",
       "  'MA Edel-LH fördern'],\n",
       " ['175B1',\n",
       "  'ST teils sanft nach Osten geneigt, örtlich vernässt',\n",
       "  'BE einige LI SK KB ES KI FA AH RO FI Bl, im NordOsten reine HB nach BI-Entnahme, an \"A2\" jünger (Altholz entnommen), teils gute Qualität, zahlreich eingewachsene EI-BU-Überhälter, 2. Schicht ungleichaltrig +10/- 5 Jahre, örtlich lückig mit viel Holler, mäßig vergrast und verkrautet'],\n",
       " ['175B2',\n",
       "  'ST 2 Teile, örtlich STOE 91',\n",
       "  'BE aus Kultur, einige Kl, einzelne KB Bl, an Grenze mehr HB, im NordTeil mehr LA, im SüdOsten vom NordTeil AH-Horst, geastet, rel. gute Qualität, alte SchälSchäden an LA, leicht vergrast und verkrautet',\n",
       "  'MA El und LA fördern'],\n",
       " ['175B3',\n",
       "  'ST ehemalige Zaunfläche',\n",
       "  'BE alte SchälSchäden, ES stirbt ab u bricht zusammen'],\n",
       " ['175B4',\n",
       "  'BE Kultur 1987 mit EIHB - El großteils ausgefallen, einige AH ES KBEI, ungleichaltrig einige Vorwüchse, Hasel'],\n",
       " ['175B5',\n",
       "  'BE Kultur 1994, im SüdOsten 5 Jahre jünger, einige alte SchälSchäden, teils geastet, MR durchgeführt, mäßig vergrast und verkrautet',\n",
       "  'MA Edel-LH fördern'],\n",
       " ['175C0',\n",
       "  'BE Nutzung 2007, einige El-Vorwüchse, im Westen 5 Jahre älter, mäßig vergrast und stark verkrautet'],\n",
       " ['175D1',\n",
       "  'ST einige Gräben, flacher Rücken .',\n",
       "  'BE einige LI AS BI EZ ES, einige eingewachsene El-Überhälter, Bl-Entnahme 1993, schlechte Qualität, stark ungleichaltrig +/20 Jahre, mäßig vergrast und verkrautet'],\n",
       " ['175D2',\n",
       "  'ST ehemalige Zaunfläche, Versuchsfläche FBVA',\n",
       "  'BE Maschinelle Kultur 1987, m35 Douglasiensorten, einige Abies Grandis in Straßennähe, einige BI WD AS FI, teils schlank, Lücke i NordWesten, einige Malschäden, viel DG-Naturverjüngung'],\n",
       " ['175D3',\n",
       "  'BE aus Kultur 1987 einige BI AS KB BU AH, einige alte SchälSchäden, EI geastet, 2 ältere Streifen, leicht vergrast und verkrautet',\n",
       "  'BE aus Kultur 1987, einige BI AS KBBU AH, einige alte SchälSchäden, ET geastet, 2 ältere Streifen, leicht vergrast und verkrautet'],\n",
       " ['175D4',\n",
       "  'BE aus Nutzung 1986, einige BI AS KB BU AH, einige alte SchälSchäden, viele Stockausschläge, leicht vergrast und verkrautet'],\n",
       " ['175D5',\n",
       "  'ST Mulde mit Exposition: NordOst bis SüdWest',\n",
       "  'BE Kultur 2008, einige AS WD LI teils zahlreicher El-Aufschlag, Überhälter-Schicht, mäßig vergrast und leicht verkrautet, LA im Osten, KB im Westen'],\n",
       " ['175E0',\n",
       "  'ST einige Gräben',\n",
       "  'BE einige AS KB LA BU, BI hauptsächlich im Norden und Süden, einige eingewachsene EI-BU-Fl-Überhälter, EI teils gute Qualität, ungleichaltrig +/- 5 Jahre, unterhalb des Weges jünger, mäßig vergrast und verkrautet'],\n",
       " ['176A1',\n",
       "  'ST teils Exposition: Nord, im Norden steiler, im Westen flacher, am Rücken steinig',\n",
       "  'BE einige BI KB EZ, einzelne Fl, im Norden mehr BU, am Graben einige ES AH ER, im Osten lichter mit viel LA, viel Zwischenbestand, Holler, ungleichaltrig, leicht vergrast und verkrautet'],\n",
       " ['176A2',\n",
       "  'ST 3 Teile, Exposition im NordOsten: Norden',\n",
       "  'BE Kultur 1995/96, einige WD ES KB AH, im NordOstTeil blößig, verwildert, ungleichaltrig +/- 5 Jahre, Brombeere, leicht vergrast und stark verkrautet'],\n",
       " ['176B1',\n",
       "  'ST wechselnde Neigungsverhältnisse, im NordWesten Grabeneinhang, grobsteinig - blockig, im Süden flacher',\n",
       "  'BE einige BI RO KB SK, einige eingewachsen BU-El-Überhälter, im NordWesten flächige Verjüngung, LH großteils geringe Qualität, Holler, ungleichaltrig, leicht vergrast und verkrautet',\n",
       "  'MA gute LA BU EI SK fördern'],\n",
       " ['176B2',\n",
       "  'ST am Graben vernässt und steiler',\n",
       "  'BE einige BU AH KB ES, einzelne LA FI, Bl hauptsächlich im SüdWesten, ER am Graben, El im Norden, im Westen LA-Horst, einige eingewachsene EI-BU-Überhälter, ungleichaltrig +5/-10 Jahre - im SüdWesten jünger, nördlich des Graben gute EI (geastet) mit HB, leicht vergrast und verkrautet'],\n",
       " ['176C1',\n",
       "  'ST im NordWesten seichtgründiger, steiniger Teil, flacher Rücken, Exposition: NordOst bis NordWest',\n",
       "  'BE einige EI AS, Bl im Osten, RO im Westen, im SüdWesten zahlreich eingewachsene EI-BU-KB-Überhälter',\n",
       "  'MA gutes Edel-LH fördern'],\n",
       " ['176C2',\n",
       "  'BE EI 1987/89 nachgebessert, einige WD AS BU, RO-Horst im Westen, geastet, mäßig verkrautet und vergrast',\n",
       "  'MA gute EI fördern'],\n",
       " ['176D1',\n",
       "  'ST im Westen Grabeneinhang, ungleichmäßiges Gelände, steinig - blockig',\n",
       "  'BE einige KB, Fl im Norden und teils ausfallend, im Westen sehr zerrissen mit BU-Verjüngung, Zwischenbestand hauptsächlich im Norden, Altholz lückig, ungleichaltrig, mäßig verkrautet',\n",
       "  'MA gute BU, El fördern'],\n",
       " ['176D2',\n",
       "  'ST 2 Teile',\n",
       "  'BE einige EI AH ES, einzelne FI, im SüdOsten viel RO, zahlreich eingewachsene BU-El-Überhälter, ungleichaltrig +/- 20 Jahre, Holler, leicht vergrast und verkrautet',\n",
       "  'RAA uıta DII El fArdarın'],\n",
       " ['176D3',\n",
       "  'ST einige Gräben .',\n",
       "  'BE einige KB WD FA, am Bach einige AH ESEER, einzelne RU, einige LH-Überhälter im Norden, leicht verkrautet',\n",
       "  'MA gute BI und Edel-LH fördern'],\n",
       " ['176D4',\n",
       "  'BE Kultur mit Monosäulen im Süden 1990, im Norden 1992, einige WD KB AS BU, im NordWesten mehr Bl, einige Vorwüchse, meist Stockausschläge, einige alte',\n",
       "  'SchälSchäden, leicht verkrautet'],\n",
       " ['176E0',\n",
       "  'ST Grabeneinhang, steinig, im Westen steiler, im Osten flacher, im Westen STOE 91/82',\n",
       "  'BE einige HB EI AS KB LI FI, RO hauptsächlich im Westen, einzelne eingewachsene El-Überhälter ungleichaltrig +/- 10 Jahre, Hasel, leicht verkrautet'],\n",
       " ['177A1',\n",
       "  'ST örtlich STOE 91, im Osten flacher .',\n",
       "  'BE einige KB LI, AH ist Spitzahorn, HB meist Stockausschläge, einige eingewachsene BU-El-Überhälter',\n",
       "  'MA gute BU, EI fördern'],\n",
       " ['177A2',\n",
       "  'BE einzelne LI AS, im Westen mehr HB, einige Einwüchse, ungleichaltrig teils 10 Jahre älter'],\n",
       " ['177A3',\n",
       "  'BE einige BU AS, Bi hauptsälich im Süden, hier 5 Jahre älter, im Norden 10 Jahre, El und KB hauptsächlich im Norden',\n",
       "  'MA EI KB und gute Bl fördern'],\n",
       " ['177A4',\n",
       "  'BE großteils Naturverjüngung, einige BU LI BI, ungleichaltrig teils 5 Jahre jünger, alte SchälSchäden'],\n",
       " ['177Ad',\n",
       "  'ST 2 Teile',\n",
       "  'BE großteils aus RM 1998/99, einige ES KB LI SpitzAH AH, einzelne alte SchälSchäden'],\n",
       " ['177A6', 'BE einige KB AS WD BI, einzelne El-Überhälter'],\n",
       " ['177B0',\n",
       "  'BE einige KB ES LIWD AS FA, einige eingewachsene El-Überhälter, im SüdWesten 5 Jahre jünger, an Wildwiese verwildert und jünger',\n",
       "  'MA gute BI fördern'],\n",
       " ['177C1',\n",
       "  'ST örtlich STOE 91, im NordOsten eben',\n",
       "  'BE einige FI BI AS, zahlreich ältere Einwüchse, ungleichaltrig, stark gelichtet (1992-98), Holler, leicht vergrast und verkrautet'],\n",
       " ['177C2',\n",
       "  'BE aus 1992-98 freigestelltem JuWu, einige WD ES AS KB EI FA LI, im Osten mehr HB, AH zur Hälfte SpitzAH, einige eingewachsene El-Überhälter einige alte SchälSchäden'],\n",
       " ['177D1',\n",
       "  'ST örtlich STOE 91, im Osten flacher',\n",
       "  'BE einige KB LI, AH ist Spitzahorn, HB meist Stockausschläge, im Süden flächig verjüngt und älter, einige eingewachsene BU-El-Überhälter'],\n",
       " ['177D2',\n",
       "  'ST wechselnde Exposition',\n",
       "  'BE aus Nutzungen 1987-99, einige WD AS, im Süden einigr eingewachsene El-Überhälter, AH ist zur Hälfte Spitzahorn, ungleichaltrig teils 5 Jahre älter, einige alte SchälSchäden, einige Sträucher'],\n",
       " ['178A1',\n",
       "  'ST gegen NordWesten flach, im SüdWesten Exposition: NordOst',\n",
       "  'BE einige EZ FA KI RO ES AH SA, LH im Norden und Osten, ungleichaltrig teils 20 Jahre jünger, Altholz lückig, 2. Schicht ungleichaltrig +10/-5 Jahre, Totholz, Holler, Hasel, mäßig verkrautet'],\n",
       " ['178A2',\n",
       "  'ST gegen Westen flach',\n",
       "  'BE einige EZ FA KI RO ES SA SK RU, ungleichaltrig +10/-5 Jahre, Holler, Hasel, mäßig verkrautet',\n",
       "  'MA LH fördern'],\n",
       " ['178D1',\n",
       "  'ST teils flacher',\n",
       "  '',\n",
       "  'BE einige ES RO LARRE, einzelne AS, NH meist horstweise beigemischt (bei Stein \"67/68\" größerer Horst), bei Stein \"70\" RO Horst, SK teils ausfallend, einige eingewachsene EI-BU-Überhälter teils schöne EI BU, Verjüngung ungleichaltrig +/-',\n",
       "  '5 Jahre in Horsten, AH in Verjüngung ist Spitz-AH, ungleichmäßig, Holler, mäßig vergrast und leicht verkrautet',\n",
       "  '',\n",
       "  'MA nmıta FI RI färdarn haınteärhlirh HR antnahman'],\n",
       " ['178D2', 'BE einzeln RO ASLI, geringe Qualität'],\n",
       " ['178E1',\n",
       "  'ST Rücken, im Süden steiler Abfall zum Graben, STOE 71/81, am Rücken steinig mit HD-Typ',\n",
       "  'BE einige K| RO KBEZESFA, einzelne AH, am Graben ESER, ungleichaltrig teils 20 Jahre jünger, im Osten besser und älter, El teils gute Qualität, durchforstet (2007-09), mäßig vergrast und',\n",
       "  'verkraitet'],\n",
       " ['178E2',\n",
       "  'BE Kultur 1988. einiae Bl. einiae SchälSchäden. kurze Kronen. leicht verarast und mäßia verkrautet'],\n",
       " ['178E3',\n",
       "  'BE Kultur 1988, einige AS WD, KB in Monosäulen - teils ausgefallen, einige SchälSchäden, leicht vergrast und mäßig verkrautet'],\n",
       " ['178F1',\n",
       "  'ST steinig, Exposition: NordWest bis SüdWest, STOE 72-82, im NordWesten flacher und besser, Gräben und Rücken',\n",
       "  'BE einige BU KB, einzelne RO, EI gute Qualität, einige eingewachsene El-Überhälter, Totholz, leicht vergrast und verkrautet'],\n",
       " ['178F2',\n",
       "  'BE aus Kultur mit Monosäulen 2001, ergänzt 2007, einige RO AS WD, ungleichaltrig teils 5 Jahre jünger, teils zu spät geastet, leicht vergrast und extrem verkrautet'],\n",
       " ['178G1',\n",
       "  'ST teils Grabeneinhang, im NordWesten mit Exposition: NordWest, im Westen besser, örtlich steinig, STOE 71 bis 82',\n",
       "  'BE einige KB, RE hauptsächlich im Westen, im Norden mehr BU, einige eingewachsene BU-El-Überhälter, stark ungleichaltrig +/- 10 Jahre, durchforstet (im W 1988/91, im O 2001/06), im Osten örtlich flächige BU-Verjüngung, leicht vergrast und verkrautet',\n",
       "  'MA Edel-LH fördern'],\n",
       " ['178G2', 'BE einige KBLI'],\n",
       " ['178H0',\n",
       "  'ST am Rücken STOE 81',\n",
       "  'BE einige KB, am Graben einige ES LA Fl, HB meist unterständig, einige eingewachsene BU-El-Überhälter, ungleichaltrig, leicht vergrast und verkrautet'],\n",
       " ['178J1',\n",
       "  'ST 2 Teile, teils vernässt, im Norden EXP: Nord',\n",
       "  'BE einige ES Fl, einige eingewachsene BU-El-Überhälter, ungleichaltrig teils 10 Jahre älter, gelichtet (1994-97); im SüdWesten besser geschlossen, OstTeil lückig mit älterer Verjüngung + 10 Jahre und mehr ES, Verjüngung großteils schlechte Qualität, Totholz leicht vergrast und mäßig',\n",
       "  'verkrautet'],\n",
       " ['178J2',\n",
       "  'BE einige WD AS AH, KB geastet, alte SchälSchäden, teils Stockausschläge'],\n",
       " ['178J3',\n",
       "  'BE einige AS WD, einzelne FI RU KB, einzelne eingewachsene BU-El-Überhälter, geringe Qualität'],\n",
       " ['178J4', 'BE teils geastet, mäßig vergrast und leicht verkrautet'],\n",
       " ['178J5',\n",
       "  'ST 2 Teile',\n",
       "  'BE aus RM 1998/99, einige KB AS WD AH, südlich vom Weg mehr BU, im OstTeil mehr ES, einige EI-BU-LI-Überhälter, ungleichaltrig teils 5 Jahre älter, zahlreich Protzen'],\n",
       " ['178K0',\n",
       "  'ST ehemalige Abbaufläche',\n",
       "  'BE einige EE AS EIWD MB EZ LI, Sträucher, mäßig vergrast und leicht verkrautet'],\n",
       " ['178L0',\n",
       "  'ST örtlich vernässt',\n",
       "  'BE einige RO KB AS, einzelne AH ungleichmäßig mäßig verkrautet'],\n",
       " ['179A0',\n",
       "  'ST gegen Süden STOE 82',\n",
       "  'BE einige BU HB RU KI, RO hauptsächlich im SüdOsten, AH ist zu 50% Spitz-AH, ungleichaltrig, mäßig verkrautet'],\n",
       " ['179B1',\n",
       "  'ST flacher Rücken .',\n",
       "  'BE Kultur 2008, einige ES AS BI WD, Überhälterschicht, mäßig vergrast und leicht verkrautet',\n",
       "  'MA Kronenpflegeschnitt'],\n",
       " ['179B2',\n",
       "  'BE Kultur 1987, zahlreich RO, einige ES, einzeln EI, teils schöne KB, einige alte Schäl- und Malschäden, leicht vergrast und mäßig verkrautet',\n",
       "  'MA LA und KB fördern'],\n",
       " ['179C1',\n",
       "  'ST breite Rücken, Exposition: SüdWest bis NordOst, im SüdWesten und NordWesten steiler, im SüdOsten und am Rücken flacher, im SüdWesten steinig mit STOE 71 und HD-Typ',\n",
       "  '',\n",
       "  'BE einige AS EZ, BU und L| hauptsächlich im Norden, RO im SüdOsten, einzeln ES, El im SüdWesten, HB im NordOsten, einige eingewachsene BU-EI-Kl-Überhälter, ungleichaltrig +/- 10 Jahre, teils Ausschlagswald, KB vorwüchsig, gesäubert 1988/93, ungleichmäßig, mäßig vergrast und leicht',\n",
       "  'verkrautet',\n",
       "  '',\n",
       "  'MA nmııta FIRI ıınd Varilineuunn färdern'],\n",
       " ['179C2',\n",
       "  'ST steinig, Bodenschutzwald',\n",
       "  'BE einige ES KB LI, einzelne Kl, RO im NordWesten, einige eingewchsenr El-Überhälter, Ausschlagswald, unglrichaltrig + 10/- 20 Jahre, im NordWesten besser, mäßig vergrast und leicht verkrautet'],\n",
       " ['179C3',\n",
       "  'ST Grabeneinhang, Exposition: NordOst bis SüdWest',\n",
       "  'BE aus Nutzung 1996, einige BU AH KB LI HB, RO im Westen'],\n",
       " ['179D1',\n",
       "  'ST Exposition: SüdWest bis NordOst, in der Mitte flacher, STOE 71 bis 82 mit teils BW-Typ, im NordWesten steiler, teils steinig bis grobsteinig',\n",
       "  'BE einige KB ES AS BI FA Spitz-AH, im NrdOsten mehr HB, RO großteils im SüdWesten, einzelne Fl, einige eingewachsene EI-BU-Überhälter, im SüdWesten viel SpitzAH-Aufschlag, im SüdOsten HB-BU-Verjüngung, ungleichaltrig +/- 10 Jahre, im SüdWesten älter, ungleichmäßig, aus Rodung 1939,',\n",
       "  'zahlreich Stockausschläge, gesäubert 1993/2005, leicht vergrast und verkrautet'],\n",
       " ['179D2',\n",
       "  'ST ehemalige Zaunfläche, Versuchsfläche FBVA',\n",
       "  'BE Kultur 1988/91, einige AS ES AH, einzelne RE, LH im NordOsten im NordOsten jünger teils 5 Jahre jünger, verschiedene LA-Arten, auch Sudetenlärche, leicht vergrast und verkrautet',\n",
       "  'MA Zaunreste entfernen'],\n",
       " ['179D3',\n",
       "  'BE Kultur 2001/05, einige RO WD BI AS, einige BU-El-Überhälter, im Osten RE, im Westen einige Vorwüchse und um 5 Jahre älter, Brombeere, leicht vergrast und stark verkrautet'],\n",
       " ['179E0',\n",
       "  'ST karger Rücken, örtlich PM-Typ, Exposition: SüdWest bis Nord, steinig, Bodenschutzwald',\n",
       "  'BE einige KB BU EZ Kl LI Spitz-AH, NH hauptsächlich im Westen, ungleichaltrig +/- 10 Jahre, großteils Ausschlagwald'],\n",
       " ['179F0',\n",
       "  'ST im NordWesten steiler, Bodenschutzwald',\n",
       "  'BE einige Spitz-AH, El im NordWesten, an der Straße weniger RO, stark ungleichaltrig + 10/- 20 Jahre im Osten jünger, ungleichmäßig, verwildert, Holler'],\n",
       " ['179G1',\n",
       "  'ST flacher Rücken, Exposition: NordWest bis SüdWest, im NordWesten steiler, teils STOE 82',\n",
       "  'BE einige ES, einzelne KB FI FALA, einige eingewachsene BU-El-Überhälter, örtlich ungleichaltrig teils 5 Jahre älter, Verjüngung, einzelne Einzel-WindWürfe, im SüdWesten und Osten lückig, durchforstet (2004-06), AH in der Verjüngung ist Spitz-AH, leicht vergrast und mäßig verkrautet',\n",
       "  'MA gute EI BU und Edel-LH fördern'],\n",
       " ['179G2',\n",
       "  'BE einige ES KB Spitz-AH, zahlreich Protzen, ungleichaftrig teils 5 Jahre jünger, oft Stockausschläge, BU-LI-Überhälter, einige SchälSchäden, leicht verkrautet'],\n",
       " ['179H1',\n",
       "  'ST steinig, im SüdWesten flacher, ungleichmäßiges Gelände .',\n",
       "  'BE einige FA ES AH ER, einzelne SK, im Osten mehr HB, im Westen einige eingewachsene BU-El-Überhälter, RO im Norden und Westen eingesprengt, gesäubert 1993, ungleichaltrig +/- 10 Jahre, im Westen schlechte Stammformen'],\n",
       " ['179H2',\n",
       "  'ST 2 Teile',\n",
       "  'BE einige AS WD BI RO BU KB LI AH Spitz-AH, RE in Monosäulen, einige BU-KB-Überhälter, im Westen reine ES-RO, hier teils 5 Jahre älter Brombeere, mäßig vergrast und verkrautet'],\n",
       " ['179I1',\n",
       "  'ST steinig',\n",
       "  'BE einige KB LI RO, am Graben einige ER ES AH, einzelne eingewachsene BU-El-Überhälter, mäßig vergrast und leicht verkrautet'],\n",
       " ['179I2',\n",
       "  'BE aus Kultur 1986/88, einige AS KB BI EI LI BU HB, LH unterständig, im SüdWesten MR durchgeführt, hier mehr LH, einige alte SchälSchäden, mäßig vergrast und leicht verkrautet',\n",
       "  'MALA fördern'],\n",
       " ['179I3',\n",
       "  'BE aus Kultur 1988, einige AS WD Bl ER, gewaltige BU-Überhälter im Westen',\n",
       "  'MA BU-Überhälter belassen'],\n",
       " ['180A1',\n",
       "  'ST STOE 71/81, örtlich steinig mit HD-Typ, im SüdWesten Geländestufe und steiler',\n",
       "  'BE im Osten weniger EI BU, im Oberhang LA, einige gewaltige Althölzer, durchforstet 1999/06, ungleichaltrig, im NordWesten jünger, lückig, mäßig vergrast und leicht verkrautet'],\n",
       " ['180A2',\n",
       "  'ST im Westen steiler, steinig, Bodenschutzwald',\n",
       "  'BE einige LI, ungleichaltrig +/- 10 Jahre, geringe Qualität, mäßig vergrast'],\n",
       " ['180B1',\n",
       "  'ST breiter Rücken, am Unterhang AuStandort',\n",
       "  'BE einige BI ES, einige AH im Westen, El hauptsächlich im SüdWesten, am Unterhang ER, Fl ausgefallen, ungleichaltrig, lückig, 2. Schicht ungleichaltrig +/10 Jahre, leicht vergrast'],\n",
       " ['180B2',\n",
       "  'BE Kultur 1994, einige KB RU WD AS BI, AH und ES im NordWesten, LA hauptsächlich im SüdOsten - großteils mit',\n",
       "  'Stammschäden, einige alte SchälSchäden und Malbäume, im NordOÖsten Vorwüchse'],\n",
       " ['180C0',\n",
       "  'ST im Süden breiter Rücken, am Rücken steinig mit STOE 71 und HD-Typ',\n",
       "  'BE einige ES KB BU BI AH Kl, Elam Rücken, einige eingewachsene BU-El-Überhälter, ungleichaltrig +/- 10 Jahre, Ausschlagswald'],\n",
       " ['180D0',\n",
       "  'ST gegen Osten flacher, einige steile und steinige Rücken, STOE 71-82, im Westen steinig - grobsteinig, am Graben STOE 05',\n",
       "  'BE einige EI KB AH Spitz-AH, einzelne FI SK, RO im SüdOsten, AH ES am Graben, ein eingewachsene EI-BU-Überhälter, ungleichmäßig, ungleichaltrig +/- 10 Jahre, im Osten lichter, viel Holler, leicht vergrast und verkrautet'],\n",
       " ['180E1',\n",
       "  'ST im SüdWesten Rücken, im Süden flacher .',\n",
       "  'BE einige KB, entlang des Grabens einige AH ES, einzelne El, zahlreich eingewachsene BU-Überhälter, ungleichaltrig teils 10 Jahre jünger, gesäubert 1993, leicht verkrautet'],\n",
       " ['180E2',\n",
       "  'BE Kultur 1990, einige AS WD KB, alte Malschäden an LA, leicht verkrautet',\n",
       "  'MALA fördern'],\n",
       " ['180F1',\n",
       "  'ST im NordOsten Grabeneinhang, Exposition: Nord bis SüdWest, im SüdWesten grobsteinig und steiler',\n",
       "  'BE einzelne El, einige eingewachsene EI-BU-Überhälter, im NordWesten örtlich gute Verjüngung, ungleichaltrig +/- 10 Jahre, ungleichmäßig, mäßig vergrast und verkrautet'],\n",
       " ['180F2',\n",
       "  'BE Kultur 1993, El aus Monosäulen, ungleichaltrig teil 5 Jahre älter, zahlreich Stockausschläge, geringe Qualität'],\n",
       " ['180G1',\n",
       "  'ST gegen Westen STOE 82, flacher Rücken',\n",
       "  'BE einzelne EI BU, zahlreich eingewachsene EI-BU-Überhälter, KB vorwüchsig, ungleichaltrig +/- 10 Jahre, leicht vergrast und mäßig verkrautet'],\n",
       " ['180G2',\n",
       "  'BE großteils aus Kultur 1988, einige El BU AS WD, in der Mitte älterer HB-Bl-Streifen, im SüdWesten AS-Horst, KB teils geastet, leicht vergrast und verkrautet',\n",
       "  'MA KB BI Ei fördern'],\n",
       " ['180G3',\n",
       "  'BE aus Kultur 1998, ergänzt 2005-07 mit RE KB in Monosäulen, einige AS WD FA BU EI, viel HB Vorwüchse, Sträucher, Brombeere, stark vergrast und mäßig verkrautet'],\n",
       " ['180H1',\n",
       "  'ST im Unterhang steiler, im SüdWesten steinig, BE einige KB BU, HB hauptsächlich im SüdWesten, Mittelwald, Lindenstockausschläge, Altersgefälle von Westen nach Osten +/- 5 Jahre, mäßig vergrast und leicht verkrautet',\n",
       "  'MA Edel-LH und gute BI fördern'],\n",
       " ['180H2',\n",
       "  'ST ehemalige Zaunfläche',\n",
       "  'BE aus Kultur, einige BI AS KB LI ES, teils geastet, in der Mitte verwilderter Streifen mit viel SL und Holler, mäßig vergrast und leicht verkrautet'],\n",
       " ['180I1',\n",
       "  'ST flache Mulde',\n",
       "  'BE einige KB, zahlreich eingewachsene EI-BU-Überhälter, stark ungleichmäßig, leicht vergrast und mäßig verkrautet',\n",
       "  'MA Qualität fördern'],\n",
       " ['180I2',\n",
       "  'ST in Mulde STOE 82 mit WW-Typ',\n",
       "  'BE einige BI KB, am Graben einige AH ES, örtlich schöne El, im SüdOsten mehr BU - hier durchforstet (2008)'],\n",
       " ['180I3',\n",
       "  'BE einige BU BI EI ES, zahlreich eingewachsene BU-El-Überhälter, ungleichaltrig +/- 5 Jahre, LA vorwüchsig'],\n",
       " ['180J0', 'ST Bachauwald', 'BE einige HB RU, mäßig verkrautet'],\n",
       " ['181A0',\n",
       "  'ST im Norden eben',\n",
       "  'BE aus RM 1993/94, einige KB BI AS, El hauptsächlich im NordOsten, El in Monosäulen ergänzt und großteils ausgefallen, Ausschlagswald',\n",
       "  'MA EI KB fördern, Kronenpflegeschnitt'],\n",
       " ['181B1',\n",
       "  'BE einige KB ES, El im SüdWesten, HB hauptsächlich im NordOsten, LA in der Mitte, einige eingewachsene BU-El-Überhälter im NordOsten lückig mit JuWu, hier 10 Jahre älter, durchforstet (2001/03), im SüdWesten gute Schaftqualität, großteils flächig verjüngt, Verjüngung ungleichaltrig +/- 5',\n",
       "  'Jahre, Holler, leicht vergrast und verkrautet',\n",
       "  'MA gute BU EI fördern'],\n",
       " ['181B2',\n",
       "  'ST 2 Teile',\n",
       "  'BE aus Nutzung 1998/99, einige KB, im OstTeil reine ES, einige Protzen, großteils schlechte Stammformen, einige alte SchälSchäden'],\n",
       " ['181C0',\n",
       "  'ST in der Mitte einige Graben',\n",
       "  'BE einzelne Fl, LA im Westen und in Streifen in der Mitte, einige Wipfelbrüche an LA, örtlich lückig, teils flächig verjüngt, Verjüngung großteils protzig, durchforstet (2002/07), mäßig vergrast und leicht verkrautet',\n",
       "  'MA gute LA EI BU fördern'],\n",
       " ['182A1',\n",
       "  'ST Rücken und Grabeneinhang; Exposition: NordOst bis SüdWest, am Rücken steinig, hier STOE 71 mit HD-Typ',\n",
       "  'BE einige BI, am Graben einige ES ER, einzelne FI RO, etwas ungleichaltrig, JuWu protzig, Verjüngung ungleichaltrig +/- 5 Jahre, mäßig vergrast und leicht verkrautet',\n",
       "  'MA gute BU EI fördern'],\n",
       " ['182A2',\n",
       "  'ST am Graben steiler .',\n",
       "  'BE einige LI AS, im Unterhang einige AH ES ER, einzelne Fl, LA im NordWesten, einige eingewachsenen BU-El-Überhälter, zahlreich Stockausschläge, ungleichaltrig'],\n",
       " ['182B1',\n",
       "  'ST am Hangfuß Quellaustritte',\n",
       "  'BE stark ungleichaltrig, alte BU-Überhälter, Lücken, im NordWesten mehr LI, leicht vergrast und mäßig verkrautet'],\n",
       " ['182B2',\n",
       "  'BE einige KB ES AS WD LI, ER hauptsächlich am Graben, teils stark geschält, durchforstet (2002/04), Bl teils abgestorben, einige alte SchlSchäden, ungleichaltrig +5/-10 Jahre, im Westen jünger, hier in der Mitte AH-BI-Horst, im Osten älter, leicht vergrast und verkrautet',\n",
       "  'MA AH BI EI - Qualität fördern'],\n",
       " ['182B3',\n",
       "  'ST 2 Teile, ehemalige Zaunfläche, in der Mitte Graben, Exposition: NordOst bis SüdWest',\n",
       "  'BE einige BI AS, im SüdTeil Stieleiche, im NordTeil Traubeneiche, mäßig vergrast und leicht verkrautet'],\n",
       " ['182C1',\n",
       "  'ST 22 Teile, im NordWestTeil Kuppe',\n",
       "  'BE im NordWestTeil mehr EI, ungleichaltrig, im SüdOstTeil lichter, viel Holler, mäßig vergrast und verkrautet',\n",
       "  'MA Dimensionen noch ausbauen'],\n",
       " ['182C2',\n",
       "  'BE einige KB AS BI, in der Mitte einige mit EI BU gemischter Streifen, Mittelwald, im SüdOsten durchforstet (2007/09), mäßig verkrautet',\n",
       "  'MA Ei fördern'],\n",
       " ['182C3',\n",
       "  'ST 3 Teile, im WestTeil Kuppe',\n",
       "  'BE einige BU WD AS, einzelne EI, LI Stockausschläge, Mittelwald, ungleichaltrig, fließende Übergänge zu \"C2\", leicht verkrautet',\n",
       "  'MA EI fördern'],\n",
       " ['182D0',\n",
       "  'ST flacher Rücken, Graben, Exposition: NordWest bis NordOst, am Rücken steinig, im Westen und NordOsten steiler',\n",
       "  'BE einige AH ES WD ER RO, einige eingewachsene BU-EI-LI-Überhälter, im Osten weniger Bl, im Osten mehr LI, BU hauptsächlich im NordWesten, Mittelwald, überwiegend aus Stockausschlägen, ungleichmäßig, leicht verkrautet'],\n",
       " ['182E0',\n",
       "  'ST Grabeneinhang, Exposition: NordOst bis SüdWest, im SüdOsten flacher, entlang Graben AuStandort \\\\',\n",
       "  'BE im NordOsten einige AS, im SüdOsten weniger HB und mehr Verjüngung, einige ER ES am Graben, einzeln EZ, zahlreich eingewachsene EI-BU-Überhälter, lückig mit Verjüngung, viel Tot- und Lagerholz, durchfostet (1994/98) mit FI-Entnahme, leicht vergrast und verkrautet'],\n",
       " ['182F1',\n",
       "  'BE einige AS BI ER KB, Mittelwald, ungleichaltrig +/- 10 Jahre, mäßig vergrast und leicht verkrautet',\n",
       "  'MA Qualität fördern'],\n",
       " ['182F2',\n",
       "  'ST teils STOE 82, im Norden einige Gräben, im Norden eben und vernässt, wechselnde Exposition',\n",
       "  'BE einige El, im SüdWesten mehr HB, im NordOsten mehr Bl, am Graben viel ER, Mittelwald, leicht vergrast und mäßig verkrautet'],\n",
       " ['182G0',\n",
       "  'ST im SüdOsten STOE 91',\n",
       "  'BE einige ER, etwas protzige BU-HB-LI-Verjüngung; durchforstet (2001), hohe Schaftgüte bei EI, Sträucher, mäßig vergrast und verkrautet'],\n",
       " ['182H1',\n",
       "  'ST im NordWesten steinig, im Süden eben .',\n",
       "  'BE einige EI ES AS BU WD, ungleichaltrig +/- 5 Jahre, einzelne El-Überhälter, teils 0,8 bestockt'],\n",
       " ['182H2',\n",
       "  'ST Umwandlungsfläche, örtlich STOE 91',\n",
       "  'BE Kultur 2008, Fegeschutz, einige EI-BU-KB-Überhälter, stark vergrast und leicht verkrautet'],\n",
       " ['182I1',\n",
       "  'BE aus Nutzung 1991, El in Monosäulen ergänzt - großteils ausgefallen, einige BU BI KB'],\n",
       " ['182I2',\n",
       "  'BE Kultur 2005, einige AS WD, im SüdWesten viel RO, ungleichaftrig teils 5 Jähre älter, Brombeere, LIHB Stockausschlag, einzelne RE'],\n",
       " ['182J0',\n",
       "  'BE Verjüngung ungleichaltrig und protzig',\n",
       "  'MA Langfristig erhalten'],\n",
       " ['183A0',\n",
       "  'ST gegen Osten STOE 82, im SüdWesten flach, im NordWesten steinig - blockig, am Graben steiler, 2 zugewachsene Aufhiebe',\n",
       "  'BE einige AH KI LI Spitz-AH, einzelne RO, am Graben einige ES, BU hauptsächlich im Osten, im NordWesten 10 Jahre jünger, durchforstet (2004-08), teils gute Qualität, mäßig vergrast und leicht verkrautet',\n",
       "  'MA Naturpark'],\n",
       " ['183B1',\n",
       "  'ST 2 Teile, im SüdWesten flach',\n",
       "  'BE einige AH AS KB, AH im NordOsten, ungleichaltrig + 5/-10 Jahre, einzelne Kl, BU hauptsächlich im Westen, OstTeil aus LI/RM 1996/98, hier NordOsten Vorwüchse, lockerer Schirm in der Mitte, lückig - großteils nur noch überhälterartig, mäßig vergrast und leicht verkrautet',\n",
       "  'MA Naturpark, gute El ausbauen'],\n",
       " ['183B2',\n",
       "  'ST Aufhieb entlang der Mauer',\n",
       "  'BE einige ES RO Spitz-AH RU, ungleichaltrig, Stockausschläge, Sträucher, mäßig vergrast und verkrautet, 1x Walnuss,',\n",
       "  'MA Naturpark'],\n",
       " ['183C0',\n",
       "  'ST steinig',\n",
       "  'BE einige WD AS BU KB, im SüdWesten mehr HB SL, an der Schneise einige AH ES, im NordOsten zahlreich AS Bl, RO hauptsächlich im Norden, leicht vergrast und mäßig verkrautet',\n",
       "  'MA Naturpark, Edel-LH fördern'],\n",
       " ['183D0',\n",
       "  'ST am Unterhang AuStandort mit STOE 05 und K-Typ, gegen Westen flacher',\n",
       "  'BE einige FI SK, entlang Graben zahlreich ES ER, in der Mitte ein Streifen mit LA, einige Alt-BU, viel Zwischenbestand, einzelne Bl, ungleichaltrig +/-10 Jahre, im Westen ca. 25jger LH-Streifen aus Stockausschlägen, mäßig vergrast und leicht verkrautet'],\n",
       " ['183E0',\n",
       "  'ST im SüdWesten eben, im SüdOsten Graben, im Graben vernässt mit STOE 05 .',\n",
       "  'BE einige BU KB RU ERASES AH FI, an \"F1\" zahlreich AS, LA im NordOsten, einige eingewachsene BU-El-Überhälter, im Norden örtlich jünger, schöne Schaftformen, ungleichmäßig, ungleichaltrig teils 10 Jahre älter, Hasel, mäßig vergrast und verkrautet'],\n",
       " ['183F1',\n",
       "  'ST 2 Rücken, Exposition: SüdWest bis NordOst, im Westen flach und teils AuStandort mit STOE 05, in der Mitte steiler, hier steinige Kuppe .',\n",
       "  'BE einige HB BU LIKI EZ LA, einzeln FI AH KB, im Westen mehr HB, ungleichaltrig teils 20 Jahre älter, großteils geringe Qualität, auf Kuppe in der Mitte einige SK, einige eingewachsene El-Überhälter, Verjüngung im Westen, hier nur noch 4/10 Altholz, örtlich Plenterung 1999, Sträucher, mäßig',\n",
       "  'vergrast und verkrautet'],\n",
       " ['183F2',\n",
       "  'ST 4 Teile, örtlich STOE 82, Exposition: SüdWest bis NordOst, im NordWesten vernässt mit STOE 05 und K-Typ',\n",
       "  'BE einige BU LI WD KB RO AH AS ES, im NordOsten reiner AH, einige Vorwüchse, BI hauptsächlich im SüdOsten, im NordWesten viel RO, einige AH an der Wildwiese, überwiegend Stockausschläge, ungleichaltrig +/-10 Jahre, leicht vergrast und verkrautet',\n",
       "  'MA El und sonst gute Stämme fördern'],\n",
       " ['183F3',\n",
       "  'ST 2 Teile',\n",
       "  'BE aus Nutzung 1987, einige AS El, mäßig verkrautet'],\n",
       " ['184A1',\n",
       "  'ST einzelne alte Abbrüche, örtlich grobsteinig, im NordOsten Kuppe, hier ungleichmäßig Gelände, im Norden flacher',\n",
       "  'BE einige BU LI, RO im Süden ES und KB im Westen im NordOsten reine EI und EZ, im NordOsten auf der Kuppe KI-Horst, im Süden in der Mitte einige LA, leicht vergrast und verkrautet',\n",
       "  'MA Naturpark'],\n",
       " ['184A2',\n",
       "  'BE einige ES KB, Kl großteils im Süden, in der Mitte jünger, leicht vergrast und verkrautet',\n",
       "  'MA Naturpark'],\n",
       " ['184A3', 'BE im SüdWesten älter', 'MA Naturpark'],\n",
       " ['184B0',\n",
       "  'ST im Süden tiefgründiger mit STOE 23/32, im Norden grobsteinig - blockig, exponierter Waldort im Naturpark',\n",
       "  'BE im Norden schwächer und jünger, im Süden gelichtet (2008), Verjüngung protzig, Holler, leicht vergrast und verkrautet',\n",
       "  'MA Naturpark'],\n",
       " ['184C0',\n",
       "  'ST Fossilienführende Kalke, örtlich \"versteinerte Ohren\", grobsteinig, ungleichmäßiges Gelände, zugewachsene Steinbrüche',\n",
       "  'BE SK im NordOsten, ungleichaltrig +/-10 Jahre, im NordOsten älter, Sträucher, Pioniergesellschaften',\n",
       "  'MA Naturpark'],\n",
       " ['184D1',\n",
       "  'ST2 Teile',\n",
       "  'BE einige EI LI, BU im SüdOsten, einzelne KI, zahlreich älter Einwüchse - besonders im OstTeil, ungleichaltrig, Unterwuchs protzig, im SüdOsten dfstet (2005/06); im Süden Stangenholz, leicht vergrast',\n",
       "  'MA Naturpark'],\n",
       " ['184D2',\n",
       "  'ST ungleichmäßiges Gelände',\n",
       "  'BE zahlreich FA, einige KB HB, viel Sträucher (Holler), leicht vergrast und mäßig verkrautet',\n",
       "  'MA Naturpark'],\n",
       " ['184D3',\n",
       "  'ST im Osten steiler Abfall, grobsteinig, an \"D1\" Geländestufe',\n",
       "  'BE einige KB, einzelne EL, verwilderte Aufhiebe mit Stockausschlägen, ungleichaltrig, viele Sträucher',\n",
       "  'MA Natıırnark'],\n",
       " ['184D4',\n",
       "  'ST grobsteinig',\n",
       "  'BE aus Nutzung 1992, einige KB, im Süden jünger und mehr AH, viel HB-Unterwuchs, MR durchgeführt',\n",
       "  'MA Naturpark'],\n",
       " ['184D5',\n",
       "  'BE aus Nutzung 1998, einige KB BU EI SK, Kl im Westen, viele Ausfälle, Waldrebe, leicht vergrast und mäßig verkrautet',\n",
       "  'MA Naturpark'],\n",
       " ['184E0',\n",
       "  'ST am Oberhang STOE 81 mit HD-Typ, steinig, ungleichmäßiges Gelände',\n",
       "  'BE einige AH LI KB AS, einzelne LA BI, El großteils am Oberhang, AS großteils am Teich, gute Schaftformen, dfstet (2007), mäßig vergrast und verkrautet',\n",
       "  'MA Naturpark'],\n",
       " ['184F0',\n",
       "  'ST STOE 82/81, auf der Kuppe steinig, im Süden flacher, in der Mitte steiler \\\\',\n",
       "  'BE einige FI, einzelnr L! KB, HB hauptsächlich im Norden, LA auf der Kuppe im Süden, einigr eingewachsene BU-El-Überhälter, teils Ausschlagswald, ungleichaltrig, mäßig vergrast und leicht verkrautet',\n",
       "  'MA Naturpark'],\n",
       " ['184G0',\n",
       "  'ST Kuppe, an der Ruine \"Scharfeneck\" herabgefallenes Mauerwerk, grobsteinig - blockig, ungleichmäßiges Gelände, imposanter Efeubewuchs, uralte Säge',\n",
       "  'BE einige El KILIHB KB ES RU BU, an der Ruine einige Vor- und Einwüchse, im SüdWesten mehr EI, im Ruinenbereich interessante Pionierbestockung mit AH FA LI HB Spitz-AH, mäßig vergrast und leicht verkrautet',\n",
       "  'MA Naturpark. belassen'],\n",
       " ['184H0',\n",
       "  'ST Rücken, steinig',\n",
       "  'BE einige RO KB Bl LI, einige eingewachsene BU-El-Überhälter, gegen Osten älter und einige LA, leicht vergrast und mäßig verkrautet',\n",
       "  'KAA Kinteernarl'],\n",
       " ['184I0',\n",
       "  'ST unten flacher, an \"12\" steinig',\n",
       "  'BE einige LI, stark ungleichaltrig, leicht vergrast und verkrautet',\n",
       "  'MA Naturpark'],\n",
       " ['184J0',\n",
       "  'ST im Norden seltsame Mauerwerke, Bachau, vernässt',\n",
       "  'BE einige ER Lt RU KB, RO im Norden, dfstet (2005), mäßig verkrautet',\n",
       "  'MA Naturpark'],\n",
       " ['184K0',\n",
       "  'ST vernässt',\n",
       "  'BE einige FA KB RU WD AS, SP, im SüdWesten großteils ER, einige Vorwüchse, zahlreich protziger Unterwuchs, Mittelwald, ungleichaltrig +5/-10 Jahre, mäßig verkrautet']]"
      ]
     },
     "execution_count": 35,
     "metadata": {},
     "output_type": "execute_result"
    }
   ],
   "source": [
    "texts"
   ]
  },
  {
   "cell_type": "code",
   "execution_count": 36,
   "metadata": {},
   "outputs": [],
   "source": [
    "df = pd.DataFrame(texts)"
   ]
  },
  {
   "cell_type": "code",
   "execution_count": 37,
   "metadata": {},
   "outputs": [
    {
     "data": {
      "text/html": [
       "<div>\n",
       "<style scoped>\n",
       "    .dataframe tbody tr th:only-of-type {\n",
       "        vertical-align: middle;\n",
       "    }\n",
       "\n",
       "    .dataframe tbody tr th {\n",
       "        vertical-align: top;\n",
       "    }\n",
       "\n",
       "    .dataframe thead th {\n",
       "        text-align: right;\n",
       "    }\n",
       "</style>\n",
       "<table border=\"1\" class=\"dataframe\">\n",
       "  <thead>\n",
       "    <tr style=\"text-align: right;\">\n",
       "      <th></th>\n",
       "      <th>0</th>\n",
       "      <th>1</th>\n",
       "      <th>2</th>\n",
       "      <th>3</th>\n",
       "      <th>4</th>\n",
       "      <th>5</th>\n",
       "      <th>6</th>\n",
       "    </tr>\n",
       "  </thead>\n",
       "  <tbody>\n",
       "    <tr>\n",
       "      <td>0</td>\n",
       "      <td>172A1</td>\n",
       "      <td>ST grobsteinig</td>\n",
       "      <td>BE einzelne KB ES, ungleichaltrig +/- 10 Jahre...</td>\n",
       "      <td>None</td>\n",
       "      <td>None</td>\n",
       "      <td>None</td>\n",
       "      <td>None</td>\n",
       "    </tr>\n",
       "    <tr>\n",
       "      <td>1</td>\n",
       "      <td>172A2</td>\n",
       "      <td>ST steilerer Abfall zu \"BO\", am Rücken blockig...</td>\n",
       "      <td>Qualität, meist krummwüchsig, mäßig vergrast u...</td>\n",
       "      <td>None</td>\n",
       "      <td>None</td>\n",
       "      <td>None</td>\n",
       "      <td>None</td>\n",
       "    </tr>\n",
       "    <tr>\n",
       "      <td>2</td>\n",
       "      <td>172A3</td>\n",
       "      <td>BE einige SK, einzeln EL, NH eher im SüdOsten,...</td>\n",
       "      <td>None</td>\n",
       "      <td>None</td>\n",
       "      <td>None</td>\n",
       "      <td>None</td>\n",
       "      <td>None</td>\n",
       "    </tr>\n",
       "    <tr>\n",
       "      <td>3</td>\n",
       "      <td>172A4</td>\n",
       "      <td>BE einige BU EI, im Norden einige AH, großteil...</td>\n",
       "      <td>None</td>\n",
       "      <td>None</td>\n",
       "      <td>None</td>\n",
       "      <td>None</td>\n",
       "      <td>None</td>\n",
       "    </tr>\n",
       "    <tr>\n",
       "      <td>4</td>\n",
       "      <td>172B0</td>\n",
       "      <td>ST verwilderte Fläche, im Norden steiler und s...</td>\n",
       "      <td>BE einige BU, AH, im NordWesten einige EZ, ein...</td>\n",
       "      <td>None</td>\n",
       "      <td>None</td>\n",
       "      <td>None</td>\n",
       "      <td>None</td>\n",
       "    </tr>\n",
       "    <tr>\n",
       "      <td>...</td>\n",
       "      <td>...</td>\n",
       "      <td>...</td>\n",
       "      <td>...</td>\n",
       "      <td>...</td>\n",
       "      <td>...</td>\n",
       "      <td>...</td>\n",
       "      <td>...</td>\n",
       "    </tr>\n",
       "    <tr>\n",
       "      <td>167</td>\n",
       "      <td>184G0</td>\n",
       "      <td>ST Kuppe, an der Ruine \"Scharfeneck\" herabgefa...</td>\n",
       "      <td>BE einige El KILIHB KB ES RU BU, an der Ruine ...</td>\n",
       "      <td>MA Naturpark. belassen</td>\n",
       "      <td>None</td>\n",
       "      <td>None</td>\n",
       "      <td>None</td>\n",
       "    </tr>\n",
       "    <tr>\n",
       "      <td>168</td>\n",
       "      <td>184H0</td>\n",
       "      <td>ST Rücken, steinig</td>\n",
       "      <td>BE einige RO KB Bl LI, einige eingewachsene BU...</td>\n",
       "      <td>KAA Kinteernarl</td>\n",
       "      <td>None</td>\n",
       "      <td>None</td>\n",
       "      <td>None</td>\n",
       "    </tr>\n",
       "    <tr>\n",
       "      <td>169</td>\n",
       "      <td>184I0</td>\n",
       "      <td>ST unten flacher, an \"12\" steinig</td>\n",
       "      <td>BE einige LI, stark ungleichaltrig, leicht ver...</td>\n",
       "      <td>MA Naturpark</td>\n",
       "      <td>None</td>\n",
       "      <td>None</td>\n",
       "      <td>None</td>\n",
       "    </tr>\n",
       "    <tr>\n",
       "      <td>170</td>\n",
       "      <td>184J0</td>\n",
       "      <td>ST im Norden seltsame Mauerwerke, Bachau, vern...</td>\n",
       "      <td>BE einige ER Lt RU KB, RO im Norden, dfstet (2...</td>\n",
       "      <td>MA Naturpark</td>\n",
       "      <td>None</td>\n",
       "      <td>None</td>\n",
       "      <td>None</td>\n",
       "    </tr>\n",
       "    <tr>\n",
       "      <td>171</td>\n",
       "      <td>184K0</td>\n",
       "      <td>ST vernässt</td>\n",
       "      <td>BE einige FA KB RU WD AS, SP, im SüdWesten gro...</td>\n",
       "      <td>None</td>\n",
       "      <td>None</td>\n",
       "      <td>None</td>\n",
       "      <td>None</td>\n",
       "    </tr>\n",
       "  </tbody>\n",
       "</table>\n",
       "<p>172 rows × 7 columns</p>\n",
       "</div>"
      ],
      "text/plain": [
       "         0                                                  1  \\\n",
       "0    172A1                                     ST grobsteinig   \n",
       "1    172A2  ST steilerer Abfall zu \"BO\", am Rücken blockig...   \n",
       "2    172A3  BE einige SK, einzeln EL, NH eher im SüdOsten,...   \n",
       "3    172A4  BE einige BU EI, im Norden einige AH, großteil...   \n",
       "4    172B0  ST verwilderte Fläche, im Norden steiler und s...   \n",
       "..     ...                                                ...   \n",
       "167  184G0  ST Kuppe, an der Ruine \"Scharfeneck\" herabgefa...   \n",
       "168  184H0                                 ST Rücken, steinig   \n",
       "169  184I0                  ST unten flacher, an \"12\" steinig   \n",
       "170  184J0  ST im Norden seltsame Mauerwerke, Bachau, vern...   \n",
       "171  184K0                                        ST vernässt   \n",
       "\n",
       "                                                     2  \\\n",
       "0    BE einzelne KB ES, ungleichaltrig +/- 10 Jahre...   \n",
       "1    Qualität, meist krummwüchsig, mäßig vergrast u...   \n",
       "2                                                 None   \n",
       "3                                                 None   \n",
       "4    BE einige BU, AH, im NordWesten einige EZ, ein...   \n",
       "..                                                 ...   \n",
       "167  BE einige El KILIHB KB ES RU BU, an der Ruine ...   \n",
       "168  BE einige RO KB Bl LI, einige eingewachsene BU...   \n",
       "169  BE einige LI, stark ungleichaltrig, leicht ver...   \n",
       "170  BE einige ER Lt RU KB, RO im Norden, dfstet (2...   \n",
       "171  BE einige FA KB RU WD AS, SP, im SüdWesten gro...   \n",
       "\n",
       "                          3     4     5     6  \n",
       "0                      None  None  None  None  \n",
       "1                      None  None  None  None  \n",
       "2                      None  None  None  None  \n",
       "3                      None  None  None  None  \n",
       "4                      None  None  None  None  \n",
       "..                      ...   ...   ...   ...  \n",
       "167  MA Naturpark. belassen  None  None  None  \n",
       "168         KAA Kinteernarl  None  None  None  \n",
       "169            MA Naturpark  None  None  None  \n",
       "170            MA Naturpark  None  None  None  \n",
       "171                    None  None  None  None  \n",
       "\n",
       "[172 rows x 7 columns]"
      ]
     },
     "execution_count": 37,
     "metadata": {},
     "output_type": "execute_result"
    }
   ],
   "source": [
    "df"
   ]
  },
  {
   "cell_type": "code",
   "execution_count": 39,
   "metadata": {},
   "outputs": [],
   "source": [
    "data_path = os.path.join(home_path, 'Data', 'obf_autman','csv')\n",
    "df.to_csv(data_path + \"/text_171_11_20201104.csv\", index=False)"
   ]
  },
  {
   "cell_type": "markdown",
   "metadata": {},
   "source": [
    "## Maßnahme"
   ]
  },
  {
   "cell_type": "code",
   "execution_count": 8,
   "metadata": {},
   "outputs": [],
   "source": [
    "ma = ocr.get_text('mass')\n",
    "#spaces = ocr.get_spaces()"
   ]
  },
  {
   "cell_type": "code",
   "execution_count": 21,
   "metadata": {},
   "outputs": [],
   "source": [
    "# ph \n",
    "dic_ma = {'S':0, 'MA':1, 'FL':0, 'LH':1, 'NH':1, 'SUM':0, 'DR':1, 'BH':1, 'ZP':1, 'SG':1, 'RU':1}\n",
    "# gernot\n",
    "#dic_ma = {'S':0, 'MA':1, 'FL':1, 'LH':1, 'NH':1, 'SUM':0, 'DR':1, 'BH':0, 'ZP':1, 'SG':1, 'RU':1}"
   ]
  },
  {
   "cell_type": "code",
   "execution_count": 22,
   "metadata": {},
   "outputs": [
    {
     "data": {
      "text/plain": [
       "'DE0 75113636\\nAnfang - Mitte Dezennium, Gelände ungleichmäßig'"
      ]
     },
     "execution_count": 22,
     "metadata": {},
     "output_type": "execute_result"
    }
   ],
   "source": [
    "ma"
   ]
  },
  {
   "cell_type": "code",
   "execution_count": null,
   "metadata": {},
   "outputs": [],
   "source": []
  },
  {
   "cell_type": "code",
   "execution_count": 23,
   "metadata": {},
   "outputs": [],
   "source": [
    "# 1\n",
    "def split_lines(ma, dic_ma):\n",
    "    ma = ma.splitlines()\n",
    "    row_info = []\n",
    "    for i in range(len(ma)):\n",
    "        if ma[i][dic_ma['S']:dic_ma['S']+2] in [\"DE\", \"DF\", \"RM\", \"LI\", \"AD\", \"KH\"]:\n",
    "            ma[i] = ma[i].replace(\" \", \"\")\n",
    "            ma[i] = ma[i].replace(\",\", \"\")\n",
    "            ma[i] = ma[i].replace(\"O\", \"\")\n",
    "            row_info.append(\"nutz\")\n",
    "        else:\n",
    "            ma[i] = ma[i].replace(\"Bl\", \"BI\")\n",
    "            ma[i] = ma[i].replace(\"El\", \"EI\")\n",
    "            ma[i] = ma[i].replace(\"Kl\", \"KI\")\n",
    "            ma[i] = ma[i].replace(\"Ll\", \"LI\")\n",
    "            ma[i] = ma[i].replace(\"Zl\", \"ZI\")\n",
    "            row_info.append(\"text\")\n",
    "        \n",
    "    return ma, row_info"
   ]
  },
  {
   "cell_type": "code",
   "execution_count": 24,
   "metadata": {},
   "outputs": [],
   "source": [
    "#\n",
    "def otsu(gray):\n",
    "    '''\n",
    "        otsu algorithm for finding the best threshold value\n",
    "    '''\n",
    "    pixel_number = gray.shape[0]\n",
    "    mean_weigth = 1.0/pixel_number\n",
    "    his, bins = np.histogram(gray, np.array(range(0, np.max(gray)+1)))\n",
    "    final_thresh = -1\n",
    "    final_value = -1\n",
    "    for t in bins[1:-1]: # This goes from 1 to 254 uint8 range (Pretty sure wont be those values)\n",
    "        Wb = np.sum(his[:t]) * mean_weigth\n",
    "        Wf = np.sum(his[t:]) * mean_weigth\n",
    "\n",
    "        mub = np.mean(his[:t])\n",
    "        muf = np.mean(his[t:])\n",
    "\n",
    "        value = Wb * Wf * (mub - muf) ** 2\n",
    "\n",
    "        if value > final_value:\n",
    "            final_thresh = t\n",
    "            final_value = value\n",
    "\n",
    "    return(final_thresh)"
   ]
  },
  {
   "cell_type": "code",
   "execution_count": 25,
   "metadata": {},
   "outputs": [],
   "source": [
    "def find_row_corrdinates(rows_pos):\n",
    "    rows = []\n",
    "    temp = []\n",
    "    x = rows_pos[0]\n",
    "    for cor in rows_pos:\n",
    "        if (cor < x * 1.1) & (cor > x * 0.9):\n",
    "            temp.append(cor)\n",
    "        else:\n",
    "            rows.append(int(sum(temp) / len(temp)))\n",
    "            x = cor\n",
    "            temp = []\n",
    "    rows.append(int(sum(temp) / len(temp)))\n",
    "    return(np.array(rows))"
   ]
  },
  {
   "cell_type": "code",
   "execution_count": 26,
   "metadata": {},
   "outputs": [],
   "source": [
    "# OCRPage\n",
    "def get_char_positions(img_thresh):\n",
    "    # invert binary\n",
    "    img = cv2.bitwise_not(img_thresh)\n",
    "    # cut the mass\n",
    "    img = ocr.cut_feature(img, \"mass\")\n",
    "    # get boundries of detected characters\n",
    "    rects = ocr.find_objects(img)\n",
    "    # convert to numpy array\n",
    "    rects = np.asarray(rects)\n",
    "    \n",
    "    # filter small points\n",
    "    rect_max_hight = rects[:,3].max()\n",
    "    rec_fil = rects[rect_max_hight/rects[:,3] < rect_max_hight/(rects[:,3].min()*1.5)]\n",
    "    # get lower coordinates\n",
    "    rec_fil[:,1] = rec_fil[:,1] + rec_fil[:,3]\n",
    "    # get unique row positions\n",
    "    rows_pos = np.sort(np.unique(rec_fil[:,1]))\n",
    "    # filter noise\n",
    "    rows_pos = find_row_corrdinates(rows_pos)\n",
    "    \n",
    "    return(rec_fil,rows_pos)"
   ]
  },
  {
   "cell_type": "code",
   "execution_count": 27,
   "metadata": {},
   "outputs": [],
   "source": [
    "data, info = split_lines(ma, dic_ma)"
   ]
  },
  {
   "cell_type": "code",
   "execution_count": 28,
   "metadata": {},
   "outputs": [],
   "source": [
    "rec_fil,rows_pos = get_char_positions(ocr.img_thresh)"
   ]
  },
  {
   "cell_type": "code",
   "execution_count": 29,
   "metadata": {},
   "outputs": [
    {
     "data": {
      "text/plain": [
       "array([[1125,  324,    9,   21],\n",
       "       [1984,  312,    8,   43],\n",
       "       [1711,  312,    8,   43],\n",
       "       [ 988,  312,    8,   43],\n",
       "       [ 567,  312,    8,   43],\n",
       "       [2000,  330,   39,   62],\n",
       "       [1597,  330,   39,   62],\n",
       "       [1507,  313,   35,   45],\n",
       "       [1007,  313,   35,   45],\n",
       "       [ 805,  312,   37,   44],\n",
       "       [ 374,  330,   39,   62],\n",
       "       [1885,  313,   42,   46],\n",
       "       [1818,  312,   59,   45],\n",
       "       [1727,  313,   38,   46],\n",
       "       [1663,  314,   40,   47],\n",
       "       [1554,  312,   36,   45],\n",
       "       [1436,  314,   40,   47],\n",
       "       [1345,  312,   36,   45],\n",
       "       [1297,  313,   42,   46],\n",
       "       [1232,  314,   40,   47],\n",
       "       [1053,  312,   59,   45],\n",
       "       [ 942,  312,   36,   45],\n",
       "       [ 896,  312,   36,   45],\n",
       "       [ 847,  314,   40,   47],\n",
       "       [ 759,  314,   40,   47],\n",
       "       [ 630,  314,   40,   47],\n",
       "       [ 331,  312,   36,   45],\n",
       "       [ 282,  313,   42,   46],\n",
       "       [ 215,  312,   36,   45],\n",
       "       [ 605,  313,   20,   57],\n",
       "       [ 581,  313,   20,   57],\n",
       "       [1771,  312,   36,   60],\n",
       "       [1646,  312,    8,   60],\n",
       "       [1388,  314,   39,   62],\n",
       "       [1280,  312,    8,   60],\n",
       "       [ 703,  312,   49,   60],\n",
       "       [ 499,  312,   58,   60],\n",
       "       [ 155,  312,   53,   60],\n",
       "       [1937,  313,   37,   62],\n",
       "       [1168,  314,   55,   63],\n",
       "       [ 257,  312,   21,   61],\n",
       "       [ 412,  218,   40,   59],\n",
       "       [ 366,  216,   41,   57],\n",
       "       [ 759,  218,   41,   60],\n",
       "       [ 620,  218,   41,   60],\n",
       "       [ 556,  216,   22,   58],\n",
       "       [ 487,  216,   22,   58],\n",
       "       [ 296,  218,   40,   60],\n",
       "       [ 806,  218,   40,   61],\n",
       "       [ 690,  218,   40,   61],\n",
       "       [ 222,  216,   44,   60],\n",
       "       [ 161,  216,   49,   60]])"
      ]
     },
     "execution_count": 29,
     "metadata": {},
     "output_type": "execute_result"
    }
   ],
   "source": [
    "rec_fil"
   ]
  },
  {
   "cell_type": "code",
   "execution_count": 30,
   "metadata": {},
   "outputs": [
    {
     "data": {
      "text/plain": [
       "array([217, 320])"
      ]
     },
     "execution_count": 30,
     "metadata": {},
     "output_type": "execute_result"
    }
   ],
   "source": [
    "rows_pos"
   ]
  },
  {
   "cell_type": "code",
   "execution_count": 31,
   "metadata": {},
   "outputs": [],
   "source": [
    "# set index of nutz\n",
    "idx = 0\n",
    "# filter only nutzungs row\n",
    "rec_fil_fil = rec_fil[np.where((rec_fil[:,1] <= rows_pos[idx]*1.05) & (rec_fil[:,1] >= rows_pos[idx]*0.95))]\n",
    "data_nutz = data[idx]\n",
    "\n"
   ]
  },
  {
   "cell_type": "code",
   "execution_count": 32,
   "metadata": {},
   "outputs": [
    {
     "data": {
      "text/plain": [
       "'DE075113636'"
      ]
     },
     "execution_count": 32,
     "metadata": {},
     "output_type": "execute_result"
    }
   ],
   "source": [
    "data_nutz"
   ]
  },
  {
   "cell_type": "code",
   "execution_count": 33,
   "metadata": {},
   "outputs": [
    {
     "data": {
      "text/plain": [
       "array([[412, 218,  40,  59],\n",
       "       [366, 216,  41,  57],\n",
       "       [759, 218,  41,  60],\n",
       "       [620, 218,  41,  60],\n",
       "       [556, 216,  22,  58],\n",
       "       [487, 216,  22,  58],\n",
       "       [296, 218,  40,  60],\n",
       "       [806, 218,  40,  61],\n",
       "       [690, 218,  40,  61],\n",
       "       [222, 216,  44,  60],\n",
       "       [161, 216,  49,  60]])"
      ]
     },
     "execution_count": 33,
     "metadata": {},
     "output_type": "execute_result"
    }
   ],
   "source": [
    "rec_fil_fil"
   ]
  },
  {
   "cell_type": "code",
   "execution_count": 34,
   "metadata": {},
   "outputs": [
    {
     "ename": "NameError",
     "evalue": "name 'rec_max_hight' is not defined",
     "output_type": "error",
     "traceback": [
      "\u001b[0;31m---------------------------------------------------------------------------\u001b[0m",
      "\u001b[0;31mNameError\u001b[0m                                 Traceback (most recent call last)",
      "\u001b[0;32m<ipython-input-34-72bccb69a5ac>\u001b[0m in \u001b[0;36m<module>\u001b[0;34m\u001b[0m\n\u001b[0;32m----> 1\u001b[0;31m \u001b[0mrec_fil_fil\u001b[0m\u001b[0;34m[\u001b[0m\u001b[0mnp\u001b[0m\u001b[0;34m.\u001b[0m\u001b[0mwhere\u001b[0m\u001b[0;34m(\u001b[0m\u001b[0mrec_fil_fil\u001b[0m\u001b[0;34m[\u001b[0m\u001b[0;34m:\u001b[0m\u001b[0;34m,\u001b[0m\u001b[0;36m3\u001b[0m\u001b[0;34m]\u001b[0m \u001b[0;34m>\u001b[0m \u001b[0mrec_max_hight\u001b[0m\u001b[0;34m/\u001b[0m\u001b[0;36m2\u001b[0m\u001b[0;34m)\u001b[0m\u001b[0;34m]\u001b[0m\u001b[0;34m\u001b[0m\u001b[0;34m\u001b[0m\u001b[0m\n\u001b[0m",
      "\u001b[0;31mNameError\u001b[0m: name 'rec_max_hight' is not defined"
     ]
    }
   ],
   "source": [
    "rec_fil_fil[np.where(rec_fil_fil[:,3] > rec_max_hight/2)]"
   ]
  },
  {
   "cell_type": "code",
   "execution_count": 35,
   "metadata": {},
   "outputs": [],
   "source": [
    "rec = rec_fil_fil\n",
    "len_1 = dic_ma['S'] + dic_ma['MA']*2\n",
    "len_2 = dic_ma['DR'] + dic_ma['BH'] + dic_ma['ZP'] + dic_ma['SG'] + dic_ma['RU']*2\n",
    "    \n",
    "# sort\n",
    "rec.view('i8,i8,i8,i8').sort(order=['f0'], axis=0)"
   ]
  },
  {
   "cell_type": "code",
   "execution_count": 36,
   "metadata": {},
   "outputs": [
    {
     "data": {
      "text/plain": [
       "array([[161, 216,  49,  60],\n",
       "       [222, 216,  44,  60],\n",
       "       [296, 218,  40,  60],\n",
       "       [366, 216,  41,  57],\n",
       "       [412, 218,  40,  59],\n",
       "       [487, 216,  22,  58],\n",
       "       [556, 216,  22,  58],\n",
       "       [620, 218,  41,  60],\n",
       "       [690, 218,  40,  61],\n",
       "       [759, 218,  41,  60],\n",
       "       [806, 218,  40,  61]])"
      ]
     },
     "execution_count": 36,
     "metadata": {},
     "output_type": "execute_result"
    }
   ],
   "source": [
    "rec"
   ]
  },
  {
   "cell_type": "code",
   "execution_count": 37,
   "metadata": {},
   "outputs": [],
   "source": [
    "rec_max_hight = rec[:,3].max()\n",
    "#rec_fil = rects[rect_max_hight/rects[:,3] < rect_max_hight/(rects[:,3].min()*1.5)]"
   ]
  },
  {
   "cell_type": "code",
   "execution_count": 38,
   "metadata": {},
   "outputs": [],
   "source": [
    "result = np.where((rec[:,2] < rec_max_hight/2.8) & (rec[:,2] > rec_max_hight/3.2))"
   ]
  },
  {
   "cell_type": "code",
   "execution_count": 39,
   "metadata": {},
   "outputs": [
    {
     "data": {
      "text/plain": [
       "array([60, 60, 60, 57, 59, 58, 58, 60, 61, 60, 61])"
      ]
     },
     "execution_count": 39,
     "metadata": {},
     "output_type": "execute_result"
    }
   ],
   "source": [
    "rec[:,3]"
   ]
  },
  {
   "cell_type": "code",
   "execution_count": 40,
   "metadata": {},
   "outputs": [
    {
     "data": {
      "text/plain": [
       "array([], dtype=int64)"
      ]
     },
     "execution_count": 40,
     "metadata": {},
     "output_type": "execute_result"
    }
   ],
   "source": [
    "result[0]"
   ]
  },
  {
   "cell_type": "code",
   "execution_count": 41,
   "metadata": {},
   "outputs": [],
   "source": [
    "for i in result[0]:\n",
    "    print(i)"
   ]
  },
  {
   "cell_type": "code",
   "execution_count": 42,
   "metadata": {},
   "outputs": [
    {
     "name": "stdout",
     "output_type": "stream",
     "text": [
      "yes\n"
     ]
    }
   ],
   "source": [
    "if result:\n",
    "    print('yes')"
   ]
  },
  {
   "cell_type": "code",
   "execution_count": 43,
   "metadata": {},
   "outputs": [
    {
     "ename": "AttributeError",
     "evalue": "'numpy.ndarray' object has no attribute 'siz'",
     "output_type": "error",
     "traceback": [
      "\u001b[0;31m---------------------------------------------------------------------------\u001b[0m",
      "\u001b[0;31mAttributeError\u001b[0m                            Traceback (most recent call last)",
      "\u001b[0;32m<ipython-input-43-038527b70fc0>\u001b[0m in \u001b[0;36m<module>\u001b[0;34m\u001b[0m\n\u001b[0;32m----> 1\u001b[0;31m \u001b[0mresult\u001b[0m\u001b[0;34m[\u001b[0m\u001b[0;36m0\u001b[0m\u001b[0;34m]\u001b[0m\u001b[0;34m.\u001b[0m\u001b[0msiz\u001b[0m\u001b[0;34m\u001b[0m\u001b[0;34m\u001b[0m\u001b[0m\n\u001b[0m",
      "\u001b[0;31mAttributeError\u001b[0m: 'numpy.ndarray' object has no attribute 'siz'"
     ]
    }
   ],
   "source": [
    "result[0].siz"
   ]
  },
  {
   "cell_type": "code",
   "execution_count": 44,
   "metadata": {},
   "outputs": [
    {
     "ename": "NameError",
     "evalue": "name 'get_comma' is not defined",
     "output_type": "error",
     "traceback": [
      "\u001b[0;31m---------------------------------------------------------------------------\u001b[0m",
      "\u001b[0;31mNameError\u001b[0m                                 Traceback (most recent call last)",
      "\u001b[0;32m<ipython-input-44-4161add089cd>\u001b[0m in \u001b[0;36m<module>\u001b[0;34m\u001b[0m\n\u001b[0;32m----> 1\u001b[0;31m \u001b[0;32mif\u001b[0m \u001b[0;36m2\u001b[0m \u001b[0;32min\u001b[0m \u001b[0mget_comma\u001b[0m\u001b[0;34m(\u001b[0m\u001b[0mrec\u001b[0m\u001b[0;34m)\u001b[0m\u001b[0;34m:\u001b[0m\u001b[0;34m\u001b[0m\u001b[0;34m\u001b[0m\u001b[0m\n\u001b[0m\u001b[1;32m      2\u001b[0m     \u001b[0mprint\u001b[0m\u001b[0;34m(\u001b[0m\u001b[0;34m'yes'\u001b[0m\u001b[0;34m)\u001b[0m\u001b[0;34m\u001b[0m\u001b[0;34m\u001b[0m\u001b[0m\n",
      "\u001b[0;31mNameError\u001b[0m: name 'get_comma' is not defined"
     ]
    }
   ],
   "source": [
    "if 2 in get_comma(rec):\n",
    "    print('yes')"
   ]
  },
  {
   "cell_type": "code",
   "execution_count": 45,
   "metadata": {},
   "outputs": [
    {
     "ename": "NameError",
     "evalue": "name 'get_comma' is not defined",
     "output_type": "error",
     "traceback": [
      "\u001b[0;31m---------------------------------------------------------------------------\u001b[0m",
      "\u001b[0;31mNameError\u001b[0m                                 Traceback (most recent call last)",
      "\u001b[0;32m<ipython-input-45-cdbb97d68f08>\u001b[0m in \u001b[0;36m<module>\u001b[0;34m\u001b[0m\n\u001b[0;32m----> 1\u001b[0;31m \u001b[0mget_comma\u001b[0m\u001b[0;34m(\u001b[0m\u001b[0mrec\u001b[0m\u001b[0;34m)\u001b[0m\u001b[0;34m-\u001b[0m\u001b[0;36m2\u001b[0m\u001b[0;34m\u001b[0m\u001b[0;34m\u001b[0m\u001b[0m\n\u001b[0m",
      "\u001b[0;31mNameError\u001b[0m: name 'get_comma' is not defined"
     ]
    }
   ],
   "source": [
    "get_comma(rec)-2"
   ]
  },
  {
   "cell_type": "code",
   "execution_count": 46,
   "metadata": {},
   "outputs": [],
   "source": [
    "def get_comma(rec):\n",
    "    rec.view('i8,i8,i8,i8').sort(order=['f0'], axis=0)\n",
    "    idx = np.where((rec[:,3] < rec_max_hight/2.8) & (rec[:,3] > rec_max_hight/3.2))\n",
    "    return idx[0]"
   ]
  },
  {
   "cell_type": "code",
   "execution_count": 47,
   "metadata": {},
   "outputs": [],
   "source": [
    "def get_dist_char(data, dic_ma, rec, rows_pos, info):\n",
    "    '''\n",
    "    get distances between characters\n",
    "    dic_ma = {'S':0, 'MA':1, 'FL':1, 'LH':1, 'NH':1, 'SUM':0, 'DR':1, 'BH':0, 'ZP':1, 'SG':1, 'RU':1}\n",
    "    string = 'DF13,8700023435'\n",
    "    '''\n",
    "    distances = []\n",
    "    ### get info about structure\n",
    "    len_1 = dic_ma['S'] + dic_ma['MA']*2\n",
    "    len_2 = dic_ma['DR'] + dic_ma['BH'] + dic_ma['ZP'] + dic_ma['SG'] + dic_ma['RU']*2\n",
    "    \n",
    "    #for i, line in enumerate(data):\n",
    "        # filter only nutzungs row\n",
    "        #if info[i] == 'nutz':\n",
    "            #rec = rec_fil[np.where(rec_fil[:,1] == rows_pos[i])]\n",
    "\n",
    "    # sort\n",
    "    rec.view('i8,i8,i8,i8').sort(order=['f0'], axis=0)\n",
    "    \n",
    "    rec_max_hight = rec[:,3].max()\n",
    "    \n",
    "    # get comma\n",
    "    idx_comma = np.where((rec[:,3] < rec_max_hight/2.8) & (rec[:,3] > rec_max_hight/3.2))[0] - len_1 - 1\n",
    "    \n",
    "    rec = rec[np.where(rec[:,3] > rec_max_hight/2)]\n",
    "\n",
    "    # filter just relevant \n",
    "    rec = rec[len_1:-len_2]\n",
    "\n",
    "    width_m = np.median(rec[:,2,])\n",
    "    pos_x = rec[:,0,].copy()\n",
    "    dist = pos_x[1:] - (pos_x[:-1]+int(width_m))\n",
    "\n",
    "    thresh = otsu(dist)\n",
    "\n",
    "    thisdict = {\"dist\": dist, \"thresh\": thresh}\n",
    "    distances.append(thisdict)\n",
    "            \n",
    "    return distances, idx_comma"
   ]
  },
  {
   "cell_type": "code",
   "execution_count": 48,
   "metadata": {},
   "outputs": [],
   "source": [
    "def pharse_string(string, dist, thresh_val, idx_comma):\n",
    "    '''\n",
    "    pharse string into usable variables based on the distance between the characters\n",
    "    input:  string = '13,87000'\n",
    "            dist = np.array([ 5, 17, 19,  7,  6, 20])\n",
    "    output: mass = ['13,8', '700', '0']\n",
    "    '''\n",
    "    # list of variables\n",
    "    mass = []\n",
    "    # if comma is detected swich to 1\n",
    "    comma = 0\n",
    "    # temporary helper variable\n",
    "    save = string[0]\n",
    "    # loop over char in string\n",
    "    for i, char in enumerate(string[1:]):\n",
    "        # if char is comma -> add char and reuse dist on ith position\n",
    "        if i in idx_comma:\n",
    "            save = save + ',' + char\n",
    "            dist[i] = 0\n",
    "            comma += 1\n",
    "        # check if current dist is bigger than threshold -> add to list of variables\n",
    "        else:\n",
    "            if dist[i] <= thresh_val:\n",
    "                save = save + char\n",
    "            else:\n",
    "                mass.append(save)\n",
    "                save = char\n",
    "    # add last variable\n",
    "    mass.append(save)\n",
    "    \n",
    "    return mass"
   ]
  },
  {
   "cell_type": "code",
   "execution_count": 49,
   "metadata": {},
   "outputs": [],
   "source": [
    "def from_string(ma_as_str, dic_ma, distances, idx_comma):\n",
    "    # TYP\n",
    "    # first 2 -> Maßnahme\n",
    "    # last 6 -> Nutzcode\n",
    "    \n",
    "    dic_ = {'S':0, 'MA':0, 'FL':0, 'LH':0, 'NH':0, 'SUM':0, 'DR':0, 'BH':0, 'ZP':0, 'SG':0, 'RU':0}\n",
    "    \n",
    "    #len_tech = dic_ma['DR'] + dic_ma['BH'] + dic_ma['ZP'] + dic_ma['SG'] + dic_ma['RU']*2\n",
    "    \n",
    "    # set Schicht (S)\n",
    "    if dic_ma['S']:\n",
    "        dic_['S'] = ma_as_str[:dic_ma['S']]\n",
    "        \n",
    "    # set Maßnahme (MA)\n",
    "    if dic_ma['MA']:\n",
    "        dic_['MA'] = ma_as_str[dic_ma['S']:dic_ma['S']+2]\n",
    "    \n",
    "    pos = 0\n",
    "    \n",
    "    # set Rückung (RU)\n",
    "    if dic_ma['RU']:\n",
    "        pos = -2\n",
    "        dic_['RU'] = ma_as_str[pos:]\n",
    "        \n",
    "    # set Schlägerung (SG), Zeitpunkt (ZP), Behörde (BH), Dringlichkeit (DR)\n",
    "    for i in ['SG', 'ZP', 'BH', 'DR']:\n",
    "        if dic_ma[i]:\n",
    "            pos -= 1\n",
    "            dic_[i] = ma_as_str[pos:pos+1]\n",
    "            \n",
    "    #print(ma_as_str[dic_ma['S']+2:pos])\n",
    "    #print(distances[\"dist\"])\n",
    "    \n",
    "    # pharse FL - LH - NH string\n",
    "    data_ma = pharse_string(ma_as_str[dic_ma['S']+2:pos], distances[\"dist\"], distances[\"thresh\"],idx_comma)\n",
    "    print(data_ma)\n",
    "    \n",
    "    # set Fläche (FL), Laubholz (LH), Nadelholz (NH), Summe (SUM)\n",
    "    cur = 0\n",
    "    for typ in ['FL', 'LH', 'NH', 'SUM']:\n",
    "        if dic_ma[typ]:\n",
    "            dic_[typ] = data_ma[cur]\n",
    "            cur += 1 \n",
    "    \n",
    "    return dic_"
   ]
  },
  {
   "cell_type": "code",
   "execution_count": 50,
   "metadata": {},
   "outputs": [
    {
     "name": "stdout",
     "output_type": "stream",
     "text": [
      "['DE075113636', 'Anfang - Mitte Dezennium, Gelände ungleichmäßig'] ['nutz', 'text']\n",
      "[217 320]\n",
      "[{'dist': array([30,  6]), 'thresh': 29}] []\n",
      "DE075113636\n",
      "{'S': 0, 'MA': 1, 'FL': 0, 'LH': 1, 'NH': 1, 'SUM': 0, 'DR': 1, 'BH': 1, 'ZP': 1, 'SG': 1, 'RU': 1}\n",
      "['0', '75']\n"
     ]
    },
    {
     "data": {
      "text/plain": [
       "{'S': 0,\n",
       " 'MA': 'DE',\n",
       " 'FL': 0,\n",
       " 'LH': '0',\n",
       " 'NH': '75',\n",
       " 'SUM': 0,\n",
       " 'DR': '1',\n",
       " 'BH': '1',\n",
       " 'ZP': '3',\n",
       " 'SG': '6',\n",
       " 'RU': '36'}"
      ]
     },
     "execution_count": 50,
     "metadata": {},
     "output_type": "execute_result"
    }
   ],
   "source": [
    "data, info = split_lines(ma, dic_ma)\n",
    "\n",
    "print(data, info)\n",
    "\n",
    "rec_fil,rows_pos = get_char_positions(ocr.img_thresh)\n",
    "\n",
    "print(rows_pos)\n",
    "\n",
    "# set index of nutz\n",
    "idx = 0\n",
    "# filter only nutzungs row\n",
    "rec_fil_fil = rec_fil[np.where((rec_fil[:,1] <= rows_pos[idx]*1.05) & (rec_fil[:,1] >= rows_pos[idx]*0.95))]\n",
    "data_nutz = data[idx]\n",
    "distances, idx_comma = get_dist_char(data, dic_ma, rec_fil_fil, rows_pos[idx], info)\n",
    "\n",
    "print(distances, idx_comma)\n",
    "\n",
    "print(data[0])\n",
    "print(dic_ma)\n",
    "z = from_string(data[0], dic_ma, distances[0], idx_comma)\n",
    "z"
   ]
  },
  {
   "cell_type": "code",
   "execution_count": null,
   "metadata": {},
   "outputs": [],
   "source": []
  },
  {
   "cell_type": "code",
   "execution_count": 106,
   "metadata": {},
   "outputs": [
    {
     "name": "stdout",
     "output_type": "stream",
     "text": [
      "---------------------------------------------\n",
      "['DF68500013435', 'EI fördern u freistellen'] ['nutz', 'text']\n",
      "[464 545]\n",
      "[{'dist': array([22, 26,  7,  8, 26]), 'thresh': 25}]\n",
      "['6,8', '500', '0']\n",
      "{'S': 0, 'MA': 'DF', 'FL': '6,8', 'LH': '500', 'NH': '0', 'SUM': 0, 'DR': '1', 'BH': 0, 'ZP': '3', 'SG': '4', 'RU': '35'}\n",
      "---------------------------------------------\n",
      "['DF160023435', 'EI u Edel-LH fördern u freistellen'] ['nutz', 'text']\n",
      "[523 607]\n",
      "[{'dist': array([24,  8, 25]), 'thresh': 24}]\n",
      "['160', '0']\n"
     ]
    },
    {
     "ename": "IndexError",
     "evalue": "list index out of range",
     "output_type": "error",
     "traceback": [
      "\u001b[0;31m---------------------------------------------------------------------------\u001b[0m",
      "\u001b[0;31mIndexError\u001b[0m                                Traceback (most recent call last)",
      "\u001b[0;32m<ipython-input-106-aa8766af7d40>\u001b[0m in \u001b[0;36m<module>\u001b[0;34m\u001b[0m\n\u001b[1;32m     29\u001b[0m         \u001b[0mprint\u001b[0m\u001b[0;34m(\u001b[0m\u001b[0mdistances\u001b[0m\u001b[0;34m)\u001b[0m\u001b[0;34m\u001b[0m\u001b[0;34m\u001b[0m\u001b[0m\n\u001b[1;32m     30\u001b[0m \u001b[0;34m\u001b[0m\u001b[0m\n\u001b[0;32m---> 31\u001b[0;31m         \u001b[0mz\u001b[0m \u001b[0;34m=\u001b[0m \u001b[0mfrom_string\u001b[0m\u001b[0;34m(\u001b[0m\u001b[0mdata\u001b[0m\u001b[0;34m[\u001b[0m\u001b[0;36m0\u001b[0m\u001b[0;34m]\u001b[0m\u001b[0;34m,\u001b[0m \u001b[0mdic_ma\u001b[0m\u001b[0;34m,\u001b[0m \u001b[0mdistances\u001b[0m\u001b[0;34m[\u001b[0m\u001b[0;36m0\u001b[0m\u001b[0;34m]\u001b[0m\u001b[0;34m,\u001b[0m \u001b[0midx_comma\u001b[0m\u001b[0;34m)\u001b[0m\u001b[0;34m\u001b[0m\u001b[0;34m\u001b[0m\u001b[0m\n\u001b[0m\u001b[1;32m     32\u001b[0m         \u001b[0mnutzungen\u001b[0m\u001b[0;34m.\u001b[0m\u001b[0mappend\u001b[0m\u001b[0;34m(\u001b[0m\u001b[0mz\u001b[0m\u001b[0;34m)\u001b[0m\u001b[0;34m\u001b[0m\u001b[0;34m\u001b[0m\u001b[0m\n\u001b[1;32m     33\u001b[0m         \u001b[0mprint\u001b[0m\u001b[0;34m(\u001b[0m\u001b[0mz\u001b[0m\u001b[0;34m)\u001b[0m\u001b[0;34m\u001b[0m\u001b[0;34m\u001b[0m\u001b[0m\n",
      "\u001b[0;32m<ipython-input-103-88c689371988>\u001b[0m in \u001b[0;36mfrom_string\u001b[0;34m(ma_as_str, dic_ma, distances, idx_comma)\u001b[0m\n\u001b[1;32m     40\u001b[0m     \u001b[0;32mfor\u001b[0m \u001b[0mtyp\u001b[0m \u001b[0;32min\u001b[0m \u001b[0;34m[\u001b[0m\u001b[0;34m'FL'\u001b[0m\u001b[0;34m,\u001b[0m \u001b[0;34m'LH'\u001b[0m\u001b[0;34m,\u001b[0m \u001b[0;34m'NH'\u001b[0m\u001b[0;34m,\u001b[0m \u001b[0;34m'SUM'\u001b[0m\u001b[0;34m]\u001b[0m\u001b[0;34m:\u001b[0m\u001b[0;34m\u001b[0m\u001b[0;34m\u001b[0m\u001b[0m\n\u001b[1;32m     41\u001b[0m         \u001b[0;32mif\u001b[0m \u001b[0mdic_ma\u001b[0m\u001b[0;34m[\u001b[0m\u001b[0mtyp\u001b[0m\u001b[0;34m]\u001b[0m\u001b[0;34m:\u001b[0m\u001b[0;34m\u001b[0m\u001b[0;34m\u001b[0m\u001b[0m\n\u001b[0;32m---> 42\u001b[0;31m             \u001b[0mdic_\u001b[0m\u001b[0;34m[\u001b[0m\u001b[0mtyp\u001b[0m\u001b[0;34m]\u001b[0m \u001b[0;34m=\u001b[0m \u001b[0mdata_ma\u001b[0m\u001b[0;34m[\u001b[0m\u001b[0mcur\u001b[0m\u001b[0;34m]\u001b[0m\u001b[0;34m\u001b[0m\u001b[0;34m\u001b[0m\u001b[0m\n\u001b[0m\u001b[1;32m     43\u001b[0m             \u001b[0mcur\u001b[0m \u001b[0;34m+=\u001b[0m \u001b[0;36m1\u001b[0m\u001b[0;34m\u001b[0m\u001b[0;34m\u001b[0m\u001b[0m\n\u001b[1;32m     44\u001b[0m \u001b[0;34m\u001b[0m\u001b[0m\n",
      "\u001b[0;31mIndexError\u001b[0m: list index out of range"
     ]
    }
   ],
   "source": [
    "nutzungen = []\n",
    "\n",
    "for i in range(2, 10):\n",
    "    \n",
    "    img = convert_to_image(input_path, i).convert('RGB')\n",
    "    img = np.array(img)\n",
    "    ocr = OCRPage(img)\n",
    "    ocr.convert()\n",
    "\n",
    "    ma = ocr.get_text('mass')\n",
    "    \n",
    "    if  ma != '':\n",
    "        data, info = split_lines(ma, dic_ma)\n",
    "        \n",
    "        print('---------------------------------------------')\n",
    "        print(data, info)\n",
    "\n",
    "        rec_fil,rows_pos = get_char_positions(ocr.img_thresh)\n",
    "\n",
    "        print(rows_pos)\n",
    "\n",
    "        # set index of nutz\n",
    "        idx = 0\n",
    "        # filter only nutzungs row\n",
    "        rec_fil_fil = rec_fil[np.where((rec_fil[:,1] <= rows_pos[idx]*1.05) & (rec_fil[:,1] >= rows_pos[idx]*0.95))]\n",
    "        data_nutz = data[idx]\n",
    "        distances, idx_comma = get_dist_char(data, dic_ma, rec_fil_fil, rows_pos[idx], info)\n",
    "\n",
    "        print(distances)\n",
    "\n",
    "        z = from_string(data[0], dic_ma, distances[0], idx_comma)\n",
    "        nutzungen.append(z)\n",
    "        print(z)"
   ]
  },
  {
   "cell_type": "code",
   "execution_count": 42,
   "metadata": {},
   "outputs": [
    {
     "data": {
      "text/plain": [
       "[{'S': 0,\n",
       "  'MA': 'DF',\n",
       "  'FL': 0,\n",
       "  'LH': '0',\n",
       "  'NH': '90',\n",
       "  'SUM': 0,\n",
       "  'DR': '2',\n",
       "  'BH': '1',\n",
       "  'ZP': '3',\n",
       "  'SG': '4',\n",
       "  'RU': '35'},\n",
       " {'S': 0,\n",
       "  'MA': 'DF',\n",
       "  'FL': 0,\n",
       "  'LH': '0',\n",
       "  'NH': '80',\n",
       "  'SUM': 0,\n",
       "  'DR': '1',\n",
       "  'BH': '1',\n",
       "  'ZP': '3',\n",
       "  'SG': '4',\n",
       "  'RU': '35'},\n",
       " {'S': 0,\n",
       "  'MA': 'RM',\n",
       "  'FL': 0,\n",
       "  'LH': '200',\n",
       "  'NH': '200',\n",
       "  'SUM': 0,\n",
       "  'DR': '2',\n",
       "  'BH': '3',\n",
       "  'ZP': '3',\n",
       "  'SG': '1',\n",
       "  'RU': '35'},\n",
       " {'S': 0,\n",
       "  'MA': 'DE',\n",
       "  'FL': 0,\n",
       "  'LH': '0',\n",
       "  'NH': '75',\n",
       "  'SUM': 0,\n",
       "  'DR': '1',\n",
       "  'BH': '1',\n",
       "  'ZP': '3',\n",
       "  'SG': '4',\n",
       "  'RU': '35'},\n",
       " {'S': 0,\n",
       "  'MA': 'DF',\n",
       "  'FL': 0,\n",
       "  'LH': '0',\n",
       "  'NH': '90',\n",
       "  'SUM': 0,\n",
       "  'DR': '1',\n",
       "  'BH': '1',\n",
       "  'ZP': '3',\n",
       "  'SG': '4',\n",
       "  'RU': '35'},\n",
       " {'S': 0,\n",
       "  'MA': 'DE',\n",
       "  'FL': 0,\n",
       "  'LH': '0',\n",
       "  'NH': '75',\n",
       "  'SUM': 0,\n",
       "  'DR': '1',\n",
       "  'BH': '1',\n",
       "  'ZP': '3',\n",
       "  'SG': '6',\n",
       "  'RU': '36'}]"
      ]
     },
     "execution_count": 42,
     "metadata": {},
     "output_type": "execute_result"
    }
   ],
   "source": [
    "nutzungen"
   ]
  },
  {
   "cell_type": "code",
   "execution_count": 43,
   "metadata": {},
   "outputs": [
    {
     "data": {
      "text/html": [
       "<div>\n",
       "<style scoped>\n",
       "    .dataframe tbody tr th:only-of-type {\n",
       "        vertical-align: middle;\n",
       "    }\n",
       "\n",
       "    .dataframe tbody tr th {\n",
       "        vertical-align: top;\n",
       "    }\n",
       "\n",
       "    .dataframe thead th {\n",
       "        text-align: right;\n",
       "    }\n",
       "</style>\n",
       "<table border=\"1\" class=\"dataframe\">\n",
       "  <thead>\n",
       "    <tr style=\"text-align: right;\">\n",
       "      <th></th>\n",
       "      <th>S</th>\n",
       "      <th>MA</th>\n",
       "      <th>FL</th>\n",
       "      <th>LH</th>\n",
       "      <th>NH</th>\n",
       "      <th>SUM</th>\n",
       "      <th>DR</th>\n",
       "      <th>BH</th>\n",
       "      <th>ZP</th>\n",
       "      <th>SG</th>\n",
       "      <th>RU</th>\n",
       "    </tr>\n",
       "  </thead>\n",
       "  <tbody>\n",
       "    <tr>\n",
       "      <td>0</td>\n",
       "      <td>0</td>\n",
       "      <td>DF</td>\n",
       "      <td>0</td>\n",
       "      <td>0</td>\n",
       "      <td>90</td>\n",
       "      <td>0</td>\n",
       "      <td>2</td>\n",
       "      <td>1</td>\n",
       "      <td>3</td>\n",
       "      <td>4</td>\n",
       "      <td>35</td>\n",
       "    </tr>\n",
       "    <tr>\n",
       "      <td>1</td>\n",
       "      <td>0</td>\n",
       "      <td>DF</td>\n",
       "      <td>0</td>\n",
       "      <td>0</td>\n",
       "      <td>80</td>\n",
       "      <td>0</td>\n",
       "      <td>1</td>\n",
       "      <td>1</td>\n",
       "      <td>3</td>\n",
       "      <td>4</td>\n",
       "      <td>35</td>\n",
       "    </tr>\n",
       "    <tr>\n",
       "      <td>2</td>\n",
       "      <td>0</td>\n",
       "      <td>RM</td>\n",
       "      <td>0</td>\n",
       "      <td>200</td>\n",
       "      <td>200</td>\n",
       "      <td>0</td>\n",
       "      <td>2</td>\n",
       "      <td>3</td>\n",
       "      <td>3</td>\n",
       "      <td>1</td>\n",
       "      <td>35</td>\n",
       "    </tr>\n",
       "    <tr>\n",
       "      <td>3</td>\n",
       "      <td>0</td>\n",
       "      <td>DE</td>\n",
       "      <td>0</td>\n",
       "      <td>0</td>\n",
       "      <td>75</td>\n",
       "      <td>0</td>\n",
       "      <td>1</td>\n",
       "      <td>1</td>\n",
       "      <td>3</td>\n",
       "      <td>4</td>\n",
       "      <td>35</td>\n",
       "    </tr>\n",
       "    <tr>\n",
       "      <td>4</td>\n",
       "      <td>0</td>\n",
       "      <td>DF</td>\n",
       "      <td>0</td>\n",
       "      <td>0</td>\n",
       "      <td>90</td>\n",
       "      <td>0</td>\n",
       "      <td>1</td>\n",
       "      <td>1</td>\n",
       "      <td>3</td>\n",
       "      <td>4</td>\n",
       "      <td>35</td>\n",
       "    </tr>\n",
       "    <tr>\n",
       "      <td>5</td>\n",
       "      <td>0</td>\n",
       "      <td>DE</td>\n",
       "      <td>0</td>\n",
       "      <td>0</td>\n",
       "      <td>75</td>\n",
       "      <td>0</td>\n",
       "      <td>1</td>\n",
       "      <td>1</td>\n",
       "      <td>3</td>\n",
       "      <td>6</td>\n",
       "      <td>36</td>\n",
       "    </tr>\n",
       "  </tbody>\n",
       "</table>\n",
       "</div>"
      ],
      "text/plain": [
       "   S  MA  FL   LH   NH  SUM DR BH ZP SG  RU\n",
       "0  0  DF   0    0   90    0  2  1  3  4  35\n",
       "1  0  DF   0    0   80    0  1  1  3  4  35\n",
       "2  0  RM   0  200  200    0  2  3  3  1  35\n",
       "3  0  DE   0    0   75    0  1  1  3  4  35\n",
       "4  0  DF   0    0   90    0  1  1  3  4  35\n",
       "5  0  DE   0    0   75    0  1  1  3  6  36"
      ]
     },
     "execution_count": 43,
     "metadata": {},
     "output_type": "execute_result"
    }
   ],
   "source": [
    "pd.DataFrame(nutzungen)"
   ]
  },
  {
   "cell_type": "code",
   "execution_count": null,
   "metadata": {},
   "outputs": [],
   "source": []
  },
  {
   "cell_type": "code",
   "execution_count": 226,
   "metadata": {},
   "outputs": [
    {
     "name": "stdout",
     "output_type": "stream",
     "text": [
      "DF10700013435\n",
      "{'S': 0, 'MA': 1, 'FL': 1, 'LH': 1, 'NH': 1, 'SUM': 0, 'DR': 1, 'BH': 0, 'ZP': 1, 'SG': 1, 'RU': 1}\n"
     ]
    },
    {
     "data": {
      "text/plain": [
       "{'S': 0,\n",
       " 'MA': 'DF',\n",
       " 'FL': '10',\n",
       " 'LH': '700',\n",
       " 'NH': '0',\n",
       " 'SUM': 0,\n",
       " 'DR': '1',\n",
       " 'BH': 0,\n",
       " 'ZP': '3',\n",
       " 'SG': '4',\n",
       " 'RU': '35'}"
      ]
     },
     "execution_count": 226,
     "metadata": {},
     "output_type": "execute_result"
    }
   ],
   "source": [
    "print(data[0])\n",
    "print(dic_ma)\n",
    "z = from_string(data[0], dic_ma, distances[0])\n",
    "z"
   ]
  },
  {
   "cell_type": "code",
   "execution_count": null,
   "metadata": {},
   "outputs": [],
   "source": []
  },
  {
   "cell_type": "code",
   "execution_count": 11,
   "metadata": {},
   "outputs": [
    {
     "ename": "NameError",
     "evalue": "name 'get_char_positions' is not defined",
     "output_type": "error",
     "traceback": [
      "\u001b[0;31m---------------------------------------------------------------------------\u001b[0m",
      "\u001b[0;31mNameError\u001b[0m                                 Traceback (most recent call last)",
      "\u001b[0;32m<ipython-input-11-00650cef2ab4>\u001b[0m in \u001b[0;36m<module>\u001b[0;34m\u001b[0m\n\u001b[1;32m      1\u001b[0m \u001b[0mimg_thresh\u001b[0m \u001b[0;34m=\u001b[0m \u001b[0mocr\u001b[0m\u001b[0;34m.\u001b[0m\u001b[0mimg_thresh\u001b[0m\u001b[0;34m\u001b[0m\u001b[0;34m\u001b[0m\u001b[0m\n\u001b[0;32m----> 2\u001b[0;31m \u001b[0mrec_fil\u001b[0m\u001b[0;34m,\u001b[0m\u001b[0mrows_pos\u001b[0m \u001b[0;34m=\u001b[0m \u001b[0mget_char_positions\u001b[0m\u001b[0;34m(\u001b[0m\u001b[0mimg_thresh\u001b[0m\u001b[0;34m)\u001b[0m\u001b[0;34m\u001b[0m\u001b[0;34m\u001b[0m\u001b[0m\n\u001b[0m",
      "\u001b[0;31mNameError\u001b[0m: name 'get_char_positions' is not defined"
     ]
    }
   ],
   "source": [
    "img_thresh = ocr.img_thresh\n",
    "rec_fil,rows_pos = get_char_positions(img_thresh)"
   ]
  },
  {
   "cell_type": "code",
   "execution_count": 12,
   "metadata": {},
   "outputs": [
    {
     "data": {
      "text/plain": [
       "['nutz', 'text']"
      ]
     },
     "execution_count": 12,
     "metadata": {},
     "output_type": "execute_result"
    }
   ],
   "source": [
    "info"
   ]
  },
  {
   "cell_type": "code",
   "execution_count": 35,
   "metadata": {},
   "outputs": [
    {
     "ename": "ValueError",
     "evalue": "cannot convert float NaN to integer",
     "output_type": "error",
     "traceback": [
      "\u001b[0;31m---------------------------------------------------------------------------\u001b[0m",
      "\u001b[0;31mValueError\u001b[0m                                Traceback (most recent call last)",
      "\u001b[0;32m<ipython-input-35-8f7bcdd0a7ca>\u001b[0m in \u001b[0;36m<module>\u001b[0;34m\u001b[0m\n\u001b[0;32m----> 1\u001b[0;31m \u001b[0mdistances\u001b[0m \u001b[0;34m=\u001b[0m \u001b[0mget_dist_char\u001b[0m\u001b[0;34m(\u001b[0m\u001b[0mdata\u001b[0m\u001b[0;34m,\u001b[0m \u001b[0mdic_ma\u001b[0m\u001b[0;34m,\u001b[0m \u001b[0mrec_fil\u001b[0m\u001b[0;34m,\u001b[0m \u001b[0mrows_pos\u001b[0m\u001b[0;34m,\u001b[0m \u001b[0minfo\u001b[0m\u001b[0;34m)\u001b[0m\u001b[0;34m\u001b[0m\u001b[0;34m\u001b[0m\u001b[0m\n\u001b[0m",
      "\u001b[0;32m<ipython-input-22-fd05beadacbe>\u001b[0m in \u001b[0;36mget_dist_char\u001b[0;34m(data, dic_ma, rec_fil, rows_pos, info)\u001b[0m\n\u001b[1;32m     23\u001b[0m             \u001b[0mwidth_m\u001b[0m \u001b[0;34m=\u001b[0m \u001b[0mnp\u001b[0m\u001b[0;34m.\u001b[0m\u001b[0mmedian\u001b[0m\u001b[0;34m(\u001b[0m\u001b[0mrec\u001b[0m\u001b[0;34m[\u001b[0m\u001b[0;34m:\u001b[0m\u001b[0;34m,\u001b[0m\u001b[0;36m2\u001b[0m\u001b[0;34m,\u001b[0m\u001b[0;34m]\u001b[0m\u001b[0;34m)\u001b[0m\u001b[0;34m\u001b[0m\u001b[0;34m\u001b[0m\u001b[0m\n\u001b[1;32m     24\u001b[0m             \u001b[0mpos_x\u001b[0m \u001b[0;34m=\u001b[0m \u001b[0mrec\u001b[0m\u001b[0;34m[\u001b[0m\u001b[0;34m:\u001b[0m\u001b[0;34m,\u001b[0m\u001b[0;36m0\u001b[0m\u001b[0;34m,\u001b[0m\u001b[0;34m]\u001b[0m\u001b[0;34m.\u001b[0m\u001b[0mcopy\u001b[0m\u001b[0;34m(\u001b[0m\u001b[0;34m)\u001b[0m\u001b[0;34m\u001b[0m\u001b[0;34m\u001b[0m\u001b[0m\n\u001b[0;32m---> 25\u001b[0;31m             \u001b[0mdist\u001b[0m \u001b[0;34m=\u001b[0m \u001b[0mpos_x\u001b[0m\u001b[0;34m[\u001b[0m\u001b[0;36m1\u001b[0m\u001b[0;34m:\u001b[0m\u001b[0;34m]\u001b[0m \u001b[0;34m-\u001b[0m \u001b[0;34m(\u001b[0m\u001b[0mpos_x\u001b[0m\u001b[0;34m[\u001b[0m\u001b[0;34m:\u001b[0m\u001b[0;34m-\u001b[0m\u001b[0;36m1\u001b[0m\u001b[0;34m]\u001b[0m\u001b[0;34m+\u001b[0m\u001b[0mint\u001b[0m\u001b[0;34m(\u001b[0m\u001b[0mwidth_m\u001b[0m\u001b[0;34m)\u001b[0m\u001b[0;34m)\u001b[0m\u001b[0;34m\u001b[0m\u001b[0;34m\u001b[0m\u001b[0m\n\u001b[0m\u001b[1;32m     26\u001b[0m \u001b[0;34m\u001b[0m\u001b[0m\n\u001b[1;32m     27\u001b[0m             \u001b[0mthresh\u001b[0m \u001b[0;34m=\u001b[0m \u001b[0motsu\u001b[0m\u001b[0;34m(\u001b[0m\u001b[0mdist\u001b[0m\u001b[0;34m)\u001b[0m\u001b[0;34m\u001b[0m\u001b[0;34m\u001b[0m\u001b[0m\n",
      "\u001b[0;31mValueError\u001b[0m: cannot convert float NaN to integer"
     ]
    }
   ],
   "source": [
    "distances = get_dist_char(data, dic_ma, rec_fil, rows_pos, info)"
   ]
  },
  {
   "cell_type": "code",
   "execution_count": null,
   "metadata": {},
   "outputs": [],
   "source": []
  },
  {
   "cell_type": "code",
   "execution_count": 72,
   "metadata": {},
   "outputs": [],
   "source": [
    "def get_dist_char(data, dic_ma, rec, rows_pos, info):\n",
    "    '''\n",
    "    get distances between characters\n",
    "    dic_ma = {'S':0, 'MA':1, 'FL':1, 'LH':1, 'NH':1, 'SUM':0, 'DR':1, 'BH':0, 'ZP':1, 'SG':1, 'RU':1}\n",
    "    string = 'DF13,8700023435'\n",
    "    '''\n",
    "    distances = []\n",
    "    ### get info about structure\n",
    "    len_1 = dic_ma['S'] + dic_ma['MA']*2\n",
    "    len_2 = dic_ma['DR'] + dic_ma['BH'] + dic_ma['ZP'] + dic_ma['SG'] + dic_ma['RU']*2\n",
    "    \n",
    "    #for i, line in enumerate(data):\n",
    "        # filter only nutzungs row\n",
    "        #if info[i] == 'nutz':\n",
    "            #rec = rec_fil[np.where(rec_fil[:,1] == rows_pos[i])]\n",
    "\n",
    "    # sort\n",
    "    rec.view('i8,i8,i8,i8').sort(order=['f0'], axis=0)\n",
    "\n",
    "    # filter just relevant \n",
    "    rec = rec[len_1:-len_2]\n",
    "\n",
    "    width_m = np.median(rec[:,2,])\n",
    "    pos_x = rec[:,0,].copy()\n",
    "    dist = pos_x[1:] - (pos_x[:-1]+int(width_m))\n",
    "\n",
    "    thresh = otsu(dist)\n",
    "\n",
    "    thisdict = {\"dist\": dist, \"thresh\": thresh}\n",
    "    distances.append(thisdict)\n",
    "            \n",
    "    return distances"
   ]
  },
  {
   "cell_type": "code",
   "execution_count": 107,
   "metadata": {},
   "outputs": [],
   "source": [
    "#\n",
    "def otsu(gray):\n",
    "    '''\n",
    "        otsu algorithm for finding the best threshold value\n",
    "    '''\n",
    "    pixel_number = gray.shape[0]\n",
    "    mean_weigth = 1.0/pixel_number\n",
    "    his, bins = np.histogram(gray, np.array(range(0, np.max(gray)+1)))\n",
    "    final_thresh = -1\n",
    "    final_value = -1\n",
    "    for t in bins[1:-1]: # This goes from 1 to 254 uint8 range (Pretty sure wont be those values)\n",
    "        Wb = np.sum(his[:t]) * mean_weigth\n",
    "        Wf = np.sum(his[t:]) * mean_weigth\n",
    "\n",
    "        mub = np.mean(his[:t])\n",
    "        muf = np.mean(his[t:])\n",
    "\n",
    "        value = Wb * Wf * (mub - muf) ** 2\n",
    "\n",
    "        if value > final_value:\n",
    "            final_thresh = t\n",
    "            final_value = value\n",
    "\n",
    "    return(final_thresh)"
   ]
  },
  {
   "cell_type": "code",
   "execution_count": 50,
   "metadata": {},
   "outputs": [],
   "source": [
    "def find_row_corrdinates(rows_pos):\n",
    "    rows = []\n",
    "    temp = []\n",
    "    x = rows_pos[0]\n",
    "    for cor in rows_pos:\n",
    "        if (cor < x * 1.1) & (cor > x * 0.9):\n",
    "            temp.append(cor)\n",
    "        else:\n",
    "            rows.append(int(sum(temp) / len(temp)))\n",
    "            x = cor\n",
    "            temp = []\n",
    "    rows.append(int(sum(temp) / len(temp)))\n",
    "    return(np.array(rows))"
   ]
  },
  {
   "cell_type": "code",
   "execution_count": 54,
   "metadata": {},
   "outputs": [],
   "source": [
    "# OCRPage\n",
    "def get_char_positions(img_thresh):\n",
    "    # invert binary\n",
    "    img = cv2.bitwise_not(img_thresh)\n",
    "    # cut the mass\n",
    "    img = ocr.cut_feature(img, \"mass\")\n",
    "    # get boundries of detected characters\n",
    "    rects = ocr.find_objects(img)\n",
    "    # convert to numpy array\n",
    "    rects = np.asarray(rects)\n",
    "    \n",
    "    # filter small points\n",
    "    rect_max_hight = rects[:,3].max()\n",
    "    rec_fil = rects[rect_max_hight/rects[:,3] < rect_max_hight/(rects[:,3].min()*1.5)]\n",
    "    # get lower coordinates\n",
    "    rec_fil[:,1] = rec_fil[:,1] + rec_fil[:,3]\n",
    "    # get unique row positions\n",
    "    rows_pos = np.sort(np.unique(rec_fil[:,1]))\n",
    "    # filter noise\n",
    "    rows_pos = find_row_corrdinates(rows_pos)\n",
    "    \n",
    "    return(rec_fil,rows_pos)"
   ]
  },
  {
   "cell_type": "code",
   "execution_count": 16,
   "metadata": {},
   "outputs": [],
   "source": [
    "def pharse_string(string, dist, thresh_val):\n",
    "    '''\n",
    "    pharse string into usable variables based on the distance between the characters\n",
    "    input:  string = '13,87000'\n",
    "            dist = np.array([ 5, 17, 19,  7,  6, 20])\n",
    "    output: mass = ['13,8', '700', '0']\n",
    "    '''\n",
    "    # list of variables\n",
    "    mass = []\n",
    "    # if comma is detected swich to 1\n",
    "    comma = 0\n",
    "    # temporary helper variable\n",
    "    save = string[0]\n",
    "    # loop over char in string\n",
    "    for i, char in enumerate(string[1:]):\n",
    "        # if char is comma -> add char and reuse dist on ith position\n",
    "        if char == ',':\n",
    "            save = save + char\n",
    "            dist[i] = thresh_val - 1\n",
    "            comma = 1\n",
    "        # check if current dist is bigger than threshold -> add to list of variables\n",
    "        else:\n",
    "            if dist[i-comma] <= thresh_val:\n",
    "                save = save + char\n",
    "            else:\n",
    "                mass.append(save)\n",
    "                save = char\n",
    "    # add last variable\n",
    "    mass.append(save)\n",
    "    \n",
    "    return mass"
   ]
  },
  {
   "cell_type": "code",
   "execution_count": 22,
   "metadata": {},
   "outputs": [
    {
     "data": {
      "text/plain": [
       "['13,8', '700', '0']"
      ]
     },
     "execution_count": 22,
     "metadata": {},
     "output_type": "execute_result"
    }
   ],
   "source": [
    "string = '13,87000'\n",
    "dist = np.array([ 5, 17, 19,  7,  6, 20])\n",
    "pharse_string(string, dist, 17)"
   ]
  },
  {
   "cell_type": "code",
   "execution_count": 23,
   "metadata": {},
   "outputs": [
    {
     "data": {
      "text/plain": [
       "['14,51000', '0']"
      ]
     },
     "execution_count": 23,
     "metadata": {},
     "output_type": "execute_result"
    }
   ],
   "source": [
    "string = '14,510000'\n",
    "dist = np.array([ 2, 11, 10,  3,  4,  3, 11])\n",
    "pharse_string(string, dist, 10)"
   ]
  },
  {
   "cell_type": "markdown",
   "metadata": {},
   "source": [
    "### try"
   ]
  },
  {
   "cell_type": "code",
   "execution_count": 17,
   "metadata": {},
   "outputs": [],
   "source": [
    "# invert binary\n",
    "img = cv2.bitwise_not(img_thresh)\n",
    "# cut the mass\n",
    "img = ocr.cut_feature(img, \"mass\")\n",
    "# get boundries of detected characters\n",
    "rects = ocr.find_objects(img)\n",
    "# convert to numpy array\n",
    "rects = np.asarray(rects)"
   ]
  },
  {
   "cell_type": "code",
   "execution_count": 28,
   "metadata": {
    "scrolled": false
   },
   "outputs": [
    {
     "data": {
      "text/plain": [
       "array([[ 869,  473,    9,   21],\n",
       "       [1031,  439,   15,   61],\n",
       "       [ 732,  439,    8,   43],\n",
       "       [ 311,  439,    8,   43],\n",
       "       [1285,  438,   39,   62],\n",
       "       [1196,  438,   35,   45],\n",
       "       [1146,  438,   39,   62],\n",
       "       [1057,  438,   35,   45],\n",
       "       [ 751,  438,   35,   45],\n",
       "       [ 549,  438,   37,   44],\n",
       "       [1627,  437,   36,   45],\n",
       "       [1578,  437,   40,   47],\n",
       "       [1534,  437,   36,   45],\n",
       "       [1485,  437,   41,   47],\n",
       "       [1397,  437,   38,   46],\n",
       "       [1356,  437,   36,   47],\n",
       "       [1242,  437,   36,   45],\n",
       "       [1103,  437,   36,   45],\n",
       "       [1010,  437,   22,   45],\n",
       "       [ 962,  437,   40,   47],\n",
       "       [ 797,  437,   59,   45],\n",
       "       [ 686,  437,   36,   45],\n",
       "       [ 640,  437,   36,   45],\n",
       "       [ 591,  437,   40,   47],\n",
       "       [ 503,  437,   40,   47],\n",
       "       [ 374,  437,   40,   47],\n",
       "       [ 348,  426,   20,   57],\n",
       "       [ 325,  426,   20,   57],\n",
       "       [1078,  423,    8,    9],\n",
       "       [1065,  423,    7,    9],\n",
       "       [1441,  422,   36,   60],\n",
       "       [1038,  422,    8,    9],\n",
       "       [ 910,  422,   52,   60],\n",
       "       [ 732,  422,    8,    9],\n",
       "       [ 447,  422,   49,   60],\n",
       "       [ 311,  422,    8,    9],\n",
       "       [ 242,  422,   58,   60],\n",
       "       [1041,  330,   40,   59],\n",
       "       [ 994,  329,   41,   60],\n",
       "       [ 930,  329,   22,   58],\n",
       "       [ 855,  329,   41,   60],\n",
       "       [ 785,  329,   41,   60],\n",
       "       [ 647,  329,   40,   60],\n",
       "       [ 601,  329,   40,   60],\n",
       "       [ 485,  329,   40,   60],\n",
       "       [ 438,  329,   40,   60],\n",
       "       [ 717,  328,   40,   59],\n",
       "       [ 554,  328,   40,   59],\n",
       "       [ 392,  328,   40,   59],\n",
       "       [ 303,  327,   58,   60],\n",
       "       [ 243,  327,   50,   60]])"
      ]
     },
     "execution_count": 28,
     "metadata": {},
     "output_type": "execute_result"
    }
   ],
   "source": [
    "rects"
   ]
  },
  {
   "cell_type": "code",
   "execution_count": 19,
   "metadata": {},
   "outputs": [
    {
     "data": {
      "text/plain": [
       "1"
      ]
     },
     "execution_count": 19,
     "metadata": {},
     "output_type": "execute_result"
    }
   ],
   "source": [
    "info.count('nutz')"
   ]
  },
  {
   "cell_type": "code",
   "execution_count": 20,
   "metadata": {},
   "outputs": [
    {
     "data": {
      "text/plain": [
       "4.592592592592593"
      ]
     },
     "execution_count": 20,
     "metadata": {},
     "output_type": "execute_result"
    }
   ],
   "source": [
    "rects[:,3].max()/(rects[:,3].min()*1.5)"
   ]
  },
  {
   "cell_type": "code",
   "execution_count": null,
   "metadata": {},
   "outputs": [],
   "source": []
  },
  {
   "cell_type": "code",
   "execution_count": 53,
   "metadata": {},
   "outputs": [],
   "source": [
    "def find_row_corrdinates(rows_pos):\n",
    "    rows = []\n",
    "    temp = []\n",
    "    x = rows_pos[0]\n",
    "    for cor in rows_pos:\n",
    "        if (cor < x * 1.1) & (cor > x * 0.9):\n",
    "            temp.append(cor)\n",
    "        else:\n",
    "            rows.append(int(sum(temp) / len(temp)))\n",
    "            x = cor\n",
    "            temp = []\n",
    "    rows.append(int(sum(temp) / len(temp)))\n",
    "    return(np.array(rows))"
   ]
  },
  {
   "cell_type": "code",
   "execution_count": 37,
   "metadata": {},
   "outputs": [],
   "source": []
  },
  {
   "cell_type": "code",
   "execution_count": 38,
   "metadata": {},
   "outputs": [],
   "source": [
    "# filter small points\n",
    "rect_max_hight = rects[:,3].max()\n",
    "rec_fil = rects[rect_max_hight/rects[:,3] < rect_max_hight/(rects[:,3].min()*1.5)]\n",
    "# get lower coordinates\n",
    "rec_fil[:,1] = rec_fil[:,1] + rec_fil[:,3]\n",
    "# get unique row positions\n",
    "rows_pos = np.sort(np.unique(rec_fil[:,1]))\n",
    "# filter noise\n",
    "rows_pos = find_row_corrdinates(rows_pos)"
   ]
  },
  {
   "cell_type": "code",
   "execution_count": null,
   "metadata": {},
   "outputs": [],
   "source": []
  },
  {
   "cell_type": "code",
   "execution_count": 39,
   "metadata": {},
   "outputs": [
    {
     "data": {
      "text/plain": [
       "array([388, 490])"
      ]
     },
     "execution_count": 39,
     "metadata": {},
     "output_type": "execute_result"
    }
   ],
   "source": [
    "rows_pos"
   ]
  },
  {
   "cell_type": "code",
   "execution_count": 116,
   "metadata": {},
   "outputs": [],
   "source": [
    "# filter only nutzungs row\n",
    "rec_fil_fil = rec_fil[np.where((rec_fil[:,1] <= rows_pos[1]*1.05) & (rec_fil[:,1] >= rows_pos[1]*0.95))]"
   ]
  },
  {
   "cell_type": "code",
   "execution_count": 117,
   "metadata": {},
   "outputs": [
    {
     "name": "stdout",
     "output_type": "stream",
     "text": [
      "514.5\n",
      "465.5\n",
      "-----------------------\n",
      "407.40000000000003\n",
      "368.59999999999997\n"
     ]
    }
   ],
   "source": [
    "print(490*1.05)\n",
    "print(490*0.95)\n",
    "print('-----------------------')\n",
    "print(388*1.05)\n",
    "print(388*0.95)"
   ]
  },
  {
   "cell_type": "code",
   "execution_count": 118,
   "metadata": {},
   "outputs": [
    {
     "data": {
      "text/plain": [
       "array([[1125,  324,    9,   21],\n",
       "       [1984,  312,    8,   43],\n",
       "       [1711,  312,    8,   43],\n",
       "       [ 988,  312,    8,   43],\n",
       "       [ 567,  312,    8,   43],\n",
       "       [2000,  330,   39,   62],\n",
       "       [1597,  330,   39,   62],\n",
       "       [1507,  313,   35,   45],\n",
       "       [1007,  313,   35,   45],\n",
       "       [ 805,  312,   37,   44],\n",
       "       [ 374,  330,   39,   62],\n",
       "       [1885,  313,   42,   46],\n",
       "       [1818,  312,   59,   45],\n",
       "       [1727,  313,   38,   46],\n",
       "       [1663,  314,   40,   47],\n",
       "       [1554,  312,   36,   45],\n",
       "       [1436,  314,   40,   47],\n",
       "       [1345,  312,   36,   45],\n",
       "       [1297,  313,   42,   46],\n",
       "       [1232,  314,   40,   47],\n",
       "       [1053,  312,   59,   45],\n",
       "       [ 942,  312,   36,   45],\n",
       "       [ 896,  312,   36,   45],\n",
       "       [ 847,  314,   40,   47],\n",
       "       [ 759,  314,   40,   47],\n",
       "       [ 630,  314,   40,   47],\n",
       "       [ 331,  312,   36,   45],\n",
       "       [ 282,  313,   42,   46],\n",
       "       [ 215,  312,   36,   45],\n",
       "       [ 605,  313,   20,   57],\n",
       "       [ 581,  313,   20,   57],\n",
       "       [1771,  312,   36,   60],\n",
       "       [1646,  312,    8,   60],\n",
       "       [1388,  314,   39,   62],\n",
       "       [1280,  312,    8,   60],\n",
       "       [ 703,  312,   49,   60],\n",
       "       [ 499,  312,   58,   60],\n",
       "       [ 155,  312,   53,   60],\n",
       "       [1937,  313,   37,   62],\n",
       "       [1168,  314,   55,   63],\n",
       "       [ 257,  312,   21,   61]])"
      ]
     },
     "execution_count": 118,
     "metadata": {},
     "output_type": "execute_result"
    }
   ],
   "source": [
    "rec_fil_fil"
   ]
  },
  {
   "cell_type": "code",
   "execution_count": null,
   "metadata": {},
   "outputs": [],
   "source": [
    "for rect in rects:\n",
    "    "
   ]
  },
  {
   "cell_type": "code",
   "execution_count": null,
   "metadata": {},
   "outputs": [],
   "source": []
  },
  {
   "cell_type": "code",
   "execution_count": null,
   "metadata": {},
   "outputs": [],
   "source": []
  },
  {
   "cell_type": "code",
   "execution_count": 30,
   "metadata": {},
   "outputs": [],
   "source": [
    "# filter only nutzungs row\n",
    "rec_fil_fil = rec_fil[np.where(rec_fil[:,1] == rows_pos[0])]"
   ]
  },
  {
   "cell_type": "code",
   "execution_count": 45,
   "metadata": {},
   "outputs": [
    {
     "data": {
      "text/plain": [
       "287.5"
      ]
     },
     "execution_count": 45,
     "metadata": {},
     "output_type": "execute_result"
    }
   ],
   "source": [
    "rec_fil[-1][1] + rec_fil[-1][1] * 0.15"
   ]
  },
  {
   "cell_type": "code",
   "execution_count": null,
   "metadata": {},
   "outputs": [],
   "source": []
  },
  {
   "cell_type": "code",
   "execution_count": 47,
   "metadata": {},
   "outputs": [],
   "source": [
    "# filter only nutzungs row\n",
    "rec_fil_fil = rec_fil[np.where((rec_fil[:,1] <= rec_fil[-1][1] + rec_fil[-1][1] * 0.15) & (rec_fil[:,1] >= rec_fil[-1][1] - rec_fil[-1][1] * 0.15))]"
   ]
  },
  {
   "cell_type": "code",
   "execution_count": 48,
   "metadata": {},
   "outputs": [
    {
     "data": {
      "text/plain": [
       "array([[824, 252,  40,  59],\n",
       "       [777, 252,  41,  60],\n",
       "       [638, 252,  41,  60],\n",
       "       [574, 250,  22,  58],\n",
       "       [430, 252,  40,  60],\n",
       "       [384, 252,  39,  60],\n",
       "       [314, 252,  40,  60],\n",
       "       [707, 250,  42,  59],\n",
       "       [500, 250,  40,  59],\n",
       "       [244, 250,  42,  60],\n",
       "       [184, 250,  49,  60]])"
      ]
     },
     "execution_count": 48,
     "metadata": {},
     "output_type": "execute_result"
    }
   ],
   "source": [
    "rec_fil_fil"
   ]
  },
  {
   "cell_type": "code",
   "execution_count": 32,
   "metadata": {},
   "outputs": [],
   "source": [
    "# sort\n",
    "a = rec_fil_fil.copy()\n",
    "a.view('i8,i8,i8,i8').sort(order=['f1'], axis=0)"
   ]
  },
  {
   "cell_type": "code",
   "execution_count": 33,
   "metadata": {},
   "outputs": [
    {
     "data": {
      "text/plain": [
       "array([[ 648,  475,   28,   39],\n",
       "       [ 685,  475,   24,   39],\n",
       "       [ 729,  475,   15,   39],\n",
       "       [ 759,  475,   24,   40],\n",
       "       [ 801,  475,   25,   40],\n",
       "       [ 845,  475,   27,   39],\n",
       "       [ 877,  475,   25,   40],\n",
       "       [ 908,  475,   25,   40],\n",
       "       [ 953,  475,   25,   40],\n",
       "       [ 998,  475,   26,   40],\n",
       "       [1043,  475,   24,   40],\n",
       "       [1086,  475,   29,   39],\n",
       "       [1133,  475,   24,   40],\n",
       "       [1165,  475,   25,   39]])"
      ]
     },
     "execution_count": 33,
     "metadata": {},
     "output_type": "execute_result"
    }
   ],
   "source": [
    "a"
   ]
  },
  {
   "cell_type": "code",
   "execution_count": 36,
   "metadata": {},
   "outputs": [],
   "source": [
    "a2 = a[2:-5]"
   ]
  },
  {
   "cell_type": "code",
   "execution_count": 87,
   "metadata": {},
   "outputs": [],
   "source": [
    "pos_x = a2[:,0,].copy()"
   ]
  },
  {
   "cell_type": "code",
   "execution_count": 88,
   "metadata": {},
   "outputs": [
    {
     "data": {
      "text/plain": [
       "array([729, 759, 801, 845, 877, 908, 953])"
      ]
     },
     "execution_count": 88,
     "metadata": {},
     "output_type": "execute_result"
    }
   ],
   "source": [
    "pos_x"
   ]
  },
  {
   "cell_type": "code",
   "execution_count": 48,
   "metadata": {},
   "outputs": [
    {
     "data": {
      "text/plain": [
       "array([[729, 475,  15,  39],\n",
       "       [759, 475,  24,  40],\n",
       "       [801, 475,  25,  40],\n",
       "       [845, 475,  27,  39],\n",
       "       [877, 475,  25,  40],\n",
       "       [908, 475,  25,  40],\n",
       "       [953, 475,  25,  40]])"
      ]
     },
     "execution_count": 48,
     "metadata": {},
     "output_type": "execute_result"
    }
   ],
   "source": [
    "a2"
   ]
  },
  {
   "cell_type": "code",
   "execution_count": 59,
   "metadata": {},
   "outputs": [
    {
     "name": "stdout",
     "output_type": "stream",
     "text": [
      "5\n",
      "17\n",
      "19\n",
      "7\n",
      "6\n",
      "20\n"
     ]
    }
   ],
   "source": [
    "for i in range(a2.shape[0]-1):\n",
    "    print(a2[i+1,0] - (a2[i,0] + int(width_m)))"
   ]
  },
  {
   "cell_type": "code",
   "execution_count": null,
   "metadata": {},
   "outputs": [],
   "source": []
  },
  {
   "cell_type": "code",
   "execution_count": 57,
   "metadata": {},
   "outputs": [],
   "source": [
    "width_m = np.median(a2[:,2,])"
   ]
  },
  {
   "cell_type": "code",
   "execution_count": 58,
   "metadata": {},
   "outputs": [
    {
     "data": {
      "text/plain": [
       "25.0"
      ]
     },
     "execution_count": 58,
     "metadata": {},
     "output_type": "execute_result"
    }
   ],
   "source": [
    "width_m"
   ]
  },
  {
   "cell_type": "code",
   "execution_count": 89,
   "metadata": {},
   "outputs": [],
   "source": [
    "diff = pos_x[1:] - (pos_x[:-1]+int(width_m))"
   ]
  },
  {
   "cell_type": "code",
   "execution_count": 90,
   "metadata": {},
   "outputs": [
    {
     "data": {
      "text/plain": [
       "array([ 5, 17, 19,  7,  6, 20])"
      ]
     },
     "execution_count": 90,
     "metadata": {},
     "output_type": "execute_result"
    }
   ],
   "source": [
    "diff"
   ]
  },
  {
   "cell_type": "code",
   "execution_count": null,
   "metadata": {},
   "outputs": [],
   "source": [
    "def get_spaces(img_thresh): # public\n",
    "        '''\n",
    "            get spaces between maßnahmen code\n",
    "        '''\n",
    "        # invert binary\n",
    "        img = cv2.bitwise_not(self.img_thresh)\n",
    "        # cut the mass\n",
    "        img = self.cut_feature(img, \"mass\")\n",
    "        # get boundries of detected characters\n",
    "        rects = self.find_objects(img)\n",
    "        # convert to numpy array\n",
    "        rects = np.asarray(rects)\n",
    "\n",
    "### TODO dont filter commas\n",
    "\n",
    "        # filter noise (small points)\n",
    "        rec_fil = rects[rects[:,3] > np.mean(rects[:,3])/2]\n",
    "        # get amount of Nutzungsmaßnahmen\n",
    "        rec_fil[:,1] = rec_fil[:,1] + rec_fil[:,3]\n",
    "        # get unique row positions\n",
    "        rows_pos = np.sort(np.unique(rec_fil[:,1]))\n",
    "\n",
    "        spaces = []\n",
    "\n",
    "        for i in range(0, rows_pos.size-1, 2):\n",
    "            # filter only nutzungs row\n",
    "            rec_fil_fil = rec_fil[np.where(rec_fil[:,1] == rows_pos[i])]\n",
    "            # invert array on first column\n",
    "            rec_fil_fil.view('i8,i8,i8,i8').sort(order=['f1'], axis=0)\n",
    "            # position of char on x-axis -> column 0\n",
    "            pos_x = rec_fil_fil[:,0,].copy()\n",
    "            # median width > column 2\n",
    "            width_m = np.median(rec_fil_fil[:,2,])\n",
    "            # space (pixels) between characters\n",
    "            diff = pos_x[1:] - (pos_x[:-1]+int(width_m))\n",
    "            # use otsu algorithm to obtain the best threshold value\n",
    "            thresh_val = self.otsu(diff)\n",
    "\n",
    "            diff[np.where(diff < thresh_val)] = 0\n",
    "            diff[np.where(diff >= thresh_val)] = 1\n",
    "\n",
    "            spaces.append(diff)\n",
    "\n",
    "### TODO add possibitity for 2 or more Maßnahmen and one without text\n",
    "\n",
    "        ## search for commas\n",
    "        # get Maßnahme\n",
    "        mass = self.get_text(\"mass\")\n",
    "        mass = mass.splitlines()\n",
    "    ### TODO\n",
    "        # find commas\n",
    "        idx_comma = mass[0].find(',')\n",
    "        # change space to no space\n",
    "        spaces[0][idx_comma-1] = 0\n",
    "        # add no space, since comma is not recognised as char\n",
    "        spaces[0] = np.insert(spaces[0],3,0)\n",
    "\n",
    "        return(spaces)\n"
   ]
  },
  {
   "cell_type": "code",
   "execution_count": null,
   "metadata": {},
   "outputs": [],
   "source": []
  },
  {
   "cell_type": "code",
   "execution_count": 12,
   "metadata": {},
   "outputs": [],
   "source": [
    "def from_string(ma_as_str, spaces):\n",
    "    # split lines\n",
    "    ma = ma_as_str.splitlines()\n",
    "    nutz = ma[0].replace(\" \", \"\")\n",
    "    l = []\n",
    "    ch = \"\"\n",
    "\n",
    "    for i in range(len(nutz)):\n",
    "\n",
    "        if i == 0:\n",
    "            ch = nutz[i]\n",
    "        elif i == len(nutz)-1:\n",
    "            l.append(ch + nutz[i])\n",
    "        elif spaces[0][i-1] == 0:\n",
    "            ch = ch + nutz[i]\n",
    "        elif spaces[0][i-1] == 1:\n",
    "            l.append(ch)\n",
    "            ch = nutz[i]\n",
    "    l.append(ma[1])\n",
    "    return l"
   ]
  },
  {
   "cell_type": "code",
   "execution_count": 17,
   "metadata": {},
   "outputs": [
    {
     "data": {
      "text/plain": [
       "['DF13,8700', '0', '2', '34', '35', 'El fördern u freistellen']"
      ]
     },
     "execution_count": 17,
     "metadata": {},
     "output_type": "execute_result"
    }
   ],
   "source": [
    "from_string(ma, spaces)"
   ]
  },
  {
   "cell_type": "code",
   "execution_count": 47,
   "metadata": {},
   "outputs": [
    {
     "data": {
      "text/plain": [
       "[array([0, 1, 0, 0, 1, 1, 1, 1, 1, 0, 0, 0, 1])]"
      ]
     },
     "execution_count": 47,
     "metadata": {},
     "output_type": "execute_result"
    }
   ],
   "source": [
    "spaces"
   ]
  },
  {
   "cell_type": "code",
   "execution_count": 47,
   "metadata": {},
   "outputs": [
    {
     "data": {
      "text/plain": [
       "['DF', '4,7', '300', '0', '2', '3', '4', '35', 'El Kronen freistellen']"
      ]
     },
     "execution_count": 47,
     "metadata": {},
     "output_type": "execute_result"
    }
   ],
   "source": [
    "ma = 'DF4,7300023435\\nEl Kronen freistellen'\n",
    "spaces = [np.array([0, 1, 0, 0, 1, 0, 0, 1, 1, 1, 1, 1, 0])]\n",
    "from_string(ma, spaces)"
   ]
  },
  {
   "cell_type": "code",
   "execution_count": 49,
   "metadata": {},
   "outputs": [
    {
     "data": {
      "text/plain": [
       "['DF', '473', '000', '2', '3', '4', '35', 'El Kronen freistellen']"
      ]
     },
     "execution_count": 49,
     "metadata": {},
     "output_type": "execute_result"
    }
   ],
   "source": [
    "ma = 'DF47300023435\\nEl Kronen freistellen'\n",
    "spaces = [np.array([0, 1, 0, 0, 1, 0, 0, 1, 1, 1, 1, 1, 0])]\n",
    "from_string(ma, spaces)"
   ]
  },
  {
   "cell_type": "code",
   "execution_count": 50,
   "metadata": {},
   "outputs": [
    {
     "data": {
      "text/plain": [
       "['DF', '4,7', '300', '0', '2', '1', '3', '4', '35', 'El Kronen freistellen']"
      ]
     },
     "execution_count": 50,
     "metadata": {},
     "output_type": "execute_result"
    }
   ],
   "source": [
    "# added 1 to spaces and ma\n",
    "ma = 'DF4,73000213435\\nEl Kronen freistellen'\n",
    "spaces = [np.array([0, 1, 0, 0, 1, 0, 0, 1, 1, 1, 1, 1, 1, 0])]\n",
    "from_string(ma, spaces)"
   ]
  },
  {
   "cell_type": "code",
   "execution_count": 51,
   "metadata": {},
   "outputs": [
    {
     "data": {
      "text/plain": [
       "['DF', '2', '1', '3', '4', '35', 'El Kronen freistellen']"
      ]
     },
     "execution_count": 51,
     "metadata": {},
     "output_type": "execute_result"
    }
   ],
   "source": [
    "# added 1 to spaces and ma\n",
    "ma = 'DF213435\\nEl Kronen freistellen'\n",
    "spaces = [np.array([0, 1, 1, 1, 1, 1, 1, 1, 0])]\n",
    "from_string(ma, spaces)"
   ]
  },
  {
   "cell_type": "code",
   "execution_count": null,
   "metadata": {},
   "outputs": [],
   "source": []
  },
  {
   "cell_type": "code",
   "execution_count": null,
   "metadata": {},
   "outputs": [],
   "source": []
  },
  {
   "cell_type": "code",
   "execution_count": null,
   "metadata": {},
   "outputs": [],
   "source": []
  },
  {
   "cell_type": "code",
   "execution_count": null,
   "metadata": {},
   "outputs": [],
   "source": []
  },
  {
   "cell_type": "code",
   "execution_count": null,
   "metadata": {},
   "outputs": [],
   "source": []
  },
  {
   "cell_type": "code",
   "execution_count": 9,
   "metadata": {},
   "outputs": [],
   "source": [
    "# split lines\n",
    "ma = ma.splitlines()"
   ]
  },
  {
   "cell_type": "code",
   "execution_count": 10,
   "metadata": {},
   "outputs": [
    {
     "data": {
      "text/plain": [
       "['DF4,7300023435', 'El Kronen freistellen']"
      ]
     },
     "execution_count": 10,
     "metadata": {},
     "output_type": "execute_result"
    }
   ],
   "source": [
    "ma"
   ]
  },
  {
   "cell_type": "code",
   "execution_count": 44,
   "metadata": {},
   "outputs": [],
   "source": [
    "l = []\n",
    "ch = \"\"\n",
    "\n",
    "for i in range(len(ma[0])):\n",
    "    \n",
    "    if i == 0:\n",
    "        ch = ma[0][i]\n",
    "    elif i == len(ma[0])-1:\n",
    "        l.append(ch + ma[0][i])\n",
    "    elif spaces[0][i-1] == 0:\n",
    "        ch = ch + ma[0][i]\n",
    "    elif spaces[0][i-1] == 1:\n",
    "        l.append(ch)\n",
    "        ch = ma[0][i]\n",
    "l.append(ma[1])"
   ]
  },
  {
   "cell_type": "code",
   "execution_count": 45,
   "metadata": {},
   "outputs": [
    {
     "data": {
      "text/plain": [
       "['DF', '4,7', '300', '0', '2', '3', '4', '35', 'El Kronen freistellen']"
      ]
     },
     "execution_count": 45,
     "metadata": {},
     "output_type": "execute_result"
    }
   ],
   "source": [
    "l"
   ]
  },
  {
   "cell_type": "code",
   "execution_count": null,
   "metadata": {},
   "outputs": [],
   "source": []
  },
  {
   "cell_type": "markdown",
   "metadata": {},
   "source": [
    "## BZ"
   ]
  },
  {
   "cell_type": "code",
   "execution_count": 10,
   "metadata": {},
   "outputs": [],
   "source": [
    "bz = \"3BU 4FI 3AH\""
   ]
  },
  {
   "cell_type": "code",
   "execution_count": 11,
   "metadata": {},
   "outputs": [],
   "source": [
    "bz = bz.split()"
   ]
  },
  {
   "cell_type": "code",
   "execution_count": 12,
   "metadata": {},
   "outputs": [
    {
     "data": {
      "text/plain": [
       "['3BU', '4FI', '3AH']"
      ]
     },
     "execution_count": 12,
     "metadata": {},
     "output_type": "execute_result"
    }
   ],
   "source": [
    "bz"
   ]
  },
  {
   "cell_type": "code",
   "execution_count": 13,
   "metadata": {},
   "outputs": [
    {
     "data": {
      "text/plain": [
       "'BU'"
      ]
     },
     "execution_count": 13,
     "metadata": {},
     "output_type": "execute_result"
    }
   ],
   "source": [
    "bz[0][-2:]"
   ]
  },
  {
   "cell_type": "code",
   "execution_count": 14,
   "metadata": {},
   "outputs": [
    {
     "data": {
      "text/plain": [
       "3"
      ]
     },
     "execution_count": 14,
     "metadata": {},
     "output_type": "execute_result"
    }
   ],
   "source": [
    "int(bz[0][:-2])"
   ]
  },
  {
   "cell_type": "code",
   "execution_count": 18,
   "metadata": {},
   "outputs": [],
   "source": [
    "bzs = []\n",
    "for b in bz:\n",
    "    bzs.append([int(b[:-2]),b[-2:]])"
   ]
  },
  {
   "cell_type": "code",
   "execution_count": 20,
   "metadata": {},
   "outputs": [
    {
     "name": "stdout",
     "output_type": "stream",
     "text": [
      "[2, 4, 6, 8]\n"
     ]
    }
   ],
   "source": [
    "# Return double of n \n",
    "def addition(n): \n",
    "    return n + n \n",
    "  \n",
    "# We double all numbers using map() \n",
    "numbers = (1, 2, 3, 4) \n",
    "result = map(addition, numbers) \n",
    "print(list(result))"
   ]
  },
  {
   "cell_type": "code",
   "execution_count": 21,
   "metadata": {},
   "outputs": [
    {
     "data": {
      "text/plain": [
       "['3BU', '4FI', '3AH']"
      ]
     },
     "execution_count": 21,
     "metadata": {},
     "output_type": "execute_result"
    }
   ],
   "source": [
    "bz"
   ]
  },
  {
   "cell_type": "code",
   "execution_count": 27,
   "metadata": {},
   "outputs": [],
   "source": [
    "def spliter(n):\n",
    "    return int(n[:-2]),n[-2:]\n",
    "result = map(spliter, bz)"
   ]
  },
  {
   "cell_type": "code",
   "execution_count": 28,
   "metadata": {},
   "outputs": [
    {
     "data": {
      "text/plain": [
       "<map at 0x7f13254cb190>"
      ]
     },
     "execution_count": 28,
     "metadata": {},
     "output_type": "execute_result"
    }
   ],
   "source": [
    "result"
   ]
  },
  {
   "cell_type": "code",
   "execution_count": 19,
   "metadata": {},
   "outputs": [
    {
     "data": {
      "text/plain": [
       "[[3, 'BU'], [4, 'FI'], [3, 'AH']]"
      ]
     },
     "execution_count": 19,
     "metadata": {},
     "output_type": "execute_result"
    }
   ],
   "source": [
    "bzs"
   ]
  },
  {
   "cell_type": "code",
   "execution_count": null,
   "metadata": {},
   "outputs": [],
   "source": []
  },
  {
   "cell_type": "code",
   "execution_count": 1,
   "metadata": {},
   "outputs": [],
   "source": [
    "from OCRData import BestZiel\n",
    "from OCRData import BAZiel"
   ]
  },
  {
   "cell_type": "code",
   "execution_count": 2,
   "metadata": {},
   "outputs": [],
   "source": [
    "ba1 = BAZiel(13, 'BU')\n",
    "ba2 = BAZiel(4, 'K')\n",
    "ba3 = BAZiel(3, 'LA')"
   ]
  },
  {
   "cell_type": "code",
   "execution_count": 3,
   "metadata": {},
   "outputs": [],
   "source": [
    "bz = BestZiel([ba1, ba2, ba3])"
   ]
  },
  {
   "cell_type": "code",
   "execution_count": null,
   "metadata": {},
   "outputs": [],
   "source": []
  },
  {
   "cell_type": "code",
   "execution_count": 8,
   "metadata": {},
   "outputs": [
    {
     "name": "stdout",
     "output_type": "stream",
     "text": [
      "3BI\n",
      "3\n",
      "BI\n",
      "4KI\n",
      "4\n",
      "KI\n",
      "3FI\n",
      "3\n",
      "FI\n"
     ]
    }
   ],
   "source": [
    "bz = BestZiel.from_string('3BI 4KI 3FI')"
   ]
  },
  {
   "cell_type": "code",
   "execution_count": 9,
   "metadata": {},
   "outputs": [
    {
     "data": {
      "text/plain": [
       "BestZiel(bz=[BAZiel(part=3, ba='BI', error=False), BAZiel(part=4, ba='KI', error=False), BAZiel(part=3, ba='FI', error=False)], error=False)"
      ]
     },
     "execution_count": 9,
     "metadata": {},
     "output_type": "execute_result"
    }
   ],
   "source": [
    "bz"
   ]
  },
  {
   "cell_type": "code",
   "execution_count": 10,
   "metadata": {},
   "outputs": [],
   "source": [
    "bz.check_attr()"
   ]
  },
  {
   "cell_type": "code",
   "execution_count": 11,
   "metadata": {},
   "outputs": [
    {
     "data": {
      "text/plain": [
       "BestZiel(bz=[BAZiel(part=3, ba='BI', error=False), BAZiel(part=4, ba='KI', error=False), BAZiel(part=3, ba='FI', error=False)], error=False)"
      ]
     },
     "execution_count": 11,
     "metadata": {},
     "output_type": "execute_result"
    }
   ],
   "source": [
    "bz"
   ]
  },
  {
   "cell_type": "code",
   "execution_count": null,
   "metadata": {},
   "outputs": [],
   "source": []
  },
  {
   "cell_type": "code",
   "execution_count": 6,
   "metadata": {},
   "outputs": [],
   "source": [
    "from OCRData import Text"
   ]
  },
  {
   "cell_type": "code",
   "execution_count": 9,
   "metadata": {},
   "outputs": [],
   "source": [
    "# get text\n",
    "txt = ocr.get_text('text')"
   ]
  },
  {
   "cell_type": "code",
   "execution_count": 10,
   "metadata": {},
   "outputs": [
    {
     "data": {
      "text/plain": [
       "Text(line0='ST im Süden breiter Rücken, am Rücken steinig mit STOE 71 und HD-Typ', line1='BE einige ES KB BU BI AH Kl, Elam Rücken, einige eingewachsene BU-El-Überhälter, ungleichaltrig +/- 10 Jahre, Ausschlagswald', line2='')"
      ]
     },
     "execution_count": 10,
     "metadata": {},
     "output_type": "execute_result"
    }
   ],
   "source": [
    "Text.from_string(txt)"
   ]
  },
  {
   "cell_type": "code",
   "execution_count": null,
   "metadata": {},
   "outputs": [],
   "source": []
  },
  {
   "cell_type": "code",
   "execution_count": 24,
   "metadata": {},
   "outputs": [],
   "source": [
    "from OCRData import Nutz"
   ]
  },
  {
   "cell_type": "code",
   "execution_count": 46,
   "metadata": {},
   "outputs": [],
   "source": [
    "nutz = Nutz(ma=l[0], v_lh=int(l[2]), v_nh=int(l[3]), dring=int(l[4]), behoerde=0, zeitp=int(l[5]), \\\n",
    "            schlaeg=int(l[6]), rueck=int(l[7]), text=l[8])"
   ]
  },
  {
   "cell_type": "code",
   "execution_count": 47,
   "metadata": {},
   "outputs": [
    {
     "data": {
      "text/plain": [
       "['DF', '4,7', '300', '0', '2', '3', '4', '35', 'El Kronen freistellen']"
      ]
     },
     "execution_count": 47,
     "metadata": {},
     "output_type": "execute_result"
    }
   ],
   "source": [
    "l"
   ]
  },
  {
   "cell_type": "code",
   "execution_count": 48,
   "metadata": {},
   "outputs": [
    {
     "data": {
      "text/plain": [
       "Nutz(ma='DF', area=0.0, v_lh=300, v_nh=0, dring=2, behoerde=0, zeitp=3, schlaeg=4, rueck=35, text='El Kronen freistellen', error=False)"
      ]
     },
     "execution_count": 48,
     "metadata": {},
     "output_type": "execute_result"
    }
   ],
   "source": [
    "nutz"
   ]
  },
  {
   "cell_type": "code",
   "execution_count": 49,
   "metadata": {},
   "outputs": [],
   "source": [
    "nutz.check_attr()"
   ]
  },
  {
   "cell_type": "code",
   "execution_count": 50,
   "metadata": {},
   "outputs": [
    {
     "data": {
      "text/plain": [
       "Nutz(ma='DF', area=0.0, v_lh=300, v_nh=0, dring=2, behoerde=0, zeitp=3, schlaeg=4, rueck=35, text='El Kronen freistellen', error=True)"
      ]
     },
     "execution_count": 50,
     "metadata": {},
     "output_type": "execute_result"
    }
   ],
   "source": [
    "nutz"
   ]
  },
  {
   "cell_type": "code",
   "execution_count": null,
   "metadata": {},
   "outputs": [],
   "source": []
  },
  {
   "cell_type": "code",
   "execution_count": null,
   "metadata": {},
   "outputs": [],
   "source": []
  }
 ],
 "metadata": {
  "kernelspec": {
   "display_name": "autax_rec",
   "language": "python",
   "name": "autax_rec"
  },
  "language_info": {
   "codemirror_mode": {
    "name": "ipython",
    "version": 3
   },
   "file_extension": ".py",
   "mimetype": "text/x-python",
   "name": "python",
   "nbconvert_exporter": "python",
   "pygments_lexer": "ipython3",
   "version": "3.7.4"
  }
 },
 "nbformat": 4,
 "nbformat_minor": 4
}
