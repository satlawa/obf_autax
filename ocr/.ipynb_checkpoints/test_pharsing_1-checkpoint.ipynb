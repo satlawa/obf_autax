{
 "cells": [
  {
   "cell_type": "code",
   "execution_count": 1,
   "metadata": {},
   "outputs": [],
   "source": [
    "import os\n",
    "import h5py\n",
    "import cv2\n",
    "import numpy as np\n",
    "import pandas as pd\n",
    "import sklearn as skl\n",
    "from matplotlib import pyplot as plt\n",
    "\n",
    "from pdf2image import convert_from_path, convert_from_bytes\n",
    "import pytesseract\n",
    "\n",
    "from OCRPage import OCRPage"
   ]
  },
  {
   "cell_type": "code",
   "execution_count": 2,
   "metadata": {},
   "outputs": [],
   "source": [
    "# set home directory\n",
    "home_path = os.getcwd()[:os.getcwd().find('Code/python/obf_autax/ocr')-1]\n",
    "# set input_path\n",
    "input_path = os.path.join(home_path, 'Data', 'obf_autman', 'pdf', '171_12_PS_Pernitz.pdf')\n",
    "#Operat Hinterriß\n",
    "#'171_11_GS_Mannersdorf.pdf'"
   ]
  },
  {
   "cell_type": "code",
   "execution_count": 3,
   "metadata": {},
   "outputs": [],
   "source": [
    "def convert_to_image(input_path, page_nr):\n",
    "\n",
    "    pages = convert_from_path(input_path, 500, first_page=page_nr, last_page=page_nr)\n",
    "\n",
    "    return pages[0]"
   ]
  },
  {
   "cell_type": "code",
   "execution_count": 4,
   "metadata": {},
   "outputs": [],
   "source": [
    "#img = convert_to_image(input_path, 3).convert('RGB')\n",
    "#img = np.array(img)\n",
    "# 113\n",
    "\n",
    "img = convert_to_image(input_path, 13).convert('RGB')\n",
    "img = np.array(img)\n",
    "ocr = OCRPage(img)\n",
    "ocr.convert()"
   ]
  },
  {
   "cell_type": "markdown",
   "metadata": {},
   "source": [
    "## Text"
   ]
  },
  {
   "cell_type": "code",
   "execution_count": 5,
   "metadata": {},
   "outputs": [],
   "source": [
    "# get text\n",
    "txt = ocr.get_text('text')"
   ]
  },
  {
   "cell_type": "code",
   "execution_count": 10,
   "metadata": {},
   "outputs": [],
   "source": [
    "# split lines\n",
    "txt = txt.splitlines()"
   ]
  },
  {
   "cell_type": "code",
   "execution_count": 11,
   "metadata": {},
   "outputs": [
    {
     "data": {
      "text/plain": [
       "[]"
      ]
     },
     "execution_count": 11,
     "metadata": {},
     "output_type": "execute_result"
    }
   ],
   "source": [
    "txt"
   ]
  },
  {
   "cell_type": "code",
   "execution_count": 16,
   "metadata": {},
   "outputs": [
    {
     "data": {
      "text/plain": [
       "'Qualität, meist krummwüchsig, mäßig vergrast und verkrautet'"
      ]
     },
     "execution_count": 16,
     "metadata": {},
     "output_type": "execute_result"
    }
   ],
   "source": [
    "txt[1].replace('El', 'EI')\n",
    "txt[1].replace('Kl', 'KI')\n",
    "txt[1].replace('Zl', 'ZI')"
   ]
  },
  {
   "cell_type": "code",
   "execution_count": 17,
   "metadata": {},
   "outputs": [
    {
     "data": {
      "text/plain": [
       "['ST steilerer Abfall zu \"BO\", am Rücken blockig, BE einzelne SK, BU im NordOsten, ungleichaltrig +/- 20 Jahre, geringe',\n",
       " 'Qualität, meist krummwüchsig, mäßig vergrast und verkrautet']"
      ]
     },
     "execution_count": 17,
     "metadata": {},
     "output_type": "execute_result"
    }
   ],
   "source": [
    "txt"
   ]
  },
  {
   "cell_type": "code",
   "execution_count": 18,
   "metadata": {},
   "outputs": [
    {
     "data": {
      "text/plain": [
       "2"
      ]
     },
     "execution_count": 18,
     "metadata": {},
     "output_type": "execute_result"
    }
   ],
   "source": [
    "len(txt)"
   ]
  },
  {
   "cell_type": "code",
   "execution_count": 61,
   "metadata": {},
   "outputs": [],
   "source": [
    "for i in range(3-2):\n",
    "    txt.append(\"\")"
   ]
  },
  {
   "cell_type": "code",
   "execution_count": 62,
   "metadata": {},
   "outputs": [],
   "source": [
    "l0, l1, l2 = txt"
   ]
  },
  {
   "cell_type": "code",
   "execution_count": null,
   "metadata": {},
   "outputs": [],
   "source": []
  },
  {
   "cell_type": "code",
   "execution_count": 12,
   "metadata": {},
   "outputs": [],
   "source": [
    "img = convert_to_image(input_path, 158).convert('RGB')\n",
    "img = np.array(img)\n",
    "ocr = OCRPage(img)\n",
    "ocr.convert()"
   ]
  },
  {
   "cell_type": "markdown",
   "metadata": {},
   "source": [
    "## Maßnahme"
   ]
  },
  {
   "cell_type": "code",
   "execution_count": 13,
   "metadata": {},
   "outputs": [],
   "source": [
    "ma = ocr.get_text('mass')\n",
    "#spaces = ocr.get_spaces()"
   ]
  },
  {
   "cell_type": "code",
   "execution_count": 14,
   "metadata": {},
   "outputs": [],
   "source": [
    "dic_ma = {'S':0, 'MA':1, 'FL':0, 'LH':1, 'NH':1, 'SUM':0, 'DR':1, 'BH':1, 'ZP':1, 'SG':1, 'RU':1}"
   ]
  },
  {
   "cell_type": "code",
   "execution_count": 15,
   "metadata": {},
   "outputs": [
    {
     "data": {
      "text/plain": [
       "'DE0 75113636\\nAnfang - Mitte Dezennium, Gelände ungleichmäßig'"
      ]
     },
     "execution_count": 15,
     "metadata": {},
     "output_type": "execute_result"
    }
   ],
   "source": [
    "ma"
   ]
  },
  {
   "cell_type": "code",
   "execution_count": null,
   "metadata": {},
   "outputs": [],
   "source": []
  },
  {
   "cell_type": "code",
   "execution_count": 16,
   "metadata": {},
   "outputs": [],
   "source": [
    "# 1\n",
    "def split_lines(ma, dic_ma):\n",
    "    ma = ma.splitlines()\n",
    "    row_info = []\n",
    "    for i in range(len(ma)):\n",
    "        if ma[i][dic_ma['S']:dic_ma['S']+2] in [\"DE\", \"DF\", \"RM\", \"LI\", \"AD\", \"KH\"]:\n",
    "            ma[i] = ma[i].replace(\" \", \"\")\n",
    "            row_info.append(\"nutz\")\n",
    "        else:\n",
    "            ma[i] = ma[i].replace(\"Bl\", \"BI\")\n",
    "            ma[i] = ma[i].replace(\"El\", \"EI\")\n",
    "            ma[i] = ma[i].replace(\"Kl\", \"KI\")\n",
    "            ma[i] = ma[i].replace(\"Ll\", \"LI\")\n",
    "            ma[i] = ma[i].replace(\"Zl\", \"ZI\")\n",
    "            row_info.append(\"text\")\n",
    "        \n",
    "    return ma, row_info"
   ]
  },
  {
   "cell_type": "code",
   "execution_count": null,
   "metadata": {},
   "outputs": [],
   "source": []
  },
  {
   "cell_type": "code",
   "execution_count": null,
   "metadata": {},
   "outputs": [],
   "source": []
  },
  {
   "cell_type": "code",
   "execution_count": 115,
   "metadata": {},
   "outputs": [
    {
     "name": "stdout",
     "output_type": "stream",
     "text": [
      "['DE075113636', 'Anfang - Mitte Dezennium, Gelände ungleichmäßig'] ['nutz', 'text']\n",
      "[217 320]\n",
      "[{'dist': array([30,  6]), 'thresh': 29}]\n",
      "DE075113636\n",
      "{'S': 0, 'MA': 1, 'FL': 0, 'LH': 1, 'NH': 1, 'SUM': 0, 'DR': 1, 'BH': 1, 'ZP': 1, 'SG': 1, 'RU': 1}\n"
     ]
    },
    {
     "data": {
      "text/plain": [
       "{'S': 0,\n",
       " 'MA': 'DE',\n",
       " 'FL': 0,\n",
       " 'LH': '0',\n",
       " 'NH': '75',\n",
       " 'SUM': 0,\n",
       " 'DR': '1',\n",
       " 'BH': '1',\n",
       " 'ZP': '3',\n",
       " 'SG': '6',\n",
       " 'RU': '36'}"
      ]
     },
     "execution_count": 115,
     "metadata": {},
     "output_type": "execute_result"
    }
   ],
   "source": [
    "data, info = split_lines(ma, dic_ma)\n",
    "\n",
    "print(data, info)\n",
    "\n",
    "rec_fil,rows_pos = get_char_positions(ocr.img_thresh)\n",
    "\n",
    "print(rows_pos)\n",
    "\n",
    "# set index of nutz\n",
    "idx = 0\n",
    "# filter only nutzungs row\n",
    "rec_fil_fil = rec_fil[np.where((rec_fil[:,1] <= rows_pos[idx]*1.05) & (rec_fil[:,1] >= rows_pos[idx]*0.95))]\n",
    "data_nutz = data[idx]\n",
    "distances = get_dist_char(data, dic_ma, rec_fil_fil, rows_pos[idx], info)\n",
    "\n",
    "print(distances)\n",
    "\n",
    "print(data[0])\n",
    "print(dic_ma)\n",
    "z = from_string(data[0], dic_ma, distances[0])\n",
    "z"
   ]
  },
  {
   "cell_type": "code",
   "execution_count": 56,
   "metadata": {},
   "outputs": [],
   "source": [
    "def from_string(ma_as_str, dic_ma, distances):\n",
    "    # TYP\n",
    "    # first 2 -> Maßnahme\n",
    "    # last 6 -> Nutzcode\n",
    "    \n",
    "    dic_ = {'S':0, 'MA':0, 'FL':0, 'LH':0, 'NH':0, 'SUM':0, 'DR':0, 'BH':0, 'ZP':0, 'SG':0, 'RU':0}\n",
    "    \n",
    "    #len_tech = dic_ma['DR'] + dic_ma['BH'] + dic_ma['ZP'] + dic_ma['SG'] + dic_ma['RU']*2\n",
    "    \n",
    "    # set Schicht (S)\n",
    "    if dic_ma['S']:\n",
    "        dic_['S'] = ma_as_str[:dic_ma['S']]\n",
    "        \n",
    "    # set Maßnahme (MA)\n",
    "    if dic_ma['MA']:\n",
    "        dic_['MA'] = ma_as_str[dic_ma['S']:dic_ma['S']+2]\n",
    "    \n",
    "    pos = 0\n",
    "    \n",
    "    # set Rückung (RU)\n",
    "    if dic_ma['RU']:\n",
    "        pos = -2\n",
    "        dic_['RU'] = ma_as_str[pos:]\n",
    "        \n",
    "    # set Schlägerung (SG), Zeitpunkt (ZP), Behörde (BH), Dringlichkeit (DR)\n",
    "    for i in ['SG', 'ZP', 'BH', 'DR']:\n",
    "        if dic_ma[i]:\n",
    "            pos -= 1\n",
    "            dic_[i] = ma_as_str[pos:pos+1]\n",
    "            \n",
    "    #print(ma_as_str[dic_ma['S']+2:pos])\n",
    "    #print(distances[\"dist\"])\n",
    "    \n",
    "    # pharse FL - LH - NH string\n",
    "    data_ma = pharse_string(ma_as_str[dic_ma['S']+2:pos], distances[\"dist\"], distances[\"thresh\"])\n",
    "    \n",
    "    # set Fläche (FL), Laubholz (LH), Nadelholz (NH), Summe (SUM)\n",
    "    cur = 0\n",
    "    for typ in ['FL', 'LH', 'NH', 'SUM']:\n",
    "        if dic_ma[typ]:\n",
    "            dic_[typ] = data_ma[cur]\n",
    "            cur += 1 \n",
    "    \n",
    "    return dic_"
   ]
  },
  {
   "cell_type": "code",
   "execution_count": 226,
   "metadata": {},
   "outputs": [
    {
     "name": "stdout",
     "output_type": "stream",
     "text": [
      "DF10700013435\n",
      "{'S': 0, 'MA': 1, 'FL': 1, 'LH': 1, 'NH': 1, 'SUM': 0, 'DR': 1, 'BH': 0, 'ZP': 1, 'SG': 1, 'RU': 1}\n"
     ]
    },
    {
     "data": {
      "text/plain": [
       "{'S': 0,\n",
       " 'MA': 'DF',\n",
       " 'FL': '10',\n",
       " 'LH': '700',\n",
       " 'NH': '0',\n",
       " 'SUM': 0,\n",
       " 'DR': '1',\n",
       " 'BH': 0,\n",
       " 'ZP': '3',\n",
       " 'SG': '4',\n",
       " 'RU': '35'}"
      ]
     },
     "execution_count": 226,
     "metadata": {},
     "output_type": "execute_result"
    }
   ],
   "source": [
    "print(data[0])\n",
    "print(dic_ma)\n",
    "z = from_string(data[0], dic_ma, distances[0])\n",
    "z"
   ]
  },
  {
   "cell_type": "code",
   "execution_count": null,
   "metadata": {},
   "outputs": [],
   "source": []
  },
  {
   "cell_type": "code",
   "execution_count": 11,
   "metadata": {},
   "outputs": [
    {
     "ename": "NameError",
     "evalue": "name 'get_char_positions' is not defined",
     "output_type": "error",
     "traceback": [
      "\u001b[0;31m---------------------------------------------------------------------------\u001b[0m",
      "\u001b[0;31mNameError\u001b[0m                                 Traceback (most recent call last)",
      "\u001b[0;32m<ipython-input-11-00650cef2ab4>\u001b[0m in \u001b[0;36m<module>\u001b[0;34m\u001b[0m\n\u001b[1;32m      1\u001b[0m \u001b[0mimg_thresh\u001b[0m \u001b[0;34m=\u001b[0m \u001b[0mocr\u001b[0m\u001b[0;34m.\u001b[0m\u001b[0mimg_thresh\u001b[0m\u001b[0;34m\u001b[0m\u001b[0;34m\u001b[0m\u001b[0m\n\u001b[0;32m----> 2\u001b[0;31m \u001b[0mrec_fil\u001b[0m\u001b[0;34m,\u001b[0m\u001b[0mrows_pos\u001b[0m \u001b[0;34m=\u001b[0m \u001b[0mget_char_positions\u001b[0m\u001b[0;34m(\u001b[0m\u001b[0mimg_thresh\u001b[0m\u001b[0;34m)\u001b[0m\u001b[0;34m\u001b[0m\u001b[0;34m\u001b[0m\u001b[0m\n\u001b[0m",
      "\u001b[0;31mNameError\u001b[0m: name 'get_char_positions' is not defined"
     ]
    }
   ],
   "source": [
    "img_thresh = ocr.img_thresh\n",
    "rec_fil,rows_pos = get_char_positions(img_thresh)"
   ]
  },
  {
   "cell_type": "code",
   "execution_count": 12,
   "metadata": {},
   "outputs": [
    {
     "data": {
      "text/plain": [
       "['nutz', 'text']"
      ]
     },
     "execution_count": 12,
     "metadata": {},
     "output_type": "execute_result"
    }
   ],
   "source": [
    "info"
   ]
  },
  {
   "cell_type": "code",
   "execution_count": 35,
   "metadata": {},
   "outputs": [
    {
     "ename": "ValueError",
     "evalue": "cannot convert float NaN to integer",
     "output_type": "error",
     "traceback": [
      "\u001b[0;31m---------------------------------------------------------------------------\u001b[0m",
      "\u001b[0;31mValueError\u001b[0m                                Traceback (most recent call last)",
      "\u001b[0;32m<ipython-input-35-8f7bcdd0a7ca>\u001b[0m in \u001b[0;36m<module>\u001b[0;34m\u001b[0m\n\u001b[0;32m----> 1\u001b[0;31m \u001b[0mdistances\u001b[0m \u001b[0;34m=\u001b[0m \u001b[0mget_dist_char\u001b[0m\u001b[0;34m(\u001b[0m\u001b[0mdata\u001b[0m\u001b[0;34m,\u001b[0m \u001b[0mdic_ma\u001b[0m\u001b[0;34m,\u001b[0m \u001b[0mrec_fil\u001b[0m\u001b[0;34m,\u001b[0m \u001b[0mrows_pos\u001b[0m\u001b[0;34m,\u001b[0m \u001b[0minfo\u001b[0m\u001b[0;34m)\u001b[0m\u001b[0;34m\u001b[0m\u001b[0;34m\u001b[0m\u001b[0m\n\u001b[0m",
      "\u001b[0;32m<ipython-input-22-fd05beadacbe>\u001b[0m in \u001b[0;36mget_dist_char\u001b[0;34m(data, dic_ma, rec_fil, rows_pos, info)\u001b[0m\n\u001b[1;32m     23\u001b[0m             \u001b[0mwidth_m\u001b[0m \u001b[0;34m=\u001b[0m \u001b[0mnp\u001b[0m\u001b[0;34m.\u001b[0m\u001b[0mmedian\u001b[0m\u001b[0;34m(\u001b[0m\u001b[0mrec\u001b[0m\u001b[0;34m[\u001b[0m\u001b[0;34m:\u001b[0m\u001b[0;34m,\u001b[0m\u001b[0;36m2\u001b[0m\u001b[0;34m,\u001b[0m\u001b[0;34m]\u001b[0m\u001b[0;34m)\u001b[0m\u001b[0;34m\u001b[0m\u001b[0;34m\u001b[0m\u001b[0m\n\u001b[1;32m     24\u001b[0m             \u001b[0mpos_x\u001b[0m \u001b[0;34m=\u001b[0m \u001b[0mrec\u001b[0m\u001b[0;34m[\u001b[0m\u001b[0;34m:\u001b[0m\u001b[0;34m,\u001b[0m\u001b[0;36m0\u001b[0m\u001b[0;34m,\u001b[0m\u001b[0;34m]\u001b[0m\u001b[0;34m.\u001b[0m\u001b[0mcopy\u001b[0m\u001b[0;34m(\u001b[0m\u001b[0;34m)\u001b[0m\u001b[0;34m\u001b[0m\u001b[0;34m\u001b[0m\u001b[0m\n\u001b[0;32m---> 25\u001b[0;31m             \u001b[0mdist\u001b[0m \u001b[0;34m=\u001b[0m \u001b[0mpos_x\u001b[0m\u001b[0;34m[\u001b[0m\u001b[0;36m1\u001b[0m\u001b[0;34m:\u001b[0m\u001b[0;34m]\u001b[0m \u001b[0;34m-\u001b[0m \u001b[0;34m(\u001b[0m\u001b[0mpos_x\u001b[0m\u001b[0;34m[\u001b[0m\u001b[0;34m:\u001b[0m\u001b[0;34m-\u001b[0m\u001b[0;36m1\u001b[0m\u001b[0;34m]\u001b[0m\u001b[0;34m+\u001b[0m\u001b[0mint\u001b[0m\u001b[0;34m(\u001b[0m\u001b[0mwidth_m\u001b[0m\u001b[0;34m)\u001b[0m\u001b[0;34m)\u001b[0m\u001b[0;34m\u001b[0m\u001b[0;34m\u001b[0m\u001b[0m\n\u001b[0m\u001b[1;32m     26\u001b[0m \u001b[0;34m\u001b[0m\u001b[0m\n\u001b[1;32m     27\u001b[0m             \u001b[0mthresh\u001b[0m \u001b[0;34m=\u001b[0m \u001b[0motsu\u001b[0m\u001b[0;34m(\u001b[0m\u001b[0mdist\u001b[0m\u001b[0;34m)\u001b[0m\u001b[0;34m\u001b[0m\u001b[0;34m\u001b[0m\u001b[0m\n",
      "\u001b[0;31mValueError\u001b[0m: cannot convert float NaN to integer"
     ]
    }
   ],
   "source": [
    "distances = get_dist_char(data, dic_ma, rec_fil, rows_pos, info)"
   ]
  },
  {
   "cell_type": "code",
   "execution_count": null,
   "metadata": {},
   "outputs": [],
   "source": []
  },
  {
   "cell_type": "code",
   "execution_count": 72,
   "metadata": {},
   "outputs": [],
   "source": [
    "def get_dist_char(data, dic_ma, rec, rows_pos, info):\n",
    "    '''\n",
    "    get distances between characters\n",
    "    dic_ma = {'S':0, 'MA':1, 'FL':1, 'LH':1, 'NH':1, 'SUM':0, 'DR':1, 'BH':0, 'ZP':1, 'SG':1, 'RU':1}\n",
    "    string = 'DF13,8700023435'\n",
    "    '''\n",
    "    distances = []\n",
    "    ### get info about structure\n",
    "    len_1 = dic_ma['S'] + dic_ma['MA']*2\n",
    "    len_2 = dic_ma['DR'] + dic_ma['BH'] + dic_ma['ZP'] + dic_ma['SG'] + dic_ma['RU']*2\n",
    "    \n",
    "    #for i, line in enumerate(data):\n",
    "        # filter only nutzungs row\n",
    "        #if info[i] == 'nutz':\n",
    "            #rec = rec_fil[np.where(rec_fil[:,1] == rows_pos[i])]\n",
    "\n",
    "    # sort\n",
    "    rec.view('i8,i8,i8,i8').sort(order=['f0'], axis=0)\n",
    "\n",
    "    # filter just relevant \n",
    "    rec = rec[len_1:-len_2]\n",
    "\n",
    "    width_m = np.median(rec[:,2,])\n",
    "    pos_x = rec[:,0,].copy()\n",
    "    dist = pos_x[1:] - (pos_x[:-1]+int(width_m))\n",
    "\n",
    "    thresh = otsu(dist)\n",
    "\n",
    "    thisdict = {\"dist\": dist, \"thresh\": thresh}\n",
    "    distances.append(thisdict)\n",
    "            \n",
    "    return distances"
   ]
  },
  {
   "cell_type": "code",
   "execution_count": 107,
   "metadata": {},
   "outputs": [],
   "source": [
    "#\n",
    "def otsu(gray):\n",
    "    '''\n",
    "        otsu algorithm for finding the best threshold value\n",
    "    '''\n",
    "    pixel_number = gray.shape[0]\n",
    "    mean_weigth = 1.0/pixel_number\n",
    "    his, bins = np.histogram(gray, np.array(range(0, np.max(gray)+1)))\n",
    "    final_thresh = -1\n",
    "    final_value = -1\n",
    "    for t in bins[1:-1]: # This goes from 1 to 254 uint8 range (Pretty sure wont be those values)\n",
    "        Wb = np.sum(his[:t]) * mean_weigth\n",
    "        Wf = np.sum(his[t:]) * mean_weigth\n",
    "\n",
    "        mub = np.mean(his[:t])\n",
    "        muf = np.mean(his[t:])\n",
    "\n",
    "        value = Wb * Wf * (mub - muf) ** 2\n",
    "\n",
    "        if value > final_value:\n",
    "            final_thresh = t\n",
    "            final_value = value\n",
    "\n",
    "    return(final_thresh)"
   ]
  },
  {
   "cell_type": "code",
   "execution_count": 50,
   "metadata": {},
   "outputs": [],
   "source": [
    "def find_row_corrdinates(rows_pos):\n",
    "    rows = []\n",
    "    temp = []\n",
    "    x = rows_pos[0]\n",
    "    for cor in rows_pos:\n",
    "        if (cor < x * 1.1) & (cor > x * 0.9):\n",
    "            temp.append(cor)\n",
    "        else:\n",
    "            rows.append(int(sum(temp) / len(temp)))\n",
    "            x = cor\n",
    "            temp = []\n",
    "    rows.append(int(sum(temp) / len(temp)))\n",
    "    return(np.array(rows))"
   ]
  },
  {
   "cell_type": "code",
   "execution_count": 54,
   "metadata": {},
   "outputs": [],
   "source": [
    "# OCRPage\n",
    "def get_char_positions(img_thresh):\n",
    "    # invert binary\n",
    "    img = cv2.bitwise_not(img_thresh)\n",
    "    # cut the mass\n",
    "    img = ocr.cut_feature(img, \"mass\")\n",
    "    # get boundries of detected characters\n",
    "    rects = ocr.find_objects(img)\n",
    "    # convert to numpy array\n",
    "    rects = np.asarray(rects)\n",
    "    \n",
    "    # filter small points\n",
    "    rect_max_hight = rects[:,3].max()\n",
    "    rec_fil = rects[rect_max_hight/rects[:,3] < rect_max_hight/(rects[:,3].min()*1.5)]\n",
    "    # get lower coordinates\n",
    "    rec_fil[:,1] = rec_fil[:,1] + rec_fil[:,3]\n",
    "    # get unique row positions\n",
    "    rows_pos = np.sort(np.unique(rec_fil[:,1]))\n",
    "    # filter noise\n",
    "    rows_pos = find_row_corrdinates(rows_pos)\n",
    "    \n",
    "    return(rec_fil,rows_pos)"
   ]
  },
  {
   "cell_type": "code",
   "execution_count": 16,
   "metadata": {},
   "outputs": [],
   "source": [
    "def pharse_string(string, dist, thresh_val):\n",
    "    '''\n",
    "    pharse string into usable variables based on the distance between the characters\n",
    "    input:  string = '13,87000'\n",
    "            dist = np.array([ 5, 17, 19,  7,  6, 20])\n",
    "    output: mass = ['13,8', '700', '0']\n",
    "    '''\n",
    "    # list of variables\n",
    "    mass = []\n",
    "    # if comma is detected swich to 1\n",
    "    comma = 0\n",
    "    # temporary helper variable\n",
    "    save = string[0]\n",
    "    # loop over char in string\n",
    "    for i, char in enumerate(string[1:]):\n",
    "        # if char is comma -> add char and reuse dist on ith position\n",
    "        if char == ',':\n",
    "            save = save + char\n",
    "            dist[i] = thresh_val - 1\n",
    "            comma = 1\n",
    "        # check if current dist is bigger than threshold -> add to list of variables\n",
    "        else:\n",
    "            if dist[i-comma] <= thresh_val:\n",
    "                save = save + char\n",
    "            else:\n",
    "                mass.append(save)\n",
    "                save = char\n",
    "    # add last variable\n",
    "    mass.append(save)\n",
    "    \n",
    "    return mass"
   ]
  },
  {
   "cell_type": "code",
   "execution_count": 22,
   "metadata": {},
   "outputs": [
    {
     "data": {
      "text/plain": [
       "['13,8', '700', '0']"
      ]
     },
     "execution_count": 22,
     "metadata": {},
     "output_type": "execute_result"
    }
   ],
   "source": [
    "string = '13,87000'\n",
    "dist = np.array([ 5, 17, 19,  7,  6, 20])\n",
    "pharse_string(string, dist, 17)"
   ]
  },
  {
   "cell_type": "code",
   "execution_count": 23,
   "metadata": {},
   "outputs": [
    {
     "data": {
      "text/plain": [
       "['14,51000', '0']"
      ]
     },
     "execution_count": 23,
     "metadata": {},
     "output_type": "execute_result"
    }
   ],
   "source": [
    "string = '14,510000'\n",
    "dist = np.array([ 2, 11, 10,  3,  4,  3, 11])\n",
    "pharse_string(string, dist, 10)"
   ]
  },
  {
   "cell_type": "markdown",
   "metadata": {},
   "source": [
    "### try"
   ]
  },
  {
   "cell_type": "code",
   "execution_count": 17,
   "metadata": {},
   "outputs": [],
   "source": [
    "# invert binary\n",
    "img = cv2.bitwise_not(img_thresh)\n",
    "# cut the mass\n",
    "img = ocr.cut_feature(img, \"mass\")\n",
    "# get boundries of detected characters\n",
    "rects = ocr.find_objects(img)\n",
    "# convert to numpy array\n",
    "rects = np.asarray(rects)"
   ]
  },
  {
   "cell_type": "code",
   "execution_count": 28,
   "metadata": {
    "scrolled": false
   },
   "outputs": [
    {
     "data": {
      "text/plain": [
       "array([[ 869,  473,    9,   21],\n",
       "       [1031,  439,   15,   61],\n",
       "       [ 732,  439,    8,   43],\n",
       "       [ 311,  439,    8,   43],\n",
       "       [1285,  438,   39,   62],\n",
       "       [1196,  438,   35,   45],\n",
       "       [1146,  438,   39,   62],\n",
       "       [1057,  438,   35,   45],\n",
       "       [ 751,  438,   35,   45],\n",
       "       [ 549,  438,   37,   44],\n",
       "       [1627,  437,   36,   45],\n",
       "       [1578,  437,   40,   47],\n",
       "       [1534,  437,   36,   45],\n",
       "       [1485,  437,   41,   47],\n",
       "       [1397,  437,   38,   46],\n",
       "       [1356,  437,   36,   47],\n",
       "       [1242,  437,   36,   45],\n",
       "       [1103,  437,   36,   45],\n",
       "       [1010,  437,   22,   45],\n",
       "       [ 962,  437,   40,   47],\n",
       "       [ 797,  437,   59,   45],\n",
       "       [ 686,  437,   36,   45],\n",
       "       [ 640,  437,   36,   45],\n",
       "       [ 591,  437,   40,   47],\n",
       "       [ 503,  437,   40,   47],\n",
       "       [ 374,  437,   40,   47],\n",
       "       [ 348,  426,   20,   57],\n",
       "       [ 325,  426,   20,   57],\n",
       "       [1078,  423,    8,    9],\n",
       "       [1065,  423,    7,    9],\n",
       "       [1441,  422,   36,   60],\n",
       "       [1038,  422,    8,    9],\n",
       "       [ 910,  422,   52,   60],\n",
       "       [ 732,  422,    8,    9],\n",
       "       [ 447,  422,   49,   60],\n",
       "       [ 311,  422,    8,    9],\n",
       "       [ 242,  422,   58,   60],\n",
       "       [1041,  330,   40,   59],\n",
       "       [ 994,  329,   41,   60],\n",
       "       [ 930,  329,   22,   58],\n",
       "       [ 855,  329,   41,   60],\n",
       "       [ 785,  329,   41,   60],\n",
       "       [ 647,  329,   40,   60],\n",
       "       [ 601,  329,   40,   60],\n",
       "       [ 485,  329,   40,   60],\n",
       "       [ 438,  329,   40,   60],\n",
       "       [ 717,  328,   40,   59],\n",
       "       [ 554,  328,   40,   59],\n",
       "       [ 392,  328,   40,   59],\n",
       "       [ 303,  327,   58,   60],\n",
       "       [ 243,  327,   50,   60]])"
      ]
     },
     "execution_count": 28,
     "metadata": {},
     "output_type": "execute_result"
    }
   ],
   "source": [
    "rects"
   ]
  },
  {
   "cell_type": "code",
   "execution_count": 19,
   "metadata": {},
   "outputs": [
    {
     "data": {
      "text/plain": [
       "1"
      ]
     },
     "execution_count": 19,
     "metadata": {},
     "output_type": "execute_result"
    }
   ],
   "source": [
    "info.count('nutz')"
   ]
  },
  {
   "cell_type": "code",
   "execution_count": 20,
   "metadata": {},
   "outputs": [
    {
     "data": {
      "text/plain": [
       "4.592592592592593"
      ]
     },
     "execution_count": 20,
     "metadata": {},
     "output_type": "execute_result"
    }
   ],
   "source": [
    "rects[:,3].max()/(rects[:,3].min()*1.5)"
   ]
  },
  {
   "cell_type": "code",
   "execution_count": null,
   "metadata": {},
   "outputs": [],
   "source": []
  },
  {
   "cell_type": "code",
   "execution_count": 53,
   "metadata": {},
   "outputs": [],
   "source": [
    "def find_row_corrdinates(rows_pos):\n",
    "    rows = []\n",
    "    temp = []\n",
    "    x = rows_pos[0]\n",
    "    for cor in rows_pos:\n",
    "        if (cor < x * 1.1) & (cor > x * 0.9):\n",
    "            temp.append(cor)\n",
    "        else:\n",
    "            rows.append(int(sum(temp) / len(temp)))\n",
    "            x = cor\n",
    "            temp = []\n",
    "    rows.append(int(sum(temp) / len(temp)))\n",
    "    return(np.array(rows))"
   ]
  },
  {
   "cell_type": "code",
   "execution_count": 37,
   "metadata": {},
   "outputs": [],
   "source": []
  },
  {
   "cell_type": "code",
   "execution_count": 38,
   "metadata": {},
   "outputs": [],
   "source": [
    "# filter small points\n",
    "rect_max_hight = rects[:,3].max()\n",
    "rec_fil = rects[rect_max_hight/rects[:,3] < rect_max_hight/(rects[:,3].min()*1.5)]\n",
    "# get lower coordinates\n",
    "rec_fil[:,1] = rec_fil[:,1] + rec_fil[:,3]\n",
    "# get unique row positions\n",
    "rows_pos = np.sort(np.unique(rec_fil[:,1]))\n",
    "# filter noise\n",
    "rows_pos = find_row_corrdinates(rows_pos)"
   ]
  },
  {
   "cell_type": "code",
   "execution_count": null,
   "metadata": {},
   "outputs": [],
   "source": []
  },
  {
   "cell_type": "code",
   "execution_count": 39,
   "metadata": {},
   "outputs": [
    {
     "data": {
      "text/plain": [
       "array([388, 490])"
      ]
     },
     "execution_count": 39,
     "metadata": {},
     "output_type": "execute_result"
    }
   ],
   "source": [
    "rows_pos"
   ]
  },
  {
   "cell_type": "code",
   "execution_count": 116,
   "metadata": {},
   "outputs": [],
   "source": [
    "# filter only nutzungs row\n",
    "rec_fil_fil = rec_fil[np.where((rec_fil[:,1] <= rows_pos[1]*1.05) & (rec_fil[:,1] >= rows_pos[1]*0.95))]"
   ]
  },
  {
   "cell_type": "code",
   "execution_count": 117,
   "metadata": {},
   "outputs": [
    {
     "name": "stdout",
     "output_type": "stream",
     "text": [
      "514.5\n",
      "465.5\n",
      "-----------------------\n",
      "407.40000000000003\n",
      "368.59999999999997\n"
     ]
    }
   ],
   "source": [
    "print(490*1.05)\n",
    "print(490*0.95)\n",
    "print('-----------------------')\n",
    "print(388*1.05)\n",
    "print(388*0.95)"
   ]
  },
  {
   "cell_type": "code",
   "execution_count": 118,
   "metadata": {},
   "outputs": [
    {
     "data": {
      "text/plain": [
       "array([[1125,  324,    9,   21],\n",
       "       [1984,  312,    8,   43],\n",
       "       [1711,  312,    8,   43],\n",
       "       [ 988,  312,    8,   43],\n",
       "       [ 567,  312,    8,   43],\n",
       "       [2000,  330,   39,   62],\n",
       "       [1597,  330,   39,   62],\n",
       "       [1507,  313,   35,   45],\n",
       "       [1007,  313,   35,   45],\n",
       "       [ 805,  312,   37,   44],\n",
       "       [ 374,  330,   39,   62],\n",
       "       [1885,  313,   42,   46],\n",
       "       [1818,  312,   59,   45],\n",
       "       [1727,  313,   38,   46],\n",
       "       [1663,  314,   40,   47],\n",
       "       [1554,  312,   36,   45],\n",
       "       [1436,  314,   40,   47],\n",
       "       [1345,  312,   36,   45],\n",
       "       [1297,  313,   42,   46],\n",
       "       [1232,  314,   40,   47],\n",
       "       [1053,  312,   59,   45],\n",
       "       [ 942,  312,   36,   45],\n",
       "       [ 896,  312,   36,   45],\n",
       "       [ 847,  314,   40,   47],\n",
       "       [ 759,  314,   40,   47],\n",
       "       [ 630,  314,   40,   47],\n",
       "       [ 331,  312,   36,   45],\n",
       "       [ 282,  313,   42,   46],\n",
       "       [ 215,  312,   36,   45],\n",
       "       [ 605,  313,   20,   57],\n",
       "       [ 581,  313,   20,   57],\n",
       "       [1771,  312,   36,   60],\n",
       "       [1646,  312,    8,   60],\n",
       "       [1388,  314,   39,   62],\n",
       "       [1280,  312,    8,   60],\n",
       "       [ 703,  312,   49,   60],\n",
       "       [ 499,  312,   58,   60],\n",
       "       [ 155,  312,   53,   60],\n",
       "       [1937,  313,   37,   62],\n",
       "       [1168,  314,   55,   63],\n",
       "       [ 257,  312,   21,   61]])"
      ]
     },
     "execution_count": 118,
     "metadata": {},
     "output_type": "execute_result"
    }
   ],
   "source": [
    "rec_fil_fil"
   ]
  },
  {
   "cell_type": "code",
   "execution_count": null,
   "metadata": {},
   "outputs": [],
   "source": [
    "for rect in rects:\n",
    "    "
   ]
  },
  {
   "cell_type": "code",
   "execution_count": null,
   "metadata": {},
   "outputs": [],
   "source": []
  },
  {
   "cell_type": "code",
   "execution_count": null,
   "metadata": {},
   "outputs": [],
   "source": []
  },
  {
   "cell_type": "code",
   "execution_count": 30,
   "metadata": {},
   "outputs": [],
   "source": [
    "# filter only nutzungs row\n",
    "rec_fil_fil = rec_fil[np.where(rec_fil[:,1] == rows_pos[0])]"
   ]
  },
  {
   "cell_type": "code",
   "execution_count": 45,
   "metadata": {},
   "outputs": [
    {
     "data": {
      "text/plain": [
       "287.5"
      ]
     },
     "execution_count": 45,
     "metadata": {},
     "output_type": "execute_result"
    }
   ],
   "source": [
    "rec_fil[-1][1] + rec_fil[-1][1] * 0.15"
   ]
  },
  {
   "cell_type": "code",
   "execution_count": null,
   "metadata": {},
   "outputs": [],
   "source": []
  },
  {
   "cell_type": "code",
   "execution_count": 47,
   "metadata": {},
   "outputs": [],
   "source": [
    "# filter only nutzungs row\n",
    "rec_fil_fil = rec_fil[np.where((rec_fil[:,1] <= rec_fil[-1][1] + rec_fil[-1][1] * 0.15) & (rec_fil[:,1] >= rec_fil[-1][1] - rec_fil[-1][1] * 0.15))]"
   ]
  },
  {
   "cell_type": "code",
   "execution_count": 48,
   "metadata": {},
   "outputs": [
    {
     "data": {
      "text/plain": [
       "array([[824, 252,  40,  59],\n",
       "       [777, 252,  41,  60],\n",
       "       [638, 252,  41,  60],\n",
       "       [574, 250,  22,  58],\n",
       "       [430, 252,  40,  60],\n",
       "       [384, 252,  39,  60],\n",
       "       [314, 252,  40,  60],\n",
       "       [707, 250,  42,  59],\n",
       "       [500, 250,  40,  59],\n",
       "       [244, 250,  42,  60],\n",
       "       [184, 250,  49,  60]])"
      ]
     },
     "execution_count": 48,
     "metadata": {},
     "output_type": "execute_result"
    }
   ],
   "source": [
    "rec_fil_fil"
   ]
  },
  {
   "cell_type": "code",
   "execution_count": 32,
   "metadata": {},
   "outputs": [],
   "source": [
    "# sort\n",
    "a = rec_fil_fil.copy()\n",
    "a.view('i8,i8,i8,i8').sort(order=['f1'], axis=0)"
   ]
  },
  {
   "cell_type": "code",
   "execution_count": 33,
   "metadata": {},
   "outputs": [
    {
     "data": {
      "text/plain": [
       "array([[ 648,  475,   28,   39],\n",
       "       [ 685,  475,   24,   39],\n",
       "       [ 729,  475,   15,   39],\n",
       "       [ 759,  475,   24,   40],\n",
       "       [ 801,  475,   25,   40],\n",
       "       [ 845,  475,   27,   39],\n",
       "       [ 877,  475,   25,   40],\n",
       "       [ 908,  475,   25,   40],\n",
       "       [ 953,  475,   25,   40],\n",
       "       [ 998,  475,   26,   40],\n",
       "       [1043,  475,   24,   40],\n",
       "       [1086,  475,   29,   39],\n",
       "       [1133,  475,   24,   40],\n",
       "       [1165,  475,   25,   39]])"
      ]
     },
     "execution_count": 33,
     "metadata": {},
     "output_type": "execute_result"
    }
   ],
   "source": [
    "a"
   ]
  },
  {
   "cell_type": "code",
   "execution_count": 36,
   "metadata": {},
   "outputs": [],
   "source": [
    "a2 = a[2:-5]"
   ]
  },
  {
   "cell_type": "code",
   "execution_count": 87,
   "metadata": {},
   "outputs": [],
   "source": [
    "pos_x = a2[:,0,].copy()"
   ]
  },
  {
   "cell_type": "code",
   "execution_count": 88,
   "metadata": {},
   "outputs": [
    {
     "data": {
      "text/plain": [
       "array([729, 759, 801, 845, 877, 908, 953])"
      ]
     },
     "execution_count": 88,
     "metadata": {},
     "output_type": "execute_result"
    }
   ],
   "source": [
    "pos_x"
   ]
  },
  {
   "cell_type": "code",
   "execution_count": 48,
   "metadata": {},
   "outputs": [
    {
     "data": {
      "text/plain": [
       "array([[729, 475,  15,  39],\n",
       "       [759, 475,  24,  40],\n",
       "       [801, 475,  25,  40],\n",
       "       [845, 475,  27,  39],\n",
       "       [877, 475,  25,  40],\n",
       "       [908, 475,  25,  40],\n",
       "       [953, 475,  25,  40]])"
      ]
     },
     "execution_count": 48,
     "metadata": {},
     "output_type": "execute_result"
    }
   ],
   "source": [
    "a2"
   ]
  },
  {
   "cell_type": "code",
   "execution_count": 59,
   "metadata": {},
   "outputs": [
    {
     "name": "stdout",
     "output_type": "stream",
     "text": [
      "5\n",
      "17\n",
      "19\n",
      "7\n",
      "6\n",
      "20\n"
     ]
    }
   ],
   "source": [
    "for i in range(a2.shape[0]-1):\n",
    "    print(a2[i+1,0] - (a2[i,0] + int(width_m)))"
   ]
  },
  {
   "cell_type": "code",
   "execution_count": null,
   "metadata": {},
   "outputs": [],
   "source": []
  },
  {
   "cell_type": "code",
   "execution_count": 57,
   "metadata": {},
   "outputs": [],
   "source": [
    "width_m = np.median(a2[:,2,])"
   ]
  },
  {
   "cell_type": "code",
   "execution_count": 58,
   "metadata": {},
   "outputs": [
    {
     "data": {
      "text/plain": [
       "25.0"
      ]
     },
     "execution_count": 58,
     "metadata": {},
     "output_type": "execute_result"
    }
   ],
   "source": [
    "width_m"
   ]
  },
  {
   "cell_type": "code",
   "execution_count": 89,
   "metadata": {},
   "outputs": [],
   "source": [
    "diff = pos_x[1:] - (pos_x[:-1]+int(width_m))"
   ]
  },
  {
   "cell_type": "code",
   "execution_count": 90,
   "metadata": {},
   "outputs": [
    {
     "data": {
      "text/plain": [
       "array([ 5, 17, 19,  7,  6, 20])"
      ]
     },
     "execution_count": 90,
     "metadata": {},
     "output_type": "execute_result"
    }
   ],
   "source": [
    "diff"
   ]
  },
  {
   "cell_type": "code",
   "execution_count": null,
   "metadata": {},
   "outputs": [],
   "source": [
    "def get_spaces(img_thresh): # public\n",
    "        '''\n",
    "            get spaces between maßnahmen code\n",
    "        '''\n",
    "        # invert binary\n",
    "        img = cv2.bitwise_not(self.img_thresh)\n",
    "        # cut the mass\n",
    "        img = self.cut_feature(img, \"mass\")\n",
    "        # get boundries of detected characters\n",
    "        rects = self.find_objects(img)\n",
    "        # convert to numpy array\n",
    "        rects = np.asarray(rects)\n",
    "\n",
    "### TODO dont filter commas\n",
    "\n",
    "        # filter noise (small points)\n",
    "        rec_fil = rects[rects[:,3] > np.mean(rects[:,3])/2]\n",
    "        # get amount of Nutzungsmaßnahmen\n",
    "        rec_fil[:,1] = rec_fil[:,1] + rec_fil[:,3]\n",
    "        # get unique row positions\n",
    "        rows_pos = np.sort(np.unique(rec_fil[:,1]))\n",
    "\n",
    "        spaces = []\n",
    "\n",
    "        for i in range(0, rows_pos.size-1, 2):\n",
    "            # filter only nutzungs row\n",
    "            rec_fil_fil = rec_fil[np.where(rec_fil[:,1] == rows_pos[i])]\n",
    "            # invert array on first column\n",
    "            rec_fil_fil.view('i8,i8,i8,i8').sort(order=['f1'], axis=0)\n",
    "            # position of char on x-axis -> column 0\n",
    "            pos_x = rec_fil_fil[:,0,].copy()\n",
    "            # median width > column 2\n",
    "            width_m = np.median(rec_fil_fil[:,2,])\n",
    "            # space (pixels) between characters\n",
    "            diff = pos_x[1:] - (pos_x[:-1]+int(width_m))\n",
    "            # use otsu algorithm to obtain the best threshold value\n",
    "            thresh_val = self.otsu(diff)\n",
    "\n",
    "            diff[np.where(diff < thresh_val)] = 0\n",
    "            diff[np.where(diff >= thresh_val)] = 1\n",
    "\n",
    "            spaces.append(diff)\n",
    "\n",
    "### TODO add possibitity for 2 or more Maßnahmen and one without text\n",
    "\n",
    "        ## search for commas\n",
    "        # get Maßnahme\n",
    "        mass = self.get_text(\"mass\")\n",
    "        mass = mass.splitlines()\n",
    "    ### TODO\n",
    "        # find commas\n",
    "        idx_comma = mass[0].find(',')\n",
    "        # change space to no space\n",
    "        spaces[0][idx_comma-1] = 0\n",
    "        # add no space, since comma is not recognised as char\n",
    "        spaces[0] = np.insert(spaces[0],3,0)\n",
    "\n",
    "        return(spaces)\n"
   ]
  },
  {
   "cell_type": "code",
   "execution_count": null,
   "metadata": {},
   "outputs": [],
   "source": []
  },
  {
   "cell_type": "code",
   "execution_count": 12,
   "metadata": {},
   "outputs": [],
   "source": [
    "def from_string(ma_as_str, spaces):\n",
    "    # split lines\n",
    "    ma = ma_as_str.splitlines()\n",
    "    nutz = ma[0].replace(\" \", \"\")\n",
    "    l = []\n",
    "    ch = \"\"\n",
    "\n",
    "    for i in range(len(nutz)):\n",
    "\n",
    "        if i == 0:\n",
    "            ch = nutz[i]\n",
    "        elif i == len(nutz)-1:\n",
    "            l.append(ch + nutz[i])\n",
    "        elif spaces[0][i-1] == 0:\n",
    "            ch = ch + nutz[i]\n",
    "        elif spaces[0][i-1] == 1:\n",
    "            l.append(ch)\n",
    "            ch = nutz[i]\n",
    "    l.append(ma[1])\n",
    "    return l"
   ]
  },
  {
   "cell_type": "code",
   "execution_count": 17,
   "metadata": {},
   "outputs": [
    {
     "data": {
      "text/plain": [
       "['DF13,8700', '0', '2', '34', '35', 'El fördern u freistellen']"
      ]
     },
     "execution_count": 17,
     "metadata": {},
     "output_type": "execute_result"
    }
   ],
   "source": [
    "from_string(ma, spaces)"
   ]
  },
  {
   "cell_type": "code",
   "execution_count": 47,
   "metadata": {},
   "outputs": [
    {
     "data": {
      "text/plain": [
       "[array([0, 1, 0, 0, 1, 1, 1, 1, 1, 0, 0, 0, 1])]"
      ]
     },
     "execution_count": 47,
     "metadata": {},
     "output_type": "execute_result"
    }
   ],
   "source": [
    "spaces"
   ]
  },
  {
   "cell_type": "code",
   "execution_count": 47,
   "metadata": {},
   "outputs": [
    {
     "data": {
      "text/plain": [
       "['DF', '4,7', '300', '0', '2', '3', '4', '35', 'El Kronen freistellen']"
      ]
     },
     "execution_count": 47,
     "metadata": {},
     "output_type": "execute_result"
    }
   ],
   "source": [
    "ma = 'DF4,7300023435\\nEl Kronen freistellen'\n",
    "spaces = [np.array([0, 1, 0, 0, 1, 0, 0, 1, 1, 1, 1, 1, 0])]\n",
    "from_string(ma, spaces)"
   ]
  },
  {
   "cell_type": "code",
   "execution_count": 49,
   "metadata": {},
   "outputs": [
    {
     "data": {
      "text/plain": [
       "['DF', '473', '000', '2', '3', '4', '35', 'El Kronen freistellen']"
      ]
     },
     "execution_count": 49,
     "metadata": {},
     "output_type": "execute_result"
    }
   ],
   "source": [
    "ma = 'DF47300023435\\nEl Kronen freistellen'\n",
    "spaces = [np.array([0, 1, 0, 0, 1, 0, 0, 1, 1, 1, 1, 1, 0])]\n",
    "from_string(ma, spaces)"
   ]
  },
  {
   "cell_type": "code",
   "execution_count": 50,
   "metadata": {},
   "outputs": [
    {
     "data": {
      "text/plain": [
       "['DF', '4,7', '300', '0', '2', '1', '3', '4', '35', 'El Kronen freistellen']"
      ]
     },
     "execution_count": 50,
     "metadata": {},
     "output_type": "execute_result"
    }
   ],
   "source": [
    "# added 1 to spaces and ma\n",
    "ma = 'DF4,73000213435\\nEl Kronen freistellen'\n",
    "spaces = [np.array([0, 1, 0, 0, 1, 0, 0, 1, 1, 1, 1, 1, 1, 0])]\n",
    "from_string(ma, spaces)"
   ]
  },
  {
   "cell_type": "code",
   "execution_count": 51,
   "metadata": {},
   "outputs": [
    {
     "data": {
      "text/plain": [
       "['DF', '2', '1', '3', '4', '35', 'El Kronen freistellen']"
      ]
     },
     "execution_count": 51,
     "metadata": {},
     "output_type": "execute_result"
    }
   ],
   "source": [
    "# added 1 to spaces and ma\n",
    "ma = 'DF213435\\nEl Kronen freistellen'\n",
    "spaces = [np.array([0, 1, 1, 1, 1, 1, 1, 1, 0])]\n",
    "from_string(ma, spaces)"
   ]
  },
  {
   "cell_type": "code",
   "execution_count": null,
   "metadata": {},
   "outputs": [],
   "source": []
  },
  {
   "cell_type": "code",
   "execution_count": null,
   "metadata": {},
   "outputs": [],
   "source": []
  },
  {
   "cell_type": "code",
   "execution_count": null,
   "metadata": {},
   "outputs": [],
   "source": []
  },
  {
   "cell_type": "code",
   "execution_count": null,
   "metadata": {},
   "outputs": [],
   "source": []
  },
  {
   "cell_type": "code",
   "execution_count": null,
   "metadata": {},
   "outputs": [],
   "source": []
  },
  {
   "cell_type": "code",
   "execution_count": 9,
   "metadata": {},
   "outputs": [],
   "source": [
    "# split lines\n",
    "ma = ma.splitlines()"
   ]
  },
  {
   "cell_type": "code",
   "execution_count": 10,
   "metadata": {},
   "outputs": [
    {
     "data": {
      "text/plain": [
       "['DF4,7300023435', 'El Kronen freistellen']"
      ]
     },
     "execution_count": 10,
     "metadata": {},
     "output_type": "execute_result"
    }
   ],
   "source": [
    "ma"
   ]
  },
  {
   "cell_type": "code",
   "execution_count": 44,
   "metadata": {},
   "outputs": [],
   "source": [
    "l = []\n",
    "ch = \"\"\n",
    "\n",
    "for i in range(len(ma[0])):\n",
    "    \n",
    "    if i == 0:\n",
    "        ch = ma[0][i]\n",
    "    elif i == len(ma[0])-1:\n",
    "        l.append(ch + ma[0][i])\n",
    "    elif spaces[0][i-1] == 0:\n",
    "        ch = ch + ma[0][i]\n",
    "    elif spaces[0][i-1] == 1:\n",
    "        l.append(ch)\n",
    "        ch = ma[0][i]\n",
    "l.append(ma[1])"
   ]
  },
  {
   "cell_type": "code",
   "execution_count": 45,
   "metadata": {},
   "outputs": [
    {
     "data": {
      "text/plain": [
       "['DF', '4,7', '300', '0', '2', '3', '4', '35', 'El Kronen freistellen']"
      ]
     },
     "execution_count": 45,
     "metadata": {},
     "output_type": "execute_result"
    }
   ],
   "source": [
    "l"
   ]
  },
  {
   "cell_type": "code",
   "execution_count": null,
   "metadata": {},
   "outputs": [],
   "source": []
  },
  {
   "cell_type": "markdown",
   "metadata": {},
   "source": [
    "## BZ"
   ]
  },
  {
   "cell_type": "code",
   "execution_count": 10,
   "metadata": {},
   "outputs": [],
   "source": [
    "bz = \"3BU 4FI 3AH\""
   ]
  },
  {
   "cell_type": "code",
   "execution_count": 11,
   "metadata": {},
   "outputs": [],
   "source": [
    "bz = bz.split()"
   ]
  },
  {
   "cell_type": "code",
   "execution_count": 12,
   "metadata": {},
   "outputs": [
    {
     "data": {
      "text/plain": [
       "['3BU', '4FI', '3AH']"
      ]
     },
     "execution_count": 12,
     "metadata": {},
     "output_type": "execute_result"
    }
   ],
   "source": [
    "bz"
   ]
  },
  {
   "cell_type": "code",
   "execution_count": 13,
   "metadata": {},
   "outputs": [
    {
     "data": {
      "text/plain": [
       "'BU'"
      ]
     },
     "execution_count": 13,
     "metadata": {},
     "output_type": "execute_result"
    }
   ],
   "source": [
    "bz[0][-2:]"
   ]
  },
  {
   "cell_type": "code",
   "execution_count": 14,
   "metadata": {},
   "outputs": [
    {
     "data": {
      "text/plain": [
       "3"
      ]
     },
     "execution_count": 14,
     "metadata": {},
     "output_type": "execute_result"
    }
   ],
   "source": [
    "int(bz[0][:-2])"
   ]
  },
  {
   "cell_type": "code",
   "execution_count": 18,
   "metadata": {},
   "outputs": [],
   "source": [
    "bzs = []\n",
    "for b in bz:\n",
    "    bzs.append([int(b[:-2]),b[-2:]])"
   ]
  },
  {
   "cell_type": "code",
   "execution_count": 20,
   "metadata": {},
   "outputs": [
    {
     "name": "stdout",
     "output_type": "stream",
     "text": [
      "[2, 4, 6, 8]\n"
     ]
    }
   ],
   "source": [
    "# Return double of n \n",
    "def addition(n): \n",
    "    return n + n \n",
    "  \n",
    "# We double all numbers using map() \n",
    "numbers = (1, 2, 3, 4) \n",
    "result = map(addition, numbers) \n",
    "print(list(result))"
   ]
  },
  {
   "cell_type": "code",
   "execution_count": 21,
   "metadata": {},
   "outputs": [
    {
     "data": {
      "text/plain": [
       "['3BU', '4FI', '3AH']"
      ]
     },
     "execution_count": 21,
     "metadata": {},
     "output_type": "execute_result"
    }
   ],
   "source": [
    "bz"
   ]
  },
  {
   "cell_type": "code",
   "execution_count": 27,
   "metadata": {},
   "outputs": [],
   "source": [
    "def spliter(n):\n",
    "    return int(n[:-2]),n[-2:]\n",
    "result = map(spliter, bz)"
   ]
  },
  {
   "cell_type": "code",
   "execution_count": 28,
   "metadata": {},
   "outputs": [
    {
     "data": {
      "text/plain": [
       "<map at 0x7f13254cb190>"
      ]
     },
     "execution_count": 28,
     "metadata": {},
     "output_type": "execute_result"
    }
   ],
   "source": [
    "result"
   ]
  },
  {
   "cell_type": "code",
   "execution_count": 19,
   "metadata": {},
   "outputs": [
    {
     "data": {
      "text/plain": [
       "[[3, 'BU'], [4, 'FI'], [3, 'AH']]"
      ]
     },
     "execution_count": 19,
     "metadata": {},
     "output_type": "execute_result"
    }
   ],
   "source": [
    "bzs"
   ]
  },
  {
   "cell_type": "code",
   "execution_count": null,
   "metadata": {},
   "outputs": [],
   "source": []
  },
  {
   "cell_type": "code",
   "execution_count": 1,
   "metadata": {},
   "outputs": [],
   "source": [
    "from OCRData import BestZiel\n",
    "from OCRData import BAZiel"
   ]
  },
  {
   "cell_type": "code",
   "execution_count": 2,
   "metadata": {},
   "outputs": [],
   "source": [
    "ba1 = BAZiel(13, 'BU')\n",
    "ba2 = BAZiel(4, 'K')\n",
    "ba3 = BAZiel(3, 'LA')"
   ]
  },
  {
   "cell_type": "code",
   "execution_count": 3,
   "metadata": {},
   "outputs": [],
   "source": [
    "bz = BestZiel([ba1, ba2, ba3])"
   ]
  },
  {
   "cell_type": "code",
   "execution_count": null,
   "metadata": {},
   "outputs": [],
   "source": []
  },
  {
   "cell_type": "code",
   "execution_count": 8,
   "metadata": {},
   "outputs": [
    {
     "name": "stdout",
     "output_type": "stream",
     "text": [
      "3BI\n",
      "3\n",
      "BI\n",
      "4KI\n",
      "4\n",
      "KI\n",
      "3FI\n",
      "3\n",
      "FI\n"
     ]
    }
   ],
   "source": [
    "bz = BestZiel.from_string('3BI 4KI 3FI')"
   ]
  },
  {
   "cell_type": "code",
   "execution_count": 9,
   "metadata": {},
   "outputs": [
    {
     "data": {
      "text/plain": [
       "BestZiel(bz=[BAZiel(part=3, ba='BI', error=False), BAZiel(part=4, ba='KI', error=False), BAZiel(part=3, ba='FI', error=False)], error=False)"
      ]
     },
     "execution_count": 9,
     "metadata": {},
     "output_type": "execute_result"
    }
   ],
   "source": [
    "bz"
   ]
  },
  {
   "cell_type": "code",
   "execution_count": 10,
   "metadata": {},
   "outputs": [],
   "source": [
    "bz.check_attr()"
   ]
  },
  {
   "cell_type": "code",
   "execution_count": 11,
   "metadata": {},
   "outputs": [
    {
     "data": {
      "text/plain": [
       "BestZiel(bz=[BAZiel(part=3, ba='BI', error=False), BAZiel(part=4, ba='KI', error=False), BAZiel(part=3, ba='FI', error=False)], error=False)"
      ]
     },
     "execution_count": 11,
     "metadata": {},
     "output_type": "execute_result"
    }
   ],
   "source": [
    "bz"
   ]
  },
  {
   "cell_type": "code",
   "execution_count": null,
   "metadata": {},
   "outputs": [],
   "source": []
  },
  {
   "cell_type": "code",
   "execution_count": 6,
   "metadata": {},
   "outputs": [],
   "source": [
    "from OCRData import Text"
   ]
  },
  {
   "cell_type": "code",
   "execution_count": 9,
   "metadata": {},
   "outputs": [],
   "source": [
    "# get text\n",
    "txt = ocr.get_text('text')"
   ]
  },
  {
   "cell_type": "code",
   "execution_count": 10,
   "metadata": {},
   "outputs": [
    {
     "data": {
      "text/plain": [
       "Text(line0='ST im Süden breiter Rücken, am Rücken steinig mit STOE 71 und HD-Typ', line1='BE einige ES KB BU BI AH Kl, Elam Rücken, einige eingewachsene BU-El-Überhälter, ungleichaltrig +/- 10 Jahre, Ausschlagswald', line2='')"
      ]
     },
     "execution_count": 10,
     "metadata": {},
     "output_type": "execute_result"
    }
   ],
   "source": [
    "Text.from_string(txt)"
   ]
  },
  {
   "cell_type": "code",
   "execution_count": null,
   "metadata": {},
   "outputs": [],
   "source": []
  },
  {
   "cell_type": "code",
   "execution_count": 24,
   "metadata": {},
   "outputs": [],
   "source": [
    "from OCRData import Nutz"
   ]
  },
  {
   "cell_type": "code",
   "execution_count": 46,
   "metadata": {},
   "outputs": [],
   "source": [
    "nutz = Nutz(ma=l[0], v_lh=int(l[2]), v_nh=int(l[3]), dring=int(l[4]), behoerde=0, zeitp=int(l[5]), \\\n",
    "            schlaeg=int(l[6]), rueck=int(l[7]), text=l[8])"
   ]
  },
  {
   "cell_type": "code",
   "execution_count": 47,
   "metadata": {},
   "outputs": [
    {
     "data": {
      "text/plain": [
       "['DF', '4,7', '300', '0', '2', '3', '4', '35', 'El Kronen freistellen']"
      ]
     },
     "execution_count": 47,
     "metadata": {},
     "output_type": "execute_result"
    }
   ],
   "source": [
    "l"
   ]
  },
  {
   "cell_type": "code",
   "execution_count": 48,
   "metadata": {},
   "outputs": [
    {
     "data": {
      "text/plain": [
       "Nutz(ma='DF', area=0.0, v_lh=300, v_nh=0, dring=2, behoerde=0, zeitp=3, schlaeg=4, rueck=35, text='El Kronen freistellen', error=False)"
      ]
     },
     "execution_count": 48,
     "metadata": {},
     "output_type": "execute_result"
    }
   ],
   "source": [
    "nutz"
   ]
  },
  {
   "cell_type": "code",
   "execution_count": 49,
   "metadata": {},
   "outputs": [],
   "source": [
    "nutz.check_attr()"
   ]
  },
  {
   "cell_type": "code",
   "execution_count": 50,
   "metadata": {},
   "outputs": [
    {
     "data": {
      "text/plain": [
       "Nutz(ma='DF', area=0.0, v_lh=300, v_nh=0, dring=2, behoerde=0, zeitp=3, schlaeg=4, rueck=35, text='El Kronen freistellen', error=True)"
      ]
     },
     "execution_count": 50,
     "metadata": {},
     "output_type": "execute_result"
    }
   ],
   "source": [
    "nutz"
   ]
  },
  {
   "cell_type": "code",
   "execution_count": null,
   "metadata": {},
   "outputs": [],
   "source": []
  },
  {
   "cell_type": "code",
   "execution_count": null,
   "metadata": {},
   "outputs": [],
   "source": []
  }
 ],
 "metadata": {
  "kernelspec": {
   "display_name": "autax_rec",
   "language": "python",
   "name": "autax_rec"
  },
  "language_info": {
   "codemirror_mode": {
    "name": "ipython",
    "version": 3
   },
   "file_extension": ".py",
   "mimetype": "text/x-python",
   "name": "python",
   "nbconvert_exporter": "python",
   "pygments_lexer": "ipython3",
   "version": "3.7.4"
  }
 },
 "nbformat": 4,
 "nbformat_minor": 4
}
