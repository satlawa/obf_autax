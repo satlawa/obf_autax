{
 "cells": [
  {
   "cell_type": "code",
   "execution_count": 1,
   "metadata": {},
   "outputs": [],
   "source": [
    "import pdftotext"
   ]
  },
  {
   "cell_type": "code",
   "execution_count": 2,
   "metadata": {},
   "outputs": [],
   "source": [
    "path_in = '/home/philipp/Data/obf_autman/pdf/Manuale_Johannklause_20201109.pdf'"
   ]
  },
  {
   "cell_type": "code",
   "execution_count": 3,
   "metadata": {},
   "outputs": [],
   "source": [
    "def other_tool(filename, end):\n",
    "    data = []\n",
    "    with open(filename, \"rb\") as f:\n",
    "        pdf = pdftotext.PDF(f)  \n",
    "    for i, page in enumerate(pdf) :\n",
    "        data.append({'page': i , 'content': page})\n",
    "        if i == end:\n",
    "            break\n",
    "    return data"
   ]
  },
  {
   "cell_type": "code",
   "execution_count": 4,
   "metadata": {},
   "outputs": [],
   "source": [
    "path_in = '/home/philipp/Data/obf_autman/pdf/20201203_PD_Manuale_Pernitz_test.pdf'"
   ]
  },
  {
   "cell_type": "code",
   "execution_count": 5,
   "metadata": {},
   "outputs": [],
   "source": [
    "pdf_data = other_tool(path_in, 15)"
   ]
  },
  {
   "cell_type": "code",
   "execution_count": 6,
   "metadata": {},
   "outputs": [
    {
     "data": {
      "text/plain": [
       "[{'page': 0,\n",
       "  'content': '  Bestandesbeschreibung\\n\\n\\nFB 171 Forstbetrieb Wienerwald\\n\\n\\n          FR 12 Pernitz\\n\\n\\n\\n\\n        Abt. 201 A - 307 P2\\n\\n\\n\\n\\n         Laufzeit 2021 - 2030\\n\\n\\n               Operat\\n\\n\\n           Teiloperat 1310\\n\\x0c'},\n",
       " {'page': 1,\n",
       "  'content': ' FB 171\\n FR 12\\n          Forstbetrieb Wienerwald\\n          Pernitz\\n                                                        Druckdatum: 03.05.2020             BKL       Umtrieb        Wirtschaftswald\\n                                                                                                                                                   201 A 0\\n TO: 1310 Laufzeit: 01.01.2021- 31.12.2030\\n                                                         Seite 1 von 828                  9040         160          in Ertrag\\n                                                                                                                                                              3,03 ha\\n    Seeh [m]         Exp        Neig [%]         Neig [°]         STOE              VTYP          Wald-Typ       Wuchs-Geb. Verbissgrad           Schälgrad       fr.SS\\n      700            W            36               20               26               SL                               5.1                           s.u.\\n    SWP-Nr      SWP Bez                                                    Schlussgrad [%]        Best.Stab.       Vjg.Bed.     Vjg.Situation       EBZ           Sel.Vb\\n\\n\\n     S%        ALT   BA% BA     EKL        BGD     Vfm/ha       G IST     SchälGd.                                                     LH [Vfm]      NH [Vfm]      SU [Vfm]\\n     40        141   50    KI    4         0,4      62,28        6,76        0                   Alt/Ort                                100,96        450,95         551,91\\n     40        141   30    SK    3         0,4      21,26        2,82        0                   Neu/Ort                                124,74        491,92         616,66\\n     40        141   10    BU    3         0,4      12,75        1,3         0                   Alt/Ha                                  33,32        148,83         182,15\\n     40        141   10    FI    4         0,4      15,07        1,63        0                   Neu/Ha                                  41,17        162,35         203,52\\n     30        91    50    KI    4         0,3      39,42        4,72        0                   Grundfläche/Ha                           5,94          20,60         26,54\\n     30        91    20    AH    3         0,3      13,56        1,74        0                   Zuwachs/Ort                             23,78          40,97         64,75\\n     30        91    10    FI    4         0,3      8,78         1,11        0                   Überhälter                               0,00             0,00        0,00\\n     30        91    10    SK    3         0,3      4,96         0,69        0                   Bestockungsziel: 4LA 3BU 3SK\\n     30        91    10    BU    3         0,3      6,78         0,87        0                   Pflegeziel:        #BZ 4LA 3BU 3AH#\\n\\n\\nST     Im SW steiler\\nBE     Alte Pechnutzung an SK; einz TA; LH hpts in Gräben; ein AH; im S mehr SK; im N einz schöne LÄ; ungleichaltrig;\\nstk    vergrast; leicht verkrautet,\\nMA     Belassen; BZ: 3SK 2LÄ 3BU 2AH\\n\\nS      MA      Afl.[Ha] LH [Efm] NH [Efm]          SU        Dringlichkeit           Behörde                   Zeitpunkt         Schlägerung               Rückung\\n\\n\\n\\n                #N PL 1,5 40 80 1 2 3 1 30 Abgabe an Setvitut #\\n\\n\\n\\n\\nSumme\\n\\n\\n\\nKategorie Art                          Fläche [ha]          LH [Efm]     NH [Efm]    Pflanzen         Samen        Zeit     Waldfunktionen\\n\\n\\n\\n                                                                                                                                  #SWE Gelb #\\n          #ST steil #\\n          #BE Alte Pechnutzung, kaum VJ #\\n          #MA PL, VJ Einleiten #\\n\\x0c'},\n",
       " {'page': 2,\n",
       "  'content': ' FB 171\\n FR 12\\n          Forstbetrieb Wienerwald\\n          Pernitz\\n                                                                   Druckdatum: 03.05.2020               BKL       Umtrieb          Wirtschaftswald\\n                                                                                                                                                                    201 B 1\\n TO: 1310 Laufzeit: 01.01.2021- 31.12.2030\\n                                                                    Seite 2 von 828                   9040          160            in Ertrag\\n                                                                                                                                                                               2,78 ha\\n    Seeh [m]           Exp               Neig [%]           Neig [°]         STOE                VTYP          Wald-Typ       Wuchs-Geb. Verbissgrad               Schälgrad        fr.SS\\n      600              NW                  70                 35                 14               E                                 5.1                              s.u.\\n    SWP-Nr       SWP Bez                                                                Schlussgrad [%]        Best.Stab.       Vjg.Bed.       Vjg.Situation         EBZ            Sel.Vb\\n                                                                   #STOE 11 #\\n\\n\\n     S%        ALT     BA% BA            EKL        BGD       Vfm/ha       G IST       SchälGd.                                                      LH [Vfm]         NH [Vfm]       SU [Vfm]\\n     71        216         50   SK        3           0,5      44,75        5,9           0                   Alt/Ort                                      49,15       254,21         303,36\\n     71        216         30   KI        2           0,5      24,6         3,71          0                   Neu/Ort                                      53,80       267,03         320,83\\n     71        216         10   FI        4           0,5      19,85        2,06          0                   Alt/Ha                                       17,68         91,44        109,12\\n     71        216         10   BU        3           0,5      16,6         1,64          0                   Neu/Ha                                       19,35         96,05        115,40\\n     29         31         40   SK        3           0,2      5,47         1,35          0                   Grundfläche/Ha                                2,21         13,78         15,99\\n     29         31         40   ME        3           0,2      2,75         0,57          0                   Zuwachs/Ort                                   4,65         12,82         17,47\\n     29         31         20   FI        4           0,2      1,38         0,76          0                   Überhälter                                    0,00            0,00         0,00\\n\\n                                                                                                              Bestockungsziel: 7SK 2BU 1KI\\n                                                                                                              Pflegeziel:\\n                                                                                                                                          #BZ 4KI 4BU 2AH#\\n\\n\\nBE      Einz BU, AH, MB, ein FI-NJVG-Horste, SK geharzt, Str-Nähe vl AH-Vjg, stk vergrast, leicht verkrautet\\nMA     Erg mit LÄ in Lücke, extensive Bewirtschaftung, im O belassen; BZ: 7SK 1KI 2BU\\n\\n\\n\\nS      MA       Afl.[Ha] LH [Efm] NH [Efm]                    SU        Dringlichkeit             Behörde                   Zeitpunkt           Schlägerung                 Rückung\\n1      ZN            1,4                        150          150             2                          1                      2                       1                       20\\nim W, FI und geharzte SK entnehmen\\n1      ZE                            5           20           25             3                          1                      2                       1                       10\\n\\n\\n                     #N LI 1,1 50 30 2 1 3 1 30 steil, mit Schlepper oder Traktor #\\n\\n\\n\\nSumme                1,4             5          170          175\\n\\n\\n\\nKategorie Art                                     Fläche [ha]          LH [Efm]       NH [Efm]    Pflanzen         Samen        Zeit      Waldfunktionen\\n\\nPflege         WP Best.Begr. Schlagräum                      1,3                                                              2012\\n\\n\\n\\n                                                                                                                                                     #SWE Grün\\n                                                                                                                                                     #\\n\\n\\n            #ST sehr Seichtgründig, vergrast #\\n            #BE mehrschichtig, ungleichalte VJ, ungleichmäßig bestockt #\\n            #MA Altholz Nutzen, VJ gördern: JF #\\n\\x0c'},\n",
       " {'page': 3,\n",
       "  'content': ' FB 171\\n FR 12\\n          Forstbetrieb Wienerwald\\n          Pernitz\\n                                                                   Druckdatum: 03.05.2020               BKL       Umtrieb          Wirtschaftswald\\n                                                                                                                                                                    201 B 2\\n TO: 1310 Laufzeit: 01.01.2021- 31.12.2030\\n                                                                    Seite 3 von 828                   9010          140            in Ertrag\\n                                                                                                                                                                               0,52 ha\\n    Seeh [m]           Exp                 Neig [%]         Neig [°]         STOE                VTYP          Wald-Typ       Wuchs-Geb. Verbissgrad               Schälgrad        fr.SS\\n      600                  N                 47               25                 26               B                                 5.1                              s.u.\\n    SWP-Nr       SWP Bez                                                                Schlussgrad [%]        Best.Stab.       Vjg.Bed.       Vjg.Situation         EBZ            Sel.Vb\\n\\n\\n     S%        ALT     BA% BA              EKL        BGD     Vfm/ha       G IST       SchälGd.                                                      LH [Vfm]         NH [Vfm]       SU [Vfm]\\n     100        96         65     KI        4          1      176,54       20,72          0                   Alt/Ort                                      26,91       105,38         132,29\\n     100        96         25     BU        3          1       60,2         7,38          0                   Neu/Ort                                      31,30       114,32         145,62\\n     100        96         10     FI        6          1       43,3         4,21          0                   Alt/Ha                                       51,75       202,65         254,40\\n                                                                                                              Neu/Ha                                       60,20       219,84         280,04\\n                                                                                                              Grundfläche/Ha                                7,38         24,93         32,31\\n                                                                                                              Zuwachs/Ort                                   4,39            8,94       13,33\\n                                                                                                              Überhälter                                    0,00            0,00         0,00\\n\\n                                                                                                              Bestockungsziel: 6KI 4BU\\n                                                                                                              Pflegeziel:                        #BZ 5KI 3BU 1AH\\n                                                                                                                                                 1LA #\\n\\n\\n\\n\\nBE     FI tlw zwiständig, leicht vergrast und leicht verkrautet, dfstet, einz ES, AH\\nMA     BZ: 6KI 4BU\\n\\n\\n\\nS      MA      Afl.[Ha] LH [Efm] NH [Efm]                     SU        Dringlichkeit             Behörde                   Zeitpunkt           Schlägerung                 Rückung\\n1      DF            0,5                          40          40             2                          1                      2                       1                       30\\nIm Dez.\\n\\n\\n\\n\\n                       #N 2 AF 0,3 0 0 0 1 1 1 0 0 LA in Blößen einbringen #\\n                       #N 1 ZE 0,0 10 50 3 1 1 3 1 30 #\\n\\n\\n\\n\\nSumme                0,5                          40          40\\n\\n\\n\\nKategorie Art                                      Fläche [ha]         LH [Efm]       NH [Efm]    Pflanzen         Samen        Zeit      Waldfunktionen\\n\\n\\n\\n\\n               #ST trocken #                                                                                                                           #SWE Rot #\\n               #BE aufgelichtet, einige Blößen, FI fallen zusehends aus #\\n               #MA Blößen mit LA Aufforstung, ZE #\\n\\n\\n\\n\\n                                #U 160 #\\n\\n\\n\\n\\n                            #W Standortschutzwald in Ertrag #\\n\\n\\n\\n\\n                                 #VTYP SL #\\n\\x0c'},\n",
       " {'page': 4,\n",
       "  'content': ' FB 171\\n FR 12\\n          Forstbetrieb Wienerwald\\n          Pernitz\\n                                                           Druckdatum: 03.05.2020               BKL       Umtrieb          Wirtschaftswald\\n                                                                                                                                                            201 B 3\\n TO: 1310 Laufzeit: 01.01.2021- 31.12.2030\\n                                                            Seite 4 von 828                   9010          140            in Ertrag\\n                                                                                                                                                                       1,98 ha\\n    Seeh [m]         Exp           Neig [%]         Neig [°]         STOE                VTYP          Wald-Typ       Wuchs-Geb. Verbissgrad               Schälgrad        fr.SS\\n      600            NW              58               30                 26               B                                 5.1                              s.u.\\n    SWP-Nr      SWP Bez                                                         Schlussgrad [%]        Best.Stab.       Vjg.Bed.       Vjg.Situation         EBZ            Sel.Vb\\n\\n\\n     S%        ALT   BA% BA        EKL        BGD     Vfm/ha       G IST       SchälGd.                                                      LH [Vfm]         NH [Vfm]       SU [Vfm]\\n    100        76        40   FI    5           1      120,4        14,6          0                   Alt/Ort                                      31,48       394,81         426,29\\n    100        76        40   KI    4           1      91,12       11,86          0                   Neu/Ort                                      40,76       463,91         504,67\\n    100        76        10   SK    4           1      22,78        2,72          0                   Alt/Ha                                       15,90       199,40         215,30\\n    100        76        5    BU    3           1      8,78         1,33          0                   Neu/Ha                                       20,59       234,30         254,89\\n    100        76        5    AH    4           1      11,81        1,47          0                   Grundfläche/Ha                                2,80         29,18         31,98\\n                                                                                                      Zuwachs/Ort                                   9,28         69,10         78,38\\n                                                                                                      Überhälter                                    0,00            0,00         0,00\\n\\n                                                                                                      Bestockungsziel: 4FI 4KI 2SK\\n                                                                                                                                            #PZ 6SK 2KI 2AH #\\n                                                                                                      Pflegeziel:\\n\\n\\n\\nBE Ein LÄ,\\n         #STdfstet     1987,amleicht\\n             kaum Vegetation                verkrautet,\\n                                  Boden durch  Dichtschluss # mäßig vergrast, ein ES, ein Wipfelbrüche, etw BU-FI-Unterwuchs, SK hpts\\nim SO    #BE hoher Kiefernsnteiö, einzeln LH beigemischt, FI langsam ausfallend #\\n         #MA belassen, nächstes Dez. LI #\\nMA BZ: 4KI 2SK 2FI 1AH 1BU\\n\\n\\nS      MA      Afl.[Ha] LH [Efm] NH [Efm]             SU        Dringlichkeit             Behörde                   Zeitpunkt           Schlägerung                 Rückung\\n1      DF            2                    100        100             2                          1                      2                       1                       30\\n1. Hälfte Dez, FI entnehmen\\n\\n\\n\\n\\n               #U 120 #\\n\\n\\n\\n\\nSumme                2                    100        100\\n\\n\\n\\nKategorie Art                               Fläche [ha]        LH [Efm]       NH [Efm]    Pflanzen         Samen        Zeit      Waldfunktionen\\n\\x0c'},\n",
       " {'page': 5,\n",
       "  'content': ' FB 171\\n FR 12\\n          Forstbetrieb Wienerwald\\n          Pernitz\\n                                                               Druckdatum: 03.05.2020              BKL       Umtrieb          Wirtschaftswald\\n                                                                                                                                                            201 B 4\\n TO: 1310 Laufzeit: 01.01.2021- 31.12.2030\\n                                                                Seite 5 von 828                   9010         140            in Ertrag\\n                                                                                                                                                                       0,4 ha\\n    Seeh [m]           Exp           Neig [%]          Neig [°]         STOE                VTYP          Wald-Typ       Wuchs-Geb. Verbissgrad            Schälgrad       fr.SS\\n      600              NW                70               35                25               SL                                5.1                           s.u.\\n    SWP-Nr       SWP Bez                                                           Schlussgrad [%]        Best.Stab.       Vjg.Bed.       Vjg.Situation      EBZ           Sel.Vb\\n\\n\\n     S%        ALT    BA% BA          EKL       BGD       Vfm/ha      G IST       SchälGd.                                                      LH [Vfm]      NH [Vfm]      SU [Vfm]\\n     100       36          70   KI     4         0,9       33,52      11,62          0                   Alt/Ort                                    0,00            7,92        7,92\\n     100       36          30   FI     5         0,9       24,89       6,34          0                   Neu/Ort                                    0,00         23,37        23,37\\n                                                                                                         Alt/Ha                                     0,00         19,80        19,80\\n                                                                                                         Neu/Ha                                     0,00         58,41        58,41\\n                                                                                                         Grundfläche/Ha                             0,00         17,96        17,96\\n                                                                                                         Zuwachs/Ort                                0,00         15,45        15,45\\n                                                                                                         Überhälter                                 0,00            0,00        0,00\\n\\n                                                                                                         Bestockungsziel: 7KI 2FI 1LA\\n                                                                                                         Pflegeziel:\\n\\n\\n\\n\\nBE     Ein LÄ, ungleichaltrig (+10/-5J), unten einz AH, stk vergrast, leicht verkrautet\\nMA     BZ: 8KI 2FI 1LÄ\\n\\n\\n\\nS      MA      Afl.[Ha] LH [Efm] NH [Efm]                 SU       Dringlichkeit             Behörde                   Zeitpunkt           Schlägerung              Rückung\\n1      DP            0,4                                                1                          1                      1\\nLA, KI fördern\\n\\n\\n\\n\\n                       #N 1 AS 0,1 0 0 1 1 1 0 0 FI niederschneiden\\n\\n\\n\\nSumme                0,4\\n\\n\\n\\nKategorie Art                                  Fläche [ha]        LH [Efm]       NH [Efm]    Pflanzen         Samen        Zeit      Waldfunktionen\\n\\n\\n\\n\\n                                        #BE FI sehr geringwüchsig#\\n                                        #MA FI AS #\\n                                        #STschlechte Bedingungen für FI #\\n\\n\\n\\n\\n                                     #VG 3 #\\n\\x0c'},\n",
       " {'page': 6,\n",
       "  'content': ' FB 171\\n FR 12\\n          Forstbetrieb Wienerwald\\n          Pernitz\\n                                                               Druckdatum: 03.05.2020             BKL       Umtrieb        Wirtschaftswald\\n                                                                                                                                                         201 B 5\\n TO: 1310 Laufzeit: 01.01.2021- 31.12.2030\\n                                                                Seite 6 von 828                  9040         160          in Ertrag\\n                                                                                                                                                                     1,43 ha\\n    Seeh [m]           Exp           Neig [%]          Neig [°]          STOE              VTYP          Wald-Typ       Wuchs-Geb. Verbissgrad          Schälgrad         fr.SS\\n      600              NW                 36              20               25               SL                               5.1                           s.u.\\n    SWP-Nr      SWP Bez                                                           Schlussgrad [%]        Best.Stab.       Vjg.Bed.     Vjg.Situation      EBZ             Sel.Vb\\n\\n\\n     S%        ALT     BA% BA         EKL       BGD      Vfm/ha        G IST     SchälGd.                                                    LH [Vfm]      NH [Vfm]        SU [Vfm]\\n    100        21       40     SK      3        0,8       10,18         4,14         0                  Alt/Ort                                  0,00              0,00        0,00\\n    100        21       25     FI      4        0,8            0        2,73         0                  Neu/Ort                                  1,74          14,96         16,70\\n    100        21       25     KI      3        0,8        0,28         1,83         0                  Alt/Ha                                   0,00              0,00        0,00\\n    100        21       10     ME      3        0,8        1,22         0,38         0                  Neu/Ha                                   1,22          10,46         11,68\\n                                                                                                        Grundfläche/Ha                           0,38              8,70        9,08\\n                                                                                                        Zuwachs/Ort                              1,74          14,96         16,70\\n                                                                                                        Überhälter                               0,00              0,00        0,00\\n\\n                                                                                                        Bestockungsziel: 5SK 3FI 2KI\\n                                                                                                                                               #BZ 6KI 2FI 2SL #\\n                                                                                                        Pflegeziel:\\n\\n\\nST Im NW 30 Grad, im S 10 Grad\\nBE Zwibestandsreste, im NW jger, aus Kultur 1996.98 mit KI, BU-UE an öff. Str, zlr ME-Zwibereste, stk vergrast, SK\\nim O, unglalt (-5J), im O jger\\nMA BZ: 5SK 2KI 2FI 1BU\\n\\nS      MA      Afl.[Ha] LH [Efm] NH [Efm]                SU         Dringlichkeit           Behörde                   Zeitpunkt         Schlägerung                Rückung\\n\\n\\n\\n\\n                                 #N 1 DP 1,4 0 0 1 1 1 0 0 LH zu Gunsten von FI gördern\\n\\n\\n\\n\\nSumme\\n\\n\\n\\nKategorie Art                                  Fläche [ha]         LH [Efm]     NH [Efm]    Pflanzen         Samen        Zeit     Waldfunktionen\\n\\n\\n\\n\\n                                                                                                                                                 #SWE Rot #\\n\\n\\n\\n                    #ST trocken, unterschiedliche Neigung, Gräben #\\n                    #BE viel ME, einzeln auch AH, einige AH UE #\\n                    #MA DP LH fördern #\\n\\n\\n\\n\\n                                                                        #W Standortschutzwald außer Ertrag #\\n\\n\\n\\n\\n                             #UELH 30 #\\n\\x0c'},\n",
       " {'page': 7,\n",
       "  'content': ' FB 171\\n FR 12\\n          Forstbetrieb Wienerwald\\n          Pernitz\\n                                                                      Druckdatum: 03.05.2020                 BKL       Umtrieb          Wirtschaftswald\\n                                                                                                                                                                         201 C 1\\n TO: 1310 Laufzeit: 01.01.2021- 31.12.2030\\n                                                                       Seite 7 von 828                      9040         160            in Ertrag\\n                                                                                                                                                                                    3,04 ha\\n    Seeh [m]          Exp                   Neig [%]           Neig [°]           STOE                VTYP          Wald-Typ       Wuchs-Geb. Verbissgrad               Schälgrad        fr.SS\\n      700              W                      58                 30                   25               SL                                5.1                              s.u.\\n    SWP-Nr       SWP Bez                                                                     Schlussgrad [%]        Best.Stab.       Vjg.Bed.       Vjg.Situation         EBZ            Sel.Vb\\n\\n\\n     S%        ALT    BA% BA                EKL        BGD       Vfm/ha       G IST         SchälGd.                                                      LH [Vfm]         NH [Vfm]       SU [Vfm]\\n     78        181        50      SK         4           0,7      88,55        9,87            0                   Alt/Ort                                      74,11       628,04         702,15\\n     78        181        20       FI        5           0,7      66,11        6,12            0                   Neu/Ort                                      78,22       653,69         731,91\\n     78        181        20       KI        4           0,7      44,83          4,8           0                   Alt/Ha                                       24,38       206,59         230,97\\n     78        181        10      BU         3           0,7      23,1         2,29            0                   Neu/Ha                                       25,73       215,03         240,76\\n     22         36        40       FI        5           0,2      7,38         1,88            0                   Grundfläche/Ha                                2,76         24,03         26,79\\n     22         36        30      SK         4           0,2      8,16         1,36            0                   Zuwachs/Ort                                   4,11         25,65         29,76\\n     22         36        30      ME         3           0,2      2,63         0,47            0                   Überhälter                                    0,00            0,00         0,00\\n\\n                                                                                                                   Bestockungsziel: 4LA 4SK 2BU\\n                                                                                                                   Pflegeziel:\\n\\n\\n\\nST     Am Rücken STOE 14, örtl felsig\\nBE     BU im S am Graben, stk vergrast, ein AH, leicht verkrautet, alte Pechnutzung\\nMA     BZ: 4SK 4LÄ 2BU\\n\\n\\nS      MA       Afl.[Ha] LH [Efm] NH [Efm]                       SU        Dringlichkeit               Behörde                   Zeitpunkt           Schlägerung                 Rückung\\n1      KH             1              30            170          200               3                          2                      2                       1                       20\\nim Dez, im SW, AF mit LÄ\\n1      ZE                               5           15           20               3                          1                      2                       1                       10\\n\\n\\n                     #N 1 JF 0,7 20 50 1 1 2 1 31 VJ freistellen #\\n                     #N 1 ZV 0,0 30 70 3 1 3 1 30 #\\n\\n\\n\\n\\nSumme                 1              35            185          220\\n\\n\\nKategorie Art                                        Fläche [ha]          LH [Efm]         NH [Efm]    Pflanzen         Samen        Zeit      Waldfunktionen\\n\\nNutzung        Erstdurchforstung                                            28,21                                                  2014        N2    Natura 2000 - Flora-Fauna-Habi         66\\n\\nPflege         WP Best.Begr. Schlagräum                         0,3                                                                2018\\n\\n\\nSumme          VN                                                           28,21\\nSumme          EN\\nSumme                                                                       28,21\\n\\n\\n                                                                                                        #U 140 #\\n\\n\\n\\n\\n                               #ST etwas felsig, Rücken und Gräben #\\n                               #BE teils lückig trils dicht, ältere NVJ Kegel#\\n                               #MA VJ weiter freistellen #\\n\\x0c'},\n",
       " {'page': 8,\n",
       "  'content': ' FB 171\\n FR 12\\n          Forstbetrieb Wienerwald\\n          Pernitz\\n                                                                 Druckdatum: 03.05.2020                BKL       Umtrieb          Wirtschaftswald\\n                                                                                                                                                                201 C 2\\n TO: 1310 Laufzeit: 01.01.2021- 31.12.2030\\n                                                                  Seite 8 von 828                     9010         140            in Ertrag\\n                                                                                                                                                                           0,76 ha\\n    Seeh [m]           Exp            Neig [%]           Neig [°]           STOE                VTYP          Wald-Typ       Wuchs-Geb. Verbissgrad            Schälgrad       fr.SS\\n      700              SW                27                 15                  25                E                                5.1                           s.u.\\n    SWP-Nr       SWP Bez                                                               Schlussgrad [%]        Best.Stab.       Vjg.Bed.       Vjg.Situation      EBZ           Sel.Vb\\n\\n\\n     S%        ALT    BA% BA          EKL         BGD       Vfm/ha       G IST        SchälGd.                                                      LH [Vfm]      NH [Vfm]      SU [Vfm]\\n     100        31     100     KI       3           1         22,6       13,76           0                   Alt/Ort                                    0,00            0,00          0,00\\n                                                                                                             Neu/Ort                                    0,00         17,18        17,18\\n                                                                                                             Alt/Ha                                     0,00            0,00          0,00\\n                                                                                                             Neu/Ha                                     0,00         22,60        22,60\\n                                                                                                             Grundfläche/Ha                             0,00         13,76        13,76\\n                                                                                                             Zuwachs/Ort                                0,00         17,18        17,18\\n                                                                                                             Überhälter                                 0,00            0,00          0,00\\n\\n                                                                                                             Bestockungsziel: 9KI 1SL\\n                                                                                                             Pflegeziel:\\n\\n\\n\\nST     Ehem Zaunfläche\\nBE     BU- und AH-UEH, SL=BU AH ME, einz FI, mäßig vergrast, leicht verkrautet, einz BU, AH, ME\\nMA     UE belassen; BZ: 9KI 1SL\\n\\n\\nS      MA      Afl.[Ha] LH [Efm] NH [Efm]                   SU       Dringlichkeit                Behörde                  Zeitpunkt           Schlägerung              Rückung\\n1      DP            0,7                                                    2                          1                      1\\n1. Hälfte Dez\\n\\n\\n\\n\\n                                            #N 1 UE 0,0 10 60 2 1 1 2 23 einzelne AH belassen #\\n\\n\\n\\n\\nSumme                0,7\\n\\n\\n\\nKategorie Art                                    Fläche [ha]        LH [Efm]         NH [Efm]     Pflanzen        Samen        Zeit      Waldfunktionen\\n\\nPflege         WP Dickungspflege                           0,8                                                               2017        N2    Natura 2000 - Flora-Fauna-Habi     6\\n\\n\\n\\n\\n       #ST Ehem Zaunfläche #\\n       #BE BU- und AH-UEH, SL=BU AH ME, einzelne FI, mäßig vergrast, leicht verkrautet, einz BU, AH, ME, Text\\n       Text Text Text Text Texte Text Text und mehr Text Romaaaaan #\\n       #MA UE nutzen #\\n\\n\\n\\n\\n                                        #VG 2 #\\n\\x0c'},\n",
       " {'page': 9,\n",
       "  'content': ' FB 171\\n FR 12\\n          Forstbetrieb Wienerwald\\n          Pernitz\\n                                                                Druckdatum: 03.05.2020                BKL        Umtrieb          Wirtschaftswald\\n                                                                                                                                                                  201 D 1\\n TO: 1310 Laufzeit: 01.01.2021- 31.12.2030\\n                                                                 Seite 9 von 828                     9040          160            in Ertrag\\n                                                                                                                                                                             1,63 ha\\n    Seeh [m]           Exp            Neig [%]           Neig [°]          STOE                VTYP           Wald-Typ       Wuchs-Geb. Verbissgrad              Schälgrad        fr.SS\\n      700               W                47                25                  25               SL                                 5.1                             s.u.\\n    SWP-Nr      SWP Bez                                                               Schlussgrad [%]         Best.Stab.       Vjg.Bed.       Vjg.Situation        EBZ            Sel.Vb\\n\\n\\n     S%        ALT     BA% BA         EKL        BGD       Vfm/ha       G IST        SchälGd.                                                       LH [Vfm]        NH [Vfm]       SU [Vfm]\\n     100       71          90   SK      3          1        135,9        20,2           0                    Alt/Ort                                      0,00       224,29         224,29\\n     100       71          10   KI      3          1        16,62        2,55           0                    Neu/Ort                                      0,00       248,61         248,61\\n                                                                                                             Alt/Ha                                       0,00       137,60         137,60\\n                                                                                                             Neu/Ha                                       0,00       152,52         152,52\\n                                                                                                             Grundfläche/Ha                               0,00         22,75         22,75\\n                                                                                                             Zuwachs/Ort                                  0,00         24,32         24,32\\n                                                                                                             Überhälter                                   0,00            0,00         0,00\\n\\n                                                                                                             Bestockungsziel: 8SK 1KI 1SL\\n                                                                                                             Pflegeziel:\\n\\n\\n\\n\\nBE     Ein BU AH FI, ehem 2 schichtiger Bestand, im S schlechter, stk vergrast, leicht verkrautet, zlr ME im Zwibe\\nMA     BZ: 8SK 1KI 1SL\\n\\n\\n\\nS      MA      Afl.[Ha] LH [Efm] NH [Efm]                  SU        Dringlichkeit              Behörde                    Zeitpunkt           Schlägerung                Rückung\\n1      DF              1                      70           70              2                          1                       2                       1                      30\\n1, Hälfte Dez, im flacheren TL\\n\\n\\n\\n\\n                                                                 #N 1 DF 1,0 0 70 1 1 2 2 30 Doppelbloch #\\n\\n\\n\\n\\nSumme                  1                      70           70\\n\\n\\n\\nKategorie Art                                   Fläche [ha]         LH [Efm]        NH [Efm]    Pflanzen          Samen        Zeit      Waldfunktionen\\n                                                                                                                                         N2    Natura 2000 - Flora-Fauna-Habi        91\\n\\n\\n\\n\\n                    #ST vergrast und verkrautet #\\n                    #BE Ein BU AH FI, ehem 2 schichtiger Bestand, im S schlechter, zlr ME im Zwischenbestand #\\n                    MA DF, letzter Eingriff vor EN #\\n\\n\\n\\n\\n                                              #U 140 #\\n\\x0c'},\n",
       " {'page': 10,\n",
       "  'content': ' FB 171\\n FR 12\\n          Forstbetrieb Wienerwald\\n          Pernitz\\n                                                                 Druckdatum: 03.05.2020                BKL       Umtrieb           Wirtschaftswald\\n                                                                                                                                                                 201 D 2\\n TO: 1310 Laufzeit: 01.01.2021- 31.12.2030\\n                                                                  Seite 10 von 828                    9040         160             in Ertrag\\n                                                                                                                                                                            0,32 ha\\n    Seeh [m]           Exp            Neig [%]           Neig [°]           STOE                VTYP          Wald-Typ       Wuchs-Geb. Verbissgrad             Schälgrad       fr.SS\\n      700               W                 47                25                  25               SL                                 5.1                           s.u.\\n    SWP-Nr       SWP Bez                                                               Schlussgrad [%]        Best.Stab.       Vjg.Bed.        Vjg.Situation      EBZ           Sel.Vb\\n\\n\\n     S%        ALT     BA% BA          EKL       BGD       Vfm/ha         G IST       SchälGd.                                                       LH [Vfm]      NH [Vfm]      SU [Vfm]\\n     100        41         90   SK       3        0,8       71,57         13,88          0                   Alt/Ort                                     0,00          15,72       15,72\\n     100        41         10   FI       4        0,8        7,06         1,91           0                   Neu/Ort                                     0,00          25,16       25,16\\n                                                                                                                            #VTYP 61 #\\n                                                                                                             Alt/Ha                                      0,00          49,12       49,12\\n                                                                                  #STOE 61 #                 Neu/Ha                                      0,00          78,63       78,63\\n                                                                                                             Grundfläche/Ha                              0,00          15,79       15,79\\n                                                                                                             Zuwachs/Ort                                 0,00            9,44        9,44\\n                                                                                                             Überhälter                                  0,00            0,00        0,00\\n\\n                                                                                                             Bestockungsziel: 9SK 1SL\\n                                                                                                             Pflegeziel:\\n\\n\\n\\n\\nBE     Ungleichaltrig (+/-10J), im O älter und einz UEH im SO, ein ME, stk vergrast, an E2 besser und dicht\\nMA     BZ: 9SK 1SL\\n\\n\\n\\nS      MA      Afl.[Ha] LH [Efm] NH [Efm]                  SU        Dringlichkeit               Behörde                   Zeitpunkt            Schlägerung              Rückung\\n1      DP            0,3                                                    1                          1                       1\\nan E2\\n\\n\\n\\n                        #N 1 DE 0,3 0 10 2 1 1 31 Abgabe an Servitut? #\\n\\n\\n\\n\\nSumme                0,3\\n\\n\\n\\nKategorie Art                                   Fläche [ha]         LH [Efm]         NH [Efm]    Pflanzen         Samen        Zeit       Waldfunktionen\\n                                                                                                                                          N2    Natura 2000 - Flora-Fauna-Habi     100\\n\\n\\n\\n            #ST stark vergrast, geringwüchsig #\\n            #BE Ungleichaltrig (+/-10J), im O älter und einz UE im SO, einige ME, an E2 besser und dicht #\\n            #MA DE ab mitte Dezennium #                                                                                                                  #SWE Gelb #\\n\\n\\n\\n\\n                                         #W Standortschutzwald in Ertrag #\\n\\x0c'},\n",
       " {'page': 11,\n",
       "  'content': 'Erweiterung für D2 da zu Wenig Platz?\\n\\n#BZ 4FI 2TA 3BU #\\n#STOE 23 #\\n\\x0c'},\n",
       " {'page': 12,\n",
       "  'content': ' FB 171\\n FR 12\\n          Forstbetrieb Wienerwald\\n          Pernitz\\n                                                                Druckdatum: 03.05.2020                 BKL       Umtrieb          Wirtschaftswald\\n                                                                                                                                                                  201 E 1\\n TO: 1310 Laufzeit: 01.01.2021- 31.12.2030\\n                                                                 Seite 11 von 828                    9040          160            in Ertrag\\n                                                                                                                                                                             3,3 ha\\n    Seeh [m]           Exp           Neig [%]            Neig [°]           STOE                VTYP          Wald-Typ       Wuchs-Geb. Verbissgrad              Schälgrad        fr.SS\\n      700              NW                84                40                   14               E                                 5.1                             s.u.\\n    SWP-Nr        SWP Bez                                                              Schlussgrad [%]        Best.Stab.       Vjg.Bed.       Vjg.Situation        EBZ            Sel.Vb\\n\\n\\n     S%        ALT     BA% BA         EKL       BGD        Vfm/ha       G IST         SchälGd.                                                      LH [Vfm]        NH [Vfm]       SU [Vfm]\\n     89         191     65     SK      3           0,8      93,08       12,27            0                   Alt/Ort                                      0,00       548,72         548,72\\n     89         191     30     KI      3           0,8      57,36          7,1           0                   Neu/Ort                                      0,00       548,85         548,85\\n     89         191      5     FI      4           0,8      15,88          1,65          0                   Alt/Ha                                       0,00       166,28         166,28\\n     11         16      100    FI      4           0,1          0          1,09          0                   Neu/Ha                                       0,00       166,32         166,32\\n                                                                                                             Grundfläche/Ha                               0,00          22,11        22,11\\n                                                                                                             Zuwachs/Ort                                  0,00            0,13         0,13\\n                                                                                                             Überhälter                                   0,00            0,00         0,00\\n\\n                                                                                                             Bestockungsziel: 7SK 2KI 1SL\\n                                                                                                                                                    #BZ 6SK 2KI 2SL #\\n                                                                                                             Pflegeziel:\\n\\n\\n\\n\\nBE     Ein TA im Unterhang, stk vergrast, leicht verkrautet, KI im NW, ein ME, AH\\nMA     BZ: 7SK 2KI 1SL\\n\\n\\n\\nS      MA       Afl.[Ha] LH [Efm] NH [Efm]                 SU        Dringlichkeit               Behörde                   Zeitpunkt           Schlägerung                Rückung\\n1      ZE                                     30           30               3                          1                      2                       1                      10\\n\\n\\n\\n\\n                              #N 1 FM 1,0 10 90 1 2 1 2 26 Schlitzhieb #\\n\\n\\n\\n\\nSumme                                         30           30\\n\\n\\n\\nKategorie Art                                  Fläche [ha]          LH [Efm]         NH [Efm]    Pflanzen         Samen        Zeit      Waldfunktionen\\n                                                                                                                                         N2    Natura 2000 - Flora-Fauna-Habi        79\\n\\n\\n\\n\\n               #ST vergrast, verkrautet\\n               #BE Ein TA im Unterhang, KI im NW, ein ME, AH, langsam aufkommende VJ #\\n               #MA weitere VJ fördern, FM, ZV #\\n\\n\\n\\n\\n                                                     #W Standortschutzwald in Ertrag #\\n\\x0c'},\n",
       " {'page': 13,\n",
       "  'content': ' FB 171\\n FR 12\\n          Forstbetrieb Wienerwald\\n          Pernitz\\n                                                                 Druckdatum: 03.05.2020                BKL       Umtrieb          Wirtschaftswald\\n                                                                                                                                                                    201 E 2\\n TO: 1310 Laufzeit: 01.01.2021- 31.12.2030\\n                                                                  Seite 12 von 828                   9010          140            in Ertrag\\n                                                                                                                                                                            12,63 ha\\n    Seeh [m]           Exp            Neig [%]           Neig [°]          STOE                 VTYP          Wald-Typ       Wuchs-Geb. Verbissgrad                Schälgrad        fr.SS\\n      700                 N              58                 30                  26               B                                 5.1                               s.u.\\n    SWP-Nr       SWP Bez                                                               Schlussgrad [%]        Best.Stab.       Vjg.Bed.        Vjg.Situation         EBZ            Sel.Vb\\n\\n\\n     S%        ALT     BA% BA         EKL        BGD        Vfm/ha       G IST        SchälGd.                                                        LH [Vfm]        NH [Vfm]       SU [Vfm]\\n    100         71        30   KI       5           1        78,84       9,65            2                   Alt/Ort                                    707,28        1.962,71       2.669,99\\n    100         71        30   BU       4           1        64,32       8,57            2                   Neu/Ort                                    947,75        2.340,47       3.288,22\\n    100         71        20   FI       6           1        66,76       7,54            2                   Alt/Ha                                        56,00       155,40         211,40\\n    100         71        10   SK       5           1        29,94       3,12            2                   Neu/Ha                                        75,04       185,31         260,35\\n    100         71        5    LA       5           1        9,77        1,38            2                   Grundfläche/Ha                                10,00         21,69         31,69\\n    100         71        5    AH       4           1        10,72       1,43            2                   Zuwachs/Ort                                240,47         377,76         618,23\\n                                                                                                             Überhälter                                     0,00            0,00         0,00\\n\\n                                                                                                             Bestockungsziel: 4BU 3KI 1FI 1KB 1SK\\n                                                                                                             Pflegeziel:\\n                                                                                                                                              #BZ 5KI 2SL 2KB #\\n\\nST Im S flacher, im O flacher\\nBE Etw altgeschält, im NW etw älter und mehr LH, oben mehr KI, bei Stein 34 alte BU-Grp (belassen), alte SS an FI,\\nSK hpts im SW, hier schwächer, ein ME, mäßig vergrast, leicht verkrautet\\nMA BZ: 4BU 3KI 1SK 1AH 1LÄ\\n\\nS      MA       Afl.[Ha] LH [Efm] NH [Efm]                  SU       Dringlichkeit               Behörde                   Zeitpunkt             Schlägerung                Rückung\\n1      DF             2          20            80          100              1                          1                      2                        1                       30\\nIm SO oberhalb Str., hpts FI entnehmen\\n1      DF             5         100           150          250              2                          1                      2                        1                       20\\n2. Hälfte Dez, im N unterhalb Str.\\n\\n\\n\\n                                                    #M 1 DF 0,6 20 20 1 1 1 2 31 Fehler falscher Code #\\n\\n\\nSumme                 7         120           230          350\\n\\n\\n\\nKategorie Art                                   Fläche [ha]         LH [Efm]         NH [Efm]    Pflanzen         Samen        Zeit      Waldfunktionen\\n\\nNutzung        Durchforstung                                                           70,60                                 2011        N2     Natura 2000 - Flora-Fauna-Habi         80\\n\\nNutzung        Durchforstung                                                           81,81                                 2012\\nNutzung        Durchforstung                                           42,57           81,94                                 2013\\nPflege         Erstdurchforstung                           2,0                                                               2012\\n\\n\\nSumme          VN                                                      42,57          234,35\\nSumme          EN\\nSumme                                                                  42,57          234,35\\n\\n\\n\\n\\n            #ST Im S flacher, im O flacher, vergrast und verkrautet #\\n            #BE im NW etw älter und mehr LH, oben mehr KI, bei Stein 34 alte BU-Gruppe (belassen), alte SS an FI, SK hpts im SW, hier schwächer, ein ME #\\n            #MA DF 2011-2013; DF #\\n\\x0c'},\n",
       " {'page': 14,\n",
       "  'content': 'Neuer Waldort XY\\n\\n\\nTest test test\\n\\nBZ 4FI 2BU 2AH 2TA\\nblau blau\\n\\ntest test test\\n\\x0c'},\n",
       " {'page': 15,\n",
       "  'content': ' FB 171\\n FR 12\\n          Forstbetrieb Wienerwald\\n          Pernitz\\n                                                             Druckdatum: 03.05.2020               BKL       Umtrieb          Wirtschaftswald\\n                                                                                                                                                              201 E 3\\n TO: 1310 Laufzeit: 01.01.2021- 31.12.2030\\n                                                              Seite 13 von 828                  9010          140            in Ertrag\\n                                                                                                                                                                         2,11 ha\\n    Seeh [m]           Exp           Neig [%]         Neig [°]         STOE                VTYP          Wald-Typ       Wuchs-Geb. Verbissgrad               Schälgrad        fr.SS\\n      600                  N           58               30                 26               B                                 5.1                              s.u.\\n    SWP-Nr      SWP Bez                                                           Schlussgrad [%]        Best.Stab.       Vjg.Bed.       Vjg.Situation         EBZ            Sel.Vb\\n\\n\\n     S%        ALT    BA% BA         EKL        BGD     Vfm/ha       G IST       SchälGd.                                                      LH [Vfm]         NH [Vfm]       SU [Vfm]\\n     100       61          60   FI    6          1      168,96       21,11          0                   Alt/Ort                                      67,10       300,26         367,36\\n     100       61          30   BU    4          1       49,56        7,9           0                   Neu/Ort                                  104,57          393,81         498,38\\n     100       61          10   KI    4          1       17,68        2,68          0                   Alt/Ha                                       31,80       142,30         174,10\\n                                                                                                        Neu/Ha                                       49,56       186,64         236,20\\n                                                                                                        Grundfläche/Ha                                7,90         23,79         31,69\\n                                                                                                        Zuwachs/Ort                                  37,47         93,55        131,02\\n                                                                                                        Überhälter                                    0,00            0,00         0,00\\n\\n                                                                                                        Bestockungsziel: 4FI 4BU 2KI\\n                                                                                                        Pflegeziel:\\n\\n\\n\\n\\nBE     Einz AH\\nMA     BZ: 4BU 4FI 2KI\\n\\n\\n\\nS      MA      Afl.[Ha] LH [Efm] NH [Efm]               SU        Dringlichkeit             Behörde                   Zeitpunkt           Schlägerung                 Rückung\\n1      DF            2,1                    80          80             1                          1                      2                       1                       20\\ngem. mit E2, hpts FI entnehmen\\n\\n\\n\\n\\nSumme                2,1                    80          80\\n\\n\\n\\nKategorie Art                                Fläche [ha]         LH [Efm]       NH [Efm]    Pflanzen         Samen        Zeit      Waldfunktionen\\n\\x0c'}]"
      ]
     },
     "execution_count": 6,
     "metadata": {},
     "output_type": "execute_result"
    }
   ],
   "source": [
    "pdf_data"
   ]
  },
  {
   "cell_type": "code",
   "execution_count": 7,
   "metadata": {},
   "outputs": [],
   "source": [
    "txt = pdf_data[1]['content']"
   ]
  },
  {
   "cell_type": "code",
   "execution_count": 8,
   "metadata": {},
   "outputs": [
    {
     "data": {
      "text/plain": [
       "\"for typ in ['#BZ', '#T', '#N', '#G']:\\n    start = txt.find(typ)\\n    print(start)\\n    end = txt[start+1:].find('#') + start + 1\\n    print(txt[start:end])\""
      ]
     },
     "execution_count": 8,
     "metadata": {},
     "output_type": "execute_result"
    }
   ],
   "source": [
    "'''for typ in ['#BZ', '#T', '#N', '#G']:\n",
    "    start = txt.find(typ)\n",
    "    print(start)\n",
    "    end = txt[start+1:].find('#') + start + 1\n",
    "    print(txt[start:end])'''"
   ]
  },
  {
   "cell_type": "markdown",
   "metadata": {},
   "source": [
    "## Get data"
   ]
  },
  {
   "cell_type": "code",
   "execution_count": 9,
   "metadata": {},
   "outputs": [],
   "source": [
    "# find #typ in text\n",
    "def find_txt(txt, typ, offset):\n",
    "    '''\n",
    "    input:\n",
    "        method to find #typ in text\n",
    "        txt (string) plain text\n",
    "        typ (string) type of mark e.g. '#BZ'\n",
    "        offset (int) starting point for seaerch in text\n",
    "    output:\n",
    "        marked text (string)\n",
    "        offset (integer) starting point for next iterration\n",
    "    '''\n",
    "    # find position (index) of #typ in text\n",
    "    start = txt[offset:].find(typ)\n",
    "    # if #typ found\n",
    "    if start > -1:\n",
    "        start += offset\n",
    "        # find end of #typ\n",
    "        end = txt[start+1:].find('#') + start + 1\n",
    "        # set offset to end -> starting point for next iterration\n",
    "        offset = end\n",
    "        return txt[start:end], offset\n",
    "    else:\n",
    "        return \"\", -1"
   ]
  },
  {
   "cell_type": "code",
   "execution_count": 11,
   "metadata": {},
   "outputs": [
    {
     "name": "stdout",
     "output_type": "stream",
     "text": [
      "#BZ 6KI 2FI 2SL \n",
      "\n",
      "#N 1 DP 1,4 0 0 1 1 1 0 0 LH zu Gunsten von FI gördern\n",
      "\n",
      "\n",
      "\n",
      "\n",
      "Summe\n",
      "\n",
      "\n",
      "\n",
      "Kategorie Art                                  Fläche [ha]         LH [Efm]     NH [Efm]    Pflanzen         Samen        Zeit     Waldfunktionen\n",
      "\n",
      "\n",
      "\n",
      "\n",
      "                                                                                                                                                 \n",
      "\n",
      "#ST trocken, unterschiedliche Neigung, Gräben \n",
      "\n",
      "#BE viel ME, einzeln auch AH, einige AH UE \n",
      "\n",
      "#MA DP LH fördern \n",
      "\n",
      "#UELH 30 \n",
      "\n",
      "\n"
     ]
    }
   ],
   "source": [
    "txt = pdf_data[6]['content']\n",
    "\n",
    "for typ in ['#BZ', '#N', '#ST', '#BE', '#MA', '#U', '#VTYP']:\n",
    "    offset=0\n",
    "    while offset != -1:\n",
    "        xxx, offset = find_txt(txt, typ, offset)\n",
    "        print(xxx)"
   ]
  },
  {
   "cell_type": "code",
   "execution_count": 12,
   "metadata": {},
   "outputs": [
    {
     "data": {
      "text/plain": [
       "' FB 171\\n FR 12\\n          Forstbetrieb Wienerwald\\n          Pernitz\\n                                                               Druckdatum: 03.05.2020             BKL       Umtrieb        Wirtschaftswald\\n                                                                                                                                                         201 B 5\\n TO: 1310 Laufzeit: 01.01.2021- 31.12.2030\\n                                                                Seite 6 von 828                  9040         160          in Ertrag\\n                                                                                                                                                                     1,43 ha\\n    Seeh [m]           Exp           Neig [%]          Neig [°]          STOE              VTYP          Wald-Typ       Wuchs-Geb. Verbissgrad          Schälgrad         fr.SS\\n      600              NW                 36              20               25               SL                               5.1                           s.u.\\n    SWP-Nr      SWP Bez                                                           Schlussgrad [%]        Best.Stab.       Vjg.Bed.     Vjg.Situation      EBZ             Sel.Vb\\n\\n\\n     S%        ALT     BA% BA         EKL       BGD      Vfm/ha        G IST     SchälGd.                                                    LH [Vfm]      NH [Vfm]        SU [Vfm]\\n    100        21       40     SK      3        0,8       10,18         4,14         0                  Alt/Ort                                  0,00              0,00        0,00\\n    100        21       25     FI      4        0,8            0        2,73         0                  Neu/Ort                                  1,74          14,96         16,70\\n    100        21       25     KI      3        0,8        0,28         1,83         0                  Alt/Ha                                   0,00              0,00        0,00\\n    100        21       10     ME      3        0,8        1,22         0,38         0                  Neu/Ha                                   1,22          10,46         11,68\\n                                                                                                        Grundfläche/Ha                           0,38              8,70        9,08\\n                                                                                                        Zuwachs/Ort                              1,74          14,96         16,70\\n                                                                                                        Überhälter                               0,00              0,00        0,00\\n\\n                                                                                                        Bestockungsziel: 5SK 3FI 2KI\\n                                                                                                                                               #BZ 6KI 2FI 2SL #\\n                                                                                                        Pflegeziel:\\n\\n\\nST Im NW 30 Grad, im S 10 Grad\\nBE Zwibestandsreste, im NW jger, aus Kultur 1996.98 mit KI, BU-UE an öff. Str, zlr ME-Zwibereste, stk vergrast, SK\\nim O, unglalt (-5J), im O jger\\nMA BZ: 5SK 2KI 2FI 1BU\\n\\nS      MA      Afl.[Ha] LH [Efm] NH [Efm]                SU         Dringlichkeit           Behörde                   Zeitpunkt         Schlägerung                Rückung\\n\\n\\n\\n\\n                                 #N 1 DP 1,4 0 0 1 1 1 0 0 LH zu Gunsten von FI gördern\\n\\n\\n\\n\\nSumme\\n\\n\\n\\nKategorie Art                                  Fläche [ha]         LH [Efm]     NH [Efm]    Pflanzen         Samen        Zeit     Waldfunktionen\\n\\n\\n\\n\\n                                                                                                                                                 #SWE Rot #\\n\\n\\n\\n                    #ST trocken, unterschiedliche Neigung, Gräben #\\n                    #BE viel ME, einzeln auch AH, einige AH UE #\\n                    #MA DP LH fördern #\\n\\n\\n\\n\\n                                                                        #W Standortschutzwald außer Ertrag #\\n\\n\\n\\n\\n                             #UELH 30 #\\n\\x0c'"
      ]
     },
     "execution_count": 12,
     "metadata": {},
     "output_type": "execute_result"
    }
   ],
   "source": [
    "pdf_data[6]['content']"
   ]
  },
  {
   "cell_type": "code",
   "execution_count": 15,
   "metadata": {},
   "outputs": [
    {
     "data": {
      "text/plain": [
       "1"
      ]
     },
     "execution_count": 15,
     "metadata": {},
     "output_type": "execute_result"
    }
   ],
   "source": [
    "txt.count('#BZ')"
   ]
  },
  {
   "cell_type": "markdown",
   "metadata": {},
   "source": [
    "## Get Waldort"
   ]
  },
  {
   "cell_type": "code",
   "execution_count": 23,
   "metadata": {},
   "outputs": [
    {
     "data": {
      "text/plain": [
       "' FB 171\\n FR 12\\n          Forstbetrieb Wienerwald\\n          Pernitz\\n                                                           Druckdatum: 03.05.2020               BKL       Umtrieb          Wirtschaftswald\\n                                                                                                                                                            201 B 3\\n TO: 1310 Laufzeit: 01.01.2021- 31.12.2030\\n                                                            Seite 4 von 828                   9010          140            in Ertrag\\n                                                                                                                                                                       1,98 ha\\n    Seeh [m]         Exp           Neig [%]         Neig [°]         STOE                VTYP          Wald-Typ       Wuchs-Geb. Verbissgrad               Schälgrad        fr.SS\\n      600            NW              58               30                 26               B                                 5.1                              s.u.\\n    SWP-Nr      SWP Bez                                                         Schlussgrad [%]        Best.Stab.       Vjg.Bed.       Vjg.Situation         EBZ            Sel.Vb\\n\\n\\n     S%        ALT   BA% BA        EKL        BGD     Vfm/ha       G IST       SchälGd.                                                      LH [Vfm]         NH [Vfm]       SU [Vfm]\\n    100        76        40   FI    5           1      120,4        14,6          0                   Alt/Ort                                      31,48       394,81         426,29\\n    100        76        40   KI    4           1      91,12       11,86          0                   Neu/Ort                                      40,76       463,91         504,67\\n    100        76        10   SK    4           1      22,78        2,72          0                   Alt/Ha                                       15,90       199,40         215,30\\n    100        76        5    BU    3           1      8,78         1,33          0                   Neu/Ha                                       20,59       234,30         254,89\\n    100        76        5    AH    4           1      11,81        1,47          0                   Grundfläche/Ha                                2,80         29,18         31,98\\n                                                                                                      Zuwachs/Ort                                   9,28         69,10         78,38\\n                                                                                                      Überhälter                                    0,00            0,00         0,00\\n\\n                                                                                                      Bestockungsziel: 4FI 4KI 2SK\\n                                                                                                                                            #PZ 6SK 2KI 2AH #\\n                                                                                                      Pflegeziel:\\n\\n\\n\\nBE Ein LÄ,\\n         #STdfstet     1987,amleicht\\n             kaum Vegetation                verkrautet,\\n                                  Boden durch  Dichtschluss # mäßig vergrast, ein ES, ein Wipfelbrüche, etw BU-FI-Unterwuchs, SK hpts\\nim SO    #BE hoher Kiefernsnteiö, einzeln LH beigemischt, FI langsam ausfallend #\\n         #MA belassen, nächstes Dez. LI #\\nMA BZ: 4KI 2SK 2FI 1AH 1BU\\n\\n\\nS      MA      Afl.[Ha] LH [Efm] NH [Efm]             SU        Dringlichkeit             Behörde                   Zeitpunkt           Schlägerung                 Rückung\\n1      DF            2                    100        100             2                          1                      2                       1                       30\\n1. Hälfte Dez, FI entnehmen\\n\\n\\n\\n\\n               #U 120 #\\n\\n\\n\\n\\nSumme                2                    100        100\\n\\n\\n\\nKategorie Art                               Fläche [ha]        LH [Efm]       NH [Efm]    Pflanzen         Samen        Zeit      Waldfunktionen\\n\\x0c'"
      ]
     },
     "execution_count": 23,
     "metadata": {},
     "output_type": "execute_result"
    }
   ],
   "source": [
    "txt"
   ]
  },
  {
   "cell_type": "code",
   "execution_count": 36,
   "metadata": {},
   "outputs": [],
   "source": [
    "start = txt.find('Wirtschaftswald\\n')\n",
    "end = txt.find('TO:')"
   ]
  },
  {
   "cell_type": "code",
   "execution_count": 42,
   "metadata": {},
   "outputs": [],
   "source": [
    "wo = txt[start+17:end-2]"
   ]
  },
  {
   "cell_type": "code",
   "execution_count": 43,
   "metadata": {},
   "outputs": [
    {
     "data": {
      "text/plain": [
       "'                                                                                                                                                           201 B 3'"
      ]
     },
     "execution_count": 43,
     "metadata": {},
     "output_type": "execute_result"
    }
   ],
   "source": [
    "wo"
   ]
  },
  {
   "cell_type": "code",
   "execution_count": 44,
   "metadata": {},
   "outputs": [
    {
     "data": {
      "text/plain": [
       "['201', 'B', '3']"
      ]
     },
     "execution_count": 44,
     "metadata": {},
     "output_type": "execute_result"
    }
   ],
   "source": [
    "wo.split()"
   ]
  },
  {
   "cell_type": "code",
   "execution_count": 45,
   "metadata": {},
   "outputs": [],
   "source": [
    "def get_wo(txt):\n",
    "    start = txt.find('Wirtschaftswald\\n')\n",
    "    end = txt.find('TO:')\n",
    "    wo = txt[start+17:end-2]\n",
    "    return wo.split()"
   ]
  },
  {
   "cell_type": "code",
   "execution_count": 52,
   "metadata": {},
   "outputs": [
    {
     "data": {
      "text/plain": [
       "['D2',\n",
       " 'da',\n",
       " 'zu',\n",
       " 'Wenig',\n",
       " 'Platz?',\n",
       " '#BZ',\n",
       " '4FI',\n",
       " '2TA',\n",
       " '3BU',\n",
       " '#',\n",
       " '#STOE',\n",
       " '23']"
      ]
     },
     "execution_count": 52,
     "metadata": {},
     "output_type": "execute_result"
    }
   ],
   "source": [
    "txt = pdf_data[11]['content']\n",
    "get_wo(txt)"
   ]
  },
  {
   "cell_type": "code",
   "execution_count": null,
   "metadata": {},
   "outputs": [],
   "source": [
    "class OBFPdfPharser(object):\n",
    "\n",
    "    def __init__(self, data):\n",
    "\n",
    "        self.data = data\n",
    "\n",
    "        # fill nan with 0\n",
    "        self.data = self.data.fillna(0)\n",
    "\n",
    "\n",
    "    def printit(self):\n",
    "        print(self.data)\n",
    "        return(self.data)\n",
    "\n",
    "\n",
    "    ### 6.1.1 Einschlagsübersicht\n",
    "\n",
    "    def fuc_tbl_hiebsatzbilanz(self, to, fr, filterx):\n",
    "        '''\n",
    "            self.data = input self.data (dataframe)"
   ]
  },
  {
   "cell_type": "code",
   "execution_count": null,
   "metadata": {},
   "outputs": [],
   "source": []
  }
 ],
 "metadata": {
  "kernelspec": {
   "display_name": "pdftotext",
   "language": "python",
   "name": "pdftotext"
  },
  "language_info": {
   "codemirror_mode": {
    "name": "ipython",
    "version": 3
   },
   "file_extension": ".py",
   "mimetype": "text/x-python",
   "name": "python",
   "nbconvert_exporter": "python",
   "pygments_lexer": "ipython3",
   "version": "3.9.0"
  }
 },
 "nbformat": 4,
 "nbformat_minor": 4
}
