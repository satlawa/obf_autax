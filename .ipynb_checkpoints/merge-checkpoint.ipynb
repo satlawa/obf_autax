{
 "cells": [
  {
   "cell_type": "code",
   "execution_count": 1,
   "metadata": {},
   "outputs": [],
   "source": [
    "import os\n",
    "import numpy as np\n",
    "import pandas as pd"
   ]
  },
  {
   "cell_type": "code",
<<<<<<< HEAD
   "execution_count": 2,
=======
   "execution_count": 3,
>>>>>>> 62139c30c74d6f2144f6104908e9f6cd8da2344f
   "metadata": {},
   "outputs": [
    {
     "name": "stdout",
     "output_type": "stream",
     "text": [
      "/home/philipp\n",
      "/home/philipp/data/obf/merge/bz/bz_171_01.csv\n",
      "/home/philipp/data/obf/merge/text/text_171_01.csv\n",
      "/home/philipp/data/obf/merge/wtyp_uz/test171_01_v6.csv\n",
      "/home/philipp/data/obf/merge/nutz/nutzungen_171_01.csv\n"
     ]
    }
   ],
   "source": [
    "# set home directory\n",
<<<<<<< HEAD
    "home_path = os.getcwd()[:os.getcwd().find('Code/python/obf_autax')-1]\n",
=======
    "home_path = os.getcwd()[:os.getcwd().find('Code/obf_autax')-1]\n",
>>>>>>> 62139c30c74d6f2144f6104908e9f6cd8da2344f
    "# set bz_path\n",
    "bz_path = os.path.join(home_path, 'data', 'obf', 'merge', 'bz', 'bz_171_01.csv')\n",
    "# set text_path\n",
    "text_path = os.path.join(home_path, 'data', 'obf', 'merge', 'text', 'text_171_01.csv')\n",
    "# set wtyp_path\n",
    "wtyp_path = os.path.join(home_path, 'data', 'obf', 'merge', 'wtyp_uz', 'test171_01_v6.csv')\n",
    "# set nutz_path\n",
    "nutz_path = os.path.join(home_path, 'data', 'obf', 'merge', 'nutz', 'nutzungen_171_01.csv')\n",
    "\n",
    "print(home_path)\n",
    "print(bz_path)\n",
    "print(text_path)\n",
    "print(wtyp_path)\n",
    "print(nutz_path)"
   ]
  },
  {
   "cell_type": "code",
<<<<<<< HEAD
   "execution_count": 3,
=======
   "execution_count": 22,
>>>>>>> 62139c30c74d6f2144f6104908e9f6cd8da2344f
   "metadata": {},
   "outputs": [],
   "source": [
    "bz_data = pd.read_csv(bz_path, sep=',')\n",
    "nutz_data = pd.read_csv(nutz_path, sep=',')\n",
    "text_data = pd.read_csv(text_path, sep=',')\n",
    "wtyp_data = pd.read_csv(wtyp_path, sep=',')\n",
    "wtyp_data = wtyp_data[['Waldort', 'wtyp', 'uz', 'nr_rows']]"
   ]
  },
  {
   "cell_type": "code",
<<<<<<< HEAD
   "execution_count": 4,
   "metadata": {},
   "outputs": [],
   "source": [
    "# filter and reorder columns\n",
    "nutz_data = nutz_data.loc[nutz_data['MA1'] != 'X', ['Waldort', 'MA1', 'nutz_area', 'lh_nutz', 'nh_nutz', 'D1', 'B1', 'Z1', 'S1', 'R1']]\n",
    "# reorder columns\n",
    "wtyp_data = wtyp_data[['Waldort', 'nr_rows', 'uz', 'wtyp']]"
=======
   "execution_count": 23,
   "metadata": {
    "scrolled": true
   },
   "outputs": [],
   "source": [
    "nutz_data = nutz_data.loc[nutz_data['MA1']!='X', ['Waldort','MA1','D1','B1','Z1','S1','R1','nutz_area','lh_nutz','nh_nutz','text']]"
>>>>>>> 62139c30c74d6f2144f6104908e9f6cd8da2344f
   ]
  },
  {
   "cell_type": "code",
<<<<<<< HEAD
   "execution_count": 5,
=======
   "execution_count": 24,
>>>>>>> 62139c30c74d6f2144f6104908e9f6cd8da2344f
   "metadata": {},
   "outputs": [],
   "source": [
    "#wtyp_data.set_index('Waldort', inplace=True)\n",
    "#nutz_data.set_index('Waldort', inplace=True)\n",
    "#bz_data.set_index('Waldort', inplace=True)\n",
    "#text_data.set_index('Waldort', inplace=True)"
   ]
  },
  {
   "cell_type": "code",
<<<<<<< HEAD
   "execution_count": 6,
=======
   "execution_count": 25,
>>>>>>> 62139c30c74d6f2144f6104908e9f6cd8da2344f
   "metadata": {},
   "outputs": [
    {
     "name": "stdout",
     "output_type": "stream",
     "text": [
      "(901, 18)\n",
      "(901, 5)\n",
      "(901, 4)\n",
<<<<<<< HEAD
      "(420, 10)\n"
=======
      "(420, 11)\n"
>>>>>>> 62139c30c74d6f2144f6104908e9f6cd8da2344f
     ]
    }
   ],
   "source": [
    "print(bz_data.shape)\n",
    "print(text_data.shape)\n",
    "print(wtyp_data.shape)\n",
    "print(nutz_data.shape)"
   ]
  },
  {
   "cell_type": "code",
<<<<<<< HEAD
   "execution_count": 7,
=======
   "execution_count": 26,
>>>>>>> 62139c30c74d6f2144f6104908e9f6cd8da2344f
   "metadata": {},
   "outputs": [],
   "source": [
    "# merge data"
   ]
  },
  {
   "cell_type": "code",
<<<<<<< HEAD
   "execution_count": 8,
=======
   "execution_count": 27,
>>>>>>> 62139c30c74d6f2144f6104908e9f6cd8da2344f
   "metadata": {},
   "outputs": [],
   "source": [
    "#pd.concat([wtyp_data, text_data], axis=1, sort=True)"
   ]
  },
  {
   "cell_type": "code",
<<<<<<< HEAD
   "execution_count": 9,
   "metadata": {},
   "outputs": [],
   "source": [
    "merge_data = pd.merge(wtyp_data, nutz_data, how='left', on='Waldort')"
=======
   "execution_count": 28,
   "metadata": {},
   "outputs": [],
   "source": [
    "merge_data = pd.merge(bz_data, nutz_data, how='left', on='Waldort')"
>>>>>>> 62139c30c74d6f2144f6104908e9f6cd8da2344f
   ]
  },
  {
   "cell_type": "code",
<<<<<<< HEAD
   "execution_count": 10,
   "metadata": {},
   "outputs": [],
   "source": [
    "merge_data = pd.merge(merge_data, bz_data, how='outer', on='Waldort')"
=======
   "execution_count": 29,
   "metadata": {},
   "outputs": [],
   "source": [
    "merge_data = pd.merge(merge_data, wtyp_data, how='outer', on='Waldort')"
>>>>>>> 62139c30c74d6f2144f6104908e9f6cd8da2344f
   ]
  },
  {
   "cell_type": "code",
<<<<<<< HEAD
   "execution_count": 11,
=======
   "execution_count": 30,
>>>>>>> 62139c30c74d6f2144f6104908e9f6cd8da2344f
   "metadata": {},
   "outputs": [],
   "source": [
    "merge_data = pd.merge(merge_data, text_data, how='outer', on='Waldort')"
   ]
  },
  {
   "cell_type": "code",
<<<<<<< HEAD
   "execution_count": 12,
   "metadata": {},
   "outputs": [],
   "source": [
    "merge_data.fillna(0, inplace=True)"
=======
   "execution_count": 32,
   "metadata": {},
   "outputs": [
    {
     "data": {
      "text/plain": [
       "Index(['FI', 'TA', 'LA', 'KI', 'DG', 'TH', 'BU', 'EI', 'HB', 'AH', 'ES', 'ER',\n",
       "       'RE', 'SP', 'EL', 'SN', 'SL', 'Waldort', 'MA1', 'D1', 'B1', 'Z1', 'S1',\n",
       "       'R1', 'nutz_area', 'lh_nutz', 'nh_nutz', 'text', 'wtyp', 'uz',\n",
       "       'nr_rows', 'text_1', 'text_2', 'text_3', 'text_4'],\n",
       "      dtype='object')"
      ]
     },
     "execution_count": 32,
     "metadata": {},
     "output_type": "execute_result"
    }
   ],
   "source": [
    "merge_data.columns"
>>>>>>> 62139c30c74d6f2144f6104908e9f6cd8da2344f
   ]
  },
  {
   "cell_type": "code",
<<<<<<< HEAD
   "execution_count": 13,
   "metadata": {},
   "outputs": [],
   "source": [
    "data_path = os.path.join(home_path, 'data', 'obf', 'merge')\n",
    "merge_data.to_csv(data_path + \"/merge_171_01.csv\", index=False)"
=======
   "execution_count": null,
   "metadata": {},
   "outputs": [],
   "source": [
    "merge_data"
>>>>>>> 62139c30c74d6f2144f6104908e9f6cd8da2344f
   ]
  },
  {
   "cell_type": "code",
<<<<<<< HEAD
   "execution_count": 14,
   "metadata": {},
   "outputs": [
    {
     "data": {
      "text/html": [
       "<div>\n",
       "<style scoped>\n",
       "    .dataframe tbody tr th:only-of-type {\n",
       "        vertical-align: middle;\n",
       "    }\n",
       "\n",
       "    .dataframe tbody tr th {\n",
       "        vertical-align: top;\n",
       "    }\n",
       "\n",
       "    .dataframe thead th {\n",
       "        text-align: right;\n",
       "    }\n",
       "</style>\n",
       "<table border=\"1\" class=\"dataframe\">\n",
       "  <thead>\n",
       "    <tr style=\"text-align: right;\">\n",
       "      <th></th>\n",
       "      <th>Waldort</th>\n",
       "      <th>nr_rows</th>\n",
       "      <th>uz</th>\n",
       "      <th>wtyp</th>\n",
       "      <th>MA1</th>\n",
       "      <th>nutz_area</th>\n",
       "      <th>lh_nutz</th>\n",
       "      <th>nh_nutz</th>\n",
       "      <th>D1</th>\n",
       "      <th>B1</th>\n",
       "      <th>...</th>\n",
       "      <th>ER</th>\n",
       "      <th>RE</th>\n",
       "      <th>SP</th>\n",
       "      <th>EL</th>\n",
       "      <th>SN</th>\n",
       "      <th>SL</th>\n",
       "      <th>text_1</th>\n",
       "      <th>text_2</th>\n",
       "      <th>text_3</th>\n",
       "      <th>text_4</th>\n",
       "    </tr>\n",
       "  </thead>\n",
       "  <tbody>\n",
       "    <tr>\n",
       "      <td>0</td>\n",
       "      <td>520G0</td>\n",
       "      <td>2.0</td>\n",
       "      <td>120.0</td>\n",
       "      <td>LNF</td>\n",
       "      <td>0</td>\n",
       "      <td>0.0</td>\n",
       "      <td>0</td>\n",
       "      <td>0</td>\n",
       "      <td>0.0</td>\n",
       "      <td>0.0</td>\n",
       "      <td>...</td>\n",
       "      <td>0</td>\n",
       "      <td>0</td>\n",
       "      <td>0</td>\n",
       "      <td>0</td>\n",
       "      <td>0</td>\n",
       "      <td>0</td>\n",
       "      <td>BE   örtlich lückig, einige HB, AH, BU oft pro...</td>\n",
       "      <td>0</td>\n",
       "      <td>0</td>\n",
       "      <td>0</td>\n",
       "    </tr>\n",
       "    <tr>\n",
       "      <td>1</td>\n",
       "      <td>715G1</td>\n",
       "      <td>4.0</td>\n",
       "      <td>120.0</td>\n",
       "      <td>LNF</td>\n",
       "      <td>0</td>\n",
       "      <td>0.0</td>\n",
       "      <td>0</td>\n",
       "      <td>0</td>\n",
       "      <td>0.0</td>\n",
       "      <td>0.0</td>\n",
       "      <td>...</td>\n",
       "      <td>8</td>\n",
       "      <td>0</td>\n",
       "      <td>0</td>\n",
       "      <td>0</td>\n",
       "      <td>0</td>\n",
       "      <td>0</td>\n",
       "      <td>ST   im Norden flacher,</td>\n",
       "      <td>BE   einzelne KB, KI, FI, LA, schlechte Stammf...</td>\n",
       "      <td>0</td>\n",
       "      <td>0</td>\n",
       "    </tr>\n",
       "    <tr>\n",
       "      <td>2</td>\n",
       "      <td>599C0</td>\n",
       "      <td>4.0</td>\n",
       "      <td>120.0</td>\n",
       "      <td>LNF</td>\n",
       "      <td>DP</td>\n",
       "      <td>0.0</td>\n",
       "      <td>0</td>\n",
       "      <td>0</td>\n",
       "      <td>1.0</td>\n",
       "      <td>1.0</td>\n",
       "      <td>...</td>\n",
       "      <td>0</td>\n",
       "      <td>0</td>\n",
       "      <td>0</td>\n",
       "      <td>0</td>\n",
       "      <td>0</td>\n",
       "      <td>0</td>\n",
       "      <td>BE   Zaunfläche, ungleichaltrig 5 j, viel Brom...</td>\n",
       "      <td>0</td>\n",
       "      <td>0</td>\n",
       "      <td>0</td>\n",
       "    </tr>\n",
       "    <tr>\n",
       "      <td>3</td>\n",
       "      <td>718D2</td>\n",
       "      <td>4.0</td>\n",
       "      <td>140.0</td>\n",
       "      <td>LNF</td>\n",
       "      <td>0</td>\n",
       "      <td>0.0</td>\n",
       "      <td>0</td>\n",
       "      <td>0</td>\n",
       "      <td>0.0</td>\n",
       "      <td>0.0</td>\n",
       "      <td>...</td>\n",
       "      <td>0</td>\n",
       "      <td>0</td>\n",
       "      <td>0</td>\n",
       "      <td>0</td>\n",
       "      <td>0</td>\n",
       "      <td>0</td>\n",
       "      <td>ST   verhagert, evtl zukünftige Naturwaldzelle,</td>\n",
       "      <td>BE   einige EZ, BU hpts im Norden, örtlich BU ...</td>\n",
       "      <td>0</td>\n",
       "      <td>0</td>\n",
       "    </tr>\n",
       "    <tr>\n",
       "      <td>4</td>\n",
       "      <td>718D1</td>\n",
       "      <td>4.0</td>\n",
       "      <td>140.0</td>\n",
       "      <td>LNF</td>\n",
       "      <td>AD</td>\n",
       "      <td>1.7</td>\n",
       "      <td>530</td>\n",
       "      <td>50</td>\n",
       "      <td>2.0</td>\n",
       "      <td>2.0</td>\n",
       "      <td>...</td>\n",
       "      <td>0</td>\n",
       "      <td>0</td>\n",
       "      <td>0</td>\n",
       "      <td>0</td>\n",
       "      <td>0</td>\n",
       "      <td>0</td>\n",
       "      <td>ST   im Nordosten Rücken, verhagert, grobstein...</td>\n",
       "      <td>BE   einige EZ, SK, schwache dimensionen, schl...</td>\n",
       "      <td>0</td>\n",
       "      <td>0</td>\n",
       "    </tr>\n",
       "  </tbody>\n",
       "</table>\n",
       "<p>5 rows × 34 columns</p>\n",
       "</div>"
      ],
      "text/plain": [
       "  Waldort  nr_rows     uz wtyp MA1  nutz_area lh_nutz nh_nutz   D1   B1  ...  \\\n",
       "0   520G0      2.0  120.0  LNF   0        0.0       0       0  0.0  0.0  ...   \n",
       "1   715G1      4.0  120.0  LNF   0        0.0       0       0  0.0  0.0  ...   \n",
       "2   599C0      4.0  120.0  LNF  DP        0.0       0       0  1.0  1.0  ...   \n",
       "3   718D2      4.0  140.0  LNF   0        0.0       0       0  0.0  0.0  ...   \n",
       "4   718D1      4.0  140.0  LNF  AD        1.7     530      50  2.0  2.0  ...   \n",
       "\n",
       "   ER  RE  SP  EL  SN  SL                                             text_1  \\\n",
       "0   0   0   0   0   0   0  BE   örtlich lückig, einige HB, AH, BU oft pro...   \n",
       "1   8   0   0   0   0   0                            ST   im Norden flacher,   \n",
       "2   0   0   0   0   0   0  BE   Zaunfläche, ungleichaltrig 5 j, viel Brom...   \n",
       "3   0   0   0   0   0   0    ST   verhagert, evtl zukünftige Naturwaldzelle,   \n",
       "4   0   0   0   0   0   0  ST   im Nordosten Rücken, verhagert, grobstein...   \n",
       "\n",
       "                                              text_2  text_3  text_4  \n",
       "0                                                  0       0       0  \n",
       "1  BE   einzelne KB, KI, FI, LA, schlechte Stammf...       0       0  \n",
       "2                                                  0       0       0  \n",
       "3  BE   einige EZ, BU hpts im Norden, örtlich BU ...       0       0  \n",
       "4  BE   einige EZ, SK, schwache dimensionen, schl...       0       0  \n",
       "\n",
       "[5 rows x 34 columns]"
      ]
     },
     "execution_count": 14,
     "metadata": {},
     "output_type": "execute_result"
    }
   ],
   "source": [
    "merge_data.head()"
=======
   "execution_count": 31,
   "metadata": {},
   "outputs": [],
   "source": [
    "data_path = os.path.join(home_path, 'data', 'obf', 'merge')\n",
    "merge_data.to_csv(data_path + \"/merge_171_01.csv\", index=False)"
>>>>>>> 62139c30c74d6f2144f6104908e9f6cd8da2344f
   ]
  },
  {
   "cell_type": "code",
   "execution_count": null,
   "metadata": {},
   "outputs": [],
   "source": []
  }
 ],
 "metadata": {
  "kernelspec": {
<<<<<<< HEAD
   "display_name": "MachineLearing",
   "language": "python",
   "name": "ml"
=======
   "display_name": "deep opencv",
   "language": "python",
   "name": "tf_ocv"
>>>>>>> 62139c30c74d6f2144f6104908e9f6cd8da2344f
  },
  "language_info": {
   "codemirror_mode": {
    "name": "ipython",
    "version": 3
   },
   "file_extension": ".py",
   "mimetype": "text/x-python",
   "name": "python",
   "nbconvert_exporter": "python",
   "pygments_lexer": "ipython3",
<<<<<<< HEAD
   "version": "3.7.4"
=======
   "version": "3.6.6"
>>>>>>> 62139c30c74d6f2144f6104908e9f6cd8da2344f
  }
 },
 "nbformat": 4,
 "nbformat_minor": 2
}
