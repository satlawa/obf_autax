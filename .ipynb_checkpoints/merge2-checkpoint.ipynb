{
 "cells": [
  {
   "cell_type": "code",
   "execution_count": 1,
   "metadata": {},
   "outputs": [],
   "source": [
    "import os\n",
    "import numpy as np\n",
    "import pandas as pd"
   ]
  },
  {
   "cell_type": "code",
   "execution_count": 2,
   "metadata": {},
   "outputs": [
    {
     "name": "stdout",
     "output_type": "stream",
     "text": [
      "/home/philipp\n",
      "/home/philipp/data/obf/merge/bz/bz_171_01.csv\n",
      "/home/philipp/data/obf/merge/text/text_171_01.csv\n",
      "/home/philipp/data/obf/merge/wtyp_uz/test171_01_v6.csv\n",
      "/home/philipp/data/obf/merge/nutz/nutzungen_171_01.csv\n",
      "/home/philipp/data/obf/merge/raw/TO_1356_01_20200121_wo.XLS\n"
     ]
    }
   ],
   "source": [
    "# set home directory\n",
    "home_path = os.getcwd()[:os.getcwd().find('Code/python/obf_autax')-1]\n",
    "# set bz_path\n",
    "bz_path = os.path.join(home_path, 'data', 'obf', 'merge', 'bz', 'bz_171_01.csv')\n",
    "# set text_path\n",
    "text_path = os.path.join(home_path, 'data', 'obf', 'merge', 'text', 'text_171_01.csv')\n",
    "# set wtyp_path\n",
    "wtyp_path = os.path.join(home_path, 'data', 'obf', 'merge', 'wtyp_uz', 'test171_01_v6.csv')\n",
    "# set nutz_path\n",
    "nutz_path = os.path.join(home_path, 'data', 'obf', 'merge', 'nutz', 'nutzungen_171_01.csv')\n",
    "# set wo_path\n",
    "wo_path = os.path.join(home_path, 'data', 'obf', 'merge', 'raw', 'TO_1356_01_20200121_wo.XLS')\n",
    "\n",
    "\n",
    "print(home_path)\n",
    "print(bz_path)\n",
    "print(text_path)\n",
    "print(wtyp_path)\n",
    "print(nutz_path)\n",
    "print(wo_path)"
   ]
  },
  {
   "cell_type": "code",
   "execution_count": 3,
   "metadata": {},
   "outputs": [],
   "source": [
    "bz_data = pd.read_csv(bz_path, sep=',')\n",
    "nutz_data = pd.read_csv(nutz_path, sep=',')\n",
    "text_data = pd.read_csv(text_path, sep=',')\n",
    "wtyp_data = pd.read_csv(wtyp_path, sep=',')\n",
    "wo_data = pd.read_csv(wo_path, sep='\\t', encoding = \"ISO-8859-1\", decimal=',', error_bad_lines=False)"
   ]
  },
  {
   "cell_type": "code",
   "execution_count": 4,
   "metadata": {},
   "outputs": [],
   "source": [
    "wo_data.sort_values(by=['Abteilung', 'WE-Typ', 'Unterabteil.', 'Teilfl.'], ascending=[True,False,True,True], inplace=True)\n",
    "wo_data = wo_data[['Waldort', 'WE-Typ']]"
   ]
  },
  {
   "cell_type": "code",
   "execution_count": 5,
   "metadata": {},
   "outputs": [],
   "source": [
    "# filter and reorder columns\n",
    "nutz_data = nutz_data.loc[nutz_data['MA1']!='X', ['Waldort','MA1','nutz_area','lh_nutz','nh_nutz','D1','B1','Z1','S1','R1']]\n",
    "# reoder columns\n",
    "wtyp_data = wtyp_data[['Waldort', 'nr_rows', 'uz', 'wtyp']]"
   ]
  },
  {
   "cell_type": "code",
   "execution_count": 6,
   "metadata": {},
   "outputs": [
    {
     "data": {
      "text/html": [
       "<div>\n",
       "<style scoped>\n",
       "    .dataframe tbody tr th:only-of-type {\n",
       "        vertical-align: middle;\n",
       "    }\n",
       "\n",
       "    .dataframe tbody tr th {\n",
       "        vertical-align: top;\n",
       "    }\n",
       "\n",
       "    .dataframe thead th {\n",
       "        text-align: right;\n",
       "    }\n",
       "</style>\n",
       "<table border=\"1\" class=\"dataframe\">\n",
       "  <thead>\n",
       "    <tr style=\"text-align: right;\">\n",
       "      <th></th>\n",
       "      <th>Waldort</th>\n",
       "      <th>nr_rows</th>\n",
       "      <th>uz</th>\n",
       "      <th>wtyp</th>\n",
       "    </tr>\n",
       "  </thead>\n",
       "  <tbody>\n",
       "    <tr>\n",
       "      <td>0</td>\n",
       "      <td>520G0</td>\n",
       "      <td>2.0</td>\n",
       "      <td>120.0</td>\n",
       "      <td>LNF</td>\n",
       "    </tr>\n",
       "    <tr>\n",
       "      <td>1</td>\n",
       "      <td>715G1</td>\n",
       "      <td>4.0</td>\n",
       "      <td>120.0</td>\n",
       "      <td>LNF</td>\n",
       "    </tr>\n",
       "    <tr>\n",
       "      <td>2</td>\n",
       "      <td>599C0</td>\n",
       "      <td>4.0</td>\n",
       "      <td>120.0</td>\n",
       "      <td>LNF</td>\n",
       "    </tr>\n",
       "    <tr>\n",
       "      <td>3</td>\n",
       "      <td>718D2</td>\n",
       "      <td>4.0</td>\n",
       "      <td>140.0</td>\n",
       "      <td>LNF</td>\n",
       "    </tr>\n",
       "    <tr>\n",
       "      <td>4</td>\n",
       "      <td>718D1</td>\n",
       "      <td>4.0</td>\n",
       "      <td>140.0</td>\n",
       "      <td>LNF</td>\n",
       "    </tr>\n",
       "  </tbody>\n",
       "</table>\n",
       "</div>"
      ],
      "text/plain": [
       "  Waldort  nr_rows     uz wtyp\n",
       "0   520G0      2.0  120.0  LNF\n",
       "1   715G1      4.0  120.0  LNF\n",
       "2   599C0      4.0  120.0  LNF\n",
       "3   718D2      4.0  140.0  LNF\n",
       "4   718D1      4.0  140.0  LNF"
      ]
     },
     "execution_count": 6,
     "metadata": {},
     "output_type": "execute_result"
    }
   ],
   "source": [
    "wtyp_data.head()"
   ]
  },
  {
   "cell_type": "code",
   "execution_count": 7,
   "metadata": {},
   "outputs": [
    {
     "name": "stdout",
     "output_type": "stream",
     "text": [
      "(901, 18)\n",
      "(901, 5)\n",
      "(901, 4)\n",
      "(420, 10)\n",
      "(1107, 2)\n"
     ]
    }
   ],
   "source": [
    "print(bz_data.shape)\n",
    "print(text_data.shape)\n",
    "print(wtyp_data.shape)\n",
    "print(nutz_data.shape)\n",
    "print(wo_data.shape)"
   ]
  },
  {
   "cell_type": "code",
   "execution_count": 8,
   "metadata": {},
   "outputs": [],
   "source": [
    "# merge data"
   ]
  },
  {
   "cell_type": "code",
   "execution_count": 9,
   "metadata": {},
   "outputs": [],
   "source": [
    "merge_data = pd.merge(wo_data, wtyp_data, how='left', on='Waldort')"
   ]
  },
  {
   "cell_type": "code",
   "execution_count": 10,
   "metadata": {},
   "outputs": [],
   "source": [
    "merge_data = pd.merge(merge_data, nutz_data, how='outer', on='Waldort')"
   ]
  },
  {
   "cell_type": "code",
   "execution_count": 11,
   "metadata": {},
   "outputs": [],
   "source": [
    "merge_data = pd.merge(merge_data, bz_data, how='outer', on='Waldort')"
   ]
  },
  {
   "cell_type": "code",
   "execution_count": 12,
   "metadata": {},
   "outputs": [],
   "source": [
    "merge_data = pd.merge(merge_data, text_data, how='outer', on='Waldort')"
   ]
  },
  {
   "cell_type": "code",
   "execution_count": 13,
   "metadata": {},
   "outputs": [
    {
     "data": {
      "text/plain": [
       "Index(['Waldort', 'WE-Typ', 'nr_rows', 'uz', 'wtyp', 'MA1', 'nutz_area',\n",
       "       'lh_nutz', 'nh_nutz', 'D1', 'B1', 'Z1', 'S1', 'R1', 'FI', 'TA', 'LA',\n",
       "       'KI', 'DG', 'TH', 'BU', 'EI', 'HB', 'AH', 'ES', 'ER', 'RE', 'SP', 'EL',\n",
       "       'SN', 'SL', 'text_1', 'text_2', 'text_3', 'text_4'],\n",
       "      dtype='object')"
      ]
     },
     "execution_count": 13,
     "metadata": {},
     "output_type": "execute_result"
    }
   ],
   "source": [
    "merge_data.fillna(0,inplace=True)\n",
    "merge_data.columns"
   ]
  },
  {
   "cell_type": "code",
   "execution_count": 14,
   "metadata": {},
   "outputs": [],
   "source": [
    "data_path = os.path.join(home_path, 'data', 'obf', 'merge')\n",
    "merge_data.to_csv(data_path + \"/merge_171_01.csv\", index=False)"
   ]
  },
  {
   "cell_type": "code",
   "execution_count": null,
   "metadata": {},
   "outputs": [],
   "source": []
  }
 ],
 "metadata": {
  "kernelspec": {
   "display_name": "MachineLearing",
   "language": "python",
   "name": "ml"
  },
  "language_info": {
   "codemirror_mode": {
    "name": "ipython",
    "version": 3
   },
   "file_extension": ".py",
   "mimetype": "text/x-python",
   "name": "python",
   "nbconvert_exporter": "python",
   "pygments_lexer": "ipython3",
   "version": "3.7.4"
  }
 },
 "nbformat": 4,
 "nbformat_minor": 2
}
