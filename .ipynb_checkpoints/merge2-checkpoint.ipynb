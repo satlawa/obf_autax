{
 "cells": [
  {
   "cell_type": "code",
   "execution_count": 1,
   "metadata": {},
   "outputs": [],
   "source": [
    "import os\n",
    "import numpy as np\n",
    "import pandas as pd"
   ]
  },
  {
   "cell_type": "code",
   "execution_count": 4,
   "metadata": {},
   "outputs": [
    {
     "name": "stdout",
     "output_type": "stream",
     "text": [
      "/home/philipp\n",
      "/home/philipp/data/obf/merge/bz/bz_171_01.csv\n",
      "/home/philipp/data/obf/merge/text/text_171_01.csv\n",
      "/home/philipp/data/obf/merge/wtyp_uz/test171_01_v6.csv\n",
      "/home/philipp/data/obf/merge/nutz/nutzungen_171_01.csv\n"
     ]
    }
   ],
   "source": [
    "# set home directory\n",
    "home_path = os.getcwd()[:os.getcwd().find('Code/python/obf_autax')-1]\n",
    "# set bz_path\n",
    "bz_path = os.path.join(home_path, 'data', 'obf', 'merge', 'bz', 'bz_171_01.csv')\n",
    "# set text_path\n",
    "text_path = os.path.join(home_path, 'data', 'obf', 'merge', 'text', 'text_171_01.csv')\n",
    "# set wtyp_path\n",
    "wtyp_path = os.path.join(home_path, 'data', 'obf', 'merge', 'wtyp_uz', 'test171_01_v6.csv')\n",
    "# set nutz_path\n",
    "nutz_path = os.path.join(home_path, 'data', 'obf', 'merge', 'nutz', 'nutzungen_171_01.csv')\n",
    "\n",
    "print(home_path)\n",
    "print(bz_path)\n",
    "print(text_path)\n",
    "print(wtyp_path)\n",
    "print(nutz_path)"
   ]
  },
  {
   "cell_type": "code",
   "execution_count": 5,
   "metadata": {},
   "outputs": [],
   "source": [
    "bz_data = pd.read_csv(bz_path, sep=',')\n",
    "nutz_data = pd.read_csv(nutz_path, sep=',')\n",
    "text_data = pd.read_csv(text_path, sep=',')\n",
    "wtyp_data = pd.read_csv(wtyp_path, sep=',')"
   ]
  },
  {
   "cell_type": "code",
   "execution_count": 8,
   "metadata": {},
   "outputs": [],
   "source": [
    "# filter and reorder columns\n",
    "nutz_data = nutz_data.loc[nutz_data['MA1']!='X', ['Waldort','MA1','nutz_area','lh_nutz','nh_nutz','D1','B1','Z1','S1','R1']]\n",
    "# reoder columns\n",
    "wtyp_data = wtyp_data[['Waldort', 'nr_rows', 'uz', 'wtyp']]"
   ]
  },
  {
   "cell_type": "code",
   "execution_count": 9,
   "metadata": {},
   "outputs": [
    {
     "name": "stdout",
     "output_type": "stream",
     "text": [
      "(901, 18)\n",
      "(901, 5)\n",
      "(901, 4)\n",
      "(420, 10)\n"
     ]
    }
   ],
   "source": [
    "print(bz_data.shape)\n",
    "print(text_data.shape)\n",
    "print(wtyp_data.shape)\n",
    "print(nutz_data.shape)"
   ]
  },
  {
   "cell_type": "code",
   "execution_count": 10,
   "metadata": {},
   "outputs": [],
   "source": [
    "# merge data"
   ]
  },
  {
   "cell_type": "code",
   "execution_count": null,
   "metadata": {},
   "outputs": [],
   "source": [
    "merge_data = pd.merge(bz_data, nutz_data, how='left', on='Waldort')"
   ]
  }
 ],
 "metadata": {
  "kernelspec": {
   "display_name": "MachineLearing",
   "language": "python",
   "name": "ml"
  },
  "language_info": {
   "codemirror_mode": {
    "name": "ipython",
    "version": 3
   },
   "file_extension": ".py",
   "mimetype": "text/x-python",
   "name": "python",
   "nbconvert_exporter": "python",
   "pygments_lexer": "ipython3",
   "version": "3.7.4"
  }
 },
 "nbformat": 4,
 "nbformat_minor": 2
}
