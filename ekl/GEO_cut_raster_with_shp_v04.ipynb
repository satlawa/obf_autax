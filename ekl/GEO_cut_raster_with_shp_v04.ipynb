{
 "cells": [
  {
   "cell_type": "markdown",
   "metadata": {},
   "source": [
    "## Oberhöhen\n",
    "input: shape - polygons with the Waldorte-Code (WO)<br>\n",
    "input: tif - hight of the trees<br>\n",
    "output: csv - three heigths (oh) per WO<br>"
   ]
  },
  {
   "cell_type": "code",
   "execution_count": 2,
   "metadata": {},
   "outputs": [],
   "source": [
    "import os\n",
    "from GISOh import GISOh\n",
    "from SAPAge import SAPAge\n",
    "from OBFEkl import OBFEkl"
   ]
  },
  {
   "cell_type": "code",
   "execution_count": 2,
   "metadata": {},
   "outputs": [
    {
     "name": "stdout",
     "output_type": "stream",
     "text": [
      "/home/philipp\n",
      "/home/philipp/Data/obf_autax/ekl/wo/171_12_wo_pj.shp\n",
      "/home/philipp/Data/obf_autax/ekl/tiff/FB171_ndsm.tif\n",
      "/home/philipp/Data/obf_autax/ekl/output/oh_TO1310_12.csv\n"
     ]
    }
   ],
   "source": [
    "# set home directory\n",
    "home_path = os.getcwd()[:os.getcwd().find('Code/python/obf_autax/ekl')-1]\n",
    "# set shape_path\n",
    "shape_path = os.path.join(home_path, 'Data', 'obf_autax', 'ekl', 'wo', '171_12_wo_pj.shp')\n",
    "# set tiff_path\n",
    "tiff_path = os.path.join(home_path, 'Data', 'obf_autax', 'ekl', 'tiff', 'FB171_ndsm.tif')\n",
    "# set output_path\n",
    "output_path = os.path.join(home_path, 'Data', 'obf_autax', 'ekl', 'output', 'oh_TO1310_12.csv')\n",
    "\n",
    "print(home_path)\n",
    "print(shape_path)\n",
    "print(tiff_path)\n",
    "print(output_path)"
   ]
  },
  {
   "cell_type": "code",
   "execution_count": 4,
   "metadata": {},
   "outputs": [],
   "source": [
    "geo = GISOh(shape_path)"
   ]
  },
  {
   "cell_type": "code",
   "execution_count": 4,
   "metadata": {},
   "outputs": [],
   "source": [
    "df_oh = geo.main('oh', tiff_path)"
   ]
  },
  {
   "cell_type": "code",
   "execution_count": 5,
   "metadata": {},
   "outputs": [],
   "source": [
    "df_oh.to_csv(output_path, index=False)"
   ]
  },
  {
   "cell_type": "code",
   "execution_count": 6,
   "metadata": {},
   "outputs": [
    {
     "data": {
      "text/html": [
       "<div>\n",
       "<style scoped>\n",
       "    .dataframe tbody tr th:only-of-type {\n",
       "        vertical-align: middle;\n",
       "    }\n",
       "\n",
       "    .dataframe tbody tr th {\n",
       "        vertical-align: top;\n",
       "    }\n",
       "\n",
       "    .dataframe thead th {\n",
       "        text-align: right;\n",
       "    }\n",
       "</style>\n",
       "<table border=\"1\" class=\"dataframe\">\n",
       "  <thead>\n",
       "    <tr style=\"text-align: right;\">\n",
       "      <th></th>\n",
       "      <th>wo</th>\n",
       "      <th>oh</th>\n",
       "      <th>area</th>\n",
       "    </tr>\n",
       "  </thead>\n",
       "  <tbody>\n",
       "    <tr>\n",
       "      <th>0</th>\n",
       "      <td>202v_3/001</td>\n",
       "      <td>0.635400</td>\n",
       "      <td>17116.236829</td>\n",
       "    </tr>\n",
       "    <tr>\n",
       "      <th>1</th>\n",
       "      <td>202G0</td>\n",
       "      <td>18.895410</td>\n",
       "      <td>15984.320097</td>\n",
       "    </tr>\n",
       "    <tr>\n",
       "      <th>2</th>\n",
       "      <td>202F2</td>\n",
       "      <td>15.806030</td>\n",
       "      <td>15185.077900</td>\n",
       "    </tr>\n",
       "    <tr>\n",
       "      <th>3</th>\n",
       "      <td>202G0</td>\n",
       "      <td>21.734009</td>\n",
       "      <td>11830.447295</td>\n",
       "    </tr>\n",
       "    <tr>\n",
       "      <th>4</th>\n",
       "      <td>202E3</td>\n",
       "      <td>17.640601</td>\n",
       "      <td>7121.355644</td>\n",
       "    </tr>\n",
       "    <tr>\n",
       "      <th>...</th>\n",
       "      <td>...</td>\n",
       "      <td>...</td>\n",
       "      <td>...</td>\n",
       "    </tr>\n",
       "    <tr>\n",
       "      <th>1361</th>\n",
       "      <td>201B5</td>\n",
       "      <td>13.602832</td>\n",
       "      <td>7319.921619</td>\n",
       "    </tr>\n",
       "    <tr>\n",
       "      <th>1362</th>\n",
       "      <td>201B4</td>\n",
       "      <td>13.871228</td>\n",
       "      <td>3449.397989</td>\n",
       "    </tr>\n",
       "    <tr>\n",
       "      <th>1363</th>\n",
       "      <td>201B3</td>\n",
       "      <td>22.258398</td>\n",
       "      <td>7156.780974</td>\n",
       "    </tr>\n",
       "    <tr>\n",
       "      <th>1364</th>\n",
       "      <td>205C2</td>\n",
       "      <td>22.944031</td>\n",
       "      <td>12898.234117</td>\n",
       "    </tr>\n",
       "    <tr>\n",
       "      <th>1365</th>\n",
       "      <td>306A1</td>\n",
       "      <td>26.776636</td>\n",
       "      <td>18895.299374</td>\n",
       "    </tr>\n",
       "  </tbody>\n",
       "</table>\n",
       "<p>1366 rows × 3 columns</p>\n",
       "</div>"
      ],
      "text/plain": [
       "              wo         oh          area\n",
       "0     202v_3/001   0.635400  17116.236829\n",
       "1          202G0  18.895410  15984.320097\n",
       "2          202F2  15.806030  15185.077900\n",
       "3          202G0  21.734009  11830.447295\n",
       "4          202E3  17.640601   7121.355644\n",
       "...          ...        ...           ...\n",
       "1361       201B5  13.602832   7319.921619\n",
       "1362       201B4  13.871228   3449.397989\n",
       "1363       201B3  22.258398   7156.780974\n",
       "1364       205C2  22.944031  12898.234117\n",
       "1365       306A1  26.776636  18895.299374\n",
       "\n",
       "[1366 rows x 3 columns]"
      ]
     },
     "execution_count": 6,
     "metadata": {},
     "output_type": "execute_result"
    }
   ],
   "source": [
    "df_oh"
   ]
  },
  {
   "cell_type": "code",
   "execution_count": null,
   "metadata": {},
   "outputs": [],
   "source": []
  },
  {
   "cell_type": "code",
   "execution_count": 7,
   "metadata": {},
   "outputs": [],
   "source": [
    "# set tiff_path\n",
    "tiff_path = os.path.join(home_path, 'Data', 'obf_autax', 'ekl', 'tiff', 'FB171_vor.tif')\n",
    "# set output_path\n",
    "output_path = os.path.join(home_path, 'Data', 'obf_autax', 'ekl', 'output', 'v_TO1310_12.csv')\n",
    "\n",
    "df_v = geo.main('v', tiff_path, output_path)"
   ]
  },
  {
   "cell_type": "code",
   "execution_count": 8,
   "metadata": {},
   "outputs": [
    {
     "data": {
      "text/html": [
       "<div>\n",
       "<style scoped>\n",
       "    .dataframe tbody tr th:only-of-type {\n",
       "        vertical-align: middle;\n",
       "    }\n",
       "\n",
       "    .dataframe tbody tr th {\n",
       "        vertical-align: top;\n",
       "    }\n",
       "\n",
       "    .dataframe thead th {\n",
       "        text-align: right;\n",
       "    }\n",
       "</style>\n",
       "<table border=\"1\" class=\"dataframe\">\n",
       "  <thead>\n",
       "    <tr style=\"text-align: right;\">\n",
       "      <th></th>\n",
       "      <th>wo</th>\n",
       "      <th>v</th>\n",
       "      <th>area</th>\n",
       "    </tr>\n",
       "  </thead>\n",
       "  <tbody>\n",
       "    <tr>\n",
       "      <th>0</th>\n",
       "      <td>202v_3/001</td>\n",
       "      <td>13.582274</td>\n",
       "      <td>17116.236829</td>\n",
       "    </tr>\n",
       "    <tr>\n",
       "      <th>1</th>\n",
       "      <td>202G0</td>\n",
       "      <td>311.708069</td>\n",
       "      <td>15984.320097</td>\n",
       "    </tr>\n",
       "    <tr>\n",
       "      <th>2</th>\n",
       "      <td>202F2</td>\n",
       "      <td>309.026337</td>\n",
       "      <td>15185.077900</td>\n",
       "    </tr>\n",
       "    <tr>\n",
       "      <th>3</th>\n",
       "      <td>202G0</td>\n",
       "      <td>378.455231</td>\n",
       "      <td>11830.447295</td>\n",
       "    </tr>\n",
       "    <tr>\n",
       "      <th>4</th>\n",
       "      <td>202E3</td>\n",
       "      <td>263.417175</td>\n",
       "      <td>7121.355644</td>\n",
       "    </tr>\n",
       "    <tr>\n",
       "      <th>...</th>\n",
       "      <td>...</td>\n",
       "      <td>...</td>\n",
       "      <td>...</td>\n",
       "    </tr>\n",
       "    <tr>\n",
       "      <th>1361</th>\n",
       "      <td>201B5</td>\n",
       "      <td>134.391586</td>\n",
       "      <td>7319.921619</td>\n",
       "    </tr>\n",
       "    <tr>\n",
       "      <th>1362</th>\n",
       "      <td>201B4</td>\n",
       "      <td>204.976486</td>\n",
       "      <td>3449.397989</td>\n",
       "    </tr>\n",
       "    <tr>\n",
       "      <th>1363</th>\n",
       "      <td>201B3</td>\n",
       "      <td>341.227631</td>\n",
       "      <td>7156.780974</td>\n",
       "    </tr>\n",
       "    <tr>\n",
       "      <th>1364</th>\n",
       "      <td>205C2</td>\n",
       "      <td>303.077576</td>\n",
       "      <td>12898.234117</td>\n",
       "    </tr>\n",
       "    <tr>\n",
       "      <th>1365</th>\n",
       "      <td>306A1</td>\n",
       "      <td>333.862610</td>\n",
       "      <td>18895.299374</td>\n",
       "    </tr>\n",
       "  </tbody>\n",
       "</table>\n",
       "<p>1366 rows × 3 columns</p>\n",
       "</div>"
      ],
      "text/plain": [
       "              wo           v          area\n",
       "0     202v_3/001   13.582274  17116.236829\n",
       "1          202G0  311.708069  15984.320097\n",
       "2          202F2  309.026337  15185.077900\n",
       "3          202G0  378.455231  11830.447295\n",
       "4          202E3  263.417175   7121.355644\n",
       "...          ...         ...           ...\n",
       "1361       201B5  134.391586   7319.921619\n",
       "1362       201B4  204.976486   3449.397989\n",
       "1363       201B3  341.227631   7156.780974\n",
       "1364       205C2  303.077576  12898.234117\n",
       "1365       306A1  333.862610  18895.299374\n",
       "\n",
       "[1366 rows x 3 columns]"
      ]
     },
     "execution_count": 8,
     "metadata": {},
     "output_type": "execute_result"
    }
   ],
   "source": [
    "df_v"
   ]
  },
  {
   "cell_type": "code",
   "execution_count": null,
   "metadata": {},
   "outputs": [],
   "source": []
  },
  {
   "cell_type": "code",
   "execution_count": 9,
   "metadata": {},
   "outputs": [],
   "source": [
    "## Age"
   ]
  },
  {
   "cell_type": "code",
   "execution_count": 10,
   "metadata": {},
   "outputs": [
    {
     "name": "stdout",
     "output_type": "stream",
     "text": [
      "/home/philipp\n",
      "/home/philipp/Data/obf_autax/ekl/TO_1310_12_roh_20200828.XLS\n",
      "/home/philipp/Data/obf_autax/ekl/output/age_TO1310_12.csv\n"
     ]
    }
   ],
   "source": [
    "# set input_path\n",
    "input_path = os.path.join(home_path, 'Data', 'obf_autax', 'ekl', 'TO_1310_12_roh_20200828.XLS')\n",
    "# set output_path\n",
    "output_path = os.path.join(home_path, 'Data', 'obf_autax', 'ekl', 'output', 'age_TO1310_12.csv')\n",
    "\n",
    "print(home_path)\n",
    "print(input_path)\n",
    "print(output_path)"
   ]
  },
  {
   "cell_type": "code",
   "execution_count": 11,
   "metadata": {},
   "outputs": [],
   "source": [
    "age = SAPAge(input_path)"
   ]
  },
  {
   "cell_type": "code",
   "execution_count": 12,
   "metadata": {},
   "outputs": [
    {
     "name": "stderr",
     "output_type": "stream",
     "text": [
      "/home/philipp/miniconda3/envs/gis/lib/python3.8/site-packages/IPython/core/interactiveshell.py:3263: DtypeWarning: Columns (40,149) have mixed types.Specify dtype option on import or set low_memory=False.\n",
      "  if (await self.run_code(code, result,  async_=asy)):\n"
     ]
    }
   ],
   "source": [
    "df_age = age.main()"
   ]
  },
  {
   "cell_type": "code",
   "execution_count": 13,
   "metadata": {},
   "outputs": [],
   "source": [
    "# filter Abt higher than 200\n",
    "df_age = df_age[df_age['Abteilung'] > 200]\n",
    "\n",
    "df_age.to_csv(output_path, index=False)"
   ]
  },
  {
   "cell_type": "code",
   "execution_count": null,
   "metadata": {},
   "outputs": [],
   "source": []
  },
  {
   "cell_type": "code",
   "execution_count": 14,
   "metadata": {},
   "outputs": [],
   "source": [
    "## ekl"
   ]
  },
  {
   "cell_type": "code",
   "execution_count": 1,
   "metadata": {},
   "outputs": [],
   "source": [
    "import os\n",
    "from GISOh import GISOh\n",
    "from SAPAge import SAPAge\n",
    "from OBFEkl import OBFEkl\n",
    "\n",
    "import numpy as np"
   ]
  },
  {
   "cell_type": "code",
   "execution_count": 2,
   "metadata": {},
   "outputs": [
    {
     "name": "stdout",
     "output_type": "stream",
     "text": [
      "/home/philipp/Data/obf_autax/ekl/ertragstafeln.csv\n",
      "/home/philipp/Data/obf_autax/ekl/output/oh_TO1310_12.csv\n",
      "/home/philipp/Data/obf_autax/ekl/output/age_TO1310_12.csv\n",
      "/home/philipp/Data/obf_autax/ekl/output/ekl_TO1310_12.csv\n"
     ]
    }
   ],
   "source": [
    "# set home directory\n",
    "home_path = os.getcwd()[:os.getcwd().find('Code/python/obf_autax/ekl')-1]\n",
    "# set et_path\n",
    "et_path = os.path.join(home_path, 'Data', 'obf_autax', 'ekl', 'ertragstafeln.csv')\n",
    "# set height_path\n",
    "height_path = os.path.join(home_path, 'Data', 'obf_autax', 'ekl', 'output', 'oh_TO1310_12.csv')\n",
    "# set mass_path\n",
    "mass_path = os.path.join(home_path, 'Data', 'obf_autax', 'ekl', 'output', 'v_TO1310_12.csv')\n",
    "# set age_path\n",
    "age_path = os.path.join(home_path, 'Data', 'obf_autax', 'ekl', 'output', 'age_TO1310_12.csv')\n",
    "# set output_path\n",
    "output_path = os.path.join(home_path, 'Data', 'obf_autax', 'ekl', 'output', 'ekl_TO1310_12.csv')\n",
    "\n",
    "print(et_path)\n",
    "print(height_path)\n",
    "print(age_path)\n",
    "print(output_path)"
   ]
  },
  {
   "cell_type": "code",
   "execution_count": 3,
   "metadata": {},
   "outputs": [],
   "source": [
    "ekl = OBFEkl(height_path, age_path, et_path)"
   ]
  },
  {
   "cell_type": "code",
   "execution_count": 4,
   "metadata": {},
   "outputs": [
    {
     "name": "stdout",
     "output_type": "stream",
     "text": [
      "[['FI_hoch', 1], ['FI_bayer', 2], ['FI_bruck', 3], ['FI_weit', 4], ['TA_wuet', 5], ['TA_nwd', 6], ['LA', 7], ['KI', 8], ['BU', 9], ['DG', 10], ['EI', 11], ['SK', 14], ['KW', 15], ['HB', 16], ['ER', 17], ['BI', 18], ['SP', 19], ['RO', 20], ['HP', 21], ['ES', 22], ['LA_sTirol', 29], ['KI_sTirol', 30]]\n"
     ]
    }
   ],
   "source": [
    "ekl.print_et()"
   ]
  },
  {
   "cell_type": "code",
   "execution_count": 5,
   "metadata": {},
   "outputs": [
    {
     "data": {
      "text/plain": [
       "[[1, 'fi'], [6, 'ta'], [7, 'la'], [9, 'bu']]"
      ]
     },
     "execution_count": 5,
     "metadata": {},
     "output_type": "execute_result"
    }
   ],
   "source": [
    "ekl.get_ba()"
   ]
  },
  {
   "cell_type": "code",
   "execution_count": 6,
   "metadata": {},
   "outputs": [],
   "source": [
    "ekl.set_ba([[3, 'FI'], [9, 'BU'], [6, 'TA'], [7, 'LA'], [8, 'KI'], [14, 'SK']])"
   ]
  },
  {
   "cell_type": "code",
   "execution_count": 7,
   "metadata": {},
   "outputs": [],
   "source": [
    "#ekl.set_ba([[3, 'FI']])"
   ]
  },
  {
   "cell_type": "code",
   "execution_count": 8,
   "metadata": {},
   "outputs": [],
   "source": [
    "ekl.set_im_vor(mass_path)"
   ]
  },
  {
   "cell_type": "code",
   "execution_count": 9,
   "metadata": {},
   "outputs": [
    {
     "name": "stdout",
     "output_type": "stream",
     "text": [
      "[3, 'FI']\n",
      "[9, 'BU']\n",
      "[6, 'TA']\n",
      "[7, 'LA']\n",
      "[8, 'KI']\n",
      "[14, 'SK']\n"
     ]
    }
   ],
   "source": [
    "df_ekl = ekl.main(output_path)"
   ]
  },
  {
   "cell_type": "code",
   "execution_count": 10,
   "metadata": {},
   "outputs": [
    {
     "data": {
      "text/plain": [
       "Index(['Forstbetrieb.1', 'Teiloperats-ID.1', 'Forstrevier', 'Abteilung',\n",
       "       'Unterabteil.', 'Teilfl.', 'WE-Typ', 'Betriebsklasse', 'Umtriebszeit',\n",
       "       'Nebengrund Art', 'Ertragssituation', 'Bewirtschaftungsform',\n",
       "       'Schutzwaldkategorie', 'Fläche in HA', 'Seehöhe', 'Exposition',\n",
       "       'Neigung', 'Standorteinheit', 'Vegetationstyp', 'Waldtyp',\n",
       "       'Wuchsgebiet', 'Überh. Laubholz', 'Überh. Nadelhz.', 'Waldort',\n",
       "       'Best.-Schicht', 'Schichtanteil', 'Schichtalter', 'S-Best.grad',\n",
       "       'Best.-Schicht.1', 'Baumart', 'Baumartenanteil', 'BaumartenBestockgrad',\n",
       "       'Schälgrad', 'Ertragsklasse', 'Vorrat / ha', 'Laubholzvorrat / ha',\n",
       "       'Nadelholzvorrat / ha', 'Vorrat am Ort', 'Laubholzvorrat Ort',\n",
       "       'Nadelholzvorrat Ort', 'GSOLL / HA', 'GIST / HA', 'lauf. Zuwachs / HA',\n",
       "       'DGZU / HA', 'HDZ', 'LGZ', 'WO', 'age', 'oh', 'mass', 'area', 'FI_ekl',\n",
       "       'FI_g', 'FI_v'],\n",
       "      dtype='object')"
      ]
     },
     "execution_count": 10,
     "metadata": {},
     "output_type": "execute_result"
    }
   ],
   "source": [
    "df_ekl.columns"
   ]
  },
  {
   "cell_type": "code",
   "execution_count": 11,
   "metadata": {},
   "outputs": [
    {
     "data": {
      "text/html": [
       "<div>\n",
       "<style scoped>\n",
       "    .dataframe tbody tr th:only-of-type {\n",
       "        vertical-align: middle;\n",
       "    }\n",
       "\n",
       "    .dataframe tbody tr th {\n",
       "        vertical-align: top;\n",
       "    }\n",
       "\n",
       "    .dataframe thead th {\n",
       "        text-align: right;\n",
       "    }\n",
       "</style>\n",
       "<table border=\"1\" class=\"dataframe\">\n",
       "  <thead>\n",
       "    <tr style=\"text-align: right;\">\n",
       "      <th></th>\n",
       "      <th>Waldort</th>\n",
       "      <th>Best.-Schicht</th>\n",
       "      <th>Schichtanteil</th>\n",
       "      <th>Schichtalter</th>\n",
       "      <th>S-Best.grad</th>\n",
       "      <th>Baumart</th>\n",
       "      <th>WO</th>\n",
       "      <th>age</th>\n",
       "      <th>oh</th>\n",
       "      <th>mass</th>\n",
       "      <th>area</th>\n",
       "      <th>FI_ekl</th>\n",
       "    </tr>\n",
       "  </thead>\n",
       "  <tbody>\n",
       "    <tr>\n",
       "      <th>0</th>\n",
       "      <td>211D2</td>\n",
       "      <td>1</td>\n",
       "      <td>100</td>\n",
       "      <td>26</td>\n",
       "      <td>1.0</td>\n",
       "      <td>NaN</td>\n",
       "      <td>211D2</td>\n",
       "      <td>26</td>\n",
       "      <td>12.980957</td>\n",
       "      <td>206.460541</td>\n",
       "      <td>4008.835390</td>\n",
       "      <td>8.783649</td>\n",
       "    </tr>\n",
       "    <tr>\n",
       "      <th>1</th>\n",
       "      <td>203F1</td>\n",
       "      <td>1</td>\n",
       "      <td>40</td>\n",
       "      <td>186</td>\n",
       "      <td>0.4</td>\n",
       "      <td>NaN</td>\n",
       "      <td>203F1</td>\n",
       "      <td>186</td>\n",
       "      <td>20.699036</td>\n",
       "      <td>345.922668</td>\n",
       "      <td>46474.049004</td>\n",
       "      <td>1.615014</td>\n",
       "    </tr>\n",
       "    <tr>\n",
       "      <th>2</th>\n",
       "      <td>292N1</td>\n",
       "      <td>1</td>\n",
       "      <td>90</td>\n",
       "      <td>76</td>\n",
       "      <td>0.9</td>\n",
       "      <td>NaN</td>\n",
       "      <td>292N1</td>\n",
       "      <td>76</td>\n",
       "      <td>19.787997</td>\n",
       "      <td>324.429291</td>\n",
       "      <td>11233.603950</td>\n",
       "      <td>4.049230</td>\n",
       "    </tr>\n",
       "    <tr>\n",
       "      <th>3</th>\n",
       "      <td>207I3</td>\n",
       "      <td>1</td>\n",
       "      <td>100</td>\n",
       "      <td>16</td>\n",
       "      <td>0.8</td>\n",
       "      <td>NaN</td>\n",
       "      <td>207I3</td>\n",
       "      <td>16</td>\n",
       "      <td>23.610797</td>\n",
       "      <td>97.780319</td>\n",
       "      <td>7938.496858</td>\n",
       "      <td>44.454279</td>\n",
       "    </tr>\n",
       "    <tr>\n",
       "      <th>4</th>\n",
       "      <td>211D3</td>\n",
       "      <td>1</td>\n",
       "      <td>100</td>\n",
       "      <td>26</td>\n",
       "      <td>1.0</td>\n",
       "      <td>NaN</td>\n",
       "      <td>211D3</td>\n",
       "      <td>26</td>\n",
       "      <td>10.923810</td>\n",
       "      <td>104.917824</td>\n",
       "      <td>3702.098614</td>\n",
       "      <td>0.000000</td>\n",
       "    </tr>\n",
       "    <tr>\n",
       "      <th>...</th>\n",
       "      <td>...</td>\n",
       "      <td>...</td>\n",
       "      <td>...</td>\n",
       "      <td>...</td>\n",
       "      <td>...</td>\n",
       "      <td>...</td>\n",
       "      <td>...</td>\n",
       "      <td>...</td>\n",
       "      <td>...</td>\n",
       "      <td>...</td>\n",
       "      <td>...</td>\n",
       "      <td>...</td>\n",
       "    </tr>\n",
       "    <tr>\n",
       "      <th>829</th>\n",
       "      <td>294A0</td>\n",
       "      <td>1</td>\n",
       "      <td>100</td>\n",
       "      <td>91</td>\n",
       "      <td>1.0</td>\n",
       "      <td>NaN</td>\n",
       "      <td>294A0</td>\n",
       "      <td>91</td>\n",
       "      <td>18.585999</td>\n",
       "      <td>245.387421</td>\n",
       "      <td>88456.216677</td>\n",
       "      <td>2.802222</td>\n",
       "    </tr>\n",
       "    <tr>\n",
       "      <th>830</th>\n",
       "      <td>293C1</td>\n",
       "      <td>2</td>\n",
       "      <td>10</td>\n",
       "      <td>36</td>\n",
       "      <td>0.9</td>\n",
       "      <td>NaN</td>\n",
       "      <td>293C1</td>\n",
       "      <td>36</td>\n",
       "      <td>14.870819</td>\n",
       "      <td>205.051300</td>\n",
       "      <td>39683.483963</td>\n",
       "      <td>6.715847</td>\n",
       "    </tr>\n",
       "    <tr>\n",
       "      <th>831</th>\n",
       "      <td>217F3</td>\n",
       "      <td>1</td>\n",
       "      <td>100</td>\n",
       "      <td>56</td>\n",
       "      <td>1.0</td>\n",
       "      <td>NaN</td>\n",
       "      <td>217F3</td>\n",
       "      <td>56</td>\n",
       "      <td>20.255731</td>\n",
       "      <td>379.276886</td>\n",
       "      <td>12636.017891</td>\n",
       "      <td>6.107545</td>\n",
       "    </tr>\n",
       "    <tr>\n",
       "      <th>832</th>\n",
       "      <td>300B3</td>\n",
       "      <td>1</td>\n",
       "      <td>100</td>\n",
       "      <td>41</td>\n",
       "      <td>1.0</td>\n",
       "      <td>NaN</td>\n",
       "      <td>300B3</td>\n",
       "      <td>41</td>\n",
       "      <td>17.013347</td>\n",
       "      <td>214.291024</td>\n",
       "      <td>11642.318070</td>\n",
       "      <td>6.920842</td>\n",
       "    </tr>\n",
       "    <tr>\n",
       "      <th>833</th>\n",
       "      <td>287L0</td>\n",
       "      <td>1</td>\n",
       "      <td>100</td>\n",
       "      <td>91</td>\n",
       "      <td>1.0</td>\n",
       "      <td>NaN</td>\n",
       "      <td>287L0</td>\n",
       "      <td>91</td>\n",
       "      <td>23.566775</td>\n",
       "      <td>359.684687</td>\n",
       "      <td>26767.030735</td>\n",
       "      <td>4.646954</td>\n",
       "    </tr>\n",
       "  </tbody>\n",
       "</table>\n",
       "<p>834 rows × 12 columns</p>\n",
       "</div>"
      ],
      "text/plain": [
       "    Waldort  Best.-Schicht  Schichtanteil  Schichtalter  S-Best.grad  Baumart  \\\n",
       "0     211D2              1            100            26          1.0      NaN   \n",
       "1     203F1              1             40           186          0.4      NaN   \n",
       "2     292N1              1             90            76          0.9      NaN   \n",
       "3     207I3              1            100            16          0.8      NaN   \n",
       "4     211D3              1            100            26          1.0      NaN   \n",
       "..      ...            ...            ...           ...          ...      ...   \n",
       "829   294A0              1            100            91          1.0      NaN   \n",
       "830   293C1              2             10            36          0.9      NaN   \n",
       "831   217F3              1            100            56          1.0      NaN   \n",
       "832   300B3              1            100            41          1.0      NaN   \n",
       "833   287L0              1            100            91          1.0      NaN   \n",
       "\n",
       "        WO  age         oh        mass          area     FI_ekl  \n",
       "0    211D2   26  12.980957  206.460541   4008.835390   8.783649  \n",
       "1    203F1  186  20.699036  345.922668  46474.049004   1.615014  \n",
       "2    292N1   76  19.787997  324.429291  11233.603950   4.049230  \n",
       "3    207I3   16  23.610797   97.780319   7938.496858  44.454279  \n",
       "4    211D3   26  10.923810  104.917824   3702.098614   0.000000  \n",
       "..     ...  ...        ...         ...           ...        ...  \n",
       "829  294A0   91  18.585999  245.387421  88456.216677   2.802222  \n",
       "830  293C1   36  14.870819  205.051300  39683.483963   6.715847  \n",
       "831  217F3   56  20.255731  379.276886  12636.017891   6.107545  \n",
       "832  300B3   41  17.013347  214.291024  11642.318070   6.920842  \n",
       "833  287L0   91  23.566775  359.684687  26767.030735   4.646954  \n",
       "\n",
       "[834 rows x 12 columns]"
      ]
     },
     "execution_count": 11,
     "metadata": {},
     "output_type": "execute_result"
    }
   ],
   "source": [
    "df_ekl[['Waldort',  'Best.-Schicht', 'Schichtanteil', 'Schichtalter', 'S-Best.grad', 'Baumart','WO', 'age', 'oh', 'mass', 'area', 'FI_ekl']]"
   ]
  },
  {
   "cell_type": "code",
   "execution_count": null,
   "metadata": {},
   "outputs": [],
   "source": []
  },
  {
   "cell_type": "code",
   "execution_count": 10,
   "metadata": {},
   "outputs": [
    {
     "data": {
      "text/plain": [
       "array([  9.53333333,  56.13333333, 797.93333333])"
      ]
     },
     "execution_count": 10,
     "metadata": {},
     "output_type": "execute_result"
    }
   ],
   "source": [
    "ekl.bon_new(3, 140, 35.2)"
   ]
  },
  {
   "cell_type": "code",
   "execution_count": 8,
   "metadata": {},
   "outputs": [
    {
     "data": {
      "text/plain": [
       "array([[1.00000000e+00, 1.00000000e+00, 0.00000000e+00, ...,\n",
       "        0.00000000e+00, 0.00000000e+00, 0.00000000e+00],\n",
       "       [1.00000000e+00, 1.00000000e+00, 5.00000000e+00, ...,\n",
       "        0.00000000e+00, 0.00000000e+00, 0.00000000e+00],\n",
       "       [1.00000000e+00, 1.00000000e+00, 1.00000000e+01, ...,\n",
       "        0.00000000e+00, 0.00000000e+00, 0.00000000e+00],\n",
       "       ...,\n",
       "       [5.00300000e+03, 1.10000000e+01, 3.90000000e+02, ...,\n",
       "        1.60400000e+03, 1.06933333e+01, 8.16000000e+00],\n",
       "       [5.00300000e+03, 1.10000000e+01, 3.95000000e+02, ...,\n",
       "        1.60400000e+03, 1.06933333e+01, 8.16000000e+00],\n",
       "       [5.00300000e+03, 1.10000000e+01, 4.00000000e+02, ...,\n",
       "        1.60400000e+03, 1.06933333e+01, 8.16000000e+00]])"
      ]
     },
     "execution_count": 8,
     "metadata": {},
     "output_type": "execute_result"
    }
   ],
   "source": [
    "ekl.et_data"
   ]
  },
  {
   "cell_type": "code",
   "execution_count": 9,
   "metadata": {},
   "outputs": [
    {
     "data": {
      "text/html": [
       "<div>\n",
       "<style scoped>\n",
       "    .dataframe tbody tr th:only-of-type {\n",
       "        vertical-align: middle;\n",
       "    }\n",
       "\n",
       "    .dataframe tbody tr th {\n",
       "        vertical-align: top;\n",
       "    }\n",
       "\n",
       "    .dataframe thead th {\n",
       "        text-align: right;\n",
       "    }\n",
       "</style>\n",
       "<table border=\"1\" class=\"dataframe\">\n",
       "  <thead>\n",
       "    <tr style=\"text-align: right;\">\n",
       "      <th></th>\n",
       "      <th>Forstbetrieb.1</th>\n",
       "      <th>Teiloperats-ID.1</th>\n",
       "      <th>Forstrevier</th>\n",
       "      <th>Abteilung</th>\n",
       "      <th>Unterabteil.</th>\n",
       "      <th>Teilfl.</th>\n",
       "      <th>WE-Typ</th>\n",
       "      <th>Betriebsklasse</th>\n",
       "      <th>Umtriebszeit</th>\n",
       "      <th>Nebengrund Art</th>\n",
       "      <th>...</th>\n",
       "      <th>GSOLL / HA</th>\n",
       "      <th>GIST / HA</th>\n",
       "      <th>lauf. Zuwachs / HA</th>\n",
       "      <th>DGZU / HA</th>\n",
       "      <th>HDZ</th>\n",
       "      <th>LGZ</th>\n",
       "      <th>WO</th>\n",
       "      <th>age</th>\n",
       "      <th>oh</th>\n",
       "      <th>area</th>\n",
       "    </tr>\n",
       "  </thead>\n",
       "  <tbody>\n",
       "  </tbody>\n",
       "</table>\n",
       "<p>0 rows × 50 columns</p>\n",
       "</div>"
      ],
      "text/plain": [
       "Empty DataFrame\n",
       "Columns: [Forstbetrieb.1, Teiloperats-ID.1, Forstrevier, Abteilung, Unterabteil., Teilfl., WE-Typ, Betriebsklasse, Umtriebszeit, Nebengrund Art, Ertragssituation, Bewirtschaftungsform, Schutzwaldkategorie, Fläche in HA, Seehöhe, Exposition, Neigung, Standorteinheit, Vegetationstyp, Waldtyp, Wuchsgebiet, Überh. Laubholz, Überh. Nadelhz., Waldort, Best.-Schicht, Schichtanteil, Schichtalter, S-Best.grad, Best.-Schicht.1, Baumart, Baumartenanteil, BaumartenBestockgrad, Schälgrad, Ertragsklasse, Vorrat / ha, Laubholzvorrat / ha, Nadelholzvorrat / ha, Vorrat am Ort, Laubholzvorrat Ort, Nadelholzvorrat Ort, GSOLL / HA, GIST / HA, lauf. Zuwachs / HA, DGZU / HA, HDZ, LGZ, WO, age, oh, area]\n",
       "Index: []\n",
       "\n",
       "[0 rows x 50 columns]"
      ]
     },
     "execution_count": 9,
     "metadata": {},
     "output_type": "execute_result"
    }
   ],
   "source": [
    "ekl.alter_data"
   ]
  },
  {
   "cell_type": "code",
   "execution_count": null,
   "metadata": {},
   "outputs": [],
   "source": []
  },
  {
   "cell_type": "code",
   "execution_count": 1,
   "metadata": {},
   "outputs": [],
   "source": [
    "import os\n",
    "import numpy as np\n",
    "import pandas as pd\n",
    "import fiona\n",
    "import rasterio\n",
    "from rasterio.mask import mask"
   ]
  },
  {
   "cell_type": "code",
   "execution_count": 2,
   "metadata": {},
   "outputs": [
    {
     "name": "stdout",
     "output_type": "stream",
     "text": [
      "/home/philipp\n",
      "/home/philipp/Data/obf_autax/ekl/wo/171_12_wo_pj.shp\n",
      "/home/philipp/Data/obf_autax/ekl/tiff/FB171_ba.tif\n",
      "/home/philipp/Data/obf_autax/ekl/output/oh_TO1310_12.csv\n"
     ]
    }
   ],
   "source": [
    "# set home directory\n",
    "home_path = os.getcwd()[:os.getcwd().find('Code/python/obf_autax/ekl')-1]\n",
    "# set shape_path\n",
    "shape_path = os.path.join(home_path, 'Data', 'obf_autax', 'ekl', 'wo', '171_12_wo_pj.shp')\n",
    "# set tiff_path\n",
    "tiff_path = os.path.join(home_path, 'Data', 'obf_autax', 'ekl', 'tiff', 'FB171_ba.tif')\n",
    "# set output_path\n",
    "output_path = os.path.join(home_path, 'Data', 'obf_autax', 'ekl', 'output', 'oh_TO1310_12.csv')\n",
    "\n",
    "print(home_path)\n",
    "print(shape_path)\n",
    "print(tiff_path)\n",
    "print(output_path)"
   ]
  },
  {
   "cell_type": "code",
   "execution_count": 3,
   "metadata": {},
   "outputs": [],
   "source": [
    "#df_ba = geo.main('v', tiff_path)"
   ]
  },
  {
   "cell_type": "code",
   "execution_count": 4,
   "metadata": {},
   "outputs": [],
   "source": [
    "raster = rasterio.open(tiff_path)"
   ]
  },
  {
   "cell_type": "code",
   "execution_count": 5,
   "metadata": {},
   "outputs": [
    {
     "data": {
      "text/plain": [
       "<open DatasetReader name='/home/philipp/Data/obf_autax/ekl/tiff/FB171_ba.tif' mode='r'>"
      ]
     },
     "execution_count": 5,
     "metadata": {},
     "output_type": "execute_result"
    }
   ],
   "source": [
    "raster"
   ]
  },
  {
   "cell_type": "code",
   "execution_count": 6,
   "metadata": {},
   "outputs": [
    {
     "data": {
      "text/plain": [
       "4"
      ]
     },
     "execution_count": 6,
     "metadata": {},
     "output_type": "execute_result"
    }
   ],
   "source": [
    "raster.count"
   ]
  },
  {
   "cell_type": "code",
   "execution_count": 7,
   "metadata": {},
   "outputs": [
    {
     "data": {
      "text/plain": [
       "CRS.from_epsg(31287)"
      ]
     },
     "execution_count": 7,
     "metadata": {},
     "output_type": "execute_result"
    }
   ],
   "source": [
    "raster.crs "
   ]
  },
  {
   "cell_type": "code",
   "execution_count": 8,
   "metadata": {},
   "outputs": [
    {
     "data": {
      "text/plain": [
       "(1, 2, 3, 4)"
      ]
     },
     "execution_count": 8,
     "metadata": {},
     "output_type": "execute_result"
    }
   ],
   "source": [
    "raster.indexes"
   ]
  },
  {
   "cell_type": "code",
   "execution_count": 9,
   "metadata": {},
   "outputs": [],
   "source": [
    "band1 = raster.read(1)"
   ]
  },
  {
   "cell_type": "code",
   "execution_count": null,
   "metadata": {},
   "outputs": [],
   "source": [
    "np.unique(band1)"
   ]
  },
  {
   "cell_type": "code",
   "execution_count": 4,
   "metadata": {},
   "outputs": [],
   "source": [
    "def func_compute_oh(geom_all, raster, calc_type):\n",
    "\n",
    "    #wo = str(geom_all['properties']['REVIER_NR']) + str(geom_all['properties']['ABTEILUNG']) + geom_all['properties']['UNTERABTEI']\n",
    "    wo = str(geom_all['properties']['ABTEILUNG']) + geom_all['properties']['UNTERABTEI']\n",
    "    area = geom_all['properties']['GEOM_Area']\n",
    "    geom = geom_all['geometry']\n",
    "\n",
    "    # cutting the raster\n",
    "    out_image, out_transform = mask(raster, [geom], crop=True)\n",
    "    #out_meta = raster.meta.copy()\n",
    "\n",
    "    # set -3.402823e+38 to nan\n",
    "    #out_image[out_image<-3.3e+38]=np.nan\n",
    "\n",
    "    # flatten array\n",
    "    flat = out_image.flatten()\n",
    "\n",
    "    # delete nan\n",
    "    flat = flat[~np.isnan(flat)]\n",
    "\n",
    "    # set values under 0 to 0\n",
    "    flat[flat < 0] = 0\n",
    "\n",
    "    if flat.size > 0:\n",
    "        if calc_type == 'oh':\n",
    "            # calculate oh\n",
    "            measure = np.percentile(flat, 90)\n",
    "        if calc_type == 'v':\n",
    "            # calculate v\n",
    "            measure = np.mean(flat)\n",
    "    else:\n",
    "        measure = 0\n",
    "\n",
    "    return wo, measure, area"
   ]
  },
  {
   "cell_type": "code",
   "execution_count": 18,
   "metadata": {},
   "outputs": [],
   "source": [
    "def main(calc_type, raster_path, shp_path):\n",
    "\n",
    "    # load shapefile with polygons\n",
    "    with fiona.open(shp_path) as shapefile:\n",
    "        polygons = [feature for feature in shapefile]\n",
    "\n",
    "    # load raster with oh information\n",
    "    raster = rasterio.open(raster_path)\n",
    "\n",
    "    # compute oh\n",
    "    hight = []\n",
    "    for polygon in polygons:\n",
    "        # compute oh for every polygon\n",
    "        hight.append(func_compute_oh(polygon, raster, calc_type))\n",
    "\n",
    "    # convert to numpy array\n",
    "    hight_np = np.asarray(hight)\n",
    "    # convert to pandas DataFrame\n",
    "    hight_df = pd.DataFrame(hight, columns=['wo', calc_type, 'area'])\n",
    "\n",
    "    return hight_df"
   ]
  },
  {
   "cell_type": "code",
   "execution_count": null,
   "metadata": {},
   "outputs": [],
   "source": [
    "# compute oh\n",
    "hight = []\n",
    "for polygon in polygons:\n",
    "    # compute oh for every polygon\n",
    "    hight.append(func_compute_oh(polygon, raster, calc_type))\n",
    "\n",
    "# convert to numpy array\n",
    "hight_np = np.asarray(hight)\n",
    "# convert to pandas DataFrame\n",
    "hight_df = pd.DataFrame(hight, columns=['wo', calc_type, 'area'])"
   ]
  },
  {
   "cell_type": "code",
   "execution_count": 6,
   "metadata": {},
   "outputs": [],
   "source": [
    "# load shapefile with polygons\n",
    "with fiona.open(shape_path) as shapefile:\n",
    "    polygons = [feature for feature in shapefile]\n",
    "\n",
    "# load raster with oh information\n",
    "raster = rasterio.open(tiff_path)"
   ]
  },
  {
   "cell_type": "code",
   "execution_count": 9,
   "metadata": {},
   "outputs": [],
   "source": [
    "geom_all = polygons[0]\n",
    "\n",
    "wo = str(geom_all['properties']['ABTEILUNG']) + geom_all['properties']['UNTERABTEI']\n",
    "area = geom_all['properties']['GEOM_Area']\n",
    "geom = geom_all['geometry']\n",
    "\n",
    "# cutting the raster\n",
    "out_image, out_transform = mask(raster, [geom], crop=True)"
   ]
  },
  {
   "cell_type": "code",
   "execution_count": 14,
   "metadata": {},
   "outputs": [
    {
     "data": {
      "text/plain": [
       "4"
      ]
     },
     "execution_count": 14,
     "metadata": {},
     "output_type": "execute_result"
    }
   ],
   "source": [
    "out_image"
   ]
  },
  {
   "cell_type": "code",
   "execution_count": 21,
   "metadata": {},
   "outputs": [],
   "source": [
    "flat = out_image[3].flatten()\n",
    "\n",
    "# delete nan\n",
    "flat = flat[~np.isnan(flat)]\n",
    "\n",
    "# set values under 0 to 0\n",
    "flat[flat < 0] = 0\n",
    "\n",
    "if flat.size > 0:\n",
    "    measure = np.mean(flat)\n",
    "else:\n",
    "    measure = 0"
   ]
  },
  {
   "cell_type": "code",
   "execution_count": 22,
   "metadata": {},
   "outputs": [
    {
     "data": {
      "text/plain": [
       "251.70646175373133"
      ]
     },
     "execution_count": 22,
     "metadata": {},
     "output_type": "execute_result"
    }
   ],
   "source": [
    "measure"
   ]
  },
  {
   "cell_type": "code",
   "execution_count": null,
   "metadata": {},
   "outputs": [],
   "source": []
  },
  {
   "cell_type": "code",
   "execution_count": 21,
   "metadata": {},
   "outputs": [],
   "source": [
    "df = main('v', tiff_path, shape_path)"
   ]
  },
  {
   "cell_type": "code",
   "execution_count": 22,
   "metadata": {},
   "outputs": [
    {
     "data": {
      "text/html": [
       "<div>\n",
       "<style scoped>\n",
       "    .dataframe tbody tr th:only-of-type {\n",
       "        vertical-align: middle;\n",
       "    }\n",
       "\n",
       "    .dataframe tbody tr th {\n",
       "        vertical-align: top;\n",
       "    }\n",
       "\n",
       "    .dataframe thead th {\n",
       "        text-align: right;\n",
       "    }\n",
       "</style>\n",
       "<table border=\"1\" class=\"dataframe\">\n",
       "  <thead>\n",
       "    <tr style=\"text-align: right;\">\n",
       "      <th></th>\n",
       "      <th>wo</th>\n",
       "      <th>v</th>\n",
       "      <th>area</th>\n",
       "    </tr>\n",
       "  </thead>\n",
       "  <tbody>\n",
       "    <tr>\n",
       "      <th>0</th>\n",
       "      <td>202v_3/001</td>\n",
       "      <td>251.248179</td>\n",
       "      <td>17116.236829</td>\n",
       "    </tr>\n",
       "    <tr>\n",
       "      <th>1</th>\n",
       "      <td>202G0</td>\n",
       "      <td>120.703560</td>\n",
       "      <td>15984.320097</td>\n",
       "    </tr>\n",
       "    <tr>\n",
       "      <th>2</th>\n",
       "      <td>202F2</td>\n",
       "      <td>148.061964</td>\n",
       "      <td>15185.077900</td>\n",
       "    </tr>\n",
       "    <tr>\n",
       "      <th>3</th>\n",
       "      <td>202G0</td>\n",
       "      <td>154.469334</td>\n",
       "      <td>11830.447295</td>\n",
       "    </tr>\n",
       "    <tr>\n",
       "      <th>4</th>\n",
       "      <td>202E3</td>\n",
       "      <td>178.618998</td>\n",
       "      <td>7121.355644</td>\n",
       "    </tr>\n",
       "    <tr>\n",
       "      <th>...</th>\n",
       "      <td>...</td>\n",
       "      <td>...</td>\n",
       "      <td>...</td>\n",
       "    </tr>\n",
       "    <tr>\n",
       "      <th>1361</th>\n",
       "      <td>201B5</td>\n",
       "      <td>145.608101</td>\n",
       "      <td>7319.921619</td>\n",
       "    </tr>\n",
       "    <tr>\n",
       "      <th>1362</th>\n",
       "      <td>201B4</td>\n",
       "      <td>160.174785</td>\n",
       "      <td>3449.397989</td>\n",
       "    </tr>\n",
       "    <tr>\n",
       "      <th>1363</th>\n",
       "      <td>201B3</td>\n",
       "      <td>133.821483</td>\n",
       "      <td>7156.780974</td>\n",
       "    </tr>\n",
       "    <tr>\n",
       "      <th>1364</th>\n",
       "      <td>205C2</td>\n",
       "      <td>195.306775</td>\n",
       "      <td>12898.234117</td>\n",
       "    </tr>\n",
       "    <tr>\n",
       "      <th>1365</th>\n",
       "      <td>306A1</td>\n",
       "      <td>117.964304</td>\n",
       "      <td>18895.299374</td>\n",
       "    </tr>\n",
       "  </tbody>\n",
       "</table>\n",
       "<p>1366 rows × 3 columns</p>\n",
       "</div>"
      ],
      "text/plain": [
       "              wo           v          area\n",
       "0     202v_3/001  251.248179  17116.236829\n",
       "1          202G0  120.703560  15984.320097\n",
       "2          202F2  148.061964  15185.077900\n",
       "3          202G0  154.469334  11830.447295\n",
       "4          202E3  178.618998   7121.355644\n",
       "...          ...         ...           ...\n",
       "1361       201B5  145.608101   7319.921619\n",
       "1362       201B4  160.174785   3449.397989\n",
       "1363       201B3  133.821483   7156.780974\n",
       "1364       205C2  195.306775  12898.234117\n",
       "1365       306A1  117.964304  18895.299374\n",
       "\n",
       "[1366 rows x 3 columns]"
      ]
     },
     "execution_count": 22,
     "metadata": {},
     "output_type": "execute_result"
    }
   ],
   "source": [
    "df"
   ]
  },
  {
   "cell_type": "code",
   "execution_count": null,
   "metadata": {},
   "outputs": [],
   "source": []
  }
 ],
 "metadata": {
  "kernelspec": {
   "display_name": "gis",
   "language": "python",
   "name": "gis"
  },
  "language_info": {
   "codemirror_mode": {
    "name": "ipython",
    "version": 3
   },
   "file_extension": ".py",
   "mimetype": "text/x-python",
   "name": "python",
   "nbconvert_exporter": "python",
   "pygments_lexer": "ipython3",
   "version": "3.8.3"
  }
 },
 "nbformat": 4,
 "nbformat_minor": 2
}
