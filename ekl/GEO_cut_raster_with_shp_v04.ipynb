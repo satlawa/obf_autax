{
 "cells": [
  {
   "cell_type": "code",
   "execution_count": 10,
   "metadata": {},
   "outputs": [],
   "source": [
    "import os\n",
    "from GISOh import GISOh"
   ]
  },
  {
   "cell_type": "code",
   "execution_count": 11,
   "metadata": {},
   "outputs": [
    {
     "name": "stdout",
     "output_type": "stream",
     "text": [
      "/home/philipp\n",
      "/home/philipp/Data/obf_autax/ekl/wo/171_12_wo_pj.shp\n",
      "/home/philipp/Data/obf_autax/ekl/tiff/ndom_oa.tif\n",
      "/home/philipp/Data/obf_autax/ekl/oh_TO1310_12.csv\n"
     ]
    }
   ],
   "source": [
    "# set home directory\n",
    "home_path = os.getcwd()[:os.getcwd().find('Code/python/fe_recognition/geo')-1]\n",
    "# set shape_path\n",
    "shape_path = os.path.join(home_path, 'Data', 'obf_autax', 'ekl', 'wo', '171_12_wo_pj.shp')\n",
    "# set tiff_path\n",
    "tiff_path = os.path.join(home_path, 'Data', 'obf_autax', 'ekl', 'tiff', 'ndom_oa.tif')\n",
    "# set output_path\n",
    "output_path = os.path.join(home_path, 'Data', 'obf_autax', 'ekl', 'oh_TO1310_12.csv')\n",
    "\n",
    "print(home_path)\n",
    "print(shape_path)\n",
    "print(tiff_path)\n",
    "print(output_path)"
   ]
  },
  {
   "cell_type": "code",
   "execution_count": 12,
   "metadata": {},
   "outputs": [],
   "source": [
    "geo = GISOh(shape_path, tiff_path)"
   ]
  },
  {
   "cell_type": "code",
   "execution_count": 13,
   "metadata": {},
   "outputs": [],
   "source": [
    "geo.main(output_path)"
   ]
  },
  {
   "cell_type": "code",
   "execution_count": null,
   "metadata": {},
   "outputs": [],
   "source": []
  }
 ],
 "metadata": {
  "kernelspec": {
   "display_name": "gis",
   "language": "python",
   "name": "gis"
  },
  "language_info": {
   "codemirror_mode": {
    "name": "ipython",
    "version": 3
   },
   "file_extension": ".py",
   "mimetype": "text/x-python",
   "name": "python",
   "nbconvert_exporter": "python",
   "pygments_lexer": "ipython3",
   "version": "3.8.3"
  }
 },
 "nbformat": 4,
 "nbformat_minor": 2
}
