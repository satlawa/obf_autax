{
 "cells": [
  {
   "cell_type": "markdown",
   "metadata": {},
   "source": [
    "## Oberhöhen\n",
    "input: shape - polygons with the Waödorte-Code (WO)<br>\n",
    "input: tif - hight of the trees<br>\n",
    "output: csv - three heigths (oh) per WO<br>"
   ]
  },
  {
   "cell_type": "code",
   "execution_count": 1,
   "metadata": {},
   "outputs": [],
   "source": [
    "import os\n",
    "from GISOh import GISOh"
   ]
  },
  {
   "cell_type": "code",
   "execution_count": 2,
   "metadata": {},
   "outputs": [
    {
     "name": "stdout",
     "output_type": "stream",
     "text": [
      "/home/philipp\n",
      "/home/philipp/Data/obf_autax/ekl/wo/171_12_wo_pj.shp\n",
      "/home/philipp/Data/obf_autax/ekl/tiff/FB171_ndsm.tif\n",
      "/home/philipp/Data/obf_autax/ekl/oh_TO1310_12.csv\n"
     ]
    }
   ],
   "source": [
    "# set home directory\n",
    "home_path = os.getcwd()[:os.getcwd().find('Code/python/obf_autax/ekl')-1]\n",
    "# set shape_path\n",
    "shape_path = os.path.join(home_path, 'Data', 'obf_autax', 'ekl', 'wo', '171_12_wo_pj.shp')\n",
    "# set tiff_path\n",
    "tiff_path = os.path.join(home_path, 'Data', 'obf_autax', 'ekl', 'tiff', 'FB171_ndsm.tif')\n",
    "# set output_path\n",
    "output_path = os.path.join(home_path, 'Data', 'obf_autax', 'ekl', 'oh_TO1310_12.csv')\n",
    "\n",
    "print(home_path)\n",
    "print(shape_path)\n",
    "print(tiff_path)\n",
    "print(output_path)"
   ]
  },
  {
   "cell_type": "code",
   "execution_count": 3,
   "metadata": {},
   "outputs": [],
   "source": [
    "geo = GISOh(shape_path)"
   ]
  },
  {
   "cell_type": "code",
   "execution_count": 5,
   "metadata": {},
   "outputs": [],
   "source": [
    "df_oh = geo.main('oh', tiff_path)"
   ]
  },
  {
   "cell_type": "code",
   "execution_count": null,
   "metadata": {},
   "outputs": [],
   "source": [
    "df_oh.to_csv(output_path, index=False)"
   ]
  },
  {
   "cell_type": "code",
   "execution_count": 6,
   "metadata": {},
   "outputs": [
    {
     "data": {
      "text/html": [
       "<div>\n",
       "<style scoped>\n",
       "    .dataframe tbody tr th:only-of-type {\n",
       "        vertical-align: middle;\n",
       "    }\n",
       "\n",
       "    .dataframe tbody tr th {\n",
       "        vertical-align: top;\n",
       "    }\n",
       "\n",
       "    .dataframe thead th {\n",
       "        text-align: right;\n",
       "    }\n",
       "</style>\n",
       "<table border=\"1\" class=\"dataframe\">\n",
       "  <thead>\n",
       "    <tr style=\"text-align: right;\">\n",
       "      <th></th>\n",
       "      <th>wo</th>\n",
       "      <th>oh</th>\n",
       "      <th>area</th>\n",
       "    </tr>\n",
       "  </thead>\n",
       "  <tbody>\n",
       "    <tr>\n",
       "      <th>0</th>\n",
       "      <td>202v_3/001</td>\n",
       "      <td>0.635400</td>\n",
       "      <td>17116.236829</td>\n",
       "    </tr>\n",
       "    <tr>\n",
       "      <th>1</th>\n",
       "      <td>202G0</td>\n",
       "      <td>18.895410</td>\n",
       "      <td>15984.320097</td>\n",
       "    </tr>\n",
       "    <tr>\n",
       "      <th>2</th>\n",
       "      <td>202F2</td>\n",
       "      <td>15.806030</td>\n",
       "      <td>15185.077900</td>\n",
       "    </tr>\n",
       "    <tr>\n",
       "      <th>3</th>\n",
       "      <td>202G0</td>\n",
       "      <td>21.734009</td>\n",
       "      <td>11830.447295</td>\n",
       "    </tr>\n",
       "    <tr>\n",
       "      <th>4</th>\n",
       "      <td>202E3</td>\n",
       "      <td>17.640601</td>\n",
       "      <td>7121.355644</td>\n",
       "    </tr>\n",
       "    <tr>\n",
       "      <th>...</th>\n",
       "      <td>...</td>\n",
       "      <td>...</td>\n",
       "      <td>...</td>\n",
       "    </tr>\n",
       "    <tr>\n",
       "      <th>1361</th>\n",
       "      <td>201B5</td>\n",
       "      <td>13.602832</td>\n",
       "      <td>7319.921619</td>\n",
       "    </tr>\n",
       "    <tr>\n",
       "      <th>1362</th>\n",
       "      <td>201B4</td>\n",
       "      <td>13.871228</td>\n",
       "      <td>3449.397989</td>\n",
       "    </tr>\n",
       "    <tr>\n",
       "      <th>1363</th>\n",
       "      <td>201B3</td>\n",
       "      <td>22.258398</td>\n",
       "      <td>7156.780974</td>\n",
       "    </tr>\n",
       "    <tr>\n",
       "      <th>1364</th>\n",
       "      <td>205C2</td>\n",
       "      <td>22.944031</td>\n",
       "      <td>12898.234117</td>\n",
       "    </tr>\n",
       "    <tr>\n",
       "      <th>1365</th>\n",
       "      <td>306A1</td>\n",
       "      <td>26.776636</td>\n",
       "      <td>18895.299374</td>\n",
       "    </tr>\n",
       "  </tbody>\n",
       "</table>\n",
       "<p>1366 rows × 3 columns</p>\n",
       "</div>"
      ],
      "text/plain": [
       "              wo         oh          area\n",
       "0     202v_3/001   0.635400  17116.236829\n",
       "1          202G0  18.895410  15984.320097\n",
       "2          202F2  15.806030  15185.077900\n",
       "3          202G0  21.734009  11830.447295\n",
       "4          202E3  17.640601   7121.355644\n",
       "...          ...        ...           ...\n",
       "1361       201B5  13.602832   7319.921619\n",
       "1362       201B4  13.871228   3449.397989\n",
       "1363       201B3  22.258398   7156.780974\n",
       "1364       205C2  22.944031  12898.234117\n",
       "1365       306A1  26.776636  18895.299374\n",
       "\n",
       "[1366 rows x 3 columns]"
      ]
     },
     "execution_count": 6,
     "metadata": {},
     "output_type": "execute_result"
    }
   ],
   "source": [
    "df_oh"
   ]
  },
  {
   "cell_type": "code",
   "execution_count": null,
   "metadata": {},
   "outputs": [],
   "source": []
  },
  {
   "cell_type": "code",
   "execution_count": 7,
   "metadata": {},
   "outputs": [],
   "source": [
    "# set tiff_path\n",
    "tiff_path = os.path.join(home_path, 'Data', 'obf_autax', 'ekl', 'tiff', 'FB171_vor.tif')\n",
    "\n",
    "df_v = geo.main('v', tiff_path)"
   ]
  },
  {
   "cell_type": "code",
   "execution_count": 8,
   "metadata": {},
   "outputs": [
    {
     "data": {
      "text/html": [
       "<div>\n",
       "<style scoped>\n",
       "    .dataframe tbody tr th:only-of-type {\n",
       "        vertical-align: middle;\n",
       "    }\n",
       "\n",
       "    .dataframe tbody tr th {\n",
       "        vertical-align: top;\n",
       "    }\n",
       "\n",
       "    .dataframe thead th {\n",
       "        text-align: right;\n",
       "    }\n",
       "</style>\n",
       "<table border=\"1\" class=\"dataframe\">\n",
       "  <thead>\n",
       "    <tr style=\"text-align: right;\">\n",
       "      <th></th>\n",
       "      <th>wo</th>\n",
       "      <th>v</th>\n",
       "      <th>area</th>\n",
       "    </tr>\n",
       "  </thead>\n",
       "  <tbody>\n",
       "    <tr>\n",
       "      <th>0</th>\n",
       "      <td>202v_3/001</td>\n",
       "      <td>13.582274</td>\n",
       "      <td>17116.236829</td>\n",
       "    </tr>\n",
       "    <tr>\n",
       "      <th>1</th>\n",
       "      <td>202G0</td>\n",
       "      <td>311.708069</td>\n",
       "      <td>15984.320097</td>\n",
       "    </tr>\n",
       "    <tr>\n",
       "      <th>2</th>\n",
       "      <td>202F2</td>\n",
       "      <td>309.026337</td>\n",
       "      <td>15185.077900</td>\n",
       "    </tr>\n",
       "    <tr>\n",
       "      <th>3</th>\n",
       "      <td>202G0</td>\n",
       "      <td>378.455231</td>\n",
       "      <td>11830.447295</td>\n",
       "    </tr>\n",
       "    <tr>\n",
       "      <th>4</th>\n",
       "      <td>202E3</td>\n",
       "      <td>263.417175</td>\n",
       "      <td>7121.355644</td>\n",
       "    </tr>\n",
       "    <tr>\n",
       "      <th>...</th>\n",
       "      <td>...</td>\n",
       "      <td>...</td>\n",
       "      <td>...</td>\n",
       "    </tr>\n",
       "    <tr>\n",
       "      <th>1361</th>\n",
       "      <td>201B5</td>\n",
       "      <td>134.391586</td>\n",
       "      <td>7319.921619</td>\n",
       "    </tr>\n",
       "    <tr>\n",
       "      <th>1362</th>\n",
       "      <td>201B4</td>\n",
       "      <td>204.976486</td>\n",
       "      <td>3449.397989</td>\n",
       "    </tr>\n",
       "    <tr>\n",
       "      <th>1363</th>\n",
       "      <td>201B3</td>\n",
       "      <td>341.227631</td>\n",
       "      <td>7156.780974</td>\n",
       "    </tr>\n",
       "    <tr>\n",
       "      <th>1364</th>\n",
       "      <td>205C2</td>\n",
       "      <td>303.077576</td>\n",
       "      <td>12898.234117</td>\n",
       "    </tr>\n",
       "    <tr>\n",
       "      <th>1365</th>\n",
       "      <td>306A1</td>\n",
       "      <td>333.862610</td>\n",
       "      <td>18895.299374</td>\n",
       "    </tr>\n",
       "  </tbody>\n",
       "</table>\n",
       "<p>1366 rows × 3 columns</p>\n",
       "</div>"
      ],
      "text/plain": [
       "              wo           v          area\n",
       "0     202v_3/001   13.582274  17116.236829\n",
       "1          202G0  311.708069  15984.320097\n",
       "2          202F2  309.026337  15185.077900\n",
       "3          202G0  378.455231  11830.447295\n",
       "4          202E3  263.417175   7121.355644\n",
       "...          ...         ...           ...\n",
       "1361       201B5  134.391586   7319.921619\n",
       "1362       201B4  204.976486   3449.397989\n",
       "1363       201B3  341.227631   7156.780974\n",
       "1364       205C2  303.077576  12898.234117\n",
       "1365       306A1  333.862610  18895.299374\n",
       "\n",
       "[1366 rows x 3 columns]"
      ]
     },
     "execution_count": 8,
     "metadata": {},
     "output_type": "execute_result"
    }
   ],
   "source": [
    "df_v"
   ]
  },
  {
   "cell_type": "code",
   "execution_count": null,
   "metadata": {},
   "outputs": [],
   "source": []
  },
  {
   "cell_type": "code",
   "execution_count": null,
   "metadata": {},
   "outputs": [],
   "source": []
  }
 ],
 "metadata": {
  "kernelspec": {
   "display_name": "gis",
   "language": "python",
   "name": "gis"
  },
  "language_info": {
   "codemirror_mode": {
    "name": "ipython",
    "version": 3
   },
   "file_extension": ".py",
   "mimetype": "text/x-python",
   "name": "python",
   "nbconvert_exporter": "python",
   "pygments_lexer": "ipython3",
   "version": "3.8.3"
  }
 },
 "nbformat": 4,
 "nbformat_minor": 2
}
